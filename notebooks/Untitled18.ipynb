{
 "cells": [
  {
   "cell_type": "code",
   "execution_count": 20,
   "id": "aa4d7c5b-3388-4616-bffa-2b1ed1181a51",
   "metadata": {},
   "outputs": [],
   "source": [
    "import numpy as np\n",
    "from scipy import signal\n",
    "import pandas as pd\n",
    "import matplotlib.pyplot as plt\n",
    "import seaborn as sb\n",
    "import plotly.io as pio\n",
    "import mne\n",
    "import json\n",
    "import glob\n",
    "import os\n",
    "from tqdm import tqdm\n",
    "import time\n",
    "from datetime import timedelta\n",
    "from braindecode.datasets import BaseConcatDataset\n",
    "from mne_features.feature_extraction import FeatureExtractor\n",
    "from pyriemann.estimation import Covariances\n",
    "from pyriemann.tangentspace import TangentSpace\n",
    "from pyriemann.classification import TSclassifier, MDM, FgMDM\n",
    "from pyriemann.utils.distance import distance_riemann, distance_euclid, distance_logeuclid\n",
    "from pyriemann.utils.mean import mean_riemann, mean_euclid, mean_logeuclid\n",
    "from sklearn.pipeline import make_pipeline\n",
    "from sklearn.discriminant_analysis import LinearDiscriminantAnalysis\n",
    "from sklearn.svm import LinearSVC, SVC\n",
    "from sklearn.manifold import TSNE\n",
    "from sklearn.preprocessing import LabelEncoder\n",
    "from sklearn.model_selection import StratifiedKFold\n",
    "import sklearn.metrics as metrics\n",
    "from data_util import load_subjects, load_subject_data, load_data, euclidean_alignment, label_alignment, self_subject_label_alignment, relabel_dataset\n",
    "from collections import defaultdict\n",
    "from copy import deepcopy\n",
    "\n",
    "import warnings\n",
    "warnings.filterwarnings('ignore') "
   ]
  },
  {
   "cell_type": "code",
   "execution_count": 21,
   "id": "b1cb3bac-d6fe-4990-8a75-9fa5fd848c95",
   "metadata": {},
   "outputs": [
    {
     "name": "stdout",
     "output_type": "stream",
     "text": [
      "using 32 channels\n"
     ]
    },
    {
     "name": "stderr",
     "output_type": "stream",
     "text": [
      "subject: 100%|██████████| 11/11 [00:00<00:00, 30.98it/s]\n",
      "subject: 100%|██████████| 10/10 [00:00<00:00, 23.74it/s]\n",
      "trial: 100%|██████████| 116/116 [00:00<00:00, 265.53it/s]\n"
     ]
    },
    {
     "name": "stdout",
     "output_type": "stream",
     "text": [
      "loaded 10 subjects - 1833 epochs\n",
      "CPU times: user 3.41 s, sys: 1.1 s, total: 4.52 s\n",
      "Wall time: 6.21 s\n"
     ]
    },
    {
     "data": {
      "text/html": [
       "<div>\n",
       "<style scoped>\n",
       "    .dataframe tbody tr th:only-of-type {\n",
       "        vertical-align: middle;\n",
       "    }\n",
       "\n",
       "    .dataframe tbody tr th {\n",
       "        vertical-align: top;\n",
       "    }\n",
       "\n",
       "    .dataframe thead th {\n",
       "        text-align: right;\n",
       "    }\n",
       "</style>\n",
       "<table border=\"1\" class=\"dataframe\">\n",
       "  <thead>\n",
       "    <tr style=\"text-align: right;\">\n",
       "      <th></th>\n",
       "      <th>subject</th>\n",
       "      <th>scenario</th>\n",
       "      <th>event</th>\n",
       "      <th>onset</th>\n",
       "      <th>label</th>\n",
       "      <th>label_idx</th>\n",
       "      <th>trial</th>\n",
       "      <th>split</th>\n",
       "      <th>epochs</th>\n",
       "    </tr>\n",
       "  </thead>\n",
       "  <tbody>\n",
       "    <tr>\n",
       "      <th>0</th>\n",
       "      <td>ALS01_t1</td>\n",
       "      <td>nâng tay trái</td>\n",
       "      <td>Thinking</td>\n",
       "      <td>14.5376</td>\n",
       "      <td>nâng tay trái</td>\n",
       "      <td>2</td>\n",
       "      <td>0</td>\n",
       "      <td>train</td>\n",
       "      <td>20</td>\n",
       "    </tr>\n",
       "    <tr>\n",
       "      <th>1</th>\n",
       "      <td>ALS01_t1</td>\n",
       "      <td>nâng tay trái</td>\n",
       "      <td>Resting</td>\n",
       "      <td>26.3349</td>\n",
       "      <td>rest</td>\n",
       "      <td>0</td>\n",
       "      <td>0</td>\n",
       "      <td>train</td>\n",
       "      <td>26</td>\n",
       "    </tr>\n",
       "    <tr>\n",
       "      <th>2</th>\n",
       "      <td>ALS01_t1</td>\n",
       "      <td>nâng tay trái</td>\n",
       "      <td>Thinking</td>\n",
       "      <td>41.2796</td>\n",
       "      <td>nâng tay trái</td>\n",
       "      <td>2</td>\n",
       "      <td>1</td>\n",
       "      <td>train</td>\n",
       "      <td>20</td>\n",
       "    </tr>\n",
       "    <tr>\n",
       "      <th>3</th>\n",
       "      <td>ALS01_t1</td>\n",
       "      <td>nâng tay trái</td>\n",
       "      <td>Resting</td>\n",
       "      <td>52.9240</td>\n",
       "      <td>rest</td>\n",
       "      <td>0</td>\n",
       "      <td>1</td>\n",
       "      <td>train</td>\n",
       "      <td>17</td>\n",
       "    </tr>\n",
       "    <tr>\n",
       "      <th>4</th>\n",
       "      <td>ALS01_t1</td>\n",
       "      <td>nâng tay trái</td>\n",
       "      <td>Thinking</td>\n",
       "      <td>63.0225</td>\n",
       "      <td>nâng tay trái</td>\n",
       "      <td>2</td>\n",
       "      <td>2</td>\n",
       "      <td>train</td>\n",
       "      <td>20</td>\n",
       "    </tr>\n",
       "    <tr>\n",
       "      <th>...</th>\n",
       "      <td>...</td>\n",
       "      <td>...</td>\n",
       "      <td>...</td>\n",
       "      <td>...</td>\n",
       "      <td>...</td>\n",
       "      <td>...</td>\n",
       "      <td>...</td>\n",
       "      <td>...</td>\n",
       "      <td>...</td>\n",
       "    </tr>\n",
       "    <tr>\n",
       "      <th>111</th>\n",
       "      <td>ALS02_t4</td>\n",
       "      <td>nâng tay phải</td>\n",
       "      <td>Resting</td>\n",
       "      <td>14.2957</td>\n",
       "      <td>rest</td>\n",
       "      <td>0</td>\n",
       "      <td>0</td>\n",
       "      <td>train</td>\n",
       "      <td>10</td>\n",
       "    </tr>\n",
       "    <tr>\n",
       "      <th>112</th>\n",
       "      <td>ALS02_t4</td>\n",
       "      <td>nâng tay phải</td>\n",
       "      <td>Thinking</td>\n",
       "      <td>20.8767</td>\n",
       "      <td>nâng tay phải</td>\n",
       "      <td>1</td>\n",
       "      <td>1</td>\n",
       "      <td>train</td>\n",
       "      <td>20</td>\n",
       "    </tr>\n",
       "    <tr>\n",
       "      <th>113</th>\n",
       "      <td>ALS02_t4</td>\n",
       "      <td>nâng tay phải</td>\n",
       "      <td>Resting</td>\n",
       "      <td>32.3920</td>\n",
       "      <td>rest</td>\n",
       "      <td>0</td>\n",
       "      <td>1</td>\n",
       "      <td>train</td>\n",
       "      <td>13</td>\n",
       "    </tr>\n",
       "    <tr>\n",
       "      <th>114</th>\n",
       "      <td>ALS02_t4</td>\n",
       "      <td>nâng tay phải</td>\n",
       "      <td>Thinking</td>\n",
       "      <td>40.5045</td>\n",
       "      <td>nâng tay phải</td>\n",
       "      <td>1</td>\n",
       "      <td>2</td>\n",
       "      <td>train</td>\n",
       "      <td>20</td>\n",
       "    </tr>\n",
       "    <tr>\n",
       "      <th>115</th>\n",
       "      <td>ALS02_t4</td>\n",
       "      <td>nâng tay phải</td>\n",
       "      <td>Resting</td>\n",
       "      <td>52.3165</td>\n",
       "      <td>rest</td>\n",
       "      <td>0</td>\n",
       "      <td>2</td>\n",
       "      <td>train</td>\n",
       "      <td>6</td>\n",
       "    </tr>\n",
       "  </tbody>\n",
       "</table>\n",
       "<p>116 rows × 9 columns</p>\n",
       "</div>"
      ],
      "text/plain": [
       "      subject       scenario     event    onset          label  label_idx  \\\n",
       "0    ALS01_t1  nâng tay trái  Thinking  14.5376  nâng tay trái          2   \n",
       "1    ALS01_t1  nâng tay trái   Resting  26.3349           rest          0   \n",
       "2    ALS01_t1  nâng tay trái  Thinking  41.2796  nâng tay trái          2   \n",
       "3    ALS01_t1  nâng tay trái   Resting  52.9240           rest          0   \n",
       "4    ALS01_t1  nâng tay trái  Thinking  63.0225  nâng tay trái          2   \n",
       "..        ...            ...       ...      ...            ...        ...   \n",
       "111  ALS02_t4  nâng tay phải   Resting  14.2957           rest          0   \n",
       "112  ALS02_t4  nâng tay phải  Thinking  20.8767  nâng tay phải          1   \n",
       "113  ALS02_t4  nâng tay phải   Resting  32.3920           rest          0   \n",
       "114  ALS02_t4  nâng tay phải  Thinking  40.5045  nâng tay phải          1   \n",
       "115  ALS02_t4  nâng tay phải   Resting  52.3165           rest          0   \n",
       "\n",
       "     trial  split  epochs  \n",
       "0        0  train      20  \n",
       "1        0  train      26  \n",
       "2        1  train      20  \n",
       "3        1  train      17  \n",
       "4        2  train      20  \n",
       "..     ...    ...     ...  \n",
       "111      0  train      10  \n",
       "112      1  train      20  \n",
       "113      1  train      13  \n",
       "114      2  train      20  \n",
       "115      2  train       6  \n",
       "\n",
       "[116 rows x 9 columns]"
      ]
     },
     "execution_count": 21,
     "metadata": {},
     "output_type": "execute_result"
    }
   ],
   "source": [
    "%%time\n",
    "# fmt: off\n",
    "subjects = [\n",
    "    'K001', 'K002', 'K003', 'K004', 'K005', \n",
    "    'K006', 'K007', 'K008', 'K009', 'K010', \n",
    "    'K011', 'K012', 'K013', 'K015', 'K016', \n",
    "    'K017', 'K018', 'K021', 'K022', 'K023', \n",
    "    'K024', 'K025', 'K026', 'K027', 'K028', \n",
    "    'K300', 'K301', 'K302', 'K303', 'K304', \n",
    "    'K305', 'K306', 'K307', 'K308', 'K309', \n",
    "    'K310', 'K311', 'K312', 'K313', 'K314', \n",
    "    'K315', 'K316', 'K319', 'K320', 'K321', \n",
    "    'K322', 'K323', 'K324', 'K325', 'K326', \n",
    "    'K327', 'K328', 'K329', 'K330', 'K331', \n",
    "    'K332', 'K333', 'K334', 'K335', 'K336', \n",
    "    'K337', 'K338', 'K339', 'K342', 'K343', \n",
    "    'K344', 'K350', 'K351', 'K352', 'K353', \n",
    "    'K354', 'K355', 'K357', 'K358', 'K359', \n",
    "    'K360', 'K361', 'K362', 'K364', 'K365', \n",
    "    'K366', 'K367', 'K368', 'K369', 'K370', \n",
    "    'K371', 'K372', 'K373', 'K374', 'K375',\n",
    "]\n",
    "\n",
    "subjects = sorted(subjects)\n",
    "\n",
    "scenarios = [\n",
    "    \"nâng tay trái\",\n",
    "    \"nâng tay phải\",\n",
    "    # \"nâng chân trái\",\n",
    "    # \"nâng chân phải\",\n",
    "    # \"gật đầu\",\n",
    "    # \"lắc đầu\",\n",
    "    # \"há miệng\",\n",
    "]\n",
    "\n",
    "events = [\n",
    "    \"Thinking\",\n",
    "    # \"Thinking and Acting\",\n",
    "    \"Resting\",\n",
    "    # \"Typing\",\n",
    "]\n",
    "\n",
    "channels = [\n",
    "    \"Fp1\", \"Fp2\",\n",
    "    \"F7\", \"F3\", \"Fz\", \"F4\", \"F8\",\n",
    "    \"FT9\", \"FC5\", \"FC1\", \"FC2\", \"FC6\", \"FT10\",\n",
    "    # \"FC5\", \"FC1\", \"FC2\", \"FC6\",\n",
    "    \"T7\", \"C3\", \"Cz\", \"C4\", \"T8\",\n",
    "    \"CP5\", \"CP1\", \"CP2\", \"CP6\",\n",
    "    \"P7\", \"P3\", \"Pz\", \"P4\", \"P8\",\n",
    "    \"PO9\", \"O1\", \"Oz\", \"O2\", \"PO10\",\n",
    "    # \"O1\", \"Oz\", \"O2\",\n",
    "]\n",
    "\n",
    "label_mapping={\n",
    "    \"nâng tay trái_Thinking\": \"nâng tay trái\",\n",
    "    \"nâng tay phải_Thinking\": \"nâng tay phải\",\n",
    "    # \"nâng tay trái_Thinking\": \"nâng tay\",\n",
    "    # \"nâng tay phải_Thinking\": \"nâng tay\",\n",
    "    # \"nâng chân trái_Thinking\": \"nâng chân trái\",\n",
    "    # \"nâng chân phải_Thinking\": \"nâng chân phải\",\n",
    "    \"nâng chân trái_Thinking\": \"nâng chân\",\n",
    "    \"nâng chân phải_Thinking\": \"nâng chân\",\n",
    "    # \"gật đầu_Thinking\": \"gật đầu\",\n",
    "    # \"lắc đầu_Thinking\": \"lắc đầu\",\n",
    "    \"gật đầu_Thinking\": \"gật/lắc đầu\",\n",
    "    \"lắc đầu_Thinking\": \"gật/lắc đầu\",\n",
    "    \"há miệng_Thinking\": \"há miệng\",\n",
    "    \"nâng tay trái_Thinking and Acting\": \"nâng tay trái\",\n",
    "    \"nâng tay phải_Thinking and Acting\": \"nâng tay phải\",\n",
    "    \"nâng chân trái_Thinking and Acting\": \"nâng chân trái\",\n",
    "    \"nâng chân phải_Thinking and Acting\": \"nâng chân phải\",\n",
    "    \"gật đầu_Thinking and Acting\": \"gật đầu\",\n",
    "    \"lắc đầu_Thinking and Acting\": \"lắc đầu\",\n",
    "    \"há miệng_Thinking and Acting\": \"há miệng\",\n",
    "    \"Resting\": \"rest\",\n",
    "}\n",
    "\n",
    "max_duration = {  # seconds\n",
    "    # \"nâng tay trái\": 10,\n",
    "    # \"nâng tay phải\": 10,\n",
    "    # \"nâng chân trái\": 10,\n",
    "    # \"nâng chân phải\": 10,\n",
    "    # \"gật đầu\": 10,\n",
    "    # \"lắc đầu\": 10,\n",
    "    # \"rest\": 10,\n",
    "}\n",
    "\n",
    "n_channels = len(channels)\n",
    "\n",
    "print(f\"using {n_channels} channels\")\n",
    "\n",
    "minimal_trial_duration = 4  # @param\n",
    "window_duration = 2  # @param\n",
    "window_stride_duration = 0.5  # @param\n",
    "\n",
    "fmin = 8.0  # @param\n",
    "fmax = 30.0  # @param\n",
    "\n",
    "moving_standardize = False  # @param {\"type\": \"boolean\"}\n",
    "\n",
    "# ds = load_data(\n",
    "#     \"../data/DataVIN/Official\",  \n",
    "#     subjects=subjects,\n",
    "#     scenarios=scenarios,\n",
    "#     events=events,\n",
    "#     channels=channels,\n",
    "#     label_mapping=label_mapping,\n",
    "#     minimal_trial_duration=minimal_trial_duration,\n",
    "#     window_duration=window_duration, \n",
    "#     window_stride_duration=window_stride_duration, \n",
    "#     start_offset=0,\n",
    "#     stop_offset=0,\n",
    "#     max_duration=max_duration,\n",
    "#     fmin=fmin, \n",
    "#     fmax=fmax, \n",
    "#     moving_standardize=moving_standardize,\n",
    "#     resample=None,\n",
    "#     return_raw=False,\n",
    "#     return_preprocessed=False,\n",
    "#     preload=True,\n",
    "# )\n",
    "\n",
    "als_subjects = [\n",
    "    'ALS01_t1', 'ALS01_t2', 'ALS01_t3', 'ALS01_t4', 'ALS01_t5', 'ALS01_t6',\n",
    "    'ALS02_t1', 'ALS02_t2', 'ALS02_t3', 'ALS02_t4', \n",
    "]\n",
    "\n",
    "als_ds = load_data(\n",
    "    \"../data/DataVIN/ALS/als-patients\",  \n",
    "    subjects=als_subjects,\n",
    "    scenarios=scenarios,\n",
    "    events=events,\n",
    "    channels=channels,\n",
    "    label_mapping=label_mapping,\n",
    "    minimal_trial_duration=minimal_trial_duration,\n",
    "    window_duration=window_duration, \n",
    "    window_stride_duration=window_stride_duration, \n",
    "    start_offset=0,\n",
    "    stop_offset=0,\n",
    "    max_duration=max_duration,\n",
    "    fmin=fmin, \n",
    "    fmax=fmax, \n",
    "    moving_standardize=moving_standardize,\n",
    "    resample=None,\n",
    "    return_raw=False,\n",
    "    return_preprocessed=False,\n",
    "    preload=True,\n",
    ")\n",
    "\n",
    "ds = als_ds\n",
    "subjects = als_subjects\n",
    "\n",
    "# ds = BaseConcatDataset([ds, als_ds])\n",
    "# subjects.extend(als_subjects)\n",
    "\n",
    "# fmt: on\n",
    "\n",
    "# for _ds in ds.datasets:\n",
    "#     _ds_info = _ds.description\n",
    "#     if _ds_info[\"subject\"] == \"ALS01_t2\":\n",
    "#         _ds_info[\"subject\"] = \"ALS01_t1\"\n",
    "#     elif _ds_info[\"subject\"] == \"ALS01_t4\":\n",
    "#         _ds_info[\"subject\"] = \"ALS01_t3\"\n",
    "#     elif _ds_info[\"subject\"] == \"ALS01_t6\":\n",
    "#         _ds_info[\"subject\"] = \"ALS01_t5\"\n",
    "\n",
    "# list_of_ds = list()\n",
    "# for _ds in ds.datasets:\n",
    "#     if _ds.description[\"label\"] == \"rest\" and _ds.description[\"trial\"] > 2:\n",
    "#         continue\n",
    "#     list_of_ds.append(_ds)\n",
    "    \n",
    "# ds = BaseConcatDataset(list_of_ds)\n",
    "# del list_of_ds\n",
    "        \n",
    "ds_info = ds.description\n",
    "\n",
    "ds_info[\"epochs\"] = 0\n",
    "for i, r in ds_info.iterrows():\n",
    "    ds_info.loc[i, \"epochs\"] = len(ds.datasets[i].windows)\n",
    "\n",
    "print(f\"loaded {len(ds_info['subject'].unique())} subjects - {ds_info['epochs'].sum()} epochs\")\n",
    "ds_info"
   ]
  },
  {
   "cell_type": "code",
   "execution_count": 22,
   "id": "0c62bc7c-053e-44ba-9303-b12449b62ee9",
   "metadata": {},
   "outputs": [
    {
     "name": "stdout",
     "output_type": "stream",
     "text": [
      "3 classes\n",
      "nâng tay phải: 10.5s-13.0s\n",
      "nâng tay trái: 10.0s-12.0s\n",
      "rest: 4.0s-17.0s\n"
     ]
    },
    {
     "data": {
      "text/plain": [
       "<matplotlib.legend.Legend at 0x7f9a03f313d0>"
      ]
     },
     "execution_count": 22,
     "metadata": {},
     "output_type": "execute_result"
    },
    {
     "data": {
      "image/png": "[encoded data removed]",
      "text/plain": [
       "<Figure size 432x288 with 1 Axes>"
      ]
     },
     "metadata": {
      "needs_background": "light"
     },
     "output_type": "display_data"
    }
   ],
   "source": [
    "window_duration = 2.0  # @param\n",
    "window_stride_duration = 0.5  # @param\n",
    "\n",
    "labels = sorted(list(set(ds_info[\"label\"])))\n",
    "print(f\"{len(labels)} classes\")\n",
    "\n",
    "for label in labels:\n",
    "    du = list()\n",
    "    for _, r in ds_info[ds_info[\"label\"] == label].iterrows():\n",
    "        du.append((r[\"epochs\"] - 1) * window_stride_duration + window_duration)\n",
    "\n",
    "    print(f\"{label}: {min(du)}s-{max(du)}s\")\n",
    "    sb.distplot(du)\n",
    "\n",
    "plt.legend(labels)"
   ]
  },
  {
   "cell_type": "code",
   "execution_count": 23,
   "id": "878d3641-30a1-43eb-89cd-fb22cf474bf2",
   "metadata": {},
   "outputs": [],
   "source": [
    "test_subjects = [\n",
    "    *(f\"ALS01_t{i}\" for i in range(1, 7)),\n",
    "    *(f\"ALS02_t{i}\" for i in range(1, 5)),\n",
    "]"
   ]
  },
  {
   "cell_type": "markdown",
   "id": "bea86d61-ca19-4375-8cf7-1d025bc9be61",
   "metadata": {},
   "source": [
    "### classify rest/nâng tay phải/nâng tay trái"
   ]
  },
  {
   "cell_type": "code",
   "execution_count": 24,
   "id": "4de2007c-c203-4c66-9f42-57663c23770f",
   "metadata": {},
   "outputs": [
    {
     "name": "stdout",
     "output_type": "stream",
     "text": [
      "================================================================================\n",
      "testing on subjects: {'ALS01_t1'}\n",
      "================================================================================\n"
     ]
    },
    {
     "name": "stderr",
     "output_type": "stream",
     "text": [
      "components: 100%|██████████| 32/32 [00:22<00:00,  1.40it/s]\n"
     ]
    },
    {
     "name": "stdout",
     "output_type": "stream",
     "text": [
      "subject ALS01_t1 - acc: 0.6737179487179487 (9 components)\n",
      "[[101   3   0]\n",
      " [  2  44  14]\n",
      " [ 10  31  19]]\n",
      "================================================================================\n",
      "testing on subjects: {'ALS01_t2'}\n",
      "================================================================================\n"
     ]
    },
    {
     "name": "stderr",
     "output_type": "stream",
     "text": [
      "components: 100%|██████████| 32/32 [00:17<00:00,  1.79it/s]\n"
     ]
    },
    {
     "name": "stdout",
     "output_type": "stream",
     "text": [
      "subject ALS01_t2 - acc: 0.7984432234432234 (12 components)\n",
      "[[128   1   1]\n",
      " [  5  51   0]\n",
      " [  8  19  27]]\n",
      "================================================================================\n",
      "testing on subjects: {'ALS01_t3'}\n",
      "================================================================================\n"
     ]
    },
    {
     "name": "stderr",
     "output_type": "stream",
     "text": [
      "components: 100%|██████████| 32/32 [00:18<00:00,  1.71it/s]\n"
     ]
    },
    {
     "name": "stdout",
     "output_type": "stream",
     "text": [
      "subject ALS01_t3 - acc: 0.7952172667864302 (28 components)\n",
      "[[52  1  3]\n",
      " [ 4 46  9]\n",
      " [ 1 19 42]]\n",
      "================================================================================\n",
      "testing on subjects: {'ALS01_t4'}\n",
      "================================================================================\n"
     ]
    },
    {
     "name": "stderr",
     "output_type": "stream",
     "text": [
      "components: 100%|██████████| 32/32 [00:18<00:00,  1.72it/s]\n"
     ]
    },
    {
     "name": "stdout",
     "output_type": "stream",
     "text": [
      "subject ALS01_t4 - acc: 0.5473929197628788 (3 components)\n",
      "[[36 20  2]\n",
      " [ 1 55  3]\n",
      " [23 28  5]]\n",
      "================================================================================\n",
      "testing on subjects: {'ALS01_t5'}\n",
      "================================================================================\n"
     ]
    },
    {
     "name": "stderr",
     "output_type": "stream",
     "text": [
      "components: 100%|██████████| 32/32 [00:18<00:00,  1.69it/s]\n"
     ]
    },
    {
     "name": "stdout",
     "output_type": "stream",
     "text": [
      "subject ALS01_t5 - acc: 0.6724137931034483 (5 components)\n",
      "[[62  0  0]\n",
      " [ 0 57  0]\n",
      " [ 3 54  1]]\n",
      "================================================================================\n",
      "testing on subjects: {'ALS01_t6'}\n",
      "================================================================================\n"
     ]
    },
    {
     "name": "stderr",
     "output_type": "stream",
     "text": [
      "components: 100%|██████████| 32/32 [00:18<00:00,  1.69it/s]\n"
     ]
    },
    {
     "name": "stdout",
     "output_type": "stream",
     "text": [
      "subject ALS01_t6 - acc: 0.7382366171839857 (14 components)\n",
      "[[42  1  9]\n",
      " [ 0 46 11]\n",
      " [ 1 23 36]]\n",
      "================================================================================\n",
      "testing on subjects: {'ALS02_t1'}\n",
      "================================================================================\n"
     ]
    },
    {
     "name": "stderr",
     "output_type": "stream",
     "text": [
      "components: 100%|██████████| 32/32 [00:12<00:00,  2.59it/s]\n"
     ]
    },
    {
     "name": "stdout",
     "output_type": "stream",
     "text": [
      "subject ALS02_t1 - acc: 0.5138452671763798 (7 components)\n",
      "[[36 39  4]\n",
      " [ 4 50  2]\n",
      " [17 29 11]]\n",
      "================================================================================\n",
      "testing on subjects: {'ALS02_t2'}\n",
      "================================================================================\n"
     ]
    },
    {
     "name": "stderr",
     "output_type": "stream",
     "text": [
      "components: 100%|██████████| 32/32 [00:11<00:00,  2.71it/s]\n"
     ]
    },
    {
     "name": "stdout",
     "output_type": "stream",
     "text": [
      "subject ALS02_t2 - acc: 0.4483430799220273 (8 components)\n",
      "[[32  3  1]\n",
      " [35 12 10]\n",
      " [32 11 14]]\n",
      "================================================================================\n",
      "testing on subjects: {'ALS02_t3'}\n",
      "================================================================================\n"
     ]
    },
    {
     "name": "stderr",
     "output_type": "stream",
     "text": [
      "components: 100%|██████████| 32/32 [00:13<00:00,  2.40it/s]\n"
     ]
    },
    {
     "name": "stdout",
     "output_type": "stream",
     "text": [
      "subject ALS02_t3 - acc: 0.4323745410036719 (29 components)\n",
      "[[19 20  4]\n",
      " [ 3 42 11]\n",
      " [ 1 50  6]]\n",
      "================================================================================\n",
      "testing on subjects: {'ALS02_t4'}\n",
      "================================================================================\n"
     ]
    },
    {
     "name": "stderr",
     "output_type": "stream",
     "text": [
      "components: 100%|██████████| 32/32 [00:11<00:00,  2.69it/s]"
     ]
    },
    {
     "name": "stdout",
     "output_type": "stream",
     "text": [
      "subject ALS02_t4 - acc: 0.3772425413817029 (3 components)\n",
      "[[22 35  0]\n",
      " [15 44  0]\n",
      " [12 47  0]]\n"
     ]
    },
    {
     "name": "stderr",
     "output_type": "stream",
     "text": [
      "\n"
     ]
    }
   ],
   "source": [
    "for i in range(0, len(test_subjects), 1):\n",
    "    _test_subjects = set(test_subjects[i:i+1])\n",
    "    print(\"=\" * 80)\n",
    "    print(f\"testing on subjects: {_test_subjects}\")\n",
    "    print(\"=\" * 80)\n",
    "    \n",
    "    prefix = test_subjects[i].split(\"_\")[0]\n",
    "    \n",
    "    # -----------load data--------------\n",
    "    Xtrain = list()\n",
    "    Ytrain = list()\n",
    "    test_subject_data = defaultdict(list)\n",
    "    for _ds in ds.datasets:\n",
    "        if not _ds.description[\"subject\"].startswith(prefix):\n",
    "            continue\n",
    "\n",
    "        if _ds.description[\"subject\"] in _test_subjects:\n",
    "            test_subject_data[_ds.description[\"subject\"]].append(_ds)\n",
    "        else:\n",
    "            Xtrain.append(_ds.windows.get_data())\n",
    "            Ytrain.extend(_ds.y)\n",
    "            \n",
    "    Xtrain = np.concatenate(Xtrain, axis=0)\n",
    "    Ytrain = np.array(Ytrain, dtype=int)\n",
    "    \n",
    "    for subject, list_of_ds in test_subject_data.items():\n",
    "        Xtest = list()\n",
    "        Ytest = list()\n",
    "        for _ds in list_of_ds:\n",
    "            Xtest.append(_ds.windows.get_data())\n",
    "            Ytest.extend(_ds.y)\n",
    "            \n",
    "        Xtest = np.concatenate(Xtest, axis=0)\n",
    "        Ytest = np.array(Ytest, dtype=int)\n",
    "        \n",
    "        test_subject_data[subject] = (Xtest, Ytest)\n",
    "        \n",
    "    # ----------classification model-----\n",
    "    csp = mne.decoding.CSP(n_components=32, reg=None, log=None, rank=\"full\", transform_into='csp_space')\n",
    "    Xtrain_csp = csp.fit_transform(Xtrain, Ytrain)\n",
    "    \n",
    "    for subject, (Xtest, Ytest) in test_subject_data.items():\n",
    "        test_subject_data[subject] = (csp.transform(Xtest), Ytest)\n",
    "    \n",
    "    bands = [(8,12), (12,16), (16,20), (20,24), (24,28), (28,32)]\n",
    "    params = dict({\n",
    "        'pow_freq_bands__log': True,\n",
    "        'pow_freq_bands__normalize': False,\n",
    "        'pow_freq_bands__freq_bands': bands,\n",
    "    })\n",
    "    \n",
    "    # ---------fitting-------------------\n",
    "    max_nc = {k: 0 for k in test_subject_data.keys()}\n",
    "    max_acc = {k: 0 for k in test_subject_data.keys()}\n",
    "    max_cfm = {k: 0 for k in test_subject_data.keys()}\n",
    "    for nc in tqdm(range(1, 33), desc=\"components\"):\n",
    "        fe = FeatureExtractor(sfreq=128.0, selected_funcs=['pow_freq_bands'], params=params, n_jobs=-1)\n",
    "\n",
    "        clf = SVC(\n",
    "            C=1.0,\n",
    "            kernel=\"rbf\",\n",
    "            # tol=1e-7,\n",
    "            max_iter=100000,\n",
    "            class_weight=\"balanced\",\n",
    "            random_state=42,\n",
    "        )\n",
    "        \n",
    "        clf.fit(fe.fit_transform(Xtrain_csp[:, :nc], Ytrain), Ytrain)\n",
    "        \n",
    "        # make prediction\n",
    "        for subject, (Xtest_csp, Ytest) in test_subject_data.items():\n",
    "            Ypred = clf.predict(fe.transform(Xtest_csp[:, :nc]))\n",
    "            \n",
    "            acc = metrics.balanced_accuracy_score(Ytest, Ypred)\n",
    "            if acc >= max_acc[subject]:\n",
    "                max_nc[subject] = nc\n",
    "                max_acc[subject] = acc\n",
    "                max_cfm[subject] = metrics.confusion_matrix(Ytest, Ypred)\n",
    "                \n",
    "    # ---------print result---------------\n",
    "    for subject, acc in max_acc.items():\n",
    "        print(f\"subject {subject} - acc: {acc} ({max_nc[subject]} components)\")\n",
    "        print(max_cfm[subject])"
   ]
  },
  {
   "cell_type": "markdown",
   "id": "9fff9d59-eb2d-485e-935c-490492dba473",
   "metadata": {},
   "source": [
    "### *-EA"
   ]
  },
  {
   "cell_type": "code",
   "execution_count": null,
   "id": "6aa5badf-e787-4ae1-bad7-dfd2bf7b1cf6",
   "metadata": {},
   "outputs": [
    {
     "name": "stderr",
     "output_type": "stream",
     "text": [
      "subject: 100%|██████████| 10/10 [00:00<00:00, 24.52it/s]\n"
     ]
    },
    {
     "name": "stdout",
     "output_type": "stream",
     "text": [
      "================================================================================\n",
      "testing on subjects: {'ALS01_t1'}\n",
      "================================================================================\n"
     ]
    },
    {
     "name": "stderr",
     "output_type": "stream",
     "text": [
      "components: 100%|██████████| 32/32 [00:18<00:00,  1.70it/s]\n"
     ]
    },
    {
     "name": "stdout",
     "output_type": "stream",
     "text": [
      "subject ALS01_t1 - acc: 0.7188034188034188 (19 components)\n",
      "[[96  5  3]\n",
      " [ 1 42 17]\n",
      " [ 5 23 32]]\n",
      "================================================================================\n",
      "testing on subjects: {'ALS01_t2'}\n",
      "================================================================================\n"
     ]
    },
    {
     "name": "stderr",
     "output_type": "stream",
     "text": [
      "components: 100%|██████████| 32/32 [00:16<00:00,  1.89it/s]\n"
     ]
    },
    {
     "name": "stdout",
     "output_type": "stream",
     "text": [
      "subject ALS01_t2 - acc: 0.6971374304707639 (27 components)\n",
      "[[59 10 61]\n",
      " [ 1 44 11]\n",
      " [ 0  8 46]]\n",
      "================================================================================\n",
      "testing on subjects: {'ALS01_t3'}\n",
      "================================================================================\n"
     ]
    },
    {
     "name": "stderr",
     "output_type": "stream",
     "text": [
      "components: 100%|██████████| 32/32 [00:18<00:00,  1.74it/s]\n"
     ]
    },
    {
     "name": "stdout",
     "output_type": "stream",
     "text": [
      "subject ALS01_t3 - acc: 0.837163815772345 (8 components)\n",
      "[[53  0  3]\n",
      " [ 3 40 16]\n",
      " [ 3  4 55]]\n",
      "================================================================================\n",
      "testing on subjects: {'ALS01_t4'}\n",
      "================================================================================\n"
     ]
    },
    {
     "name": "stderr",
     "output_type": "stream",
     "text": [
      "components: 100%|██████████| 32/32 [00:18<00:00,  1.76it/s]\n"
     ]
    },
    {
     "name": "stdout",
     "output_type": "stream",
     "text": [
      "subject ALS01_t4 - acc: 0.5842204503075338 (5 components)\n",
      "[[35 18  5]\n",
      " [ 0 52  7]\n",
      " [25 16 15]]\n",
      "================================================================================\n",
      "testing on subjects: {'ALS01_t5'}\n",
      "================================================================================\n"
     ]
    },
    {
     "name": "stderr",
     "output_type": "stream",
     "text": [
      "components: 100%|██████████| 32/32 [00:18<00:00,  1.77it/s]\n"
     ]
    },
    {
     "name": "stdout",
     "output_type": "stream",
     "text": [
      "subject ALS01_t5 - acc: 0.6823956442831216 (3 components)\n",
      "[[62  0  0]\n",
      " [ 0 42 15]\n",
      " [ 5 35 18]]\n",
      "================================================================================\n",
      "testing on subjects: {'ALS01_t6'}\n",
      "================================================================================\n"
     ]
    },
    {
     "name": "stderr",
     "output_type": "stream",
     "text": [
      "components: 100%|██████████| 32/32 [00:19<00:00,  1.68it/s]\n"
     ]
    },
    {
     "name": "stdout",
     "output_type": "stream",
     "text": [
      "subject ALS01_t6 - acc: 0.7567926225820963 (16 components)\n",
      "[[49  0  3]\n",
      " [ 2 32 23]\n",
      " [ 5  9 46]]\n",
      "================================================================================\n",
      "testing on subjects: {'ALS02_t1'}\n",
      "================================================================================\n"
     ]
    },
    {
     "name": "stderr",
     "output_type": "stream",
     "text": [
      "components: 100%|██████████| 32/32 [00:11<00:00,  2.78it/s]\n"
     ]
    },
    {
     "name": "stdout",
     "output_type": "stream",
     "text": [
      "subject ALS02_t1 - acc: 0.5636824127830123 (5 components)\n",
      "[[44 26  9]\n",
      " [10 36 10]\n",
      " [24  5 28]]\n",
      "================================================================================\n",
      "testing on subjects: {'ALS02_t2'}\n",
      "================================================================================\n"
     ]
    },
    {
     "name": "stderr",
     "output_type": "stream",
     "text": [
      "components: 100%|██████████| 32/32 [00:11<00:00,  2.69it/s]\n"
     ]
    },
    {
     "name": "stdout",
     "output_type": "stream",
     "text": [
      "subject ALS02_t2 - acc: 0.6788499025341131 (15 components)\n",
      "[[31  4  1]\n",
      " [25 25  7]\n",
      " [11  4 42]]\n",
      "================================================================================\n",
      "testing on subjects: {'ALS02_t3'}\n",
      "================================================================================\n"
     ]
    },
    {
     "name": "stderr",
     "output_type": "stream",
     "text": [
      "components: 100%|██████████| 32/32 [00:12<00:00,  2.60it/s]\n"
     ]
    },
    {
     "name": "stdout",
     "output_type": "stream",
     "text": [
      "subject ALS02_t3 - acc: 0.7892478288745118 (14 components)\n",
      "[[38  2  3]\n",
      " [10 33 13]\n",
      " [ 3  3 51]]\n",
      "================================================================================\n",
      "testing on subjects: {'ALS02_t4'}\n",
      "================================================================================\n"
     ]
    },
    {
     "name": "stderr",
     "output_type": "stream",
     "text": [
      "components:  97%|█████████▋| 31/32 [00:11<00:00,  2.56it/s]"
     ]
    }
   ],
   "source": [
    "euclidean_alignment(ds, target_subject=None)\n",
    "\n",
    "for i in range(0, len(test_subjects), 1):\n",
    "    _test_subjects = set(test_subjects[i:i+1])\n",
    "    print(\"=\" * 80)\n",
    "    print(f\"testing on subjects: {_test_subjects}\")\n",
    "    print(\"=\" * 80)\n",
    "    \n",
    "    prefix = test_subjects[i].split(\"_\")[0]\n",
    "    \n",
    "    # -----------load data--------------\n",
    "    Xtrain = list()\n",
    "    Ytrain = list()\n",
    "    test_subject_data = defaultdict(list)\n",
    "    for _ds in ds.datasets:\n",
    "        if not _ds.description[\"subject\"].startswith(prefix):\n",
    "            continue\n",
    "\n",
    "        if _ds.description[\"subject\"] in _test_subjects:\n",
    "            test_subject_data[_ds.description[\"subject\"]].append(_ds)\n",
    "        else:\n",
    "            Xtrain.append(_ds.windows.get_data())\n",
    "            Ytrain.extend(_ds.y)\n",
    "            \n",
    "    Xtrain = np.concatenate(Xtrain, axis=0)\n",
    "    Ytrain = np.array(Ytrain, dtype=int)\n",
    "    \n",
    "    for subject, list_of_ds in test_subject_data.items():\n",
    "        Xtest = list()\n",
    "        Ytest = list()\n",
    "        for _ds in list_of_ds:\n",
    "            Xtest.append(_ds.windows.get_data())\n",
    "            Ytest.extend(_ds.y)\n",
    "            \n",
    "        Xtest = np.concatenate(Xtest, axis=0)\n",
    "        Ytest = np.array(Ytest, dtype=int)\n",
    "        \n",
    "        test_subject_data[subject] = (Xtest, Ytest)\n",
    "        \n",
    "    # ----------classification model-----\n",
    "    csp = mne.decoding.CSP(n_components=32, reg=None, log=None, rank=\"full\", transform_into='csp_space')\n",
    "    Xtrain_csp = csp.fit_transform(Xtrain, Ytrain)\n",
    "    \n",
    "    for subject, (Xtest, Ytest) in test_subject_data.items():\n",
    "        test_subject_data[subject] = (csp.transform(Xtest), Ytest)\n",
    "    \n",
    "    bands = [(8,12), (12,16), (16,20), (20,24), (24,28), (28,32)]\n",
    "    params = dict({\n",
    "        'pow_freq_bands__log': True,\n",
    "        'pow_freq_bands__normalize': False,\n",
    "        'pow_freq_bands__freq_bands': bands,\n",
    "    })\n",
    "    \n",
    "    # ---------fitting-------------------\n",
    "    max_nc = {k: 0 for k in test_subject_data.keys()}\n",
    "    max_acc = {k: 0 for k in test_subject_data.keys()}\n",
    "    max_cfm = {k: 0 for k in test_subject_data.keys()}\n",
    "    for nc in tqdm(range(1, 33), desc=\"components\"):\n",
    "        fe = FeatureExtractor(sfreq=128.0, selected_funcs=['pow_freq_bands'], params=params, n_jobs=-1)\n",
    "\n",
    "        clf = SVC(\n",
    "            C=1.0,\n",
    "            kernel=\"rbf\",\n",
    "            # tol=1e-7,\n",
    "            max_iter=100000,\n",
    "            class_weight=\"balanced\",\n",
    "            random_state=42,\n",
    "        )\n",
    "        \n",
    "        clf.fit(fe.fit_transform(Xtrain_csp[:, :nc], Ytrain), Ytrain)\n",
    "        \n",
    "        # make prediction\n",
    "        for subject, (Xtest_csp, Ytest) in test_subject_data.items():\n",
    "            Ypred = clf.predict(fe.transform(Xtest_csp[:, :nc]))\n",
    "            \n",
    "            acc = metrics.balanced_accuracy_score(Ytest, Ypred)\n",
    "            if acc >= max_acc[subject]:\n",
    "                max_nc[subject] = nc\n",
    "                max_acc[subject] = acc\n",
    "                max_cfm[subject] = metrics.confusion_matrix(Ytest, Ypred)\n",
    "                \n",
    "    # ---------print result---------------\n",
    "    for subject, acc in max_acc.items():\n",
    "        print(f\"subject {subject} - acc: {acc} ({max_nc[subject]} components)\")\n",
    "        print(max_cfm[subject])"
   ]
  },
  {
   "cell_type": "code",
   "execution_count": null,
   "id": "94cfeea4-1568-46be-b24b-81e3bc16332c",
   "metadata": {},
   "outputs": [],
   "source": []
  }
 ],
 "metadata": {
  "kernelspec": {
   "display_name": "Python 3 (ipykernel)",
   "language": "python",
   "name": "python3"
  },
  "language_info": {
   "codemirror_mode": {
    "name": "ipython",
    "version": 3
   },
   "file_extension": ".py",
   "mimetype": "text/x-python",
   "name": "python",
   "nbconvert_exporter": "python",
   "pygments_lexer": "ipython3",
   "version": "3.9.12"
  }
 },
 "nbformat": 4,
 "nbformat_minor": 5
}
