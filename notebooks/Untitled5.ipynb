{
 "cells": [
  {
   "cell_type": "code",
   "execution_count": 1,
   "id": "74a0d634-832e-402a-b37c-d7d7adf42d25",
   "metadata": {},
   "outputs": [],
   "source": [
    "import glob\n",
    "import os\n",
    "import json\n",
    "import numpy as np\n",
    "import scipy.linalg as linalg\n",
    "import pandas as pd\n",
    "import mne\n",
    "import matplotlib.pyplot as plt\n",
    "import seaborn as sb\n",
    "import sklearn.metrics as metrics\n",
    "from sklearn.pipeline import make_pipeline\n",
    "from sklearn.svm import LinearSVC, SVC\n",
    "# from sklearn.ensemble import RandomForestClassifier\n",
    "# from sklearn.linear_model import LogisticRegression\n",
    "from sklearn.discriminant_analysis import LinearDiscriminantAnalysis as LDA\n",
    "from pyriemann.estimation import Covariances\n",
    "from pyriemann.tangentspace import TangentSpace\n",
    "from pyriemann.classification import TSclassifier, MDM, FgMDM\n",
    "from pyriemann.utils.mean import mean_covariance\n",
    "from braindecode.datasets import BaseConcatDataset\n",
    "from shutil import copyfile\n",
    "from tqdm import tqdm\n",
    "from data_util import load_subjects, load_subject_data, load_data, euclidean_alignment, label_alignment, np_standardize"
   ]
  },
  {
   "cell_type": "code",
   "execution_count": 2,
   "id": "08f4f9cd-fb93-47ce-9ace-3421e06e6c9a",
   "metadata": {},
   "outputs": [],
   "source": [
    "data_dir = \"../data/vin/Official/\"\n",
    "als_data_dir = \"../data/vin/Official/\""
   ]
  },
  {
   "cell_type": "code",
   "execution_count": 91,
   "id": "c10f42c3-2ea2-405d-b266-11d47c4a6171",
   "metadata": {},
   "outputs": [
    {
     "name": "stdout",
     "output_type": "stream",
     "text": [
      "using 32 channels\n"
     ]
    },
    {
     "name": "stderr",
     "output_type": "stream",
     "text": [
      "subject:  36%|███▌      | 36/101 [00:00<00:00, 224.32it/s]/home/administrator/txdat/eeg-motor-imagery/notebooks/data_util.py:228: RuntimeWarning: Limited 1 annotation(s) that were expanding outside the data range.\n",
      "  raw = mne.io.read_raw_edf(f\"{sample_dir}/EEG.edf\", preload=False, verbose=False)\n",
      "subject:  68%|██████▊   | 69/101 [00:03<00:02, 13.81it/s] /home/administrator/txdat/eeg-motor-imagery/notebooks/data_util.py:228: RuntimeWarning: Limited 1 annotation(s) that were expanding outside the data range.\n",
      "  raw = mne.io.read_raw_edf(f\"{sample_dir}/EEG.edf\", preload=False, verbose=False)\n",
      "subject:  74%|███████▍  | 75/101 [00:04<00:02, 11.73it/s]/home/administrator/txdat/eeg-motor-imagery/notebooks/data_util.py:228: RuntimeWarning: Limited 1 annotation(s) that were expanding outside the data range.\n",
      "  raw = mne.io.read_raw_edf(f\"{sample_dir}/EEG.edf\", preload=False, verbose=False)\n",
      "/home/administrator/txdat/eeg-motor-imagery/notebooks/data_util.py:228: RuntimeWarning: Limited 1 annotation(s) that were expanding outside the data range.\n",
      "  raw = mne.io.read_raw_edf(f\"{sample_dir}/EEG.edf\", preload=False, verbose=False)\n",
      "subject:  81%|████████  | 82/101 [00:05<00:01, 10.23it/s]/home/administrator/txdat/eeg-motor-imagery/notebooks/data_util.py:228: RuntimeWarning: Limited 1 annotation(s) that were expanding outside the data range.\n",
      "  raw = mne.io.read_raw_edf(f\"{sample_dir}/EEG.edf\", preload=False, verbose=False)\n",
      "subject:  83%|████████▎ | 84/101 [00:07<00:03,  5.54it/s]/home/administrator/txdat/eeg-motor-imagery/notebooks/data_util.py:228: RuntimeWarning: Limited 1 annotation(s) that were expanding outside the data range.\n",
      "  raw = mne.io.read_raw_edf(f\"{sample_dir}/EEG.edf\", preload=False, verbose=False)\n",
      "/home/administrator/txdat/eeg-motor-imagery/notebooks/data_util.py:228: RuntimeWarning: Limited 1 annotation(s) that were expanding outside the data range.\n",
      "  raw = mne.io.read_raw_edf(f\"{sample_dir}/EEG.edf\", preload=False, verbose=False)\n",
      "/home/administrator/txdat/eeg-motor-imagery/notebooks/data_util.py:228: RuntimeWarning: Limited 1 annotation(s) that were expanding outside the data range.\n",
      "  raw = mne.io.read_raw_edf(f\"{sample_dir}/EEG.edf\", preload=False, verbose=False)\n",
      "subject:  85%|████████▌ | 86/101 [00:07<00:02,  5.71it/s]/home/administrator/txdat/eeg-motor-imagery/notebooks/data_util.py:228: RuntimeWarning: Limited 1 annotation(s) that were expanding outside the data range.\n",
      "  raw = mne.io.read_raw_edf(f\"{sample_dir}/EEG.edf\", preload=False, verbose=False)\n",
      "subject:  87%|████████▋ | 88/101 [00:08<00:02,  5.88it/s]/home/administrator/txdat/eeg-motor-imagery/notebooks/data_util.py:228: RuntimeWarning: Limited 1 annotation(s) that were expanding outside the data range.\n",
      "  raw = mne.io.read_raw_edf(f\"{sample_dir}/EEG.edf\", preload=False, verbose=False)\n",
      "/home/administrator/txdat/eeg-motor-imagery/notebooks/data_util.py:228: RuntimeWarning: Limited 1 annotation(s) that were expanding outside the data range.\n",
      "  raw = mne.io.read_raw_edf(f\"{sample_dir}/EEG.edf\", preload=False, verbose=False)\n",
      "subject:  90%|█████████ | 91/101 [00:08<00:01,  6.25it/s]/home/administrator/txdat/eeg-motor-imagery/notebooks/data_util.py:228: RuntimeWarning: Limited 1 annotation(s) that were expanding outside the data range.\n",
      "  raw = mne.io.read_raw_edf(f\"{sample_dir}/EEG.edf\", preload=False, verbose=False)\n",
      "/home/administrator/txdat/eeg-motor-imagery/notebooks/data_util.py:228: RuntimeWarning: Limited 1 annotation(s) that were expanding outside the data range.\n",
      "  raw = mne.io.read_raw_edf(f\"{sample_dir}/EEG.edf\", preload=False, verbose=False)\n",
      "/home/administrator/txdat/eeg-motor-imagery/notebooks/data_util.py:228: RuntimeWarning: Limited 1 annotation(s) that were expanding outside the data range.\n",
      "  raw = mne.io.read_raw_edf(f\"{sample_dir}/EEG.edf\", preload=False, verbose=False)\n",
      "subject:  91%|█████████ | 92/101 [00:08<00:01,  6.33it/s]/home/administrator/txdat/eeg-motor-imagery/notebooks/data_util.py:228: RuntimeWarning: Limited 1 annotation(s) that were expanding outside the data range.\n",
      "  raw = mne.io.read_raw_edf(f\"{sample_dir}/EEG.edf\", preload=False, verbose=False)\n",
      "subject:  92%|█████████▏| 93/101 [00:08<00:01,  6.48it/s]/home/administrator/txdat/eeg-motor-imagery/notebooks/data_util.py:228: RuntimeWarning: Limited 1 annotation(s) that were expanding outside the data range.\n",
      "  raw = mne.io.read_raw_edf(f\"{sample_dir}/EEG.edf\", preload=False, verbose=False)\n",
      "/home/administrator/txdat/eeg-motor-imagery/notebooks/data_util.py:228: RuntimeWarning: Limited 1 annotation(s) that were expanding outside the data range.\n",
      "  raw = mne.io.read_raw_edf(f\"{sample_dir}/EEG.edf\", preload=False, verbose=False)\n",
      "/home/administrator/txdat/eeg-motor-imagery/notebooks/data_util.py:228: RuntimeWarning: Limited 1 annotation(s) that were expanding outside the data range.\n",
      "  raw = mne.io.read_raw_edf(f\"{sample_dir}/EEG.edf\", preload=False, verbose=False)\n",
      "subject:  95%|█████████▌| 96/101 [00:09<00:00,  6.74it/s]/home/administrator/txdat/eeg-motor-imagery/notebooks/data_util.py:228: RuntimeWarning: Limited 1 annotation(s) that were expanding outside the data range.\n",
      "  raw = mne.io.read_raw_edf(f\"{sample_dir}/EEG.edf\", preload=False, verbose=False)\n",
      "subject:  97%|█████████▋| 98/101 [00:09<00:00,  7.00it/s]/home/administrator/txdat/eeg-motor-imagery/notebooks/data_util.py:228: RuntimeWarning: Limited 1 annotation(s) that were expanding outside the data range.\n",
      "  raw = mne.io.read_raw_edf(f\"{sample_dir}/EEG.edf\", preload=False, verbose=False)\n",
      "subject:  99%|█████████▉| 100/101 [00:09<00:00,  7.13it/s]/home/administrator/txdat/eeg-motor-imagery/notebooks/data_util.py:228: RuntimeWarning: Limited 1 annotation(s) that were expanding outside the data range.\n",
      "  raw = mne.io.read_raw_edf(f\"{sample_dir}/EEG.edf\", preload=False, verbose=False)\n",
      "subject: 100%|██████████| 101/101 [00:09<00:00, 10.14it/s]\n",
      "subject: 100%|██████████| 61/61 [00:08<00:00,  7.08it/s]\n",
      "trial: 100%|██████████| 2967/2967 [00:10<00:00, 271.51it/s]\n",
      "subject:   0%|          | 0/101 [00:00<?, ?it/s]/home/administrator/txdat/eeg-motor-imagery/notebooks/data_util.py:228: RuntimeWarning: Limited 1 annotation(s) that were expanding outside the data range.\n",
      "  raw = mne.io.read_raw_edf(f\"{sample_dir}/EEG.edf\", preload=False, verbose=False)\n",
      "/home/administrator/txdat/eeg-motor-imagery/notebooks/data_util.py:228: RuntimeWarning: Limited 1 annotation(s) that were expanding outside the data range.\n",
      "  raw = mne.io.read_raw_edf(f\"{sample_dir}/EEG.edf\", preload=False, verbose=False)\n",
      "subject:   2%|▏         | 2/101 [00:00<00:22,  4.39it/s]/home/administrator/txdat/eeg-motor-imagery/notebooks/data_util.py:228: RuntimeWarning: Limited 1 annotation(s) that were expanding outside the data range.\n",
      "  raw = mne.io.read_raw_edf(f\"{sample_dir}/EEG.edf\", preload=False, verbose=False)\n",
      "subject: 100%|██████████| 101/101 [00:00<00:00, 129.03it/s]\n",
      "subject: 100%|██████████| 4/4 [00:00<00:00,  8.09it/s]\n",
      "trial: 100%|██████████| 164/164 [00:00<00:00, 268.82it/s]\n"
     ]
    },
    {
     "name": "stdout",
     "output_type": "stream",
     "text": [
      "CPU times: user 1min 24s, sys: 12.8 s, total: 1min 37s\n",
      "Wall time: 1min 36s\n"
     ]
    }
   ],
   "source": [
    "%%time\n",
    "# fmt: off\n",
    "subjects = [\n",
    "    'K299', 'K300', \n",
    "    'K309', 'K310', 'K311', 'K312', 'K313', \n",
    "    'K314', 'K315', 'K316', 'K319', \n",
    "    'K320', 'K321', 'K322', 'K323', 'K324', \n",
    "    'K325', 'K326', 'K327', 'K328', 'K329', \n",
    "    'K330', 'K331', 'K332', 'K333', 'K334', \n",
    "    'K335', 'K336', 'K337', 'K338', 'K339', \n",
    "    'K340', 'K342', 'K343', 'K344', 'K350', \n",
    "    'K351', 'K352', 'K353', 'K354', 'K355', \n",
    "    'K356', 'K357', 'K358', 'K359', 'K360', \n",
    "    'K361', 'K362', 'K363', 'K364', 'K365', \n",
    "    'K366', 'K367', 'K368', 'K369', 'K370', \n",
    "    'K371', 'K372', 'K373', 'K374', 'K375',\n",
    "]\n",
    "\n",
    "# subjects = [\n",
    "#     'K300', 'K309', 'K311', 'K312', 'K313', \n",
    "#     'K314', 'K315', 'K316', 'K320', 'K321', \n",
    "#     'K322', 'K323', 'K324', 'K325', 'K327', \n",
    "#     'K328', 'K329', 'K332', 'K335', 'K336', \n",
    "#     'K337', 'K338', 'K339', 'K354', 'K355', \n",
    "#     'K358', 'K359', 'K360', 'K361', 'K362', \n",
    "#     'K364', 'K366', 'K368', 'K369', 'K370', \n",
    "#     'K371', 'K372', 'K373', 'K374', 'K375',\n",
    "# ]\n",
    "\n",
    "# use_k_subjects = True  # @param {\"type\": \"boolean\"}\n",
    "# use_bn_subjects = False  # @param {\"type\": \"boolean\"}\n",
    "\n",
    "# subjects = list()\n",
    "# if use_k_subjects:\n",
    "#     subjects.extend([subject for subject in full_scenarios_subjects if subject.startswith(\"K\")])\n",
    "# if use_bn_subjects:\n",
    "#     subjects.extend([subject for subject in full_scenarios_subjects if subject.startswith(\"BN\")])\n",
    "\n",
    "subjects = sorted(subjects)\n",
    "\n",
    "scenarios = [\n",
    "    \"nâng tay trái\",\n",
    "    \"nâng tay phải\",\n",
    "    \"nâng chân trái\",\n",
    "    \"nâng chân phải\",\n",
    "    \"gật đầu\",\n",
    "    \"lắc đầu\",\n",
    "    \"há miệng\",\n",
    "]\n",
    "\n",
    "events = [\n",
    "    \"Thinking\",\n",
    "    # \"Thinking and Acting\",\n",
    "    \"Resting\",\n",
    "    # \"Typing\",\n",
    "]\n",
    "\n",
    "channels = [\n",
    "    \"Fp1\", \"Fp2\",\n",
    "    \"F7\", \"F3\", \"Fz\", \"F4\", \"F8\",\n",
    "    \"FT9\", \"FC5\", \"FC1\", \"FC2\", \"FC6\", \"FT10\",\n",
    "    \"T7\", \"C3\", \"Cz\", \"C4\", \"T8\",\n",
    "    \"CP5\", \"CP1\", \"CP2\", \"CP6\",\n",
    "    \"P7\", \"P3\", \"Pz\", \"P4\", \"P8\",\n",
    "    \"PO9\", \"O1\", \"Oz\", \"O2\", \"PO10\",\n",
    "]\n",
    "# channels = [\n",
    "#     # \"F3\", \"Fz\", \"F4\",\n",
    "#     \"FC5\", \"FC1\", \"FC2\", \"FC6\",\n",
    "#     \"C3\", \"Cz\", \"C4\",\n",
    "#     \"CP5\", \"CP1\", \"CP2\", \"CP6\",\n",
    "#     # \"P3\", \"Pz\", \"P4\",\n",
    "# ]\n",
    "\n",
    "label_mapping={\n",
    "    \"nâng tay trái_Thinking\": \"nâng tay trái\",\n",
    "    \"nâng tay phải_Thinking\": \"nâng tay phải\",\n",
    "    \"nâng chân trái_Thinking\": \"nâng chân trái\",\n",
    "    \"nâng chân phải_Thinking\": \"nâng chân phải\",\n",
    "    \"gật đầu_Thinking\": \"gật đầu\",\n",
    "    \"lắc đầu_Thinking\": \"lắc đầu\",\n",
    "    \"há miệng_Thinking\": \"há miệng\",\n",
    "    \"nâng tay trái_Thinking and Acting\": \"nâng tay trái\",\n",
    "    \"nâng tay phải_Thinking and Acting\": \"nâng tay phải\",\n",
    "    \"nâng chân trái_Thinking and Acting\": \"nâng chân trái\",\n",
    "    \"nâng chân phải_Thinking and Acting\": \"nâng chân phải\",\n",
    "    \"gật đầu_Thinking and Acting\": \"gật đầu\",\n",
    "    \"lắc đầu_Thinking and Acting\": \"lắc đầu\",\n",
    "    \"há miệng_Thinking and Acting\": \"há miệng\",\n",
    "    \"Resting\": \"rest\",\n",
    "}\n",
    "\n",
    "n_channels = len(channels)\n",
    "\n",
    "print(f\"using {n_channels} channels\")\n",
    "\n",
    "minimal_trial_duration = 4  # @param\n",
    "window_duration = 2  # @param\n",
    "window_stride_duration = 0.5  # @param\n",
    "\n",
    "fmin = 8.0  # @param\n",
    "fmax = 30.0  # @param\n",
    "\n",
    "# subjects.remove(\"K324\")\n",
    "\n",
    "ds = load_data(\n",
    "    data_dir,  \n",
    "    subjects=subjects,\n",
    "    scenarios=scenarios,\n",
    "    events=events,\n",
    "    channels=channels,\n",
    "    label_mapping=label_mapping,\n",
    "    minimal_trial_duration=minimal_trial_duration,\n",
    "    window_duration=window_duration, \n",
    "    window_stride_duration=window_stride_duration, \n",
    "    start_offset=0,\n",
    "    stop_offset=0,\n",
    "    fmin=fmin, \n",
    "    fmax=fmax, \n",
    "    moving_standardize=False,\n",
    "    epoch_standardize=False,\n",
    "    resample=None,\n",
    "    return_raw=False,\n",
    "    return_preprocessed=False,\n",
    "    preload=True,\n",
    ")\n",
    "\n",
    "als_subjects = [\"ALS01_t1\", \"ALS01_t2\", \"ALS02_t1\", \"ALS02_t2\"]\n",
    "\n",
    "als_ds = load_data(\n",
    "    als_data_dir,  \n",
    "    subjects=als_subjects,\n",
    "    scenarios=scenarios,\n",
    "    events=events,\n",
    "    channels=channels,\n",
    "    label_mapping=label_mapping,\n",
    "    minimal_trial_duration=minimal_trial_duration,\n",
    "    window_duration=window_duration, \n",
    "    window_stride_duration=window_stride_duration, \n",
    "    start_offset=0,\n",
    "    stop_offset=0,\n",
    "    fmin=fmin, \n",
    "    fmax=fmax, \n",
    "    moving_standardize=False,\n",
    "    epoch_standardize=False,\n",
    "    resample=None,\n",
    "    return_raw=False,\n",
    "    return_preprocessed=False,\n",
    "    preload=True,\n",
    ")\n",
    "\n",
    "ds = BaseConcatDataset([ds, als_ds])\n",
    "\n",
    "# fmt: on\n",
    "\n",
    "for _ds in ds.datasets:\n",
    "    _ds_info = _ds.description\n",
    "    if _ds_info[\"subject\"] == \"K314\":\n",
    "        _ds_info[\"subject\"] = \"K314_t1\"\n",
    "    elif _ds_info[\"subject\"] == \"K324\":\n",
    "        _ds_info[\"subject\"] = \"K314_t2\"\n",
    "\n",
    "ds_info = ds.description"
   ]
  },
  {
   "cell_type": "code",
   "execution_count": 92,
   "id": "ce2dac8f-352f-4407-93c2-b646f845a2de",
   "metadata": {},
   "outputs": [
    {
     "data": {
      "text/html": [
       "<div>\n",
       "<style scoped>\n",
       "    .dataframe tbody tr th:only-of-type {\n",
       "        vertical-align: middle;\n",
       "    }\n",
       "\n",
       "    .dataframe tbody tr th {\n",
       "        vertical-align: top;\n",
       "    }\n",
       "\n",
       "    .dataframe thead th {\n",
       "        text-align: right;\n",
       "    }\n",
       "</style>\n",
       "<table border=\"1\" class=\"dataframe\">\n",
       "  <thead>\n",
       "    <tr style=\"text-align: right;\">\n",
       "      <th></th>\n",
       "      <th>subject</th>\n",
       "      <th>scenario</th>\n",
       "      <th>event</th>\n",
       "      <th>label</th>\n",
       "      <th>trial</th>\n",
       "      <th>split</th>\n",
       "    </tr>\n",
       "  </thead>\n",
       "  <tbody>\n",
       "    <tr>\n",
       "      <th>0</th>\n",
       "      <td>K299</td>\n",
       "      <td>nâng tay trái</td>\n",
       "      <td>Thinking</td>\n",
       "      <td>nâng tay trái</td>\n",
       "      <td>0</td>\n",
       "      <td>train</td>\n",
       "    </tr>\n",
       "    <tr>\n",
       "      <th>1</th>\n",
       "      <td>K299</td>\n",
       "      <td>nâng tay trái</td>\n",
       "      <td>Resting</td>\n",
       "      <td>rest</td>\n",
       "      <td>0</td>\n",
       "      <td>train</td>\n",
       "    </tr>\n",
       "    <tr>\n",
       "      <th>2</th>\n",
       "      <td>K299</td>\n",
       "      <td>nâng tay trái</td>\n",
       "      <td>Resting</td>\n",
       "      <td>rest</td>\n",
       "      <td>1</td>\n",
       "      <td>train</td>\n",
       "    </tr>\n",
       "    <tr>\n",
       "      <th>3</th>\n",
       "      <td>K299</td>\n",
       "      <td>nâng tay trái</td>\n",
       "      <td>Thinking</td>\n",
       "      <td>nâng tay trái</td>\n",
       "      <td>1</td>\n",
       "      <td>train</td>\n",
       "    </tr>\n",
       "    <tr>\n",
       "      <th>4</th>\n",
       "      <td>K299</td>\n",
       "      <td>nâng tay trái</td>\n",
       "      <td>Resting</td>\n",
       "      <td>rest</td>\n",
       "      <td>2</td>\n",
       "      <td>train</td>\n",
       "    </tr>\n",
       "    <tr>\n",
       "      <th>...</th>\n",
       "      <td>...</td>\n",
       "      <td>...</td>\n",
       "      <td>...</td>\n",
       "      <td>...</td>\n",
       "      <td>...</td>\n",
       "      <td>...</td>\n",
       "    </tr>\n",
       "    <tr>\n",
       "      <th>3126</th>\n",
       "      <td>ALS02_t2</td>\n",
       "      <td>lắc đầu</td>\n",
       "      <td>Thinking</td>\n",
       "      <td>lắc đầu</td>\n",
       "      <td>0</td>\n",
       "      <td>train</td>\n",
       "    </tr>\n",
       "    <tr>\n",
       "      <th>3127</th>\n",
       "      <td>ALS02_t2</td>\n",
       "      <td>lắc đầu</td>\n",
       "      <td>Resting</td>\n",
       "      <td>rest</td>\n",
       "      <td>0</td>\n",
       "      <td>train</td>\n",
       "    </tr>\n",
       "    <tr>\n",
       "      <th>3128</th>\n",
       "      <td>ALS02_t2</td>\n",
       "      <td>lắc đầu</td>\n",
       "      <td>Thinking</td>\n",
       "      <td>lắc đầu</td>\n",
       "      <td>1</td>\n",
       "      <td>train</td>\n",
       "    </tr>\n",
       "    <tr>\n",
       "      <th>3129</th>\n",
       "      <td>ALS02_t2</td>\n",
       "      <td>lắc đầu</td>\n",
       "      <td>Resting</td>\n",
       "      <td>rest</td>\n",
       "      <td>1</td>\n",
       "      <td>train</td>\n",
       "    </tr>\n",
       "    <tr>\n",
       "      <th>3130</th>\n",
       "      <td>ALS02_t2</td>\n",
       "      <td>lắc đầu</td>\n",
       "      <td>Thinking</td>\n",
       "      <td>lắc đầu</td>\n",
       "      <td>2</td>\n",
       "      <td>train</td>\n",
       "    </tr>\n",
       "  </tbody>\n",
       "</table>\n",
       "<p>3131 rows × 6 columns</p>\n",
       "</div>"
      ],
      "text/plain": [
       "       subject       scenario     event          label  trial  split\n",
       "0         K299  nâng tay trái  Thinking  nâng tay trái      0  train\n",
       "1         K299  nâng tay trái   Resting           rest      0  train\n",
       "2         K299  nâng tay trái   Resting           rest      1  train\n",
       "3         K299  nâng tay trái  Thinking  nâng tay trái      1  train\n",
       "4         K299  nâng tay trái   Resting           rest      2  train\n",
       "...        ...            ...       ...            ...    ...    ...\n",
       "3126  ALS02_t2        lắc đầu  Thinking        lắc đầu      0  train\n",
       "3127  ALS02_t2        lắc đầu   Resting           rest      0  train\n",
       "3128  ALS02_t2        lắc đầu  Thinking        lắc đầu      1  train\n",
       "3129  ALS02_t2        lắc đầu   Resting           rest      1  train\n",
       "3130  ALS02_t2        lắc đầu  Thinking        lắc đầu      2  train\n",
       "\n",
       "[3131 rows x 6 columns]"
      ]
     },
     "execution_count": 92,
     "metadata": {},
     "output_type": "execute_result"
    }
   ],
   "source": [
    "ds_info"
   ]
  },
  {
   "cell_type": "code",
   "execution_count": 93,
   "id": "4cbf37d8-4b44-485d-8962-7538dd206e7d",
   "metadata": {},
   "outputs": [
    {
     "data": {
      "text/plain": [
       "{'rest': 0,\n",
       " 'gật đầu': 1,\n",
       " 'há miệng': 2,\n",
       " 'lắc đầu': 3,\n",
       " 'nâng chân phải': 4,\n",
       " 'nâng chân trái': 5,\n",
       " 'nâng tay phải': 6,\n",
       " 'nâng tay trái': 7}"
      ]
     },
     "execution_count": 93,
     "metadata": {},
     "output_type": "execute_result"
    }
   ],
   "source": [
    "ds.datasets[0].windows.event_id"
   ]
  },
  {
   "cell_type": "code",
   "execution_count": 94,
   "id": "881b21ae-3da4-4d79-95e4-8541a03bc174",
   "metadata": {},
   "outputs": [
    {
     "name": "stdout",
     "output_type": "stream",
     "text": [
      "['K299' 'K300' 'K309' 'K310' 'K311' 'K312' 'K313' 'K314_t1' 'K315' 'K316'\n",
      " 'K319' 'K320' 'K321' 'K322' 'K323' 'K314_t2' 'K325' 'K326' 'K327' 'K328'\n",
      " 'K329' 'K330' 'K331' 'K332' 'K333' 'K334' 'K335' 'K336' 'K337' 'K338'\n",
      " 'K339' 'K340' 'K342' 'K343' 'K344' 'K350' 'K351' 'K352' 'K353' 'K354'\n",
      " 'K355' 'K356' 'K357' 'K358' 'K359' 'K360' 'K361' 'K362' 'K363' 'K364'\n",
      " 'K365' 'K366' 'K367' 'K368' 'K369' 'K370' 'K371' 'K372' 'K373' 'K374'\n",
      " 'K375' 'ALS01_t1' 'ALS01_t2' 'ALS02_t1' 'ALS02_t2']\n"
     ]
    },
    {
     "data": {
      "text/plain": [
       "65"
      ]
     },
     "execution_count": 94,
     "metadata": {},
     "output_type": "execute_result"
    }
   ],
   "source": [
    "evaluate_subjects = ds_info[\"subject\"].unique()\n",
    "print(evaluate_subjects)\n",
    "\n",
    "n_subjects = len(evaluate_subjects)\n",
    "n_subjects"
   ]
  },
  {
   "cell_type": "code",
   "execution_count": 7,
   "id": "706e2586-896c-4042-8df1-75504348dbe4",
   "metadata": {},
   "outputs": [],
   "source": [
    "def riemann_alignment(C, Y, rest_label=0):\n",
    "    R = mean_covariance(C[np.where(Y == rest_label)[0]], metric=\"riemann\")\n",
    "    R = linalg.inv(linalg.sqrtm(R))\n",
    "    if np.iscomplexobj(R):\n",
    "        R = np.real(R).astype(np.float32)\n",
    "        \n",
    "    C = R @ C @ R\n",
    "    \n",
    "    return C"
   ]
  },
  {
   "cell_type": "code",
   "execution_count": 96,
   "id": "eb53e153-29f2-4123-9773-f1a23ff0c826",
   "metadata": {},
   "outputs": [
    {
     "name": "stderr",
     "output_type": "stream",
     "text": [
      "subject: 100%|██████████| 65/65 [01:14<00:00,  1.14s/it]\n"
     ]
    }
   ],
   "source": [
    "est = Covariances(estimator=\"cov\")\n",
    "\n",
    "data = dict()\n",
    "for subject in tqdm(evaluate_subjects, desc=\"subject\", total=n_subjects):\n",
    "    X = list()\n",
    "    Y = list()\n",
    "    for i in ds_info[ds_info[\"subject\"] == subject].index:\n",
    "        X.append(ds.datasets[i].windows.get_data())\n",
    "        Y.append(np.array(ds.datasets[i].y, dtype=int))\n",
    "        \n",
    "    X = np.concatenate(X, axis=0)\n",
    "    Y = np.concatenate(Y, axis=0)\n",
    "    C = est.transform(X)\n",
    "    C = riemann_alignment(C, Y, rest_label=0)\n",
    "    \n",
    "    not_rest_idx = np.where(Y != 0)[0]\n",
    "    data[subject] = (C[not_rest_idx], Y[not_rest_idx] - 1)"
   ]
  },
  {
   "cell_type": "code",
   "execution_count": 105,
   "id": "61c0a69f-21a8-44b3-ad43-a29b9ede2ce3",
   "metadata": {},
   "outputs": [
    {
     "data": {
      "text/plain": [
       "((200, 32, 32), (200,))"
      ]
     },
     "execution_count": 105,
     "metadata": {},
     "output_type": "execute_result"
    }
   ],
   "source": [
    "c, y = data[\"K299\"]\n",
    "c.shape, y.shape"
   ]
  },
  {
   "cell_type": "code",
   "execution_count": 106,
   "id": "041d10ec-1a92-4c61-a5b6-96695a51c667",
   "metadata": {},
   "outputs": [
    {
     "name": "stdout",
     "output_type": "stream",
     "text": [
      "===========evaluating subject K299============\n"
     ]
    },
    {
     "name": "stderr",
     "output_type": "stream",
     "text": [
      "subject: 100%|██████████| 65/65 [00:16<00:00,  3.84it/s]\n"
     ]
    },
    {
     "name": "stdout",
     "output_type": "stream",
     "text": [
      "===========evaluating subject K300============\n"
     ]
    },
    {
     "name": "stderr",
     "output_type": "stream",
     "text": [
      "subject: 100%|██████████| 65/65 [00:16<00:00,  3.89it/s]\n"
     ]
    },
    {
     "name": "stdout",
     "output_type": "stream",
     "text": [
      "===========evaluating subject K309============\n"
     ]
    },
    {
     "name": "stderr",
     "output_type": "stream",
     "text": [
      "subject: 100%|██████████| 65/65 [00:17<00:00,  3.72it/s]\n"
     ]
    },
    {
     "name": "stdout",
     "output_type": "stream",
     "text": [
      "===========evaluating subject K310============\n"
     ]
    },
    {
     "name": "stderr",
     "output_type": "stream",
     "text": [
      "subject: 100%|██████████| 65/65 [00:17<00:00,  3.73it/s]\n"
     ]
    },
    {
     "name": "stdout",
     "output_type": "stream",
     "text": [
      "===========evaluating subject K311============\n"
     ]
    },
    {
     "name": "stderr",
     "output_type": "stream",
     "text": [
      "subject: 100%|██████████| 65/65 [00:15<00:00,  4.07it/s]\n"
     ]
    },
    {
     "name": "stdout",
     "output_type": "stream",
     "text": [
      "===========evaluating subject K312============\n"
     ]
    },
    {
     "name": "stderr",
     "output_type": "stream",
     "text": [
      "subject: 100%|██████████| 65/65 [00:17<00:00,  3.68it/s]\n"
     ]
    },
    {
     "name": "stdout",
     "output_type": "stream",
     "text": [
      "===========evaluating subject K313============\n"
     ]
    },
    {
     "name": "stderr",
     "output_type": "stream",
     "text": [
      "subject: 100%|██████████| 65/65 [00:16<00:00,  3.85it/s]\n"
     ]
    },
    {
     "name": "stdout",
     "output_type": "stream",
     "text": [
      "===========evaluating subject K314_t1============\n"
     ]
    },
    {
     "name": "stderr",
     "output_type": "stream",
     "text": [
      "subject: 100%|██████████| 65/65 [00:16<00:00,  3.98it/s]\n"
     ]
    },
    {
     "name": "stdout",
     "output_type": "stream",
     "text": [
      "===========evaluating subject K315============\n"
     ]
    },
    {
     "name": "stderr",
     "output_type": "stream",
     "text": [
      "subject: 100%|██████████| 65/65 [00:17<00:00,  3.74it/s]\n"
     ]
    },
    {
     "name": "stdout",
     "output_type": "stream",
     "text": [
      "===========evaluating subject K316============\n"
     ]
    },
    {
     "name": "stderr",
     "output_type": "stream",
     "text": [
      "subject: 100%|██████████| 65/65 [00:17<00:00,  3.79it/s]\n"
     ]
    },
    {
     "name": "stdout",
     "output_type": "stream",
     "text": [
      "===========evaluating subject K319============\n"
     ]
    },
    {
     "name": "stderr",
     "output_type": "stream",
     "text": [
      "subject: 100%|██████████| 65/65 [00:16<00:00,  3.89it/s]\n"
     ]
    },
    {
     "name": "stdout",
     "output_type": "stream",
     "text": [
      "===========evaluating subject K320============\n"
     ]
    },
    {
     "name": "stderr",
     "output_type": "stream",
     "text": [
      "subject: 100%|██████████| 65/65 [00:15<00:00,  4.32it/s]\n"
     ]
    },
    {
     "name": "stdout",
     "output_type": "stream",
     "text": [
      "===========evaluating subject K321============\n"
     ]
    },
    {
     "name": "stderr",
     "output_type": "stream",
     "text": [
      "subject: 100%|██████████| 65/65 [00:16<00:00,  3.93it/s]\n"
     ]
    },
    {
     "name": "stdout",
     "output_type": "stream",
     "text": [
      "===========evaluating subject K322============\n"
     ]
    },
    {
     "name": "stderr",
     "output_type": "stream",
     "text": [
      "subject: 100%|██████████| 65/65 [00:16<00:00,  3.96it/s]\n"
     ]
    },
    {
     "name": "stdout",
     "output_type": "stream",
     "text": [
      "===========evaluating subject K323============\n"
     ]
    },
    {
     "name": "stderr",
     "output_type": "stream",
     "text": [
      "subject: 100%|██████████| 65/65 [00:16<00:00,  4.04it/s]\n"
     ]
    },
    {
     "name": "stdout",
     "output_type": "stream",
     "text": [
      "===========evaluating subject K314_t2============\n"
     ]
    },
    {
     "name": "stderr",
     "output_type": "stream",
     "text": [
      "subject: 100%|██████████| 65/65 [00:17<00:00,  3.81it/s]\n"
     ]
    },
    {
     "name": "stdout",
     "output_type": "stream",
     "text": [
      "===========evaluating subject K325============\n"
     ]
    },
    {
     "name": "stderr",
     "output_type": "stream",
     "text": [
      "subject: 100%|██████████| 65/65 [00:18<00:00,  3.50it/s]\n"
     ]
    },
    {
     "name": "stdout",
     "output_type": "stream",
     "text": [
      "===========evaluating subject K326============\n"
     ]
    },
    {
     "name": "stderr",
     "output_type": "stream",
     "text": [
      "subject: 100%|██████████| 65/65 [00:18<00:00,  3.58it/s]\n"
     ]
    },
    {
     "name": "stdout",
     "output_type": "stream",
     "text": [
      "===========evaluating subject K327============\n"
     ]
    },
    {
     "name": "stderr",
     "output_type": "stream",
     "text": [
      "subject: 100%|██████████| 65/65 [00:16<00:00,  3.92it/s]\n"
     ]
    },
    {
     "name": "stdout",
     "output_type": "stream",
     "text": [
      "===========evaluating subject K328============\n"
     ]
    },
    {
     "name": "stderr",
     "output_type": "stream",
     "text": [
      "subject: 100%|██████████| 65/65 [00:15<00:00,  4.30it/s]\n"
     ]
    },
    {
     "name": "stdout",
     "output_type": "stream",
     "text": [
      "===========evaluating subject K329============\n"
     ]
    },
    {
     "name": "stderr",
     "output_type": "stream",
     "text": [
      "subject: 100%|██████████| 65/65 [00:16<00:00,  3.97it/s]\n"
     ]
    },
    {
     "name": "stdout",
     "output_type": "stream",
     "text": [
      "===========evaluating subject K330============\n"
     ]
    },
    {
     "name": "stderr",
     "output_type": "stream",
     "text": [
      "subject: 100%|██████████| 65/65 [00:16<00:00,  3.91it/s]\n"
     ]
    },
    {
     "name": "stdout",
     "output_type": "stream",
     "text": [
      "===========evaluating subject K331============\n"
     ]
    },
    {
     "name": "stderr",
     "output_type": "stream",
     "text": [
      "subject: 100%|██████████| 65/65 [00:14<00:00,  4.55it/s]\n"
     ]
    },
    {
     "name": "stdout",
     "output_type": "stream",
     "text": [
      "===========evaluating subject K332============\n"
     ]
    },
    {
     "name": "stderr",
     "output_type": "stream",
     "text": [
      "subject: 100%|██████████| 65/65 [00:16<00:00,  3.99it/s]\n"
     ]
    },
    {
     "name": "stdout",
     "output_type": "stream",
     "text": [
      "===========evaluating subject K333============\n"
     ]
    },
    {
     "name": "stderr",
     "output_type": "stream",
     "text": [
      "subject: 100%|██████████| 65/65 [00:17<00:00,  3.81it/s]\n"
     ]
    },
    {
     "name": "stdout",
     "output_type": "stream",
     "text": [
      "===========evaluating subject K334============\n"
     ]
    },
    {
     "name": "stderr",
     "output_type": "stream",
     "text": [
      "subject: 100%|██████████| 65/65 [00:18<00:00,  3.58it/s]\n"
     ]
    },
    {
     "name": "stdout",
     "output_type": "stream",
     "text": [
      "===========evaluating subject K335============\n"
     ]
    },
    {
     "name": "stderr",
     "output_type": "stream",
     "text": [
      "subject: 100%|██████████| 65/65 [00:17<00:00,  3.79it/s]\n"
     ]
    },
    {
     "name": "stdout",
     "output_type": "stream",
     "text": [
      "===========evaluating subject K336============\n"
     ]
    },
    {
     "name": "stderr",
     "output_type": "stream",
     "text": [
      "subject: 100%|██████████| 65/65 [00:17<00:00,  3.79it/s]\n"
     ]
    },
    {
     "name": "stdout",
     "output_type": "stream",
     "text": [
      "===========evaluating subject K337============\n"
     ]
    },
    {
     "name": "stderr",
     "output_type": "stream",
     "text": [
      "subject: 100%|██████████| 65/65 [00:16<00:00,  3.88it/s]\n"
     ]
    },
    {
     "name": "stdout",
     "output_type": "stream",
     "text": [
      "===========evaluating subject K338============\n"
     ]
    },
    {
     "name": "stderr",
     "output_type": "stream",
     "text": [
      "subject: 100%|██████████| 65/65 [00:17<00:00,  3.78it/s]\n"
     ]
    },
    {
     "name": "stdout",
     "output_type": "stream",
     "text": [
      "===========evaluating subject K339============\n"
     ]
    },
    {
     "name": "stderr",
     "output_type": "stream",
     "text": [
      "subject: 100%|██████████| 65/65 [00:16<00:00,  3.84it/s]\n"
     ]
    },
    {
     "name": "stdout",
     "output_type": "stream",
     "text": [
      "===========evaluating subject K340============\n"
     ]
    },
    {
     "name": "stderr",
     "output_type": "stream",
     "text": [
      "subject: 100%|██████████| 65/65 [00:17<00:00,  3.77it/s]\n"
     ]
    },
    {
     "name": "stdout",
     "output_type": "stream",
     "text": [
      "===========evaluating subject K342============\n"
     ]
    },
    {
     "name": "stderr",
     "output_type": "stream",
     "text": [
      "subject: 100%|██████████| 65/65 [00:16<00:00,  4.00it/s]\n"
     ]
    },
    {
     "name": "stdout",
     "output_type": "stream",
     "text": [
      "===========evaluating subject K343============\n"
     ]
    },
    {
     "name": "stderr",
     "output_type": "stream",
     "text": [
      "subject: 100%|██████████| 65/65 [00:15<00:00,  4.31it/s]\n"
     ]
    },
    {
     "name": "stdout",
     "output_type": "stream",
     "text": [
      "===========evaluating subject K344============\n"
     ]
    },
    {
     "name": "stderr",
     "output_type": "stream",
     "text": [
      "subject: 100%|██████████| 65/65 [00:17<00:00,  3.71it/s]\n"
     ]
    },
    {
     "name": "stdout",
     "output_type": "stream",
     "text": [
      "===========evaluating subject K350============\n"
     ]
    },
    {
     "name": "stderr",
     "output_type": "stream",
     "text": [
      "subject: 100%|██████████| 65/65 [00:18<00:00,  3.42it/s]\n"
     ]
    },
    {
     "name": "stdout",
     "output_type": "stream",
     "text": [
      "===========evaluating subject K351============\n"
     ]
    },
    {
     "name": "stderr",
     "output_type": "stream",
     "text": [
      "subject: 100%|██████████| 65/65 [00:18<00:00,  3.56it/s]\n"
     ]
    },
    {
     "name": "stdout",
     "output_type": "stream",
     "text": [
      "===========evaluating subject K352============\n"
     ]
    },
    {
     "name": "stderr",
     "output_type": "stream",
     "text": [
      "subject: 100%|██████████| 65/65 [00:19<00:00,  3.35it/s]\n"
     ]
    },
    {
     "name": "stdout",
     "output_type": "stream",
     "text": [
      "===========evaluating subject K353============\n"
     ]
    },
    {
     "name": "stderr",
     "output_type": "stream",
     "text": [
      "subject: 100%|██████████| 65/65 [00:17<00:00,  3.64it/s]\n"
     ]
    },
    {
     "name": "stdout",
     "output_type": "stream",
     "text": [
      "===========evaluating subject K354============\n"
     ]
    },
    {
     "name": "stderr",
     "output_type": "stream",
     "text": [
      "subject: 100%|██████████| 65/65 [00:16<00:00,  3.88it/s]\n"
     ]
    },
    {
     "name": "stdout",
     "output_type": "stream",
     "text": [
      "===========evaluating subject K355============\n"
     ]
    },
    {
     "name": "stderr",
     "output_type": "stream",
     "text": [
      "subject: 100%|██████████| 65/65 [00:16<00:00,  3.99it/s]\n"
     ]
    },
    {
     "name": "stdout",
     "output_type": "stream",
     "text": [
      "===========evaluating subject K356============\n"
     ]
    },
    {
     "name": "stderr",
     "output_type": "stream",
     "text": [
      "subject: 100%|██████████| 65/65 [00:17<00:00,  3.82it/s]\n"
     ]
    },
    {
     "name": "stdout",
     "output_type": "stream",
     "text": [
      "===========evaluating subject K357============\n"
     ]
    },
    {
     "name": "stderr",
     "output_type": "stream",
     "text": [
      "subject: 100%|██████████| 65/65 [00:16<00:00,  3.94it/s]\n"
     ]
    },
    {
     "name": "stdout",
     "output_type": "stream",
     "text": [
      "===========evaluating subject K358============\n"
     ]
    },
    {
     "name": "stderr",
     "output_type": "stream",
     "text": [
      "subject: 100%|██████████| 65/65 [00:16<00:00,  3.85it/s]\n"
     ]
    },
    {
     "name": "stdout",
     "output_type": "stream",
     "text": [
      "===========evaluating subject K359============\n"
     ]
    },
    {
     "name": "stderr",
     "output_type": "stream",
     "text": [
      "subject: 100%|██████████| 65/65 [00:17<00:00,  3.67it/s]\n"
     ]
    },
    {
     "name": "stdout",
     "output_type": "stream",
     "text": [
      "===========evaluating subject K360============\n"
     ]
    },
    {
     "name": "stderr",
     "output_type": "stream",
     "text": [
      "subject: 100%|██████████| 65/65 [00:16<00:00,  3.87it/s]\n"
     ]
    },
    {
     "name": "stdout",
     "output_type": "stream",
     "text": [
      "===========evaluating subject K361============\n"
     ]
    },
    {
     "name": "stderr",
     "output_type": "stream",
     "text": [
      "subject: 100%|██████████| 65/65 [00:16<00:00,  3.84it/s]\n"
     ]
    },
    {
     "name": "stdout",
     "output_type": "stream",
     "text": [
      "===========evaluating subject K362============\n"
     ]
    },
    {
     "name": "stderr",
     "output_type": "stream",
     "text": [
      "subject: 100%|██████████| 65/65 [00:17<00:00,  3.81it/s]\n"
     ]
    },
    {
     "name": "stdout",
     "output_type": "stream",
     "text": [
      "===========evaluating subject K363============\n"
     ]
    },
    {
     "name": "stderr",
     "output_type": "stream",
     "text": [
      "subject: 100%|██████████| 65/65 [00:16<00:00,  3.96it/s]\n"
     ]
    },
    {
     "name": "stdout",
     "output_type": "stream",
     "text": [
      "===========evaluating subject K364============\n"
     ]
    },
    {
     "name": "stderr",
     "output_type": "stream",
     "text": [
      "subject: 100%|██████████| 65/65 [00:16<00:00,  3.98it/s]\n"
     ]
    },
    {
     "name": "stdout",
     "output_type": "stream",
     "text": [
      "===========evaluating subject K365============\n"
     ]
    },
    {
     "name": "stderr",
     "output_type": "stream",
     "text": [
      "subject: 100%|██████████| 65/65 [00:16<00:00,  3.87it/s]\n"
     ]
    },
    {
     "name": "stdout",
     "output_type": "stream",
     "text": [
      "===========evaluating subject K366============\n"
     ]
    },
    {
     "name": "stderr",
     "output_type": "stream",
     "text": [
      "subject: 100%|██████████| 65/65 [00:17<00:00,  3.75it/s]\n"
     ]
    },
    {
     "name": "stdout",
     "output_type": "stream",
     "text": [
      "===========evaluating subject K367============\n"
     ]
    },
    {
     "name": "stderr",
     "output_type": "stream",
     "text": [
      "subject: 100%|██████████| 65/65 [00:16<00:00,  3.84it/s]\n"
     ]
    },
    {
     "name": "stdout",
     "output_type": "stream",
     "text": [
      "===========evaluating subject K368============\n"
     ]
    },
    {
     "name": "stderr",
     "output_type": "stream",
     "text": [
      "subject: 100%|██████████| 65/65 [00:17<00:00,  3.82it/s]\n"
     ]
    },
    {
     "name": "stdout",
     "output_type": "stream",
     "text": [
      "===========evaluating subject K369============\n"
     ]
    },
    {
     "name": "stderr",
     "output_type": "stream",
     "text": [
      "subject: 100%|██████████| 65/65 [00:16<00:00,  3.93it/s]\n"
     ]
    },
    {
     "name": "stdout",
     "output_type": "stream",
     "text": [
      "===========evaluating subject K370============\n"
     ]
    },
    {
     "name": "stderr",
     "output_type": "stream",
     "text": [
      "subject: 100%|██████████| 65/65 [00:16<00:00,  3.98it/s]\n"
     ]
    },
    {
     "name": "stdout",
     "output_type": "stream",
     "text": [
      "===========evaluating subject K371============\n"
     ]
    },
    {
     "name": "stderr",
     "output_type": "stream",
     "text": [
      "subject: 100%|██████████| 65/65 [00:17<00:00,  3.75it/s]\n"
     ]
    },
    {
     "name": "stdout",
     "output_type": "stream",
     "text": [
      "===========evaluating subject K372============\n"
     ]
    },
    {
     "name": "stderr",
     "output_type": "stream",
     "text": [
      "subject: 100%|██████████| 65/65 [00:16<00:00,  3.95it/s]\n"
     ]
    },
    {
     "name": "stdout",
     "output_type": "stream",
     "text": [
      "===========evaluating subject K373============\n"
     ]
    },
    {
     "name": "stderr",
     "output_type": "stream",
     "text": [
      "subject: 100%|██████████| 65/65 [00:17<00:00,  3.80it/s]\n"
     ]
    },
    {
     "name": "stdout",
     "output_type": "stream",
     "text": [
      "===========evaluating subject K374============\n"
     ]
    },
    {
     "name": "stderr",
     "output_type": "stream",
     "text": [
      "subject: 100%|██████████| 65/65 [00:17<00:00,  3.71it/s]\n"
     ]
    },
    {
     "name": "stdout",
     "output_type": "stream",
     "text": [
      "===========evaluating subject K375============\n"
     ]
    },
    {
     "name": "stderr",
     "output_type": "stream",
     "text": [
      "subject: 100%|██████████| 65/65 [00:16<00:00,  3.85it/s]\n"
     ]
    },
    {
     "name": "stdout",
     "output_type": "stream",
     "text": [
      "===========evaluating subject ALS01_t1============\n"
     ]
    },
    {
     "name": "stderr",
     "output_type": "stream",
     "text": [
      "subject: 100%|██████████| 65/65 [00:19<00:00,  3.31it/s]\n"
     ]
    },
    {
     "name": "stdout",
     "output_type": "stream",
     "text": [
      "===========evaluating subject ALS01_t2============\n"
     ]
    },
    {
     "name": "stderr",
     "output_type": "stream",
     "text": [
      "subject: 100%|██████████| 65/65 [00:19<00:00,  3.27it/s]\n"
     ]
    },
    {
     "name": "stdout",
     "output_type": "stream",
     "text": [
      "===========evaluating subject ALS02_t1============\n"
     ]
    },
    {
     "name": "stderr",
     "output_type": "stream",
     "text": [
      "subject: 100%|██████████| 65/65 [00:19<00:00,  3.41it/s]\n"
     ]
    },
    {
     "name": "stdout",
     "output_type": "stream",
     "text": [
      "===========evaluating subject ALS02_t2============\n"
     ]
    },
    {
     "name": "stderr",
     "output_type": "stream",
     "text": [
      "subject: 100%|██████████| 65/65 [00:19<00:00,  3.40it/s]"
     ]
    },
    {
     "name": "stdout",
     "output_type": "stream",
     "text": [
      "CPU times: user 2min 9s, sys: 27.2 s, total: 2min 36s\n",
      "Wall time: 18min 29s\n"
     ]
    },
    {
     "name": "stderr",
     "output_type": "stream",
     "text": [
      "\n"
     ]
    }
   ],
   "source": [
    "%%time\n",
    "accuracies = np.zeros((n_subjects, n_subjects), dtype=np.float32)\n",
    "f1scores = np.zeros((n_subjects, n_subjects), dtype=np.float32)\n",
    "\n",
    "# for tgt_i, tgt_subject in tqdm(enumerate(evaluate_subjects), desc=\"subject\", total=n_subjects):\n",
    "for tgt_i, tgt_subject in enumerate(evaluate_subjects):\n",
    "    print(f\"===========evaluating subject {tgt_subject}============\")\n",
    "    Cvalid, Yvalid = data[tgt_subject]\n",
    "    \n",
    "    for src_i, src_subject in tqdm(enumerate(evaluate_subjects), desc=\"subject\", total=n_subjects):\n",
    "        # clf = FgMDM(metric=dict(mean=\"riemann\", distance=\"riemann\"), n_jobs=-1)\n",
    "        clf = MDM(metric=dict(mean=\"riemann\", distance=\"riemann\"), n_jobs=-1)\n",
    "        \n",
    "        try:\n",
    "            Ctrain, Ytrain = data[src_subject]\n",
    "            clf.fit(X=Ctrain, y=Ytrain)\n",
    "        \n",
    "            Ypred = clf.predict(Cvalid)\n",
    "\n",
    "            acc = metrics.balanced_accuracy_score(y_true=Yvalid, y_pred=Ypred)\n",
    "            f1 = metrics.f1_score(y_true=Yvalid, y_pred=Ypred, average=\"weighted\")\n",
    "            \n",
    "        except Exception as e:\n",
    "            print(f\"tgt_subject: {tgt_subject} - src_subject: {src_subject}: failed: {e}\")\n",
    "            \n",
    "            acc = 0\n",
    "            f1 = 0\n",
    "\n",
    "        accuracies[src_i, tgt_i] = acc\n",
    "        f1scores[src_i, tgt_i] = f1\n",
    "        \n",
    "#         break\n",
    "        \n",
    "#     break"
   ]
  },
  {
   "cell_type": "code",
   "execution_count": 107,
   "id": "3420ef79-f120-4433-8bff-d35d5af9f6e8",
   "metadata": {},
   "outputs": [
    {
     "data": {
      "text/plain": [
       "<AxesSubplot:>"
      ]
     },
     "execution_count": 107,
     "metadata": {},
     "output_type": "execute_result"
    },
    {
     "data": {
      "image/png": "[encoded data removed]",
      "text/plain": [
       "<Figure size 432x288 with 2 Axes>"
      ]
     },
     "metadata": {
      "needs_background": "light"
     },
     "output_type": "display_data"
    }
   ],
   "source": [
    "sb.heatmap(accuracies)"
   ]
  },
  {
   "cell_type": "code",
   "execution_count": 108,
   "id": "c8d8a19d-8316-4af0-9b6d-aad232e11b8a",
   "metadata": {},
   "outputs": [
    {
     "data": {
      "text/plain": [
       "<AxesSubplot:>"
      ]
     },
     "execution_count": 108,
     "metadata": {},
     "output_type": "execute_result"
    },
    {
     "data": {
      "image/png": "[encoded data removed]",
      "text/plain": [
       "<Figure size 432x288 with 2 Axes>"
      ]
     },
     "metadata": {
      "needs_background": "light"
     },
     "output_type": "display_data"
    }
   ],
   "source": [
    "sb.heatmap(f1scores)"
   ]
  },
  {
   "cell_type": "code",
   "execution_count": 109,
   "id": "288e52a0-9f54-477f-8f7c-b0be7e51da04",
   "metadata": {},
   "outputs": [
    {
     "name": "stderr",
     "output_type": "stream",
     "text": [
      "/home/administrator/.local/lib/python3.8/site-packages/seaborn/distributions.py:2619: FutureWarning: `distplot` is a deprecated function and will be removed in a future version. Please adapt your code to use either `displot` (a figure-level function with similar flexibility) or `kdeplot` (an axes-level function for kernel density plots).\n",
      "  warnings.warn(msg, FutureWarning)\n",
      "/home/administrator/.local/lib/python3.8/site-packages/seaborn/distributions.py:2619: FutureWarning: `distplot` is a deprecated function and will be removed in a future version. Please adapt your code to use either `displot` (a figure-level function with similar flexibility) or `kdeplot` (an axes-level function for kernel density plots).\n",
      "  warnings.warn(msg, FutureWarning)\n"
     ]
    },
    {
     "data": {
      "text/plain": [
       "<AxesSubplot:ylabel='Density'>"
      ]
     },
     "execution_count": 109,
     "metadata": {},
     "output_type": "execute_result"
    },
    {
     "data": {
      "image/png": "[encoded data removed]",
      "text/plain": [
       "<Figure size 432x288 with 1 Axes>"
      ]
     },
     "metadata": {
      "needs_background": "light"
     },
     "output_type": "display_data"
    }
   ],
   "source": [
    "sb.distplot(accuracies, hist=False)\n",
    "sb.distplot(f1scores, hist=False)"
   ]
  },
  {
   "cell_type": "code",
   "execution_count": 24,
   "id": "b93c1ade-cd5c-4982-a1cd-b6ff6c2c76a2",
   "metadata": {},
   "outputs": [],
   "source": [
    "subject_id = {sub: i for i, sub in enumerate(evaluate_subjects)}"
   ]
  },
  {
   "cell_type": "code",
   "execution_count": 110,
   "id": "01d325e4-1e8a-425d-b846-353028aa6033",
   "metadata": {},
   "outputs": [
    {
     "name": "stdout",
     "output_type": "stream",
     "text": [
      "['K309', 'K314_t1', 'K366', 'K371', 'K354', 'K375', 'K320', 'K358', 'K343', 'K363', 'K322', 'K350', 'K331', 'K315', 'K356', 'K364', 'K368', 'K351', 'K369', 'K365', 'K323', 'K335', 'K340', 'K357', 'K327', 'K328', 'K310', 'K374', 'K299', 'K355', 'K321', 'K367', 'K326', 'K300', 'K370', 'K314_t2', 'K325', 'K352', 'ALS01_t1', 'K353', 'K313', 'K312', 'K342', 'K372', 'K337', 'K311', 'ALS02_t1', 'K316', 'K373', 'K333', 'K359', 'K338', 'K344', 'K319', 'K336', 'ALS01_t2', 'K362', 'ALS02_t2', 'K361', 'K332', 'K329', 'K339', 'K334', 'K330', 'K360']\n"
     ]
    }
   ],
   "source": [
    "print([evaluate_subjects[i] for i in np.argsort(accuracies[subject_id[\"K309\"]])[::-1]])"
   ]
  },
  {
   "cell_type": "code",
   "execution_count": 111,
   "id": "94e357fa-61f5-4152-accf-47b978a7ae7d",
   "metadata": {},
   "outputs": [
    {
     "name": "stdout",
     "output_type": "stream",
     "text": [
      "K315 K312\n",
      "K315 K320\n",
      "K323 K344\n",
      "K335 K309\n",
      "K338 K323\n"
     ]
    }
   ],
   "source": [
    "for i, j in list(zip(*np.where(accuracies > 0.4))):\n",
    "    if i == j:\n",
    "        continue\n",
    "    print(evaluate_subjects[i], evaluate_subjects[j])"
   ]
  },
  {
   "cell_type": "code",
   "execution_count": 112,
   "id": "c088d167-5bd1-4fe5-8896-6bc427911f5e",
   "metadata": {},
   "outputs": [
    {
     "name": "stdout",
     "output_type": "stream",
     "text": [
      "K315 K312\n",
      "0.42449479170448495\n",
      "0.35917768013668705\n",
      "[[ 0  2  4 29  1  2  2]\n",
      " [ 0  0  2 27  5  0  2]\n",
      " [ 0  0  1 21  7  0  0]\n",
      " [ 0  0  7 33  1  0  0]\n",
      " [ 0  0  0  0 26  5  0]\n",
      " [ 0  0  0  0  6 16 16]\n",
      " [ 0  0  0  0  3  3 41]]\n",
      "              precision    recall  f1-score   support\n",
      "\n",
      "           0       0.00      0.00      0.00        40\n",
      "           1       0.00      0.00      0.00        36\n",
      "           2       0.07      0.03      0.05        29\n",
      "           3       0.30      0.80      0.44        41\n",
      "           4       0.53      0.84      0.65        31\n",
      "           5       0.62      0.42      0.50        38\n",
      "           6       0.67      0.87      0.76        47\n",
      "\n",
      "    accuracy                           0.45       262\n",
      "   macro avg       0.31      0.42      0.34       262\n",
      "weighted avg       0.33      0.45      0.36       262\n",
      "\n"
     ]
    },
    {
     "name": "stderr",
     "output_type": "stream",
     "text": [
      "/home/administrator/.local/lib/python3.8/site-packages/sklearn/metrics/_classification.py:1318: UndefinedMetricWarning: Precision and F-score are ill-defined and being set to 0.0 in labels with no predicted samples. Use `zero_division` parameter to control this behavior.\n",
      "  _warn_prf(average, modifier, msg_start, len(result))\n",
      "/home/administrator/.local/lib/python3.8/site-packages/sklearn/metrics/_classification.py:1318: UndefinedMetricWarning: Precision and F-score are ill-defined and being set to 0.0 in labels with no predicted samples. Use `zero_division` parameter to control this behavior.\n",
      "  _warn_prf(average, modifier, msg_start, len(result))\n",
      "/home/administrator/.local/lib/python3.8/site-packages/sklearn/metrics/_classification.py:1318: UndefinedMetricWarning: Precision and F-score are ill-defined and being set to 0.0 in labels with no predicted samples. Use `zero_division` parameter to control this behavior.\n",
      "  _warn_prf(average, modifier, msg_start, len(result))\n"
     ]
    }
   ],
   "source": [
    "src_subject = \"K315\"\n",
    "tgt_subject = \"K312\"\n",
    "\n",
    "print(src_subject, tgt_subject)\n",
    "\n",
    "clf = MDM(metric=dict(mean=\"riemann\", distance=\"riemann\"), n_jobs=-1)\n",
    "        \n",
    "try:\n",
    "    Ctrain, Ytrain = data[src_subject]\n",
    "    clf.fit(X=Ctrain, y=Ytrain)\n",
    "        \n",
    "    Cvalid, Yvalid = data[tgt_subject]\n",
    "    Ypred = clf.predict(Cvalid)\n",
    "\n",
    "    acc = metrics.balanced_accuracy_score(y_true=Yvalid, y_pred=Ypred)\n",
    "    f1 = metrics.f1_score(y_true=Yvalid, y_pred=Ypred, average=\"weighted\")\n",
    "    \n",
    "    print(acc)\n",
    "    print(f1)\n",
    "    print(metrics.confusion_matrix(y_true=Yvalid, y_pred=Ypred))\n",
    "    print(metrics.classification_report(y_true=Yvalid, y_pred=Ypred))\n",
    "    \n",
    "except Exception as e:\n",
    "    print(e)"
   ]
  },
  {
   "cell_type": "code",
   "execution_count": 87,
   "id": "98d7cbf9-81a1-4ae5-b8bf-308633f94cb3",
   "metadata": {},
   "outputs": [
    {
     "data": {
      "text/plain": [
       "{'rest': 0,\n",
       " 'gật đầu': 1,\n",
       " 'há miệng': 2,\n",
       " 'lắc đầu': 3,\n",
       " 'nâng chân phải': 4,\n",
       " 'nâng chân trái': 5,\n",
       " 'nâng tay phải': 6,\n",
       " 'nâng tay trái': 7}"
      ]
     },
     "execution_count": 87,
     "metadata": {},
     "output_type": "execute_result"
    }
   ],
   "source": [
    "ds.datasets[0].windows.event_id"
   ]
  },
  {
   "cell_type": "code",
   "execution_count": 102,
   "id": "662dc0f9-241e-4bec-8060-c82e2bda8f79",
   "metadata": {},
   "outputs": [
    {
     "data": {
      "image/png": "[encoded data removed]",
      "text/plain": [
       "<Figure size 360x1512 with 14 Axes>"
      ]
     },
     "metadata": {
      "needs_background": "light"
     },
     "output_type": "display_data"
    }
   ],
   "source": [
    "fig, axes = plt.subplots(nrows=7, ncols=1, figsize=(5, 21))\n",
    "\n",
    "for i, c in enumerate(clf.covmeans_):\n",
    "    sb.heatmap(c, ax=axes[i])"
   ]
  },
  {
   "cell_type": "code",
   "execution_count": 54,
   "id": "10e22139-a842-4498-a4fc-9eff44a8b22d",
   "metadata": {},
   "outputs": [
    {
     "data": {
      "text/plain": [
       "<AxesSubplot:>"
      ]
     },
     "execution_count": 61,
     "metadata": {},
     "output_type": "execute_result"
    },
    {
     "data": {
      "image/png": "[encoded data removed]",
      "text/plain": [
       "<Figure size 432x288 with 2 Axes>"
      ]
     },
     "metadata": {
      "needs_background": "light"
     },
     "output_type": "display_data"
    }
   ],
   "source": [
    "c, y = data[\"K338\"]\n",
    "\n",
    "sb.heatmap(c[np.where(y == 3)[0]].mean(axis=0))"
   ]
  },
  {
   "cell_type": "code",
   "execution_count": 55,
   "id": "7fa08c6d-44be-4e48-ac47-0e04ce960cfa",
   "metadata": {},
   "outputs": [
    {
     "data": {
      "text/plain": [
       "<AxesSubplot:>"
      ]
     },
     "execution_count": 62,
     "metadata": {},
     "output_type": "execute_result"
    },
    {
     "data": {
      "image/png": "[encoded data removed]",
      "text/plain": [
       "<Figure size 432x288 with 2 Axes>"
      ]
     },
     "metadata": {
      "needs_background": "light"
     },
     "output_type": "display_data"
    }
   ],
   "source": [
    "c, y = data[\"K323\"]\n",
    "\n",
    "sb.heatmap(c[np.where(y == 3)[0]].mean(axis=0))"
   ]
  },
  {
   "cell_type": "code",
   "execution_count": 148,
   "id": "2e7e69c4-f7ad-4dbe-94d6-5029eda1d4f7",
   "metadata": {},
   "outputs": [
    {
     "data": {
      "text/plain": [
       "(11, 32, 256)"
      ]
     },
     "execution_count": 148,
     "metadata": {},
     "output_type": "execute_result"
    }
   ],
   "source": [
    "x = ds.datasets[1].windows.get_data()\n",
    "x.shape"
   ]
  },
  {
   "cell_type": "code",
   "execution_count": 161,
   "id": "ccc19658-8530-4960-a3c7-3c8dac6f8d9b",
   "metadata": {},
   "outputs": [],
   "source": [
    "x0 = x + 0.1 * np.random.normal(0.0, 5.0 * np.std(x, axis=-1, keepdims=True), x.shape)\n",
    "x1 = x + 0.1 * np.random.normal(0.0, 2.0 * np.std(x, axis=-1, keepdims=True), x.shape)"
   ]
  },
  {
   "cell_type": "code",
   "execution_count": 162,
   "id": "fe500a19-fb49-43db-ae00-ea87730dad2b",
   "metadata": {},
   "outputs": [
    {
     "data": {
      "text/plain": [
       "[<matplotlib.lines.Line2D at 0x7f4f9c6713a0>]"
      ]
     },
     "execution_count": 162,
     "metadata": {},
     "output_type": "execute_result"
    },
    {
     "data": {
      "image/png": "[encoded data removed]",
      "text/plain": [
       "<Figure size 432x288 with 1 Axes>"
      ]
     },
     "metadata": {
      "needs_background": "light"
     },
     "output_type": "display_data"
    }
   ],
   "source": [
    "plt.plot(range(256), x[0, 0])\n",
    "# plt.plot(range(256), x0[0, 0])\n",
    "plt.plot(range(256), x1[0, 0])"
   ]
  },
  {
   "cell_type": "code",
   "execution_count": 164,
   "id": "ed3190e0-06c4-46b2-a1f6-522b0815012f",
   "metadata": {},
   "outputs": [
    {
     "data": {
      "text/plain": [
       "array([[0.03588505, 0.03847936, 0.01915788, 0.02821043, 0.02477812,\n",
       "        0.02480721, 0.02237374, 0.02058934, 0.02016273, 0.02266298,\n",
       "        0.023621  , 0.02199278, 0.02208074, 0.02023764, 0.0191431 ,\n",
       "        0.02381728, 0.02188174, 0.01802794, 0.01886081, 0.02094685,\n",
       "        0.02209502, 0.02274201, 0.01867071, 0.01720212, 0.02264647,\n",
       "        0.02127218, 0.01805105, 0.02127395, 0.02051397, 0.01998423,\n",
       "        0.01987913, 0.01982909],\n",
       "       [0.03507651, 0.03666176, 0.02162115, 0.02775878, 0.02552533,\n",
       "        0.02201345, 0.02155019, 0.02057721, 0.01961979, 0.02298799,\n",
       "        0.02379246, 0.01924278, 0.02059128, 0.01997858, 0.02106895,\n",
       "        0.0222974 , 0.02105313, 0.01944157, 0.01950514, 0.01862659,\n",
       "        0.02156253, 0.0224264 , 0.01649397, 0.01650987, 0.0229308 ,\n",
       "        0.02260786, 0.0177895 , 0.01935229, 0.01832499, 0.01819071,\n",
       "        0.0163228 , 0.02003428],\n",
       "       [0.03682146, 0.04006802, 0.02334291, 0.02728299, 0.02820765,\n",
       "        0.0248949 , 0.02685509, 0.02119792, 0.02021854, 0.02351674,\n",
       "        0.0266498 , 0.02352502, 0.02189304, 0.01876391, 0.01950013,\n",
       "        0.02350874, 0.0218328 , 0.01946166, 0.01915584, 0.01852453,\n",
       "        0.02183747, 0.02334474, 0.01846096, 0.01818219, 0.02366095,\n",
       "        0.02254091, 0.01849356, 0.01900895, 0.02096169, 0.01872302,\n",
       "        0.01933559, 0.02099372],\n",
       "       [0.03322512, 0.04226565, 0.02098922, 0.02819578, 0.03459047,\n",
       "        0.02935821, 0.02760055, 0.02061431, 0.02028619, 0.02592495,\n",
       "        0.03127867, 0.02353799, 0.0252078 , 0.02016999, 0.02008051,\n",
       "        0.02576341, 0.02312031, 0.02179387, 0.01969083, 0.02105535,\n",
       "        0.02197001, 0.02243704, 0.01798729, 0.0190476 , 0.02430369,\n",
       "        0.02211527, 0.01608969, 0.01874479, 0.02053591, 0.01953729,\n",
       "        0.02005826, 0.0185296 ],\n",
       "       [0.02718175, 0.0306144 , 0.02390241, 0.0238823 , 0.03377352,\n",
       "        0.02828147, 0.03080992, 0.01875935, 0.0201086 , 0.02692   ,\n",
       "        0.0330428 , 0.02557537, 0.02532711, 0.01961859, 0.01918736,\n",
       "        0.02717343, 0.02440684, 0.0238929 , 0.01966187, 0.01864964,\n",
       "        0.02231025, 0.02328786, 0.0185564 , 0.01868715, 0.02138437,\n",
       "        0.02264161, 0.01903134, 0.0199473 , 0.02171355, 0.02174507,\n",
       "        0.02064885, 0.02096983],\n",
       "       [0.03688394, 0.04498876, 0.0230662 , 0.02864185, 0.03243223,\n",
       "        0.03153957, 0.03246371, 0.01881438, 0.02033235, 0.02673976,\n",
       "        0.02983506, 0.02683323, 0.02667536, 0.01937533, 0.01745992,\n",
       "        0.02572549, 0.0238657 , 0.02533017, 0.01787967, 0.01818202,\n",
       "        0.02228308, 0.02333642, 0.01758774, 0.01702413, 0.02397388,\n",
       "        0.02030596, 0.01790624, 0.02076958, 0.02102243, 0.02058466,\n",
       "        0.0221916 , 0.02069135],\n",
       "       [0.03566133, 0.04448853, 0.02490799, 0.03092904, 0.03255363,\n",
       "        0.03118247, 0.03020409, 0.01869113, 0.01966174, 0.02691835,\n",
       "        0.03055193, 0.02628485, 0.02406726, 0.01761221, 0.02019132,\n",
       "        0.02772356, 0.02469696, 0.02354269, 0.01757972, 0.0213927 ,\n",
       "        0.02389679, 0.02587516, 0.01655818, 0.01789797, 0.02340162,\n",
       "        0.02148433, 0.01843836, 0.01965399, 0.02017091, 0.01990792,\n",
       "        0.02199843, 0.02223896],\n",
       "       [0.03952087, 0.04075085, 0.02447734, 0.03184571, 0.03395336,\n",
       "        0.03063889, 0.03092591, 0.01769998, 0.02285738, 0.02625887,\n",
       "        0.02933732, 0.02305107, 0.02230548, 0.02092709, 0.0199934 ,\n",
       "        0.02722201, 0.02500382, 0.02320213, 0.01671054, 0.02248827,\n",
       "        0.02275012, 0.02443177, 0.01665034, 0.01858425, 0.02658046,\n",
       "        0.02282811, 0.02054587, 0.01947046, 0.0195972 , 0.0205676 ,\n",
       "        0.02137156, 0.02374575],\n",
       "       [0.04166038, 0.04413639, 0.02161528, 0.02811877, 0.02933915,\n",
       "        0.03272242, 0.02712386, 0.01798057, 0.01908521, 0.02511176,\n",
       "        0.0263152 , 0.02450043, 0.02037531, 0.01994855, 0.01972027,\n",
       "        0.02570821, 0.02322244, 0.0222428 , 0.01751919, 0.02147631,\n",
       "        0.02319916, 0.02322784, 0.01930778, 0.0180091 , 0.02509531,\n",
       "        0.02295833, 0.02297491, 0.0201024 , 0.01969159, 0.01976192,\n",
       "        0.02227573, 0.02047469],\n",
       "       [0.0347463 , 0.03510904, 0.02252329, 0.02617463, 0.02808621,\n",
       "        0.02667121, 0.02406179, 0.01847939, 0.01966493, 0.02488795,\n",
       "        0.02757739, 0.02144115, 0.02187585, 0.0208623 , 0.01959568,\n",
       "        0.02630223, 0.02477851, 0.02343729, 0.01890967, 0.02193756,\n",
       "        0.02351761, 0.02329287, 0.01664338, 0.01811511, 0.02660992,\n",
       "        0.02334261, 0.02195814, 0.0193473 , 0.01753742, 0.01815509,\n",
       "        0.02295454, 0.02277939],\n",
       "       [0.03641629, 0.03595477, 0.02121797, 0.02557935, 0.02952727,\n",
       "        0.02859878, 0.02548472, 0.018774  , 0.02049676, 0.02533714,\n",
       "        0.02792105, 0.02540625, 0.02204752, 0.02001417, 0.01982131,\n",
       "        0.02560608, 0.02401512, 0.02290868, 0.01734737, 0.01960586,\n",
       "        0.02288158, 0.02615571, 0.01783385, 0.01719545, 0.02562287,\n",
       "        0.0213421 , 0.02252799, 0.01879295, 0.0197236 , 0.02057629,\n",
       "        0.02337155, 0.02209989]])"
      ]
     },
     "execution_count": 164,
     "metadata": {},
     "output_type": "execute_result"
    }
   ],
   "source": [
    "np.random.normal(0.0, 5.0 * np.std(x, axis=-1, keepdims=True), x.shape).std(axis=-1)"
   ]
  },
  {
   "cell_type": "code",
   "execution_count": null,
   "id": "bff24595-0036-4930-8cdc-dd2ed5a62d24",
   "metadata": {},
   "outputs": [],
   "source": []
  }
 ],
 "metadata": {
  "kernelspec": {
   "display_name": "Python 3",
   "language": "python",
   "name": "python3"
  },
  "language_info": {
   "codemirror_mode": {
    "name": "ipython",
    "version": 3
   },
   "file_extension": ".py",
   "mimetype": "text/x-python",
   "name": "python",
   "nbconvert_exporter": "python",
   "pygments_lexer": "ipython3",
   "version": "3.8.10"
  }
 },
 "nbformat": 4,
 "nbformat_minor": 5
}
