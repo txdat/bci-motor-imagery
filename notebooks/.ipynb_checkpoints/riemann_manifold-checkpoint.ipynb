{
 "cells": [
  {
   "cell_type": "code",
   "execution_count": 1,
   "id": "2a013c43-8606-4af4-8d39-8ee443361b32",
   "metadata": {},
   "outputs": [],
   "source": [
    "import pickle as pkl\n",
    "import numpy as np\n",
    "import scipy.linalg as linalg\n",
    "import pandas as pd\n",
    "import matplotlib.pyplot as plt\n",
    "import seaborn as sb\n",
    "import mne\n",
    "from sklearn.metrics import balanced_accuracy_score, f1_score, confusion_matrix, classification_report\n",
    "from sklearn.preprocessing import LabelEncoder\n",
    "from sklearn.pipeline import make_pipeline\n",
    "from sklearn.svm import LinearSVC, SVC\n",
    "from pyriemann.estimation import Covariances\n",
    "from pyriemann.spatialfilters import CSP\n",
    "from pyriemann.tangentspace import TangentSpace\n",
    "from pyriemann.classification import TSclassifier, MDM, FgMDM, KNearestNeighbor"
   ]
  },
  {
   "cell_type": "code",
   "execution_count": 2,
   "id": "42ab3378-05b7-4341-9c8b-5bc8f45b920a",
   "metadata": {},
   "outputs": [
    {
     "name": "stdout",
     "output_type": "stream",
     "text": [
      "(18896, 28, 385)\n"
     ]
    },
    {
     "data": {
      "text/html": [
       "<div>\n",
       "<style scoped>\n",
       "    .dataframe tbody tr th:only-of-type {\n",
       "        vertical-align: middle;\n",
       "    }\n",
       "\n",
       "    .dataframe tbody tr th {\n",
       "        vertical-align: top;\n",
       "    }\n",
       "\n",
       "    .dataframe thead th {\n",
       "        text-align: right;\n",
       "    }\n",
       "</style>\n",
       "<table border=\"1\" class=\"dataframe\">\n",
       "  <thead>\n",
       "    <tr style=\"text-align: right;\">\n",
       "      <th></th>\n",
       "      <th>subject</th>\n",
       "      <th>session</th>\n",
       "      <th>run</th>\n",
       "      <th>label</th>\n",
       "    </tr>\n",
       "  </thead>\n",
       "  <tbody>\n",
       "    <tr>\n",
       "      <th>0</th>\n",
       "      <td>1</td>\n",
       "      <td>session_0</td>\n",
       "      <td>run_4</td>\n",
       "      <td>right_hand</td>\n",
       "    </tr>\n",
       "    <tr>\n",
       "      <th>1</th>\n",
       "      <td>1</td>\n",
       "      <td>session_0</td>\n",
       "      <td>run_4</td>\n",
       "      <td>left_hand</td>\n",
       "    </tr>\n",
       "    <tr>\n",
       "      <th>2</th>\n",
       "      <td>1</td>\n",
       "      <td>session_0</td>\n",
       "      <td>run_4</td>\n",
       "      <td>left_hand</td>\n",
       "    </tr>\n",
       "    <tr>\n",
       "      <th>3</th>\n",
       "      <td>1</td>\n",
       "      <td>session_0</td>\n",
       "      <td>run_4</td>\n",
       "      <td>right_hand</td>\n",
       "    </tr>\n",
       "    <tr>\n",
       "      <th>4</th>\n",
       "      <td>1</td>\n",
       "      <td>session_0</td>\n",
       "      <td>run_4</td>\n",
       "      <td>right_hand</td>\n",
       "    </tr>\n",
       "    <tr>\n",
       "      <th>...</th>\n",
       "      <td>...</td>\n",
       "      <td>...</td>\n",
       "      <td>...</td>\n",
       "      <td>...</td>\n",
       "    </tr>\n",
       "    <tr>\n",
       "      <th>18891</th>\n",
       "      <td>109</td>\n",
       "      <td>session_0</td>\n",
       "      <td>run_13</td>\n",
       "      <td>hands</td>\n",
       "    </tr>\n",
       "    <tr>\n",
       "      <th>18892</th>\n",
       "      <td>109</td>\n",
       "      <td>session_0</td>\n",
       "      <td>run_13</td>\n",
       "      <td>feet</td>\n",
       "    </tr>\n",
       "    <tr>\n",
       "      <th>18893</th>\n",
       "      <td>109</td>\n",
       "      <td>session_0</td>\n",
       "      <td>run_13</td>\n",
       "      <td>hands</td>\n",
       "    </tr>\n",
       "    <tr>\n",
       "      <th>18894</th>\n",
       "      <td>109</td>\n",
       "      <td>session_0</td>\n",
       "      <td>run_13</td>\n",
       "      <td>feet</td>\n",
       "    </tr>\n",
       "    <tr>\n",
       "      <th>18895</th>\n",
       "      <td>109</td>\n",
       "      <td>session_0</td>\n",
       "      <td>run_13</td>\n",
       "      <td>hands</td>\n",
       "    </tr>\n",
       "  </tbody>\n",
       "</table>\n",
       "<p>18896 rows × 4 columns</p>\n",
       "</div>"
      ],
      "text/plain": [
       "       subject    session     run       label\n",
       "0            1  session_0   run_4  right_hand\n",
       "1            1  session_0   run_4   left_hand\n",
       "2            1  session_0   run_4   left_hand\n",
       "3            1  session_0   run_4  right_hand\n",
       "4            1  session_0   run_4  right_hand\n",
       "...        ...        ...     ...         ...\n",
       "18891      109  session_0  run_13       hands\n",
       "18892      109  session_0  run_13        feet\n",
       "18893      109  session_0  run_13       hands\n",
       "18894      109  session_0  run_13        feet\n",
       "18895      109  session_0  run_13       hands\n",
       "\n",
       "[18896 rows x 4 columns]"
      ]
     },
     "execution_count": 2,
     "metadata": {},
     "output_type": "execute_result"
    }
   ],
   "source": [
    "X = list()\n",
    "meta = list()\n",
    "for subj_range in [\"1_40\", \"41_80\", \"81_109\"]:\n",
    "    with open(f\"../data/beetl/phy_vin_{subj_range}.pkl\", mode=\"rb\") as f:\n",
    "        _X, _labels, _meta = pkl.load(f)[\"data\"]\n",
    "        X.append(_X)\n",
    "        _meta[\"label\"] = _labels\n",
    "        meta.append(_meta)\n",
    "        \n",
    "X = np.concatenate(X, axis=0)\n",
    "meta = pd.concat(meta)\n",
    "\n",
    "meta = meta[(meta[\"label\"].isin([\"feet\", \"hands\", \"left_hand\", \"right_hand\"])) & (~meta[\"subject\"].isin([88, 92, 100, 104]))]\n",
    "X = X[meta.index]\n",
    "meta = meta.reset_index(drop=True)\n",
    "\n",
    "print(X.shape)\n",
    "meta"
   ]
  },
  {
   "cell_type": "code",
   "execution_count": 3,
   "id": "05c1397f-8681-40d7-a0c8-4e816fb7c89e",
   "metadata": {},
   "outputs": [],
   "source": [
    "le = LabelEncoder()\n",
    "meta[\"label\"] = le.fit_transform(meta[\"label\"])"
   ]
  },
  {
   "cell_type": "code",
   "execution_count": 4,
   "id": "c72cd102-0feb-4e3a-8525-952f5e74ba01",
   "metadata": {},
   "outputs": [
    {
     "data": {
      "text/plain": [
       "array(['feet', 'hands', 'left_hand', 'right_hand'], dtype=object)"
      ]
     },
     "execution_count": 4,
     "metadata": {},
     "output_type": "execute_result"
    }
   ],
   "source": [
    "le.classes_"
   ]
  },
  {
   "cell_type": "code",
   "execution_count": 5,
   "id": "c42b7e9c-c713-4f48-8702-1872bcdebc23",
   "metadata": {},
   "outputs": [],
   "source": [
    "subjects = sorted(meta[\"subject\"].unique())\n",
    "\n",
    "train_subjects = subjects[:-20]\n",
    "val_subjects = subjects[-20:]"
   ]
  },
  {
   "cell_type": "code",
   "execution_count": 6,
   "id": "10325da6-461a-49b5-8d54-18cdbc85db22",
   "metadata": {},
   "outputs": [
    {
     "name": "stdout",
     "output_type": "stream",
     "text": [
      "(15300, 28, 384) [3837 3813 3856 3794]\n",
      "(3596, 28, 384) [896 893 900 907]\n"
     ]
    }
   ],
   "source": [
    "train_meta = meta[meta[\"subject\"].isin(train_subjects)]\n",
    "Xtrain = X[train_meta.index, :, :384]\n",
    "Ytrain = np.array(train_meta[\"label\"]).astype(int)\n",
    "\n",
    "val_meta = meta[meta[\"subject\"].isin(val_subjects)]\n",
    "Xval = X[val_meta.index, :, :384]\n",
    "Yval = np.array(val_meta[\"label\"]).astype(int)\n",
    "\n",
    "print(Xtrain.shape, np.bincount(Ytrain))\n",
    "print(Xval.shape, np.bincount(Yval))"
   ]
  },
  {
   "cell_type": "code",
   "execution_count": 12,
   "id": "db9a5c50-c45f-4bbb-b5a3-423ced0662fc",
   "metadata": {},
   "outputs": [],
   "source": [
    "clf = make_pipeline(\n",
    "    Covariances(\"scm\"),\n",
    "    FgMDM(metric=dict(mean=\"logeuclid\", distance=\"riemann\"), n_jobs=-1),\n",
    "#     KNearestNeighbor(n_neighbors=5, metric=dict(mean=\"logeuclid\", distance=\"riemann\"), n_jobs=-1),\n",
    ")"
   ]
  },
  {
   "cell_type": "code",
   "execution_count": 13,
   "id": "334b1265-af42-439f-92e7-339f561523c4",
   "metadata": {},
   "outputs": [
    {
     "name": "stdout",
     "output_type": "stream",
     "text": [
      "CPU times: user 32.1 s, sys: 33.3 s, total: 1min 5s\n",
      "Wall time: 19.5 s\n"
     ]
    },
    {
     "data": {
      "text/plain": [
       "Pipeline(steps=[('covariances', Covariances()),\n",
       "                ('fgmdm',\n",
       "                 FgMDM(metric={'distance': 'riemann', 'mean': 'logeuclid'},\n",
       "                       n_jobs=-1))])"
      ]
     },
     "execution_count": 13,
     "metadata": {},
     "output_type": "execute_result"
    }
   ],
   "source": [
    "%%time\n",
    "clf.fit(Xtrain, Ytrain)"
   ]
  },
  {
   "cell_type": "code",
   "execution_count": 14,
   "id": "da35ee2c-2951-459a-bab0-4cc0ebc2e7be",
   "metadata": {},
   "outputs": [
    {
     "name": "stdout",
     "output_type": "stream",
     "text": [
      "[[360 240 147 149]\n",
      " [336 263 139 155]\n",
      " [203 135 271 291]\n",
      " [203 159 285 260]]\n",
      "\n",
      "              precision    recall  f1-score   support\n",
      "\n",
      "           0       0.33      0.40      0.36       896\n",
      "           1       0.33      0.29      0.31       893\n",
      "           2       0.32      0.30      0.31       900\n",
      "           3       0.30      0.29      0.30       907\n",
      "\n",
      "    accuracy                           0.32      3596\n",
      "   macro avg       0.32      0.32      0.32      3596\n",
      "weighted avg       0.32      0.32      0.32      3596\n",
      "\n",
      "CPU times: user 5.09 s, sys: 5.44 s, total: 10.5 s\n",
      "Wall time: 3.54 s\n"
     ]
    }
   ],
   "source": [
    "%%time\n",
    "Ypred = clf.predict(Xval)\n",
    "\n",
    "print(confusion_matrix(y_true=Yval, y_pred=Ypred))\n",
    "print()\n",
    "print(classification_report(y_true=Yval, y_pred=Ypred))"
   ]
  },
  {
   "cell_type": "code",
   "execution_count": 10,
   "id": "5cf254b7-c139-45be-b58d-a888f6f97b34",
   "metadata": {},
   "outputs": [],
   "source": [
    "_, mdm = clf.steps[1]"
   ]
  },
  {
   "cell_type": "code",
   "execution_count": 11,
   "id": "8f94c23a-1901-4753-9fa4-1d6488530182",
   "metadata": {},
   "outputs": [
    {
     "data": {
      "image/png": "[encoded data removed]",
      "text/plain": [
       "<Figure size 432x288 with 8 Axes>"
      ]
     },
     "metadata": {
      "needs_background": "light"
     },
     "output_type": "display_data"
    }
   ],
   "source": [
    "fig, axes = plt.subplots(2, 2)\n",
    "\n",
    "for i in range(4):\n",
    "    sb.heatmap(mdm.covmeans_[i], ax=axes[i // 2, i % 2])"
   ]
  },
  {
   "cell_type": "code",
   "execution_count": null,
   "id": "b427ba3b-8c7d-483c-bf97-857ac258c8a0",
   "metadata": {},
   "outputs": [],
   "source": []
  }
 ],
 "metadata": {
  "kernelspec": {
   "display_name": "Python 3 (ipykernel)",
   "language": "python",
   "name": "python3"
  },
  "language_info": {
   "codemirror_mode": {
    "name": "ipython",
    "version": 3
   },
   "file_extension": ".py",
   "mimetype": "text/x-python",
   "name": "python",
   "nbconvert_exporter": "python",
   "pygments_lexer": "ipython3",
   "version": "3.9.7"
  }
 },
 "nbformat": 4,
 "nbformat_minor": 5
}
