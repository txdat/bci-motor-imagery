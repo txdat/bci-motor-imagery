{
 "cells": [
  {
   "cell_type": "code",
   "execution_count": 42,
   "id": "f58216de-891e-45cf-8142-416fe114be34",
   "metadata": {},
   "outputs": [],
   "source": [
    "import pickle as pkl\n",
    "import logging\n",
    "import numpy as np\n",
    "from scipy import linalg\n",
    "import pandas as pd\n",
    "import mne\n",
    "import matplotlib.pyplot as plt\n",
    "import seaborn as sb\n",
    "from sklearn.preprocessing import LabelEncoder\n",
    "from sklearn.metrics import balanced_accuracy_score, f1_score, classification_report, confusion_matrix\n",
    "from sklearn.pipeline import make_pipeline\n",
    "from sklearn.svm import LinearSVC, SVC\n",
    "from pyriemann.estimation import Covariances\n",
    "from pyriemann.spatialfilters import CSP\n",
    "from pyriemann.tangentspace import TangentSpace\n",
    "from pyriemann.classification import TSclassifier, MDM, FgMDM, KNearestNeighbor\n",
    "from collections import defaultdict\n",
    "from tqdm import tqdm\n",
    "\n",
    "logging.getLogger(\"mne\").setLevel(logging.ERROR)"
   ]
  },
  {
   "cell_type": "code",
   "execution_count": 33,
   "id": "dca581df-f45b-4bb2-83bd-0bf0d5f7006d",
   "metadata": {},
   "outputs": [
    {
     "name": "stdout",
     "output_type": "stream",
     "text": [
      "['feet' 'hands' 'left_hand' 'right_hand']\n",
      "(9450, 28, 385)\n"
     ]
    },
    {
     "data": {
      "text/html": [
       "<div>\n",
       "<style scoped>\n",
       "    .dataframe tbody tr th:only-of-type {\n",
       "        vertical-align: middle;\n",
       "    }\n",
       "\n",
       "    .dataframe tbody tr th {\n",
       "        vertical-align: top;\n",
       "    }\n",
       "\n",
       "    .dataframe thead th {\n",
       "        text-align: right;\n",
       "    }\n",
       "</style>\n",
       "<table border=\"1\" class=\"dataframe\">\n",
       "  <thead>\n",
       "    <tr style=\"text-align: right;\">\n",
       "      <th></th>\n",
       "      <th>subject</th>\n",
       "      <th>session</th>\n",
       "      <th>run</th>\n",
       "      <th>label</th>\n",
       "    </tr>\n",
       "  </thead>\n",
       "  <tbody>\n",
       "    <tr>\n",
       "      <th>0</th>\n",
       "      <td>1</td>\n",
       "      <td>session_0</td>\n",
       "      <td>run_4</td>\n",
       "      <td>3</td>\n",
       "    </tr>\n",
       "    <tr>\n",
       "      <th>1</th>\n",
       "      <td>1</td>\n",
       "      <td>session_0</td>\n",
       "      <td>run_4</td>\n",
       "      <td>2</td>\n",
       "    </tr>\n",
       "    <tr>\n",
       "      <th>2</th>\n",
       "      <td>1</td>\n",
       "      <td>session_0</td>\n",
       "      <td>run_4</td>\n",
       "      <td>2</td>\n",
       "    </tr>\n",
       "    <tr>\n",
       "      <th>3</th>\n",
       "      <td>1</td>\n",
       "      <td>session_0</td>\n",
       "      <td>run_4</td>\n",
       "      <td>3</td>\n",
       "    </tr>\n",
       "    <tr>\n",
       "      <th>4</th>\n",
       "      <td>1</td>\n",
       "      <td>session_0</td>\n",
       "      <td>run_4</td>\n",
       "      <td>3</td>\n",
       "    </tr>\n",
       "    <tr>\n",
       "      <th>...</th>\n",
       "      <td>...</td>\n",
       "      <td>...</td>\n",
       "      <td>...</td>\n",
       "      <td>...</td>\n",
       "    </tr>\n",
       "    <tr>\n",
       "      <th>2245</th>\n",
       "      <td>109</td>\n",
       "      <td>session_0</td>\n",
       "      <td>run_14</td>\n",
       "      <td>0</td>\n",
       "    </tr>\n",
       "    <tr>\n",
       "      <th>2246</th>\n",
       "      <td>109</td>\n",
       "      <td>session_0</td>\n",
       "      <td>run_14</td>\n",
       "      <td>1</td>\n",
       "    </tr>\n",
       "    <tr>\n",
       "      <th>2247</th>\n",
       "      <td>109</td>\n",
       "      <td>session_0</td>\n",
       "      <td>run_14</td>\n",
       "      <td>1</td>\n",
       "    </tr>\n",
       "    <tr>\n",
       "      <th>2248</th>\n",
       "      <td>109</td>\n",
       "      <td>session_0</td>\n",
       "      <td>run_14</td>\n",
       "      <td>0</td>\n",
       "    </tr>\n",
       "    <tr>\n",
       "      <th>2249</th>\n",
       "      <td>109</td>\n",
       "      <td>session_0</td>\n",
       "      <td>run_14</td>\n",
       "      <td>0</td>\n",
       "    </tr>\n",
       "  </tbody>\n",
       "</table>\n",
       "<p>9450 rows × 4 columns</p>\n",
       "</div>"
      ],
      "text/plain": [
       "      subject    session     run  label\n",
       "0           1  session_0   run_4      3\n",
       "1           1  session_0   run_4      2\n",
       "2           1  session_0   run_4      2\n",
       "3           1  session_0   run_4      3\n",
       "4           1  session_0   run_4      3\n",
       "...       ...        ...     ...    ...\n",
       "2245      109  session_0  run_14      0\n",
       "2246      109  session_0  run_14      1\n",
       "2247      109  session_0  run_14      1\n",
       "2248      109  session_0  run_14      0\n",
       "2249      109  session_0  run_14      0\n",
       "\n",
       "[9450 rows x 4 columns]"
      ]
     },
     "execution_count": 33,
     "metadata": {},
     "output_type": "execute_result"
    }
   ],
   "source": [
    "X = list()\n",
    "meta = list()\n",
    "for file_ext in [\"1_40\", \"41_80\", \"81_109\"]:\n",
    "    with open(f\"../data/beetl/phy_vin_{file_ext}.pkl\", mode=\"rb\") as f:\n",
    "        x, labels, m = pkl.load(f)[\"data\"]\n",
    "        m[\"label\"] = labels\n",
    "        m = m[(~m[\"subject\"].isin([88, 92, 100, 104])) & (m[\"run\"].isin([f\"run_{d}\" for d in range(4, 15, 2)])) & (m[\"label\"] != \"rest\")]  # imagined runs only\n",
    "        x = x[m.index]\n",
    "        m = m.reset_index(drop=True)\n",
    "        X.append(x)\n",
    "        meta.append(m)\n",
    "        \n",
    "X = np.concatenate(X, axis=0)\n",
    "meta = pd.concat(meta)\n",
    "\n",
    "le = LabelEncoder()\n",
    "meta[\"label\"] = le.fit_transform(meta[\"label\"])\n",
    "print(le.classes_)\n",
    "\n",
    "print(X.shape)\n",
    "meta"
   ]
  },
  {
   "cell_type": "code",
   "execution_count": 112,
   "id": "13c8166b-3723-42c1-8bd7-d0e85bcd5a0a",
   "metadata": {},
   "outputs": [
    {
     "data": {
      "text/plain": [
       "Int64Index([45, 46, 47, 48, 49, 50, 51, 52, 53, 54, 55, 56, 57, 58, 59], dtype='int64')"
      ]
     },
     "execution_count": 112,
     "metadata": {},
     "output_type": "execute_result"
    }
   ],
   "source": [
    "meta[(meta[\"subject\"] == 1) & (meta[\"run\"] == \"run_6\")].index"
   ]
  },
  {
   "cell_type": "code",
   "execution_count": 113,
   "id": "a7b7d74c-789b-4185-b7b0-7a1f1662a0aa",
   "metadata": {},
   "outputs": [
    {
     "data": {
      "text/plain": [
       "Int64Index([45, 46, 47, 48, 49, 50, 51, 52, 53, 54, 55, 56, 57, 58, 59], dtype='int64')"
      ]
     },
     "execution_count": 113,
     "metadata": {},
     "output_type": "execute_result"
    }
   ],
   "source": [
    "t = meta[meta[\"subject\"] == 1]\n",
    "t[t[\"run\"] == \"run_6\"].index"
   ]
  },
  {
   "cell_type": "code",
   "execution_count": 13,
   "id": "7c18ee55-6d83-4be1-a469-dcc9c0272fa4",
   "metadata": {},
   "outputs": [],
   "source": [
    "# data alignment pipeline\n",
    "# - align src's label dist to tgt's (run_4, run_6) label dist\n",
    "# - align src's input dist\n",
    "# - align tgt's (run_4, run_6) input dist"
   ]
  },
  {
   "cell_type": "code",
   "execution_count": 72,
   "id": "d62c5291-8bf9-42b0-a2d4-3281e2cc3ed6",
   "metadata": {},
   "outputs": [],
   "source": [
    "def compute_reference_mat(x, inv=True):\n",
    "    # x: [bsz, ch, t]\n",
    "    r = np.mean(x @ x.transpose((0, 2, 1)), axis=0)  # [ch,ch]\n",
    "    r = linalg.inv(linalg.sqrtm(r)) if inv else linalg.sqrtm(r)\n",
    "    if np.iscomplexobj(r):\n",
    "        r = np.real(r).astype(np.float32)\n",
    "        \n",
    "    return r"
   ]
  },
  {
   "cell_type": "code",
   "execution_count": 108,
   "id": "6cde3296-8608-4678-b2af-9d0da6093590",
   "metadata": {},
   "outputs": [
    {
     "name": "stdout",
     "output_type": "stream",
     "text": [
      "target_subject: 109 - train: (30, 28, 385)/[7 8 7 8] - valid: (60, 28, 385)/[15 15 16 14]\n"
     ]
    }
   ],
   "source": [
    "target_subject = 109\n",
    "target_meta = meta[meta[\"subject\"] == target_subject]\n",
    "train_target_meta = target_meta[target_meta[\"run\"].isin([f\"run_{i}\" for i in range(4, 7, 2)])]\n",
    "valid_target_meta = target_meta[target_meta[\"run\"].isin([f\"run_{i}\" for i in range(8, 15, 2)])]\n",
    "Xtarget_train = X[train_target_meta.index]\n",
    "Ytarget_train = np.array(train_target_meta[\"label\"], dtype=int)\n",
    "Xtarget_valid = X[valid_target_meta.index]\n",
    "Ytarget_valid = np.array(valid_target_meta[\"label\"], dtype=int)\n",
    "\n",
    "print(f\"target_subject: {target_subject} - train: {Xtarget_train.shape}/{np.bincount(Ytarget_train)} - valid: {Xtarget_valid.shape}/{np.bincount(Ytarget_valid)}\")"
   ]
  },
  {
   "cell_type": "code",
   "execution_count": 109,
   "id": "1e4c9351-1451-402d-a574-efdefc98967a",
   "metadata": {},
   "outputs": [
    {
     "data": {
      "text/plain": [
       "<AxesSubplot:>"
      ]
     },
     "execution_count": 109,
     "metadata": {},
     "output_type": "execute_result"
    },
    {
     "data": {
      "image/png": "[encoded data removed]",
      "text/plain": [
       "<Figure size 432x288 with 12 Axes>"
      ]
     },
     "metadata": {
      "needs_background": "light"
     },
     "output_type": "display_data"
    }
   ],
   "source": [
    "fig, axes = plt.subplots(3, 2)\n",
    "\n",
    "r = compute_reference_mat(Xtarget_train)[np.newaxis]\n",
    "\n",
    "x = Xtarget_train\n",
    "sb.heatmap(np.mean(x @ x.transpose((0, 2, 1)), axis=0), ax=axes[0, 0])\n",
    "\n",
    "x = r @ Xtarget_train\n",
    "sb.heatmap(np.mean(x @ x.transpose((0, 2, 1)), axis=0), ax=axes[0, 1])\n",
    "\n",
    "x = Xtarget_train[np.where(Ytarget_train == 0)[0]]\n",
    "x0 = x[0]\n",
    "sb.heatmap(np.mean(x @ x.transpose((0, 2, 1)), axis=0), ax=axes[1, 0])\n",
    "sb.heatmap(x0 @ x0.transpose((1, 0)), ax=axes[1, 1])\n",
    "\n",
    "x = r @ x\n",
    "x0 = r[0] @ x0\n",
    "sb.heatmap(np.mean(x @ x.transpose((0, 2, 1)), axis=0), ax=axes[2, 0])\n",
    "sb.heatmap(x0 @ x0.transpose((1, 0)), ax=axes[2, 1])"
   ]
  },
  {
   "cell_type": "code",
   "execution_count": 98,
   "id": "b795a498-11c2-48dc-a33a-5b50ba2823eb",
   "metadata": {},
   "outputs": [],
   "source": [
    "target_class_ref = dict()\n",
    "for i in range(len(le.classes_)):\n",
    "    class_idx = np.where(Ytarget_train == i)[0]\n",
    "    target_class_ref[i] = compute_reference_mat(Xtarget_train[class_idx], inv=False)[np.newaxis]"
   ]
  },
  {
   "cell_type": "code",
   "execution_count": 99,
   "id": "5927fcce-e8f4-4243-8a1c-06c94d6a3524",
   "metadata": {},
   "outputs": [
    {
     "data": {
      "text/plain": [
       "<AxesSubplot:>"
      ]
     },
     "execution_count": 99,
     "metadata": {},
     "output_type": "execute_result"
    },
    {
     "data": {
      "image/png": "[encoded data removed]",
      "text/plain": [
       "<Figure size 432x288 with 12 Axes>"
      ]
     },
     "metadata": {
      "needs_background": "light"
     },
     "output_type": "display_data"
    }
   ],
   "source": [
    "meta_tmp = meta[meta[\"subject\"] == 2]\n",
    "Xtmp = X[meta_tmp.index]\n",
    "Ytmp = np.array(meta_tmp[\"label\"], dtype=int)\n",
    "\n",
    "for i in range(len(le.classes_)):\n",
    "    class_idx = np.where(Ytmp == i)[0]\n",
    "    Xtmp[class_idx] = target_class_ref[i] @ compute_reference_mat(Xtmp[class_idx])[np.newaxis] @ Xtmp[class_idx]\n",
    "    \n",
    "fig, axes = plt.subplots(3, 2)\n",
    "\n",
    "r = compute_reference_mat(Xtmp)[np.newaxis]\n",
    "\n",
    "x = Xtmp\n",
    "sb.heatmap(np.mean(x @ x.transpose((0, 2, 1)), axis=0), ax=axes[0, 0])\n",
    "\n",
    "x = r @ Xtmp\n",
    "sb.heatmap(np.mean(x @ x.transpose((0, 2, 1)), axis=0), ax=axes[0, 1])\n",
    "\n",
    "x = Xtmp[np.where(Ytmp == 0)[0]]\n",
    "x0 = x[0]\n",
    "sb.heatmap(np.mean(x @ x.transpose((0, 2, 1)), axis=0), ax=axes[1, 0])\n",
    "sb.heatmap(x0 @ x0.transpose((1, 0)), ax=axes[1, 1])\n",
    "\n",
    "x = r @ x\n",
    "x0 = r[0] @ x0\n",
    "sb.heatmap(np.mean(x @ x.transpose((0, 2, 1)), axis=0), ax=axes[2, 0])\n",
    "sb.heatmap(x0 @ x0.transpose((1, 0)), ax=axes[2, 1])"
   ]
  },
  {
   "cell_type": "code",
   "execution_count": 100,
   "id": "74d0e7d1-2c97-464d-8730-eb0c2ed9b932",
   "metadata": {},
   "outputs": [
    {
     "name": "stdout",
     "output_type": "stream",
     "text": [
      "              precision    recall  f1-score   support\n",
      "\n",
      "           0       0.56      0.36      0.43        14\n",
      "           1       0.27      0.69      0.39        16\n",
      "           2       0.30      0.19      0.23        16\n",
      "           3       0.00      0.00      0.00        14\n",
      "\n",
      "    accuracy                           0.32        60\n",
      "   macro avg       0.28      0.31      0.26        60\n",
      "weighted avg       0.28      0.32      0.27        60\n",
      "\n",
      "[[ 5  7  2  0]\n",
      " [ 2 11  3  0]\n",
      " [ 1 12  3  0]\n",
      " [ 1 11  2  0]]\n",
      "accuracy: 0.3080357142857143\n",
      "CPU times: user 520 ms, sys: 870 ms, total: 1.39 s\n",
      "Wall time: 532 ms\n"
     ]
    },
    {
     "name": "stderr",
     "output_type": "stream",
     "text": [
      "/home/txdat/miniconda3/lib/python3.9/site-packages/sklearn/metrics/_classification.py:1248: UndefinedMetricWarning: Precision and F-score are ill-defined and being set to 0.0 in labels with no predicted samples. Use `zero_division` parameter to control this behavior.\n",
      "  _warn_prf(average, modifier, msg_start, len(result))\n",
      "/home/txdat/miniconda3/lib/python3.9/site-packages/sklearn/metrics/_classification.py:1248: UndefinedMetricWarning: Precision and F-score are ill-defined and being set to 0.0 in labels with no predicted samples. Use `zero_division` parameter to control this behavior.\n",
      "  _warn_prf(average, modifier, msg_start, len(result))\n",
      "/home/txdat/miniconda3/lib/python3.9/site-packages/sklearn/metrics/_classification.py:1248: UndefinedMetricWarning: Precision and F-score are ill-defined and being set to 0.0 in labels with no predicted samples. Use `zero_division` parameter to control this behavior.\n",
      "  _warn_prf(average, modifier, msg_start, len(result))\n"
     ]
    }
   ],
   "source": [
    "%%time\n",
    "clf = make_pipeline(\n",
    "    Covariances(\"sch\"),\n",
    "    TSclassifier(\n",
    "        metric=\"riemann\",\n",
    "        clf=SVC(\n",
    "            C=1.0,\n",
    "            kernel=\"rbf\",\n",
    "            tol=1e-7,\n",
    "            max_iter=30000,\n",
    "            class_weight=\"balanced\",\n",
    "            random_state=42,\n",
    "        ),\n",
    "    ),\n",
    "#     FgMDM(metric=dict(mean=\"logeuclid\", distance=\"riemann\"), n_jobs=-1),\n",
    ")\n",
    "# clf = make_pipeline(\n",
    "#     mne.decoding.CSP(n_components=16, reg='shrunk', log=True, cov_est=\"epoch\"),\n",
    "#     SVC(\n",
    "#         C=1.0,\n",
    "#         kernel=\"rbf\",\n",
    "#         tol=1e-7,\n",
    "#         max_iter=30000,\n",
    "#         class_weight=\"balanced\",\n",
    "#         random_state=42,\n",
    "#     ),\n",
    "# )\n",
    "\n",
    "clf.fit(Xtarget_train, Ytarget_train)\n",
    "\n",
    "pred = clf.predict(Xtarget_valid)\n",
    "print(classification_report(Ytarget_valid, pred))\n",
    "print(confusion_matrix(Ytarget_valid, pred))\n",
    "print(f\"accuracy: {balanced_accuracy_score(Ytarget_valid, pred)}\")"
   ]
  },
  {
   "cell_type": "code",
   "execution_count": 106,
   "id": "1e42df12-514f-4fe1-9350-ea00b8ffdb62",
   "metadata": {},
   "outputs": [
    {
     "name": "stderr",
     "output_type": "stream",
     "text": [
      "subject: 100%|██████████████████████████████████████████████████| 105/105 [00:09<00:00, 10.96it/s]\n"
     ]
    },
    {
     "name": "stdout",
     "output_type": "stream",
     "text": [
      "train: (9390, 28, 385)/[2345 2350 2368 2327] - valid: (60, 28, 385)/[14 16 16 14]\n",
      "CPU times: user 13.8 s, sys: 19.1 s, total: 32.9 s\n",
      "Wall time: 10.5 s\n"
     ]
    }
   ],
   "source": [
    "%%time\n",
    "Xtrain = list()\n",
    "Ytrain = list()\n",
    "\n",
    "# compute target's class' mean covariance\n",
    "target_class_ref = dict()\n",
    "for i in range(len(le.classes_)):\n",
    "    class_idx = np.where(Ytarget_train == i)[0]\n",
    "    target_class_ref[i] = compute_reference_mat(Xtarget_train[class_idx], inv=False)[np.newaxis]\n",
    "    \n",
    "Rtarget = compute_reference_mat(np.concatenate((Xtarget_train, Xtarget_valid), axis=0))[np.newaxis]\n",
    "    \n",
    "Xtrain.append(Rtarget @ Xtarget_train)  # euclidean alignment\n",
    "Ytrain.append(Ytarget_train)\n",
    "# Xtrain.append(Xtarget_train)\n",
    "# Ytrain.append(Ytarget_train)\n",
    "\n",
    "for aux_subject in tqdm(sorted(meta[\"subject\"].unique()), desc=\"subject\"):\n",
    "    if aux_subject == target_subject:\n",
    "        continue\n",
    "    \n",
    "    aux_meta = meta[meta[\"subject\"] == aux_subject]\n",
    "    Xaux = X[aux_meta.index]\n",
    "    Yaux = np.array(aux_meta[\"label\"], dtype=int)\n",
    "    \n",
    "    # label alignment\n",
    "    for i in range(len(le.classes_)):\n",
    "        class_idx = np.where(Yaux == i)[0]\n",
    "        Xaux[class_idx] = target_class_ref[i] @ compute_reference_mat(Xaux[class_idx])[np.newaxis] @ Xaux[class_idx]\n",
    "        \n",
    "    Xtrain.append(compute_reference_mat(Xaux)[np.newaxis] @ Xaux)  # euclidean alignment\n",
    "    Ytrain.append(Yaux)\n",
    "#     Xtrain.append(Xaux)\n",
    "#     Ytrain.append(Yaux)\n",
    "    \n",
    "Xtrain = np.concatenate(Xtrain, axis=0)\n",
    "Ytrain = np.concatenate(Ytrain, axis=0)\n",
    "Xvalid = Rtarget @ Xtarget_valid  # euclidean alignment\n",
    "Yvalid = Ytarget_valid\n",
    "# Xvalid = Xtarget_valid\n",
    "# Yvalid = Ytarget_valid\n",
    "\n",
    "print(f\"train: {Xtrain.shape}/{np.bincount(Ytrain)} - valid: {Xvalid.shape}/{np.bincount(Yvalid)}\")"
   ]
  },
  {
   "cell_type": "code",
   "execution_count": 107,
   "id": "7cdf87b3-169c-488d-90cc-bf0703a0af90",
   "metadata": {},
   "outputs": [
    {
     "name": "stdout",
     "output_type": "stream",
     "text": [
      "              precision    recall  f1-score   support\n",
      "\n",
      "           0       0.33      0.29      0.31        14\n",
      "           1       0.25      0.38      0.30        16\n",
      "           2       0.30      0.44      0.36        16\n",
      "           3       0.00      0.00      0.00        14\n",
      "\n",
      "    accuracy                           0.28        60\n",
      "   macro avg       0.22      0.27      0.24        60\n",
      "weighted avg       0.23      0.28      0.25        60\n",
      "\n",
      "[[4 3 7 0]\n",
      " [6 6 4 0]\n",
      " [0 8 7 1]\n",
      " [2 7 5 0]]\n",
      "accuracy: 0.2745535714285714\n",
      "CPU times: user 1min 11s, sys: 1min 21s, total: 2min 32s\n",
      "Wall time: 43 s\n"
     ]
    }
   ],
   "source": [
    "%%time\n",
    "clf = make_pipeline(\n",
    "    Covariances(\"sch\"),\n",
    "    TSclassifier(\n",
    "        metric=\"riemann\",\n",
    "        clf=SVC(\n",
    "            C=1.0,\n",
    "            kernel=\"rbf\",\n",
    "            tol=1e-7,\n",
    "            max_iter=30000,\n",
    "            class_weight=\"balanced\",\n",
    "            random_state=42,\n",
    "        ),\n",
    "    ),\n",
    "#     FgMDM(metric=dict(mean=\"logeuclid\", distance=\"riemann\"), n_jobs=-1),\n",
    ")\n",
    "# clf = make_pipeline(\n",
    "#     mne.decoding.CSP(n_components=16, reg='shrunk', log=True, cov_est=\"epoch\"),\n",
    "#     SVC(\n",
    "#         C=1.0,\n",
    "#         kernel=\"rbf\",\n",
    "#         tol=1e-7,\n",
    "#         max_iter=30000,\n",
    "#         class_weight=\"balanced\",\n",
    "#         random_state=42,\n",
    "#     ),\n",
    "# )\n",
    "\n",
    "clf.fit(Xtrain, Ytrain)\n",
    "\n",
    "pred = clf.predict(Xvalid)\n",
    "print(classification_report(Yvalid, pred))\n",
    "print(confusion_matrix(Yvalid, pred))\n",
    "print(f\"accuracy: {balanced_accuracy_score(Yvalid, pred)}\")"
   ]
  },
  {
   "cell_type": "code",
   "execution_count": null,
   "id": "8da1e1b3-ec19-4d1b-ae14-dd1de86d84a3",
   "metadata": {},
   "outputs": [],
   "source": []
  }
 ],
 "metadata": {
  "kernelspec": {
   "display_name": "Python 3 (ipykernel)",
   "language": "python",
   "name": "python3"
  },
  "language_info": {
   "codemirror_mode": {
    "name": "ipython",
    "version": 3
   },
   "file_extension": ".py",
   "mimetype": "text/x-python",
   "name": "python",
   "nbconvert_exporter": "python",
   "pygments_lexer": "ipython3",
   "version": "3.9.7"
  }
 },
 "nbformat": 4,
 "nbformat_minor": 5
}
