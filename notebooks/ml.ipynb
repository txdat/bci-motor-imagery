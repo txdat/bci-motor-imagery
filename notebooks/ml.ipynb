{
 "cells": [
  {
   "cell_type": "code",
   "execution_count": 22,
   "id": "58e167f2-51b7-4224-8401-e0b0b3c4e821",
   "metadata": {},
   "outputs": [
    {
     "name": "stdout",
     "output_type": "stream",
     "text": [
      "(5184, 22, 1001)\n"
     ]
    },
    {
     "data": {
      "text/html": [
       "<div>\n",
       "<style scoped>\n",
       "    .dataframe tbody tr th:only-of-type {\n",
       "        vertical-align: middle;\n",
       "    }\n",
       "\n",
       "    .dataframe tbody tr th {\n",
       "        vertical-align: top;\n",
       "    }\n",
       "\n",
       "    .dataframe thead th {\n",
       "        text-align: right;\n",
       "    }\n",
       "</style>\n",
       "<table border=\"1\" class=\"dataframe\">\n",
       "  <thead>\n",
       "    <tr style=\"text-align: right;\">\n",
       "      <th></th>\n",
       "      <th>subject</th>\n",
       "      <th>session</th>\n",
       "      <th>run</th>\n",
       "      <th>label</th>\n",
       "    </tr>\n",
       "  </thead>\n",
       "  <tbody>\n",
       "    <tr>\n",
       "      <th>0</th>\n",
       "      <td>1</td>\n",
       "      <td>session_T</td>\n",
       "      <td>run_0</td>\n",
       "      <td>3</td>\n",
       "    </tr>\n",
       "    <tr>\n",
       "      <th>1</th>\n",
       "      <td>1</td>\n",
       "      <td>session_T</td>\n",
       "      <td>run_0</td>\n",
       "      <td>0</td>\n",
       "    </tr>\n",
       "    <tr>\n",
       "      <th>2</th>\n",
       "      <td>1</td>\n",
       "      <td>session_T</td>\n",
       "      <td>run_0</td>\n",
       "      <td>2</td>\n",
       "    </tr>\n",
       "    <tr>\n",
       "      <th>3</th>\n",
       "      <td>1</td>\n",
       "      <td>session_T</td>\n",
       "      <td>run_0</td>\n",
       "      <td>1</td>\n",
       "    </tr>\n",
       "    <tr>\n",
       "      <th>4</th>\n",
       "      <td>1</td>\n",
       "      <td>session_T</td>\n",
       "      <td>run_0</td>\n",
       "      <td>1</td>\n",
       "    </tr>\n",
       "    <tr>\n",
       "      <th>...</th>\n",
       "      <td>...</td>\n",
       "      <td>...</td>\n",
       "      <td>...</td>\n",
       "      <td>...</td>\n",
       "    </tr>\n",
       "    <tr>\n",
       "      <th>5179</th>\n",
       "      <td>9</td>\n",
       "      <td>session_E</td>\n",
       "      <td>run_5</td>\n",
       "      <td>0</td>\n",
       "    </tr>\n",
       "    <tr>\n",
       "      <th>5180</th>\n",
       "      <td>9</td>\n",
       "      <td>session_E</td>\n",
       "      <td>run_5</td>\n",
       "      <td>3</td>\n",
       "    </tr>\n",
       "    <tr>\n",
       "      <th>5181</th>\n",
       "      <td>9</td>\n",
       "      <td>session_E</td>\n",
       "      <td>run_5</td>\n",
       "      <td>0</td>\n",
       "    </tr>\n",
       "    <tr>\n",
       "      <th>5182</th>\n",
       "      <td>9</td>\n",
       "      <td>session_E</td>\n",
       "      <td>run_5</td>\n",
       "      <td>1</td>\n",
       "    </tr>\n",
       "    <tr>\n",
       "      <th>5183</th>\n",
       "      <td>9</td>\n",
       "      <td>session_E</td>\n",
       "      <td>run_5</td>\n",
       "      <td>0</td>\n",
       "    </tr>\n",
       "  </tbody>\n",
       "</table>\n",
       "<p>5184 rows × 4 columns</p>\n",
       "</div>"
      ],
      "text/plain": [
       "      subject    session    run  label\n",
       "0           1  session_T  run_0      3\n",
       "1           1  session_T  run_0      0\n",
       "2           1  session_T  run_0      2\n",
       "3           1  session_T  run_0      1\n",
       "4           1  session_T  run_0      1\n",
       "...       ...        ...    ...    ...\n",
       "5179        9  session_E  run_5      0\n",
       "5180        9  session_E  run_5      3\n",
       "5181        9  session_E  run_5      0\n",
       "5182        9  session_E  run_5      1\n",
       "5183        9  session_E  run_5      0\n",
       "\n",
       "[5184 rows x 4 columns]"
      ]
     },
     "execution_count": 22,
     "metadata": {},
     "output_type": "execute_result"
    }
   ],
   "source": [
    "with open(\"../data/bnci.pkl\", mode=\"rb\") as f:\n",
    "    X, labels, meta = pkl.load(f)[\"data\"]\n",
    "    meta[\"label\"] = LabelEncoder().fit_transform(labels)\n",
    "\n",
    "print(X.shape)\n",
    "meta"
   ]
  },
  {
   "cell_type": "code",
   "execution_count": 24,
   "id": "6977d5c5-a2e6-472c-954d-31624bf54e2b",
   "metadata": {},
   "outputs": [],
   "source": [
    "def compute_bandpower_features(\n",
    "    x,\n",
    "    sf,\n",
    "    win_sec,\n",
    "    bands={\n",
    "        \"Theta\": [4, 8],\n",
    "        \"Alpha\": [8, 12],\n",
    "        \"Sigma\": [12, 16],\n",
    "        \"Beta\": [16, 30],\n",
    "        \"Gamma\": [30, 38],\n",
    "    },\n",
    "):\n",
    "    # x: [n_trials, n_channels, n_samples]\n",
    "    f = list()\n",
    "    for trial in x:\n",
    "        bp = bandpower(\n",
    "            trial,\n",
    "            sf=sf,\n",
    "            win_sec=win_sec,\n",
    "            relative=True,\n",
    "            bandpass=True,\n",
    "            bands=[(*v, k) for k, v in bands.items()],\n",
    "        )\n",
    "        bp = bp[list(bands.keys())]\n",
    "        for b1 in bands.keys():\n",
    "            for b2 in bands.keys():\n",
    "                if b1 == b2:\n",
    "                    continue\n",
    "                bp[f\"{b1}/{b2}\"] = bp[b1] / bp[b2]\n",
    "\n",
    "        f.append(bp.to_numpy().flatten())\n",
    "\n",
    "    return np.asarray(f)"
   ]
  },
  {
   "cell_type": "code",
   "execution_count": null,
   "id": "5d329257-8704-4c95-ae70-6bfbd4d6c972",
   "metadata": {},
   "outputs": [],
   "source": [
    "%%time\n",
    "feat = list()\n",
    "y = list()\n",
    "for subj in tqdm(range(1, 10), desc=\"subject\"):\n",
    "    subj_meta = meta[meta[\"subject\"] == subj]\n",
    "    feat.append(compute_bandpower_features(X[subj_meta.index], sf=128, win_sec=4))\n",
    "    y.append(subj_meta[\"label\"])"
   ]
  },
  {
   "cell_type": "code",
   "execution_count": 23,
   "id": "b9519808-368f-4eec-a94a-3a8acff5d1a2",
   "metadata": {},
   "outputs": [
    {
     "name": "stderr",
     "output_type": "stream",
     "text": [
      "subject: 100%|██████████████████████████████████████████████████████| 9/9 [00:02<00:00,  3.05it/s]\n"
     ]
    }
   ],
   "source": [
    "# euclidean alignment (better result compared with not using)\n",
    "for subj in tqdm(range(1, 10), desc=\"subject\"):\n",
    "    for sess in [\"T\", \"E\"]:\n",
    "        _meta = meta[(meta[\"subject\"] == subj) & (meta[\"session\"] == f\"session_{sess}\")]\n",
    "\n",
    "        _X = X[_meta.index]\n",
    "        R = np.mean(_X @ _X.transpose((0, 2, 1)), axis=0)\n",
    "        R = linalg.inv(linalg.sqrtm(R))\n",
    "        if np.iscomplexobj(R):\n",
    "            R = np.real(R).astype(np.float32)\n",
    "\n",
    "        X[_meta.index] = R[np.newaxis] @ _X"
   ]
  },
  {
   "cell_type": "code",
   "execution_count": 9,
   "id": "759aa759-5638-4727-adba-0bb4696e9da2",
   "metadata": {},
   "outputs": [
    {
     "data": {
      "text/plain": [
       "<AxesSubplot:>"
      ]
     },
     "execution_count": 9,
     "metadata": {},
     "output_type": "execute_result"
    },
    {
     "data": {
      "image/png": "[encoded data removed]",
      "text/plain": [
       "<Figure size 432x288 with 2 Axes>"
      ]
     },
     "metadata": {
      "needs_background": "light"
     },
     "output_type": "display_data"
    }
   ],
   "source": [
    "x = X[meta[(meta[\"subject\"] == 1) & (meta[\"label\"] == 0)].index]\n",
    "\n",
    "sb.heatmap(np.mean(x @ x.transpose((0, 2, 1)), axis=0))"
   ]
  },
  {
   "cell_type": "code",
   "execution_count": 11,
   "id": "e77f4429-9b7e-4f32-a085-202cd373d2d1",
   "metadata": {},
   "outputs": [
    {
     "name": "stderr",
     "output_type": "stream",
     "text": [
      "subject:  11%|██████                                                | 1/9 [00:28<03:51, 28.90s/it]"
     ]
    },
    {
     "name": "stdout",
     "output_type": "stream",
     "text": [
      "subject 1: accuracy: 0.5399305555555556\n"
     ]
    },
    {
     "name": "stderr",
     "output_type": "stream",
     "text": [
      "subject:  22%|████████████                                          | 2/9 [01:00<03:34, 30.70s/it]"
     ]
    },
    {
     "name": "stdout",
     "output_type": "stream",
     "text": [
      "subject 2: accuracy: 0.2951388888888889\n"
     ]
    },
    {
     "name": "stderr",
     "output_type": "stream",
     "text": [
      "subject:  33%|██████████████████                                    | 3/9 [01:28<02:56, 29.34s/it]"
     ]
    },
    {
     "name": "stdout",
     "output_type": "stream",
     "text": [
      "subject 3: accuracy: 0.6666666666666666\n"
     ]
    },
    {
     "name": "stderr",
     "output_type": "stream",
     "text": [
      "subject:  44%|████████████████████████                              | 4/9 [01:58<02:27, 29.56s/it]"
     ]
    },
    {
     "name": "stdout",
     "output_type": "stream",
     "text": [
      "subject 4: accuracy: 0.4097222222222222\n"
     ]
    },
    {
     "name": "stderr",
     "output_type": "stream",
     "text": [
      "subject:  56%|██████████████████████████████                        | 5/9 [02:26<01:56, 29.07s/it]"
     ]
    },
    {
     "name": "stdout",
     "output_type": "stream",
     "text": [
      "subject 5: accuracy: 0.3142361111111111\n"
     ]
    },
    {
     "name": "stderr",
     "output_type": "stream",
     "text": [
      "subject:  67%|████████████████████████████████████                  | 6/9 [03:06<01:37, 32.60s/it]"
     ]
    },
    {
     "name": "stdout",
     "output_type": "stream",
     "text": [
      "subject 6: accuracy: 0.3576388888888889\n"
     ]
    },
    {
     "name": "stderr",
     "output_type": "stream",
     "text": [
      "subject:  78%|██████████████████████████████████████████            | 7/9 [03:37<01:04, 32.35s/it]"
     ]
    },
    {
     "name": "stdout",
     "output_type": "stream",
     "text": [
      "subject 7: accuracy: 0.4097222222222222\n"
     ]
    },
    {
     "name": "stderr",
     "output_type": "stream",
     "text": [
      "subject:  89%|████████████████████████████████████████████████      | 8/9 [04:21<00:35, 35.85s/it]"
     ]
    },
    {
     "name": "stdout",
     "output_type": "stream",
     "text": [
      "subject 8: accuracy: 0.640625\n"
     ]
    },
    {
     "name": "stderr",
     "output_type": "stream",
     "text": [
      "subject: 100%|██████████████████████████████████████████████████████| 9/9 [04:52<00:00, 32.54s/it]"
     ]
    },
    {
     "name": "stdout",
     "output_type": "stream",
     "text": [
      "subject 9: accuracy: 0.5173611111111112\n",
      "avg accuracy: 0.4612268518518518\n"
     ]
    },
    {
     "name": "stderr",
     "output_type": "stream",
     "text": [
      "\n"
     ]
    }
   ],
   "source": [
    "acc = list()\n",
    "for subj in tqdm(range(1, 10), desc=\"subject\"):\n",
    "    # init classifier\n",
    "    #     clf = make_pipeline(\n",
    "    #         Covariances('sch'),\n",
    "    #         CSP(nfilter=8, metric='euclid', log=False),\n",
    "    #         TSclassifier(metric='euclid', clf=LinearSVC(C=1.0, tol=1e-7, max_iter=10000, random_state=42)),\n",
    "    #     )\n",
    "    clf = make_pipeline(\n",
    "        Covariances(\"sch\"),\n",
    "        FgMDM(metric=dict(mean=\"riemann\", distance=\"riemann\"), n_jobs=-1),\n",
    "    )\n",
    "\n",
    "    # init training/validation data\n",
    "    train_meta = meta[meta[\"subject\"] != subj]\n",
    "    val_meta = meta[meta[\"subject\"] == subj]\n",
    "    Xtrain = X[train_meta.index]\n",
    "    Ytrain = np.array(train_meta[\"label\"], dtype=int)\n",
    "    Xval = X[val_meta.index]\n",
    "    Yval = np.array(val_meta[\"label\"], dtype=int)\n",
    "\n",
    "    clf.fit(Xtrain, Ytrain)\n",
    "\n",
    "    y_pred = clf.predict(Xval)\n",
    "\n",
    "    #     print(metrics.classification_report(Yval, y_pred))\n",
    "    #     print(metrics.confusion_matrix(Yval, y_pred))\n",
    "    _acc = metrics.accuracy_score(Yval, y_pred)\n",
    "    print(f\"subject {subj}: accuracy: {_acc}\")\n",
    "\n",
    "    acc.append(_acc)\n",
    "\n",
    "print(f\"avg accuracy: {np.mean(acc)}\")"
   ]
  },
  {
   "cell_type": "code",
   "execution_count": 24,
   "id": "2f1dea99-0ac5-4a7f-8e44-793f595cf825",
   "metadata": {},
   "outputs": [
    {
     "name": "stderr",
     "output_type": "stream",
     "text": [
      "subject:  11%|██████                                                | 1/9 [00:01<00:09,  1.16s/it]"
     ]
    },
    {
     "name": "stdout",
     "output_type": "stream",
     "text": [
      "subject 1: accuracy: 0.7291666666666666\n"
     ]
    },
    {
     "name": "stderr",
     "output_type": "stream",
     "text": [
      "subject:  22%|████████████                                          | 2/9 [00:02<00:08,  1.27s/it]"
     ]
    },
    {
     "name": "stdout",
     "output_type": "stream",
     "text": [
      "subject 2: accuracy: 0.4861111111111111\n"
     ]
    },
    {
     "name": "stderr",
     "output_type": "stream",
     "text": [
      "subject:  33%|██████████████████                                    | 3/9 [00:03<00:06,  1.16s/it]"
     ]
    },
    {
     "name": "stdout",
     "output_type": "stream",
     "text": [
      "subject 3: accuracy: 0.8229166666666666\n"
     ]
    },
    {
     "name": "stderr",
     "output_type": "stream",
     "text": [
      "subject:  44%|████████████████████████                              | 4/9 [00:04<00:05,  1.00s/it]"
     ]
    },
    {
     "name": "stdout",
     "output_type": "stream",
     "text": [
      "subject 4: accuracy: 0.5381944444444444\n"
     ]
    },
    {
     "name": "stderr",
     "output_type": "stream",
     "text": [
      "subject:  56%|██████████████████████████████                        | 5/9 [00:05<00:04,  1.06s/it]"
     ]
    },
    {
     "name": "stdout",
     "output_type": "stream",
     "text": [
      "subject 5: accuracy: 0.4131944444444444\n"
     ]
    },
    {
     "name": "stderr",
     "output_type": "stream",
     "text": [
      "subject:  67%|████████████████████████████████████                  | 6/9 [00:06<00:03,  1.16s/it]"
     ]
    },
    {
     "name": "stdout",
     "output_type": "stream",
     "text": [
      "subject 6: accuracy: 0.4930555555555556\n"
     ]
    },
    {
     "name": "stderr",
     "output_type": "stream",
     "text": [
      "subject:  78%|██████████████████████████████████████████            | 7/9 [00:08<00:02,  1.21s/it]"
     ]
    },
    {
     "name": "stdout",
     "output_type": "stream",
     "text": [
      "subject 7: accuracy: 0.71875\n"
     ]
    },
    {
     "name": "stderr",
     "output_type": "stream",
     "text": [
      "subject:  89%|████████████████████████████████████████████████      | 8/9 [00:09<00:01,  1.28s/it]"
     ]
    },
    {
     "name": "stdout",
     "output_type": "stream",
     "text": [
      "subject 8: accuracy: 0.7430555555555556\n"
     ]
    },
    {
     "name": "stderr",
     "output_type": "stream",
     "text": [
      "subject: 100%|██████████████████████████████████████████████████████| 9/9 [00:10<00:00,  1.20s/it]"
     ]
    },
    {
     "name": "stdout",
     "output_type": "stream",
     "text": [
      "subject 9: accuracy: 0.7152777777777778\n",
      "avg accuracy: 0.628858024691358\n"
     ]
    },
    {
     "name": "stderr",
     "output_type": "stream",
     "text": [
      "\n"
     ]
    }
   ],
   "source": [
    "acc = list()\n",
    "\n",
    "for subj in tqdm(range(1, 10), desc=\"subject\"):\n",
    "    # init classifier\n",
    "    clf = make_pipeline(\n",
    "        Covariances(\"sch\"),\n",
    "        CSP(nfilter=8, metric=\"euclid\", log=False),\n",
    "        TSclassifier(\n",
    "            metric=\"euclid\",\n",
    "            clf=LinearSVC(C=1.0, tol=1e-7, max_iter=10000, random_state=42),\n",
    "        ),\n",
    "    )\n",
    "    #     clf = make_pipeline(\n",
    "    #         Covariances(\"sch\"),\n",
    "    #         FgMDM(metric=dict(mean=\"riemann\", distance=\"riemann\"), n_jobs=-1),\n",
    "    #     )\n",
    "\n",
    "    # init training/validation data\n",
    "    train_meta = meta[(meta[\"subject\"] == subj) & (meta[\"session\"] == \"session_T\")]\n",
    "    val_meta = meta[(meta[\"subject\"] == subj) & (meta[\"session\"] == \"session_E\")]\n",
    "    Xtrain = X[train_meta.index]\n",
    "    Ytrain = np.array(train_meta[\"label\"], dtype=int)\n",
    "    Xval = X[val_meta.index]\n",
    "    Yval = np.array(val_meta[\"label\"], dtype=int)\n",
    "\n",
    "    clf.fit(Xtrain, Ytrain)\n",
    "\n",
    "    y_pred = clf.predict(Xval)\n",
    "\n",
    "    #     print(metrics.classification_report(Yval, y_pred))\n",
    "    #     print(metrics.confusion_matrix(Yval, y_pred))\n",
    "    _acc = metrics.accuracy_score(Yval, y_pred)\n",
    "    acc.append(_acc)\n",
    "\n",
    "    print(f\"subject {subj}: accuracy: {_acc}\")\n",
    "\n",
    "print(f\"avg accuracy: {np.mean(acc)}\")"
   ]
  },
  {
   "cell_type": "code",
   "execution_count": 17,
   "id": "940ddae0-94f9-4e90-93b7-76ccffc3130e",
   "metadata": {},
   "outputs": [
    {
     "name": "stdout",
     "output_type": "stream",
     "text": [
      "using 24 channels\n",
      "(38149, 24, 385)\n"
     ]
    },
    {
     "data": {
      "text/html": [
       "<div>\n",
       "<style scoped>\n",
       "    .dataframe tbody tr th:only-of-type {\n",
       "        vertical-align: middle;\n",
       "    }\n",
       "\n",
       "    .dataframe tbody tr th {\n",
       "        vertical-align: top;\n",
       "    }\n",
       "\n",
       "    .dataframe thead th {\n",
       "        text-align: right;\n",
       "    }\n",
       "</style>\n",
       "<table border=\"1\" class=\"dataframe\">\n",
       "  <thead>\n",
       "    <tr style=\"text-align: right;\">\n",
       "      <th></th>\n",
       "      <th>subject</th>\n",
       "      <th>session</th>\n",
       "      <th>run</th>\n",
       "      <th>label</th>\n",
       "    </tr>\n",
       "  </thead>\n",
       "  <tbody>\n",
       "    <tr>\n",
       "      <th>0</th>\n",
       "      <td>1</td>\n",
       "      <td>session_0</td>\n",
       "      <td>run_4</td>\n",
       "      <td>rest</td>\n",
       "    </tr>\n",
       "    <tr>\n",
       "      <th>1</th>\n",
       "      <td>1</td>\n",
       "      <td>session_0</td>\n",
       "      <td>run_4</td>\n",
       "      <td>right_hand</td>\n",
       "    </tr>\n",
       "    <tr>\n",
       "      <th>2</th>\n",
       "      <td>1</td>\n",
       "      <td>session_0</td>\n",
       "      <td>run_4</td>\n",
       "      <td>rest</td>\n",
       "    </tr>\n",
       "    <tr>\n",
       "      <th>3</th>\n",
       "      <td>1</td>\n",
       "      <td>session_0</td>\n",
       "      <td>run_4</td>\n",
       "      <td>left_hand</td>\n",
       "    </tr>\n",
       "    <tr>\n",
       "      <th>4</th>\n",
       "      <td>1</td>\n",
       "      <td>session_0</td>\n",
       "      <td>run_4</td>\n",
       "      <td>rest</td>\n",
       "    </tr>\n",
       "    <tr>\n",
       "      <th>...</th>\n",
       "      <td>...</td>\n",
       "      <td>...</td>\n",
       "      <td>...</td>\n",
       "      <td>...</td>\n",
       "    </tr>\n",
       "    <tr>\n",
       "      <th>9344</th>\n",
       "      <td>109</td>\n",
       "      <td>session_0</td>\n",
       "      <td>run_13</td>\n",
       "      <td>hands</td>\n",
       "    </tr>\n",
       "    <tr>\n",
       "      <th>9345</th>\n",
       "      <td>109</td>\n",
       "      <td>session_0</td>\n",
       "      <td>run_13</td>\n",
       "      <td>rest</td>\n",
       "    </tr>\n",
       "    <tr>\n",
       "      <th>9346</th>\n",
       "      <td>109</td>\n",
       "      <td>session_0</td>\n",
       "      <td>run_13</td>\n",
       "      <td>feet</td>\n",
       "    </tr>\n",
       "    <tr>\n",
       "      <th>9347</th>\n",
       "      <td>109</td>\n",
       "      <td>session_0</td>\n",
       "      <td>run_13</td>\n",
       "      <td>rest</td>\n",
       "    </tr>\n",
       "    <tr>\n",
       "      <th>9348</th>\n",
       "      <td>109</td>\n",
       "      <td>session_0</td>\n",
       "      <td>run_13</td>\n",
       "      <td>hands</td>\n",
       "    </tr>\n",
       "  </tbody>\n",
       "</table>\n",
       "<p>38149 rows × 4 columns</p>\n",
       "</div>"
      ],
      "text/plain": [
       "      subject    session     run       label\n",
       "0           1  session_0   run_4        rest\n",
       "1           1  session_0   run_4  right_hand\n",
       "2           1  session_0   run_4        rest\n",
       "3           1  session_0   run_4   left_hand\n",
       "4           1  session_0   run_4        rest\n",
       "...       ...        ...     ...         ...\n",
       "9344      109  session_0  run_13       hands\n",
       "9345      109  session_0  run_13        rest\n",
       "9346      109  session_0  run_13        feet\n",
       "9347      109  session_0  run_13        rest\n",
       "9348      109  session_0  run_13       hands\n",
       "\n",
       "[38149 rows x 4 columns]"
      ]
     },
     "execution_count": 17,
     "metadata": {},
     "output_type": "execute_result"
    }
   ],
   "source": [
    "# fmt: off\n",
    "ch_name_id = {ch: i for i, ch in enumerate([\n",
    "    \"Fp1\", \"Fp2\",\n",
    "    \"F7\", \"F3\", \"Fz\", \"F4\", \"F8\",\n",
    "    \"FC5\", \"FC1\", \"FC2\", \"FC6\",\n",
    "    \"T7\", \"C3\", \"Cz\", \"C4\", \"T8\",\n",
    "    \"CP5\", \"CP1\", \"CP2\", \"CP6\",\n",
    "    \"P7\", \"P3\", \"Pz\", \"P4\", \"P8\",\n",
    "    \"O1\", \"Oz\", \"O2\",\n",
    "])}\n",
    "\n",
    "# symmetric electrodes in 2 hemispheres\n",
    "ch_names = [\n",
    "    \"Fp1\", \"F7\", \"F3\", \"FC5\", \"FC1\", \"T7\", \"C3\", \"CP5\", \"CP1\", \"P7\", \"P3\", \"O1\",  # left\n",
    "    \"Fp2\", \"F8\", \"F4\", \"FC6\", \"FC2\", \"T8\", \"C4\", \"CP6\", \"CP2\", \"P8\", \"P4\", \"O2\",  # right\n",
    "]\n",
    "# fmt: on\n",
    "\n",
    "ch_idx = [ch_name_id[name] for name in ch_names]\n",
    "\n",
    "print(f\"using {len(ch_idx)} channels\")\n",
    "\n",
    "X = list()\n",
    "meta = list()\n",
    "\n",
    "INVALID_SUBJECTS = [88, 92, 100]\n",
    "\n",
    "for filename in [\"1_40\", \"41_80\", \"81_109\"]:\n",
    "    with open(f\"../data/phy_vin_{filename}.pkl\", mode=\"rb\") as f:\n",
    "        _X, _labels, _meta = pkl.load(f)[\"data\"]\n",
    "        _meta[\"label\"] = _labels\n",
    "\n",
    "        _meta = _meta[~_meta[\"subject\"].isin(INVALID_SUBJECTS)]\n",
    "        _X = _X[_meta.index]\n",
    "\n",
    "        X.append(_X[:, ch_idx, :480])\n",
    "        _meta = _meta.reset_index(drop=True)\n",
    "        meta.append(_meta)\n",
    "\n",
    "X = np.concatenate(X, axis=0)\n",
    "meta = pd.concat(meta)\n",
    "\n",
    "print(X.shape)\n",
    "meta"
   ]
  },
  {
   "cell_type": "code",
   "execution_count": 18,
   "id": "8907e694-3a3e-4136-9bac-a13b01a905e3",
   "metadata": {},
   "outputs": [
    {
     "data": {
      "text/plain": [
       "array([  1,   2,   3,   4,   5,   6,   7,   8,   9,  10,  11,  12,  13,\n",
       "        14,  15,  16,  17,  18,  19,  20,  21,  22,  23,  24,  25,  26,\n",
       "        27,  28,  29,  30,  31,  32,  33,  34,  35,  36,  37,  38,  39,\n",
       "        40,  41,  42,  43,  44,  45,  46,  47,  48,  49,  50,  51,  52,\n",
       "        53,  54,  55,  56,  57,  58,  59,  60,  61,  62,  63,  64,  65,\n",
       "        66,  67,  68,  69,  70,  71,  72,  73,  74,  75,  76,  77,  78,\n",
       "        79,  80,  81,  82,  83,  84,  85,  86,  87,  89,  90,  91,  93,\n",
       "        94,  95,  96,  97,  98,  99, 101, 102, 103, 104, 105, 106, 107,\n",
       "       108, 109])"
      ]
     },
     "execution_count": 18,
     "metadata": {},
     "output_type": "execute_result"
    }
   ],
   "source": [
    "meta[\"subject\"].unique()"
   ]
  },
  {
   "cell_type": "code",
   "execution_count": 19,
   "id": "933eb3e3-ce8f-4a8d-853d-4774d77cae49",
   "metadata": {},
   "outputs": [
    {
     "name": "stdout",
     "output_type": "stream",
     "text": [
      "['feet', 'hands', 'left_hand', 'right_hand']\n",
      "['run_4', 'run_6', 'run_8', 'run_10', 'run_12', 'run_14']\n"
     ]
    }
   ],
   "source": [
    "labels = [\"feet\", \"hands\", \"left_hand\", \"right_hand\"]\n",
    "\n",
    "imagined = True  # @param {'type': 'boolean'}\n",
    "executed = False  # @param {'type': 'boolean'}\n",
    "\n",
    "runs = list()\n",
    "if imagined:\n",
    "    runs.extend([f\"run_{d}\" for d in range(4, 15, 2)])\n",
    "if executed:\n",
    "    runs.extend([f\"run_{d}\" for d in range(3, 14, 2)])\n",
    "\n",
    "print(labels)\n",
    "print(runs)"
   ]
  },
  {
   "cell_type": "code",
   "execution_count": 20,
   "id": "50834510-7af1-4c2b-b21b-3124e4e09a54",
   "metadata": {},
   "outputs": [
    {
     "name": "stdout",
     "output_type": "stream",
     "text": [
      "(9538, 24, 385)\n"
     ]
    },
    {
     "data": {
      "text/html": [
       "<div>\n",
       "<style scoped>\n",
       "    .dataframe tbody tr th:only-of-type {\n",
       "        vertical-align: middle;\n",
       "    }\n",
       "\n",
       "    .dataframe tbody tr th {\n",
       "        vertical-align: top;\n",
       "    }\n",
       "\n",
       "    .dataframe thead th {\n",
       "        text-align: right;\n",
       "    }\n",
       "</style>\n",
       "<table border=\"1\" class=\"dataframe\">\n",
       "  <thead>\n",
       "    <tr style=\"text-align: right;\">\n",
       "      <th></th>\n",
       "      <th>subject</th>\n",
       "      <th>session</th>\n",
       "      <th>run</th>\n",
       "      <th>label</th>\n",
       "    </tr>\n",
       "  </thead>\n",
       "  <tbody>\n",
       "    <tr>\n",
       "      <th>0</th>\n",
       "      <td>1</td>\n",
       "      <td>session_0</td>\n",
       "      <td>run_4</td>\n",
       "      <td>right_hand</td>\n",
       "    </tr>\n",
       "    <tr>\n",
       "      <th>1</th>\n",
       "      <td>1</td>\n",
       "      <td>session_0</td>\n",
       "      <td>run_4</td>\n",
       "      <td>left_hand</td>\n",
       "    </tr>\n",
       "    <tr>\n",
       "      <th>2</th>\n",
       "      <td>1</td>\n",
       "      <td>session_0</td>\n",
       "      <td>run_4</td>\n",
       "      <td>left_hand</td>\n",
       "    </tr>\n",
       "    <tr>\n",
       "      <th>3</th>\n",
       "      <td>1</td>\n",
       "      <td>session_0</td>\n",
       "      <td>run_4</td>\n",
       "      <td>right_hand</td>\n",
       "    </tr>\n",
       "    <tr>\n",
       "      <th>4</th>\n",
       "      <td>1</td>\n",
       "      <td>session_0</td>\n",
       "      <td>run_4</td>\n",
       "      <td>right_hand</td>\n",
       "    </tr>\n",
       "    <tr>\n",
       "      <th>...</th>\n",
       "      <td>...</td>\n",
       "      <td>...</td>\n",
       "      <td>...</td>\n",
       "      <td>...</td>\n",
       "    </tr>\n",
       "    <tr>\n",
       "      <th>9533</th>\n",
       "      <td>109</td>\n",
       "      <td>session_0</td>\n",
       "      <td>run_14</td>\n",
       "      <td>feet</td>\n",
       "    </tr>\n",
       "    <tr>\n",
       "      <th>9534</th>\n",
       "      <td>109</td>\n",
       "      <td>session_0</td>\n",
       "      <td>run_14</td>\n",
       "      <td>hands</td>\n",
       "    </tr>\n",
       "    <tr>\n",
       "      <th>9535</th>\n",
       "      <td>109</td>\n",
       "      <td>session_0</td>\n",
       "      <td>run_14</td>\n",
       "      <td>hands</td>\n",
       "    </tr>\n",
       "    <tr>\n",
       "      <th>9536</th>\n",
       "      <td>109</td>\n",
       "      <td>session_0</td>\n",
       "      <td>run_14</td>\n",
       "      <td>feet</td>\n",
       "    </tr>\n",
       "    <tr>\n",
       "      <th>9537</th>\n",
       "      <td>109</td>\n",
       "      <td>session_0</td>\n",
       "      <td>run_14</td>\n",
       "      <td>feet</td>\n",
       "    </tr>\n",
       "  </tbody>\n",
       "</table>\n",
       "<p>9538 rows × 4 columns</p>\n",
       "</div>"
      ],
      "text/plain": [
       "      subject    session     run       label\n",
       "0           1  session_0   run_4  right_hand\n",
       "1           1  session_0   run_4   left_hand\n",
       "2           1  session_0   run_4   left_hand\n",
       "3           1  session_0   run_4  right_hand\n",
       "4           1  session_0   run_4  right_hand\n",
       "...       ...        ...     ...         ...\n",
       "9533      109  session_0  run_14        feet\n",
       "9534      109  session_0  run_14       hands\n",
       "9535      109  session_0  run_14       hands\n",
       "9536      109  session_0  run_14        feet\n",
       "9537      109  session_0  run_14        feet\n",
       "\n",
       "[9538 rows x 4 columns]"
      ]
     },
     "execution_count": 20,
     "metadata": {},
     "output_type": "execute_result"
    }
   ],
   "source": [
    "meta = meta[(meta[\"label\"].isin(labels)) & (meta[\"run\"].isin(runs))]\n",
    "X = X[meta.index]\n",
    "meta = meta.reset_index(drop=True)\n",
    "\n",
    "print(X.shape)\n",
    "meta"
   ]
  },
  {
   "cell_type": "code",
   "execution_count": 21,
   "id": "d420a3ef-7e38-405e-b23d-9666ec383c10",
   "metadata": {},
   "outputs": [
    {
     "name": "stdout",
     "output_type": "stream",
     "text": [
      "['feet' 'hands' 'left_hand' 'right_hand']\n"
     ]
    },
    {
     "data": {
      "text/html": [
       "<div>\n",
       "<style scoped>\n",
       "    .dataframe tbody tr th:only-of-type {\n",
       "        vertical-align: middle;\n",
       "    }\n",
       "\n",
       "    .dataframe tbody tr th {\n",
       "        vertical-align: top;\n",
       "    }\n",
       "\n",
       "    .dataframe thead th {\n",
       "        text-align: right;\n",
       "    }\n",
       "</style>\n",
       "<table border=\"1\" class=\"dataframe\">\n",
       "  <thead>\n",
       "    <tr style=\"text-align: right;\">\n",
       "      <th></th>\n",
       "      <th>subject</th>\n",
       "      <th>session</th>\n",
       "      <th>run</th>\n",
       "      <th>label</th>\n",
       "    </tr>\n",
       "  </thead>\n",
       "  <tbody>\n",
       "    <tr>\n",
       "      <th>0</th>\n",
       "      <td>1</td>\n",
       "      <td>session_0</td>\n",
       "      <td>run_4</td>\n",
       "      <td>3</td>\n",
       "    </tr>\n",
       "    <tr>\n",
       "      <th>1</th>\n",
       "      <td>1</td>\n",
       "      <td>session_0</td>\n",
       "      <td>run_4</td>\n",
       "      <td>2</td>\n",
       "    </tr>\n",
       "    <tr>\n",
       "      <th>2</th>\n",
       "      <td>1</td>\n",
       "      <td>session_0</td>\n",
       "      <td>run_4</td>\n",
       "      <td>2</td>\n",
       "    </tr>\n",
       "    <tr>\n",
       "      <th>3</th>\n",
       "      <td>1</td>\n",
       "      <td>session_0</td>\n",
       "      <td>run_4</td>\n",
       "      <td>3</td>\n",
       "    </tr>\n",
       "    <tr>\n",
       "      <th>4</th>\n",
       "      <td>1</td>\n",
       "      <td>session_0</td>\n",
       "      <td>run_4</td>\n",
       "      <td>3</td>\n",
       "    </tr>\n",
       "    <tr>\n",
       "      <th>...</th>\n",
       "      <td>...</td>\n",
       "      <td>...</td>\n",
       "      <td>...</td>\n",
       "      <td>...</td>\n",
       "    </tr>\n",
       "    <tr>\n",
       "      <th>9533</th>\n",
       "      <td>109</td>\n",
       "      <td>session_0</td>\n",
       "      <td>run_14</td>\n",
       "      <td>0</td>\n",
       "    </tr>\n",
       "    <tr>\n",
       "      <th>9534</th>\n",
       "      <td>109</td>\n",
       "      <td>session_0</td>\n",
       "      <td>run_14</td>\n",
       "      <td>1</td>\n",
       "    </tr>\n",
       "    <tr>\n",
       "      <th>9535</th>\n",
       "      <td>109</td>\n",
       "      <td>session_0</td>\n",
       "      <td>run_14</td>\n",
       "      <td>1</td>\n",
       "    </tr>\n",
       "    <tr>\n",
       "      <th>9536</th>\n",
       "      <td>109</td>\n",
       "      <td>session_0</td>\n",
       "      <td>run_14</td>\n",
       "      <td>0</td>\n",
       "    </tr>\n",
       "    <tr>\n",
       "      <th>9537</th>\n",
       "      <td>109</td>\n",
       "      <td>session_0</td>\n",
       "      <td>run_14</td>\n",
       "      <td>0</td>\n",
       "    </tr>\n",
       "  </tbody>\n",
       "</table>\n",
       "<p>9538 rows × 4 columns</p>\n",
       "</div>"
      ],
      "text/plain": [
       "      subject    session     run  label\n",
       "0           1  session_0   run_4      3\n",
       "1           1  session_0   run_4      2\n",
       "2           1  session_0   run_4      2\n",
       "3           1  session_0   run_4      3\n",
       "4           1  session_0   run_4      3\n",
       "...       ...        ...     ...    ...\n",
       "9533      109  session_0  run_14      0\n",
       "9534      109  session_0  run_14      1\n",
       "9535      109  session_0  run_14      1\n",
       "9536      109  session_0  run_14      0\n",
       "9537      109  session_0  run_14      0\n",
       "\n",
       "[9538 rows x 4 columns]"
      ]
     },
     "execution_count": 21,
     "metadata": {},
     "output_type": "execute_result"
    }
   ],
   "source": [
    "le = LabelEncoder()\n",
    "meta[\"label\"] = le.fit_transform(meta[\"label\"])\n",
    "\n",
    "print(le.classes_)\n",
    "meta"
   ]
  },
  {
   "cell_type": "code",
   "execution_count": 7,
   "id": "f17a1f37-b769-4b86-8893-8e952e226bad",
   "metadata": {},
   "outputs": [
    {
     "name": "stderr",
     "output_type": "stream",
     "text": [
      "subject: 100%|██████████████████████████████████████████████████| 106/106 [00:01<00:00, 88.60it/s]\n"
     ]
    }
   ],
   "source": [
    "# euclidean alignment for each subject\n",
    "for subject in tqdm(meta[\"subject\"].unique(), desc=\"subject\"):\n",
    "    index = meta[(meta[\"subject\"] == subject)].index\n",
    "    _X = X[index]  # [N,C,T]\n",
    "    R = np.mean(_X @ _X.transpose((0, 2, 1)), axis=0)  # [C, C]\n",
    "    R = linalg.inv(linalg.sqrtm(R))\n",
    "    if np.iscomplexobj(R):\n",
    "        R = np.real(R).astype(np.float32)\n",
    "\n",
    "    X[index] = R[np.newaxis] @ _X  # _X @ _X.T ~ I"
   ]
  },
  {
   "cell_type": "code",
   "execution_count": 43,
   "id": "e331d5d1-e4b8-41d5-b463-3c6796d5a555",
   "metadata": {},
   "outputs": [
    {
     "data": {
      "text/plain": [
       "<AxesSubplot:>"
      ]
     },
     "execution_count": 43,
     "metadata": {},
     "output_type": "execute_result"
    },
    {
     "data": {
      "image/png": "[encoded data removed]",
      "text/plain": [
       "<Figure size 432x288 with 2 Axes>"
      ]
     },
     "metadata": {
      "needs_background": "light"
     },
     "output_type": "display_data"
    }
   ],
   "source": [
    "x = X[meta[(meta[\"subject\"] == 1)].index]\n",
    "\n",
    "sb.heatmap(np.mean(x @ x.transpose((0, 2, 1)), axis=0))"
   ]
  },
  {
   "cell_type": "code",
   "execution_count": 39,
   "id": "dce20739-1ffb-44f6-a346-af4a57b5c2fa",
   "metadata": {},
   "outputs": [
    {
     "name": "stderr",
     "output_type": "stream",
     "text": [
      "fold:   9%|██████████▌                                                                                                         | 1/11 [00:43<07:16, 43.69s/it]"
     ]
    },
    {
     "name": "stdout",
     "output_type": "stream",
     "text": [
      "              precision    recall  f1-score   support\n",
      "\n",
      "           0       0.31      0.31      0.31       226\n",
      "           1       0.37      0.39      0.38       224\n",
      "           2       0.38      0.35      0.36       230\n",
      "           3       0.34      0.35      0.34       220\n",
      "\n",
      "    accuracy                           0.35       900\n",
      "   macro avg       0.35      0.35      0.35       900\n",
      "weighted avg       0.35      0.35      0.35       900\n",
      "\n",
      "[[69 52 44 61]\n",
      " [48 88 45 43]\n",
      " [51 54 80 45]\n",
      " [58 45 41 76]]\n"
     ]
    },
    {
     "name": "stderr",
     "output_type": "stream",
     "text": [
      "fold:  18%|█████████████████████                                                                                               | 2/11 [01:26<06:29, 43.32s/it]"
     ]
    },
    {
     "name": "stdout",
     "output_type": "stream",
     "text": [
      "              precision    recall  f1-score   support\n",
      "\n",
      "           0       0.33      0.31      0.32       223\n",
      "           1       0.36      0.38      0.37       227\n",
      "           2       0.29      0.28      0.28       225\n",
      "           3       0.36      0.37      0.37       225\n",
      "\n",
      "    accuracy                           0.34       900\n",
      "   macro avg       0.33      0.34      0.33       900\n",
      "weighted avg       0.33      0.34      0.33       900\n",
      "\n",
      "[[70 41 58 54]\n",
      " [42 86 51 48]\n",
      " [49 67 62 47]\n",
      " [53 46 42 84]]\n"
     ]
    },
    {
     "name": "stderr",
     "output_type": "stream",
     "text": [
      "fold:  27%|███████████████████████████████▋                                                                                    | 3/11 [02:08<05:41, 42.65s/it]"
     ]
    },
    {
     "name": "stdout",
     "output_type": "stream",
     "text": [
      "              precision    recall  f1-score   support\n",
      "\n",
      "           0       0.41      0.42      0.42       224\n",
      "           1       0.42      0.37      0.40       226\n",
      "           2       0.37      0.37      0.37       228\n",
      "           3       0.41      0.45      0.42       222\n",
      "\n",
      "    accuracy                           0.40       900\n",
      "   macro avg       0.40      0.40      0.40       900\n",
      "weighted avg       0.40      0.40      0.40       900\n",
      "\n",
      "[[95 31 50 48]\n",
      " [38 84 49 55]\n",
      " [58 44 84 42]\n",
      " [40 39 44 99]]\n"
     ]
    },
    {
     "name": "stderr",
     "output_type": "stream",
     "text": [
      "fold:  36%|██████████████████████████████████████████▏                                                                         | 4/11 [02:53<05:03, 43.40s/it]"
     ]
    },
    {
     "name": "stdout",
     "output_type": "stream",
     "text": [
      "              precision    recall  f1-score   support\n",
      "\n",
      "           0       0.32      0.33      0.32       225\n",
      "           1       0.38      0.44      0.41       225\n",
      "           2       0.37      0.34      0.35       222\n",
      "           3       0.37      0.33      0.35       228\n",
      "\n",
      "    accuracy                           0.36       900\n",
      "   macro avg       0.36      0.36      0.36       900\n",
      "weighted avg       0.36      0.36      0.36       900\n",
      "\n",
      "[[74 50 49 52]\n",
      " [48 98 39 40]\n",
      " [53 54 75 40]\n",
      " [57 56 39 76]]\n"
     ]
    },
    {
     "name": "stderr",
     "output_type": "stream",
     "text": [
      "fold:  45%|████████████████████████████████████████████████████▋                                                               | 5/11 [03:35<04:17, 42.97s/it]"
     ]
    },
    {
     "name": "stdout",
     "output_type": "stream",
     "text": [
      "              precision    recall  f1-score   support\n",
      "\n",
      "           0       0.27      0.26      0.27       219\n",
      "           1       0.28      0.31      0.30       231\n",
      "           2       0.30      0.28      0.29       229\n",
      "           3       0.27      0.27      0.27       221\n",
      "\n",
      "    accuracy                           0.28       900\n",
      "   macro avg       0.28      0.28      0.28       900\n",
      "weighted avg       0.28      0.28      0.28       900\n",
      "\n",
      "[[58 76 41 44]\n",
      " [63 71 41 56]\n",
      " [50 53 64 62]\n",
      " [44 50 68 59]]\n"
     ]
    },
    {
     "name": "stderr",
     "output_type": "stream",
     "text": [
      "fold:  55%|███████████████████████████████████████████████████████████████▎                                                    | 6/11 [04:13<03:26, 41.23s/it]"
     ]
    },
    {
     "name": "stdout",
     "output_type": "stream",
     "text": [
      "              precision    recall  f1-score   support\n",
      "\n",
      "           0       0.26      0.27      0.27       227\n",
      "           1       0.29      0.32      0.31       223\n",
      "           2       0.24      0.21      0.23       233\n",
      "           3       0.28      0.27      0.28       217\n",
      "\n",
      "    accuracy                           0.27       900\n",
      "   macro avg       0.27      0.27      0.27       900\n",
      "weighted avg       0.27      0.27      0.27       900\n",
      "\n",
      "[[62 66 56 43]\n",
      " [69 71 40 43]\n",
      " [56 61 50 66]\n",
      " [52 44 62 59]]\n"
     ]
    },
    {
     "name": "stderr",
     "output_type": "stream",
     "text": [
      "fold:  64%|█████████████████████████████████████████████████████████████████████████▊                                          | 7/11 [04:58<02:50, 42.53s/it]"
     ]
    },
    {
     "name": "stdout",
     "output_type": "stream",
     "text": [
      "              precision    recall  f1-score   support\n",
      "\n",
      "           0       0.35      0.35      0.35       225\n",
      "           1       0.35      0.32      0.33       225\n",
      "           2       0.29      0.30      0.30       226\n",
      "           3       0.27      0.29      0.28       224\n",
      "\n",
      "    accuracy                           0.31       900\n",
      "   macro avg       0.32      0.31      0.31       900\n",
      "weighted avg       0.32      0.31      0.31       900\n",
      "\n",
      "[[78 56 43 48]\n",
      " [55 72 48 50]\n",
      " [45 34 67 80]\n",
      " [44 45 70 65]]\n"
     ]
    },
    {
     "name": "stderr",
     "output_type": "stream",
     "text": [
      "fold:  73%|████████████████████████████████████████████████████████████████████████████████████▎                               | 8/11 [05:34<02:01, 40.46s/it]"
     ]
    },
    {
     "name": "stdout",
     "output_type": "stream",
     "text": [
      "              precision    recall  f1-score   support\n",
      "\n",
      "           0       0.32      0.34      0.33       226\n",
      "           1       0.30      0.34      0.32       224\n",
      "           2       0.28      0.26      0.27       225\n",
      "           3       0.32      0.28      0.30       225\n",
      "\n",
      "    accuracy                           0.30       900\n",
      "   macro avg       0.30      0.30      0.30       900\n",
      "weighted avg       0.30      0.30      0.30       900\n",
      "\n",
      "[[76 73 46 31]\n",
      " [61 77 40 46]\n",
      " [52 58 58 57]\n",
      " [49 53 60 63]]\n"
     ]
    },
    {
     "name": "stderr",
     "output_type": "stream",
     "text": [
      "fold:  82%|██████████████████████████████████████████████████████████████████████████████████████████████▉                     | 9/11 [06:17<01:22, 41.17s/it]"
     ]
    },
    {
     "name": "stdout",
     "output_type": "stream",
     "text": [
      "              precision    recall  f1-score   support\n",
      "\n",
      "           0       0.29      0.29      0.29       202\n",
      "           1       0.34      0.40      0.37       203\n",
      "           2       0.29      0.26      0.27       203\n",
      "           3       0.29      0.28      0.29       202\n",
      "\n",
      "    accuracy                           0.31       810\n",
      "   macro avg       0.31      0.31      0.31       810\n",
      "weighted avg       0.31      0.31      0.31       810\n",
      "\n",
      "[[59 63 37 43]\n",
      " [55 81 30 37]\n",
      " [45 48 52 58]\n",
      " [44 43 58 57]]\n"
     ]
    },
    {
     "name": "stderr",
     "output_type": "stream",
     "text": [
      "fold:  91%|████████████████████████████████████████████████████████████████████████████████████████████████████████▌          | 10/11 [07:02<00:42, 42.41s/it]"
     ]
    },
    {
     "name": "stdout",
     "output_type": "stream",
     "text": [
      "              precision    recall  f1-score   support\n",
      "\n",
      "           0       0.23      0.25      0.24       185\n",
      "           1       0.27      0.29      0.28       175\n",
      "           2       0.25      0.24      0.25       181\n",
      "           3       0.23      0.22      0.22       179\n",
      "\n",
      "    accuracy                           0.25       720\n",
      "   macro avg       0.25      0.25      0.25       720\n",
      "weighted avg       0.25      0.25      0.25       720\n",
      "\n",
      "[[46 50 46 43]\n",
      " [59 50 30 36]\n",
      " [41 45 43 52]\n",
      " [50 40 50 39]]\n"
     ]
    },
    {
     "name": "stderr",
     "output_type": "stream",
     "text": [
      "fold: 100%|███████████████████████████████████████████████████████████████████████████████████████████████████████████████████| 11/11 [07:41<00:00, 41.98s/it]"
     ]
    },
    {
     "name": "stdout",
     "output_type": "stream",
     "text": [
      "              precision    recall  f1-score   support\n",
      "\n",
      "           0       0.30      0.29      0.30       200\n",
      "           1       0.26      0.27      0.27       205\n",
      "           2       0.25      0.25      0.25       204\n",
      "           3       0.27      0.26      0.26       199\n",
      "\n",
      "    accuracy                           0.27       808\n",
      "   macro avg       0.27      0.27      0.27       808\n",
      "weighted avg       0.27      0.27      0.27       808\n",
      "\n",
      "[[59 55 47 39]\n",
      " [54 56 52 43]\n",
      " [40 53 50 61]\n",
      " [45 51 51 52]]\n",
      "avg accuracy: 0.31220955428876224\n"
     ]
    },
    {
     "name": "stderr",
     "output_type": "stream",
     "text": [
      "\n"
     ]
    }
   ],
   "source": [
    "acc = list()\n",
    "\n",
    "for i in tqdm(range(1, 110, 10), desc=\"fold\"):\n",
    "    # init classifier\n",
    "    #     clf = make_pipeline(\n",
    "    #         Covariances('sch'),\n",
    "    #         CSP(nfilter=8, metric='euclid', log=False),\n",
    "    #         TSclassifier(metric='euclid', clf=LinearSVC(C=1.0, tol=1e-7, max_iter=10000, random_state=42)),\n",
    "    #     )\n",
    "    clf = make_pipeline(\n",
    "        Covariances(\"sch\"),\n",
    "        FgMDM(metric=dict(mean=\"riemann\", distance=\"riemann\"), n_jobs=-1),\n",
    "    )\n",
    "\n",
    "    # init training/validation data\n",
    "    val_subjs = list(range(i, i + 10))\n",
    "    train_subjs = list(set(range(1, 110)) - set(val_subjs))\n",
    "\n",
    "    train_meta = meta[meta[\"subject\"].isin(train_subjs)]\n",
    "    val_meta = meta[meta[\"subject\"].isin(val_subjs)]\n",
    "    Xtrain = X[train_meta.index]\n",
    "    Ytrain = np.array(train_meta[\"label\"], dtype=int)\n",
    "    Xval = X[val_meta.index]\n",
    "    Yval = np.array(val_meta[\"label\"], dtype=int)\n",
    "\n",
    "    clf.fit(Xtrain, Ytrain)\n",
    "\n",
    "    y_pred = clf.predict(Xval)\n",
    "\n",
    "    print(metrics.classification_report(Yval, y_pred))\n",
    "    print(metrics.confusion_matrix(Yval, y_pred))\n",
    "\n",
    "    acc.append(metrics.accuracy_score(Yval, y_pred))\n",
    "\n",
    "print(f\"avg accuracy: {np.mean(acc)}\")"
   ]
  },
  {
   "cell_type": "code",
   "execution_count": 17,
   "id": "04faee28-7afe-44ea-b810-e5f3acd81319",
   "metadata": {},
   "outputs": [
    {
     "name": "stdout",
     "output_type": "stream",
     "text": [
      "device: cpu\n"
     ]
    }
   ],
   "source": [
    "import random\n",
    "import numpy as np\n",
    "import torch\n",
    "import torch.nn as nn\n",
    "import torch.nn.functional as F\n",
    "import torch.utils.data as td\n",
    "import torchspdnet.nn as spdnet\n",
    "from torchspdnet.optimizers import MixOptimizer\n",
    "from pyriemann.utils.covariance import covariances\n",
    "\n",
    "seed = 42\n",
    "random.seed(seed)\n",
    "np.random.seed(seed)\n",
    "torch.manual_seed(seed)\n",
    "torch.cuda.manual_seed_all(seed)\n",
    "torch.backends.cudnn.benchmark = True\n",
    "\n",
    "device = torch.device(\"cuda\" if torch.cuda.is_available() else \"cpu\")\n",
    "\n",
    "print(f\"device: {device}\")"
   ]
  },
  {
   "cell_type": "code",
   "execution_count": 18,
   "id": "15913bfd-f088-4561-b352-27f41be0421b",
   "metadata": {},
   "outputs": [],
   "source": [
    "class EEGDataset(td.Dataset):\n",
    "    def __init__(self, X, Y=None, S=None, is_training=True):\n",
    "        super().__init__()\n",
    "\n",
    "        self.X = X\n",
    "        self.Y = Y\n",
    "        self.S = S\n",
    "\n",
    "        self.is_training = is_training\n",
    "\n",
    "    def __len__(self):\n",
    "        return len(self.X)\n",
    "\n",
    "    def __getitem__(self, index):\n",
    "        x = self.X[index]\n",
    "\n",
    "        # x = self.standardize(x)\n",
    "\n",
    "        # x /= np.max(np.abs(x), axis=1, keepdims=True)\n",
    "\n",
    "        # if self.is_training:\n",
    "        #     if random.uniform(0, 1) < 0.5:\n",
    "        #         x += np.random.normal(0, 0.05, size=x.shape)\n",
    "\n",
    "        return (\n",
    "            x,\n",
    "            self.Y[index] if self.Y is not None else -1,\n",
    "            self.S[index] if self.S is not None else -1,\n",
    "        )\n",
    "\n",
    "    def standardize(self, x):\n",
    "        mean = np.median(x, axis=1, keepdims=True)\n",
    "        # scale = 1.0 / stats.iqr(x, axis=1, keepdims=True)\n",
    "        scale = 1.0 / np.expand_dims(\n",
    "            stats.median_abs_deviation(x, axis=1, scale=1.0 / 1.4628),\n",
    "            axis=1,\n",
    "        )\n",
    "\n",
    "        x -= mean\n",
    "        x *= scale\n",
    "\n",
    "        return x\n",
    "\n",
    "    @staticmethod\n",
    "    def batchify(batch):\n",
    "        x, y, s = zip(*batch)\n",
    "\n",
    "        x = covariances(np.asarray(x), estimator=\"sch\")\n",
    "\n",
    "        x = torch.tensor(x).float()\n",
    "        y = torch.tensor(y).long()\n",
    "        s = torch.tensor(s).long()\n",
    "\n",
    "        return x, y, s\n",
    "\n",
    "\n",
    "def eeg_data_loader(\n",
    "    X,\n",
    "    Y=None,\n",
    "    S=None,\n",
    "    bsz=1,\n",
    "    is_training=True,\n",
    "    **kwargs,\n",
    "):\n",
    "    return td.DataLoader(\n",
    "        EEGDataset(X, Y, S, is_training),\n",
    "        batch_size=bsz,\n",
    "        shuffle=is_training,\n",
    "        collate_fn=EEGDataset.batchify,\n",
    "        pin_memory=True,\n",
    "        **kwargs,\n",
    "    )"
   ]
  },
  {
   "cell_type": "code",
   "execution_count": 33,
   "id": "094da12d-1b02-4684-8bc7-618407e18e5e",
   "metadata": {},
   "outputs": [],
   "source": [
    "class SPDNet(nn.Module):\n",
    "    def __init__(self, n_classes, n_channels):\n",
    "        super().__init__()\n",
    "\n",
    "        self.spd_blocks = nn.Sequential(\n",
    "            # block1\n",
    "            spdnet.BiMap(1, 1, n_channels, n_channels // 2),\n",
    "            spdnet.BatchNormSPD(n_channels // 2),\n",
    "            spdnet.ReEig(),\n",
    "            # block2\n",
    "            spdnet.BiMap(1, 1, n_channels // 2, n_channels // 4),\n",
    "            spdnet.BatchNormSPD(n_channels // 4),\n",
    "            spdnet.ReEig(),\n",
    "            # block3\n",
    "            spdnet.BiMap(1, 1, n_channels // 4, n_channels // 8),\n",
    "            spdnet.BatchNormSPD(n_channels // 8),\n",
    "            # map riemann to euclid\n",
    "            spdnet.LogEig(),\n",
    "        )\n",
    "\n",
    "        self.pool = nn.Flatten()\n",
    "\n",
    "        self.fc = nn.Sequential(\n",
    "            nn.Linear(\n",
    "                (n_channels // 8) * (n_channels // 8), n_classes, bias=True\n",
    "            ).double(),\n",
    "            nn.LogSoftmax(dim=1),\n",
    "        )\n",
    "\n",
    "    def forward(self, x):\n",
    "        x = x.unsqueeze(1).double()  # [N1CC]\n",
    "        x = self.spd_blocks(x)\n",
    "        x = self.pool(x)\n",
    "        x = self.fc(x)\n",
    "\n",
    "        return x"
   ]
  },
  {
   "cell_type": "code",
   "execution_count": 34,
   "id": "19366029-075c-474e-a1b1-919c8bb1f407",
   "metadata": {},
   "outputs": [],
   "source": [
    "def crop_segments(X, Y, S, win_length, hop_length):\n",
    "    Xs = list()\n",
    "    Ys = list()\n",
    "    Ss = list()\n",
    "\n",
    "    S = S if S is not None else np.full(len(X), -1, dtype=int)\n",
    "    i = 0\n",
    "    j = win_length\n",
    "    while j <= X.shape[2]:\n",
    "        Xs.append(X[:, :, i:j])\n",
    "        Ys.append(Y)\n",
    "        Ss.append(S)\n",
    "        i += hop_length\n",
    "        j += hop_length\n",
    "\n",
    "    return (\n",
    "        np.concatenate(Xs, axis=0),\n",
    "        np.concatenate(Ys, axis=0),\n",
    "        np.concatenate(Ss, axis=0),\n",
    "    )"
   ]
  },
  {
   "cell_type": "code",
   "execution_count": 44,
   "id": "814c8b6a-b69f-40af-9833-aae5ff6725c9",
   "metadata": {},
   "outputs": [
    {
     "data": {
      "text/plain": [
       "<AxesSubplot:>"
      ]
     },
     "execution_count": 44,
     "metadata": {},
     "output_type": "execute_result"
    },
    {
     "data": {
      "image/png": "[encoded data removed]",
      "text/plain": [
       "<Figure size 432x288 with 2 Axes>"
      ]
     },
     "metadata": {
      "needs_background": "light"
     },
     "output_type": "display_data"
    }
   ],
   "source": [
    "sb.heatmap(covariances(X[0:1], estimator=\"sch\")[0])"
   ]
  },
  {
   "cell_type": "code",
   "execution_count": 45,
   "id": "50da23fb-57f6-4cb3-b5b1-65cf1920ea5a",
   "metadata": {},
   "outputs": [
    {
     "name": "stdout",
     "output_type": "stream",
     "text": [
      "train: x: (8010, 23, 480) - y: [1997 2008 2021 1984] - iters: 126\n",
      "valid: x: (1528, 23, 480) - y: [385 380 385 378] - iters: 24\n",
      "test: x: (1528, 23, 480) - y: [385 380 385 378] - iters: 24\n"
     ]
    }
   ],
   "source": [
    "win_length = 480  # @param\n",
    "hop_length = 480  # @param\n",
    "bsz = 64  # @param\n",
    "\n",
    "train_meta = meta[meta[\"subject\"].isin(list(range(1, 91)))]\n",
    "Xtrain = X[train_meta.index]\n",
    "Ytrain = np.array(train_meta[\"label\"], dtype=int)\n",
    "Strain = LabelEncoder().fit_transform(train_meta[\"subject\"])\n",
    "\n",
    "val_meta = meta[meta[\"subject\"].isin(list(range(91, 110)))]\n",
    "Xval = X[val_meta.index]\n",
    "Yval = np.array(val_meta[\"label\"], dtype=int)\n",
    "\n",
    "test_meta = meta[meta[\"subject\"].isin(list(range(91, 110)))]\n",
    "Xtest = X[test_meta.index]\n",
    "Ytest = np.array(test_meta[\"label\"], dtype=int)\n",
    "\n",
    "Xtrain, Ytrain, Strain = crop_segments(Xtrain, Ytrain, Strain, win_length, hop_length)\n",
    "train_data_loader = eeg_data_loader(Xtrain, Ytrain, Strain, bsz=bsz)\n",
    "print(\n",
    "    f\"train: x: {Xtrain.shape} - y: {np.bincount(Ytrain)} - iters: {len(train_data_loader)}\"\n",
    ")\n",
    "\n",
    "Xval, Yval, _ = crop_segments(Xval, Yval, None, hop_length, win_length)\n",
    "val_data_loader = eeg_data_loader(Xval, Yval, None, bsz=bsz, is_training=False)\n",
    "print(\n",
    "    f\"valid: x: {Xval.shape} - y: {np.bincount(Yval)} - iters: {len(val_data_loader)}\"\n",
    ")\n",
    "\n",
    "Xtest, Ytest, _ = crop_segments(Xtest, Ytest, None, hop_length, win_length)\n",
    "test_data_loader = eeg_data_loader(Xtest, Ytest, None, bsz=bsz, is_training=False)\n",
    "print(\n",
    "    f\"test: x: {Xtest.shape} - y: {np.bincount(Ytest)} - iters: {len(test_data_loader)}\"\n",
    ")"
   ]
  },
  {
   "cell_type": "code",
   "execution_count": 48,
   "id": "1d69ab91-ac5f-4ef0-a72a-3fb36cf9b495",
   "metadata": {},
   "outputs": [
    {
     "name": "stdout",
     "output_type": "stream",
     "text": [
      "SPDNet(\n",
      "  (spd_blocks): Sequential(\n",
      "    (0): BiMap()\n",
      "    (1): BatchNormSPD()\n",
      "    (2): ReEig()\n",
      "    (3): BiMap()\n",
      "    (4): BatchNormSPD()\n",
      "    (5): ReEig()\n",
      "    (6): BiMap()\n",
      "    (7): BatchNormSPD()\n",
      "    (8): LogEig()\n",
      "  )\n",
      "  (pool): Flatten(start_dim=1, end_dim=-1)\n",
      "  (fc): Sequential(\n",
      "    (0): Linear(in_features=4, out_features=4, bias=True)\n",
      "    (1): LogSoftmax(dim=1)\n",
      "  )\n",
      ")\n"
     ]
    }
   ],
   "source": [
    "model = SPDNet(n_classes=4, n_channels=len(ch_idx))\n",
    "model.to(device)\n",
    "print(model)\n",
    "\n",
    "optimizer = MixOptimizer(model.parameters(), lr=0.1)"
   ]
  },
  {
   "cell_type": "code",
   "execution_count": 49,
   "id": "4e864db1-6e07-46de-8bd6-0ca1b1ee7e00",
   "metadata": {},
   "outputs": [
    {
     "name": "stdout",
     "output_type": "stream",
     "text": [
      "epoch 0 - step 63 - loss: 1.4024642131303222\n",
      "epoch 0 - step 126 - loss: 1.3865729278709182\n",
      "epoch 0 - train loss: 1.3926254801587417 - train acc: 0.25512899710380277\n",
      "epoch 0 - valid loss: 1.417349202829459 - valid acc: 0.25000854408749146\n",
      "epoch 1 - step 189 - loss: 1.3929214635351268\n",
      "epoch 1 - step 252 - loss: 1.4057137973174338\n",
      "epoch 1 - train loss: 1.3835664914887416 - train acc: 0.2743687951356116\n",
      "epoch 1 - valid loss: 1.3982082646589664 - valid acc: 0.25524986709197234\n",
      "epoch 2 - step 315 - loss: 1.3819690081406264\n",
      "epoch 2 - step 378 - loss: 1.317841638289984\n",
      "epoch 2 - train loss: 1.3785433548825514 - train acc: 0.27275150542582227\n",
      "epoch 2 - valid loss: 1.374858304340228 - valid acc: 0.2931903622693096\n",
      "epoch 3 - step 441 - loss: 1.3888235018713098\n",
      "epoch 3 - step 504 - loss: 1.345815298460638\n",
      "epoch 3 - train loss: 1.3753845197787788 - train acc: 0.28006420578883456\n",
      "epoch 3 - valid loss: 1.3728767717011297 - valid acc: 0.2834561150350624\n",
      "epoch 4 - step 567 - loss: 1.3343443198774163\n",
      "epoch 4 - step 630 - loss: 1.4050883585126475\n",
      "epoch 4 - train loss: 1.373571868363922 - train acc: 0.2853969646700429\n",
      "epoch 4 - valid loss: 1.3791988844814351 - valid acc: 0.27475918331181487\n",
      "epoch 5 - step 693 - loss: 1.384682680448982\n",
      "epoch 5 - step 756 - loss: 1.3234840080633379\n",
      "epoch 5 - train loss: 1.3708980400917992 - train acc: 0.28670043146192536\n",
      "epoch 5 - valid loss: 1.379941368211868 - valid acc: 0.27200102529049897\n",
      "epoch 6 - step 819 - loss: 1.3802401442108276\n",
      "epoch 6 - step 882 - loss: 1.3160465124062397\n",
      "epoch 6 - train loss: 1.3701609742051457 - train acc: 0.29258928957923125\n",
      "epoch 6 - valid loss: 1.373397829788922 - valid acc: 0.2786862990810359\n",
      "epoch 7 - step 945 - loss: 1.3774007868949212\n",
      "epoch 7 - step 1008 - loss: 1.4039714107902186\n",
      "epoch 7 - train loss: 1.369481436022992 - train acc: 0.2859271457472207\n",
      "epoch 7 - valid loss: 1.3720097387533283 - valid acc: 0.2945213412318676\n",
      "epoch 8 - step 1071 - loss: 1.3919656984026836\n",
      "epoch 8 - step 1134 - loss: 1.3847659558533754\n",
      "epoch 8 - train loss: 1.3682849065033535 - train acc: 0.2922263458889194\n",
      "epoch 8 - valid loss: 1.37489312310427 - valid acc: 0.27748949393686234\n",
      "epoch 9 - step 1197 - loss: 1.3727471903378716\n",
      "epoch 9 - step 1260 - loss: 1.4063904824816362\n",
      "epoch 9 - train loss: 1.3683112004605196 - train acc: 0.28867651759820634\n",
      "epoch 9 - valid loss: 1.4097098738513594 - valid acc: 0.2759442798916483\n",
      "epoch 10 - step 1323 - loss: 1.3848360405525677\n",
      "epoch 10 - step 1386 - loss: 1.367246723689883\n",
      "epoch 10 - train loss: 1.3676299837079262 - train acc: 0.2913113546503093\n",
      "epoch 10 - valid loss: 1.454145910616771 - valid acc: 0.26190444545707703\n",
      "epoch 11 - step 1449 - loss: 1.3188819727612737\n",
      "epoch 11 - step 1512 - loss: 1.4482707350212265\n",
      "epoch 11 - train loss: 1.367698847741808 - train acc: 0.29548351426013564\n",
      "epoch 11 - valid loss: 1.3763498869560535 - valid acc: 0.28791612870560235\n",
      "epoch 12 - step 1575 - loss: 1.3639278824706957\n",
      "epoch 12 - step 1638 - loss: 1.386573825353521\n",
      "epoch 12 - train loss: 1.3658883505845558 - train acc: 0.293009224389494\n",
      "epoch 12 - valid loss: 1.456793123613539 - valid acc: 0.25584225715804665\n",
      "epoch 13 - step 1701 - loss: 1.3529342182429993\n",
      "epoch 13 - step 1764 - loss: 1.336157520416681\n",
      "epoch 13 - train loss: 1.365244414145299 - train acc: 0.29722179445001407\n",
      "epoch 13 - valid loss: 1.3982416063196201 - valid acc: 0.2586228829649882\n",
      "epoch 14 - step 1827 - loss: 1.3847742092991544\n",
      "epoch 14 - step 1890 - loss: 1.3724379388373475\n",
      "epoch 14 - train loss: 1.3653439090583104 - train acc: 0.2959926285019136\n",
      "epoch 14 - valid loss: 1.404791023640235 - valid acc: 0.2691473000683527\n",
      "epoch 15 - step 1953 - loss: 1.381249009093637\n"
     ]
    },
    {
     "ename": "KeyboardInterrupt",
     "evalue": "",
     "output_type": "error",
     "traceback": [
      "\u001b[0;31m---------------------------------------------------------------------------\u001b[0m",
      "\u001b[0;31mKeyboardInterrupt\u001b[0m                         Traceback (most recent call last)",
      "\u001b[0;32m<timed exec>\u001b[0m in \u001b[0;36m<module>\u001b[0;34m\u001b[0m\n",
      "\u001b[0;32m/usr/lib/python3.9/site-packages/torch/utils/data/dataloader.py\u001b[0m in \u001b[0;36m__next__\u001b[0;34m(self)\u001b[0m\n\u001b[1;32m    519\u001b[0m             \u001b[0;32mif\u001b[0m \u001b[0mself\u001b[0m\u001b[0;34m.\u001b[0m\u001b[0m_sampler_iter\u001b[0m \u001b[0;32mis\u001b[0m \u001b[0;32mNone\u001b[0m\u001b[0;34m:\u001b[0m\u001b[0;34m\u001b[0m\u001b[0;34m\u001b[0m\u001b[0m\n\u001b[1;32m    520\u001b[0m                 \u001b[0mself\u001b[0m\u001b[0;34m.\u001b[0m\u001b[0m_reset\u001b[0m\u001b[0;34m(\u001b[0m\u001b[0;34m)\u001b[0m\u001b[0;34m\u001b[0m\u001b[0;34m\u001b[0m\u001b[0m\n\u001b[0;32m--> 521\u001b[0;31m             \u001b[0mdata\u001b[0m \u001b[0;34m=\u001b[0m \u001b[0mself\u001b[0m\u001b[0;34m.\u001b[0m\u001b[0m_next_data\u001b[0m\u001b[0;34m(\u001b[0m\u001b[0;34m)\u001b[0m\u001b[0;34m\u001b[0m\u001b[0;34m\u001b[0m\u001b[0m\n\u001b[0m\u001b[1;32m    522\u001b[0m             \u001b[0mself\u001b[0m\u001b[0;34m.\u001b[0m\u001b[0m_num_yielded\u001b[0m \u001b[0;34m+=\u001b[0m \u001b[0;36m1\u001b[0m\u001b[0;34m\u001b[0m\u001b[0;34m\u001b[0m\u001b[0m\n\u001b[1;32m    523\u001b[0m             \u001b[0;32mif\u001b[0m \u001b[0mself\u001b[0m\u001b[0;34m.\u001b[0m\u001b[0m_dataset_kind\u001b[0m \u001b[0;34m==\u001b[0m \u001b[0m_DatasetKind\u001b[0m\u001b[0;34m.\u001b[0m\u001b[0mIterable\u001b[0m \u001b[0;32mand\u001b[0m\u001b[0;31m \u001b[0m\u001b[0;31m\\\u001b[0m\u001b[0;34m\u001b[0m\u001b[0;34m\u001b[0m\u001b[0m\n",
      "\u001b[0;32m/usr/lib/python3.9/site-packages/torch/utils/data/dataloader.py\u001b[0m in \u001b[0;36m_next_data\u001b[0;34m(self)\u001b[0m\n\u001b[1;32m    559\u001b[0m     \u001b[0;32mdef\u001b[0m \u001b[0m_next_data\u001b[0m\u001b[0;34m(\u001b[0m\u001b[0mself\u001b[0m\u001b[0;34m)\u001b[0m\u001b[0;34m:\u001b[0m\u001b[0;34m\u001b[0m\u001b[0;34m\u001b[0m\u001b[0m\n\u001b[1;32m    560\u001b[0m         \u001b[0mindex\u001b[0m \u001b[0;34m=\u001b[0m \u001b[0mself\u001b[0m\u001b[0;34m.\u001b[0m\u001b[0m_next_index\u001b[0m\u001b[0;34m(\u001b[0m\u001b[0;34m)\u001b[0m  \u001b[0;31m# may raise StopIteration\u001b[0m\u001b[0;34m\u001b[0m\u001b[0;34m\u001b[0m\u001b[0m\n\u001b[0;32m--> 561\u001b[0;31m         \u001b[0mdata\u001b[0m \u001b[0;34m=\u001b[0m \u001b[0mself\u001b[0m\u001b[0;34m.\u001b[0m\u001b[0m_dataset_fetcher\u001b[0m\u001b[0;34m.\u001b[0m\u001b[0mfetch\u001b[0m\u001b[0;34m(\u001b[0m\u001b[0mindex\u001b[0m\u001b[0;34m)\u001b[0m  \u001b[0;31m# may raise StopIteration\u001b[0m\u001b[0;34m\u001b[0m\u001b[0;34m\u001b[0m\u001b[0m\n\u001b[0m\u001b[1;32m    562\u001b[0m         \u001b[0;32mif\u001b[0m \u001b[0mself\u001b[0m\u001b[0;34m.\u001b[0m\u001b[0m_pin_memory\u001b[0m\u001b[0;34m:\u001b[0m\u001b[0;34m\u001b[0m\u001b[0;34m\u001b[0m\u001b[0m\n\u001b[1;32m    563\u001b[0m             \u001b[0mdata\u001b[0m \u001b[0;34m=\u001b[0m \u001b[0m_utils\u001b[0m\u001b[0;34m.\u001b[0m\u001b[0mpin_memory\u001b[0m\u001b[0;34m.\u001b[0m\u001b[0mpin_memory\u001b[0m\u001b[0;34m(\u001b[0m\u001b[0mdata\u001b[0m\u001b[0;34m)\u001b[0m\u001b[0;34m\u001b[0m\u001b[0;34m\u001b[0m\u001b[0m\n",
      "\u001b[0;32m/usr/lib/python3.9/site-packages/torch/utils/data/_utils/fetch.py\u001b[0m in \u001b[0;36mfetch\u001b[0;34m(self, possibly_batched_index)\u001b[0m\n\u001b[1;32m     50\u001b[0m         \u001b[0;32melse\u001b[0m\u001b[0;34m:\u001b[0m\u001b[0;34m\u001b[0m\u001b[0;34m\u001b[0m\u001b[0m\n\u001b[1;32m     51\u001b[0m             \u001b[0mdata\u001b[0m \u001b[0;34m=\u001b[0m \u001b[0mself\u001b[0m\u001b[0;34m.\u001b[0m\u001b[0mdataset\u001b[0m\u001b[0;34m[\u001b[0m\u001b[0mpossibly_batched_index\u001b[0m\u001b[0;34m]\u001b[0m\u001b[0;34m\u001b[0m\u001b[0;34m\u001b[0m\u001b[0m\n\u001b[0;32m---> 52\u001b[0;31m         \u001b[0;32mreturn\u001b[0m \u001b[0mself\u001b[0m\u001b[0;34m.\u001b[0m\u001b[0mcollate_fn\u001b[0m\u001b[0;34m(\u001b[0m\u001b[0mdata\u001b[0m\u001b[0;34m)\u001b[0m\u001b[0;34m\u001b[0m\u001b[0;34m\u001b[0m\u001b[0m\n\u001b[0m",
      "\u001b[0;32m/tmp/ipykernel_73247/2758341449.py\u001b[0m in \u001b[0;36mbatchify\u001b[0;34m(batch)\u001b[0m\n\u001b[1;32m     42\u001b[0m         \u001b[0mx\u001b[0m\u001b[0;34m,\u001b[0m \u001b[0my\u001b[0m\u001b[0;34m,\u001b[0m \u001b[0ms\u001b[0m \u001b[0;34m=\u001b[0m \u001b[0mzip\u001b[0m\u001b[0;34m(\u001b[0m\u001b[0;34m*\u001b[0m\u001b[0mbatch\u001b[0m\u001b[0;34m)\u001b[0m\u001b[0;34m\u001b[0m\u001b[0;34m\u001b[0m\u001b[0m\n\u001b[1;32m     43\u001b[0m \u001b[0;34m\u001b[0m\u001b[0m\n\u001b[0;32m---> 44\u001b[0;31m         \u001b[0mx\u001b[0m \u001b[0;34m=\u001b[0m \u001b[0mcovariances\u001b[0m\u001b[0;34m(\u001b[0m\u001b[0mnp\u001b[0m\u001b[0;34m.\u001b[0m\u001b[0masarray\u001b[0m\u001b[0;34m(\u001b[0m\u001b[0mx\u001b[0m\u001b[0;34m)\u001b[0m\u001b[0;34m,\u001b[0m \u001b[0mestimator\u001b[0m\u001b[0;34m=\u001b[0m\u001b[0;34m'sch'\u001b[0m\u001b[0;34m)\u001b[0m\u001b[0;34m\u001b[0m\u001b[0;34m\u001b[0m\u001b[0m\n\u001b[0m\u001b[1;32m     45\u001b[0m \u001b[0;34m\u001b[0m\u001b[0m\n\u001b[1;32m     46\u001b[0m         \u001b[0mx\u001b[0m \u001b[0;34m=\u001b[0m \u001b[0mtorch\u001b[0m\u001b[0;34m.\u001b[0m\u001b[0mtensor\u001b[0m\u001b[0;34m(\u001b[0m\u001b[0mx\u001b[0m\u001b[0;34m)\u001b[0m\u001b[0;34m.\u001b[0m\u001b[0mfloat\u001b[0m\u001b[0;34m(\u001b[0m\u001b[0;34m)\u001b[0m\u001b[0;34m\u001b[0m\u001b[0;34m\u001b[0m\u001b[0m\n",
      "\u001b[0;32m~/.local/lib/python3.9/site-packages/pyriemann/utils/covariance.py\u001b[0m in \u001b[0;36mcovariances\u001b[0;34m(X, estimator)\u001b[0m\n\u001b[1;32m    145\u001b[0m     \u001b[0mcovmats\u001b[0m \u001b[0;34m=\u001b[0m \u001b[0mnp\u001b[0m\u001b[0;34m.\u001b[0m\u001b[0mempty\u001b[0m\u001b[0;34m(\u001b[0m\u001b[0;34m(\u001b[0m\u001b[0mn_trials\u001b[0m\u001b[0;34m,\u001b[0m \u001b[0mn_channels\u001b[0m\u001b[0;34m,\u001b[0m \u001b[0mn_channels\u001b[0m\u001b[0;34m)\u001b[0m\u001b[0;34m)\u001b[0m\u001b[0;34m\u001b[0m\u001b[0;34m\u001b[0m\u001b[0m\n\u001b[1;32m    146\u001b[0m     \u001b[0;32mfor\u001b[0m \u001b[0mi\u001b[0m \u001b[0;32min\u001b[0m \u001b[0mrange\u001b[0m\u001b[0;34m(\u001b[0m\u001b[0mn_trials\u001b[0m\u001b[0;34m)\u001b[0m\u001b[0;34m:\u001b[0m\u001b[0;34m\u001b[0m\u001b[0;34m\u001b[0m\u001b[0m\n\u001b[0;32m--> 147\u001b[0;31m         \u001b[0mcovmats\u001b[0m\u001b[0;34m[\u001b[0m\u001b[0mi\u001b[0m\u001b[0;34m,\u001b[0m \u001b[0;34m:\u001b[0m\u001b[0;34m,\u001b[0m \u001b[0;34m:\u001b[0m\u001b[0;34m]\u001b[0m \u001b[0;34m=\u001b[0m \u001b[0mest\u001b[0m\u001b[0;34m(\u001b[0m\u001b[0mX\u001b[0m\u001b[0;34m[\u001b[0m\u001b[0mi\u001b[0m\u001b[0;34m,\u001b[0m \u001b[0;34m:\u001b[0m\u001b[0;34m,\u001b[0m \u001b[0;34m:\u001b[0m\u001b[0;34m]\u001b[0m\u001b[0;34m)\u001b[0m\u001b[0;34m\u001b[0m\u001b[0;34m\u001b[0m\u001b[0m\n\u001b[0m\u001b[1;32m    148\u001b[0m     \u001b[0;32mreturn\u001b[0m \u001b[0mcovmats\u001b[0m\u001b[0;34m\u001b[0m\u001b[0;34m\u001b[0m\u001b[0m\n\u001b[1;32m    149\u001b[0m \u001b[0;34m\u001b[0m\u001b[0m\n",
      "\u001b[0;32m~/.local/lib/python3.9/site-packages/pyriemann/utils/covariance.py\u001b[0m in \u001b[0;36m_sch\u001b[0;34m(X)\u001b[0m\n\u001b[1;32m     65\u001b[0m     \u001b[0mR\u001b[0m \u001b[0;34m=\u001b[0m \u001b[0;34m(\u001b[0m\u001b[0mn_times\u001b[0m \u001b[0;34m/\u001b[0m \u001b[0;34m(\u001b[0m\u001b[0;34m(\u001b[0m\u001b[0mn_times\u001b[0m \u001b[0;34m-\u001b[0m \u001b[0;36m1.\u001b[0m\u001b[0;34m)\u001b[0m \u001b[0;34m*\u001b[0m \u001b[0mnp\u001b[0m\u001b[0;34m.\u001b[0m\u001b[0mouter\u001b[0m\u001b[0;34m(\u001b[0m\u001b[0mX\u001b[0m\u001b[0;34m.\u001b[0m\u001b[0mstd\u001b[0m\u001b[0;34m(\u001b[0m\u001b[0maxis\u001b[0m\u001b[0;34m=\u001b[0m\u001b[0;36m1\u001b[0m\u001b[0;34m)\u001b[0m\u001b[0;34m,\u001b[0m \u001b[0mX\u001b[0m\u001b[0;34m.\u001b[0m\u001b[0mstd\u001b[0m\u001b[0;34m(\u001b[0m\u001b[0maxis\u001b[0m\u001b[0;34m=\u001b[0m\u001b[0;36m1\u001b[0m\u001b[0;34m)\u001b[0m\u001b[0;34m)\u001b[0m\u001b[0;34m)\u001b[0m\u001b[0;34m)\u001b[0m\u001b[0;34m\u001b[0m\u001b[0;34m\u001b[0m\u001b[0m\n\u001b[1;32m     66\u001b[0m     \u001b[0mR\u001b[0m \u001b[0;34m*=\u001b[0m \u001b[0mC_scm\u001b[0m\u001b[0;34m\u001b[0m\u001b[0;34m\u001b[0m\u001b[0m\n\u001b[0;32m---> 67\u001b[0;31m     \u001b[0mvar_R\u001b[0m \u001b[0;34m=\u001b[0m \u001b[0;34m(\u001b[0m\u001b[0mX_c\u001b[0m \u001b[0;34m**\u001b[0m \u001b[0;36m2\u001b[0m\u001b[0;34m)\u001b[0m \u001b[0;34m@\u001b[0m \u001b[0;34m(\u001b[0m\u001b[0mX_c\u001b[0m \u001b[0;34m**\u001b[0m \u001b[0;36m2\u001b[0m\u001b[0;34m)\u001b[0m\u001b[0;34m.\u001b[0m\u001b[0mT\u001b[0m \u001b[0;34m-\u001b[0m \u001b[0;36m2\u001b[0m \u001b[0;34m*\u001b[0m \u001b[0mC_scm\u001b[0m \u001b[0;34m*\u001b[0m \u001b[0;34m(\u001b[0m\u001b[0mX_c\u001b[0m \u001b[0;34m@\u001b[0m \u001b[0mX_c\u001b[0m\u001b[0;34m.\u001b[0m\u001b[0mT\u001b[0m\u001b[0;34m)\u001b[0m\u001b[0;34m\u001b[0m\u001b[0;34m\u001b[0m\u001b[0m\n\u001b[0m\u001b[1;32m     68\u001b[0m     \u001b[0mvar_R\u001b[0m \u001b[0;34m+=\u001b[0m \u001b[0mn_times\u001b[0m \u001b[0;34m*\u001b[0m \u001b[0mC_scm\u001b[0m \u001b[0;34m**\u001b[0m \u001b[0;36m2\u001b[0m\u001b[0;34m\u001b[0m\u001b[0;34m\u001b[0m\u001b[0m\n\u001b[1;32m     69\u001b[0m     \u001b[0mXvar\u001b[0m \u001b[0;34m=\u001b[0m \u001b[0mnp\u001b[0m\u001b[0;34m.\u001b[0m\u001b[0mouter\u001b[0m\u001b[0;34m(\u001b[0m\u001b[0mX\u001b[0m\u001b[0;34m.\u001b[0m\u001b[0mvar\u001b[0m\u001b[0;34m(\u001b[0m\u001b[0maxis\u001b[0m\u001b[0;34m=\u001b[0m\u001b[0;36m1\u001b[0m\u001b[0;34m)\u001b[0m\u001b[0;34m,\u001b[0m \u001b[0mX\u001b[0m\u001b[0;34m.\u001b[0m\u001b[0mvar\u001b[0m\u001b[0;34m(\u001b[0m\u001b[0maxis\u001b[0m\u001b[0;34m=\u001b[0m\u001b[0;36m1\u001b[0m\u001b[0;34m)\u001b[0m\u001b[0;34m)\u001b[0m\u001b[0;34m\u001b[0m\u001b[0;34m\u001b[0m\u001b[0m\n",
      "\u001b[0;31mKeyboardInterrupt\u001b[0m: "
     ]
    }
   ],
   "source": [
    "%%time\n",
    "train_loss = list()\n",
    "train_acc = list()\n",
    "valid_loss = list()\n",
    "valid_acc = list()\n",
    "\n",
    "step = 0\n",
    "for e in range(100):\n",
    "    # training\n",
    "    model.train()\n",
    "\n",
    "    loss = list()\n",
    "    y_true = list()\n",
    "    y_pred = list()\n",
    "    for x, y, _ in train_data_loader:\n",
    "        step += 1\n",
    "\n",
    "        optimizer.zero_grad()\n",
    "\n",
    "        lprob = model(x.to(device))\n",
    "\n",
    "        _loss = F.nll_loss(lprob, y.to(device))\n",
    "        loss.append(float(_loss))\n",
    "        if step % (len(train_data_loader) // 2) == 0:\n",
    "            print(f\"epoch {e} - step {step} - loss: {_loss}\")\n",
    "\n",
    "        _loss.backward()\n",
    "        optimizer.step()\n",
    "\n",
    "        _pred = torch.argmax(lprob, dim=1).detach().cpu().numpy()\n",
    "\n",
    "        y_true.append(y)\n",
    "        y_pred.append(_pred)\n",
    "\n",
    "    _loss = np.mean(loss)\n",
    "    _acc = metrics.balanced_accuracy_score(\n",
    "        np.concatenate(y_true, axis=0), np.concatenate(y_pred, axis=0)\n",
    "    )\n",
    "    print(f\"epoch {e} - train loss: {_loss} - train acc: {_acc}\")\n",
    "\n",
    "    train_loss.append(_loss)\n",
    "    train_acc.append(_acc)\n",
    "\n",
    "    # validation\n",
    "    model.eval()\n",
    "\n",
    "    loss = list()\n",
    "    y_true = list()\n",
    "    y_pred = list()\n",
    "    with torch.no_grad():\n",
    "        for x, y, _ in val_data_loader:\n",
    "            lprob = model(x.to(device))\n",
    "\n",
    "            _loss = F.nll_loss(lprob, y.to(device))\n",
    "            loss.append(_loss)\n",
    "\n",
    "            _pred = torch.argmax(lprob, dim=1).detach().cpu().numpy()\n",
    "\n",
    "            y_true.append(y)\n",
    "            y_pred.append(_pred)\n",
    "\n",
    "    _loss = np.mean(loss)\n",
    "    _acc = metrics.balanced_accuracy_score(\n",
    "        np.concatenate(y_true, axis=0), np.concatenate(y_pred, axis=0)\n",
    "    )\n",
    "    print(f\"epoch {e} - valid loss: {_loss} - valid acc: {_acc}\")\n",
    "\n",
    "    valid_loss.append(_loss)\n",
    "    valid_acc.append(_acc)"
   ]
  },
  {
   "cell_type": "code",
   "execution_count": null,
   "id": "d96c4356-7b84-4000-a5c6-c37b23e2f847",
   "metadata": {},
   "outputs": [],
   "source": []
  }
 ],
 "metadata": {
  "kernelspec": {
   "display_name": "Python 3 (ipykernel)",
   "language": "python",
   "name": "python3"
  },
  "language_info": {
   "codemirror_mode": {
    "name": "ipython",
    "version": 3
   },
   "file_extension": ".py",
   "mimetype": "text/x-python",
   "name": "python",
   "nbconvert_exporter": "python",
   "pygments_lexer": "ipython3",
   "version": "3.9.7"
  }
 },
 "nbformat": 4,
 "nbformat_minor": 5
}
