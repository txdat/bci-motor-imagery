{
 "cells": [
  {
   "cell_type": "code",
   "execution_count": 1,
   "id": "fa2c0f1e-9fe8-41b7-aa00-065f28bb85a9",
   "metadata": {},
   "outputs": [],
   "source": [
    "import numpy as np\n",
    "import pandas as pd\n",
    "import mne\n",
    "import matplotlib.pyplot as plt\n",
    "from matplotlib.figure import Figure\n",
    "import seaborn as sb\n",
    "import pickle as pkl\n",
    "from braindecode.datasets import BaseConcatDataset, create_from_X_y\n",
    "from shutil import copyfile\n",
    "from tqdm import tqdm\n",
    "from sklearn.preprocessing import LabelEncoder\n",
    "from data_util import load_subjects, load_subject_data, load_data, euclidean_alignment, label_alignment\n",
    "from alignment import np_compute_transform_mat, np_euclidean_alignment, np_compute_target_transform_mats, np_label_alignment\n",
    "from util import np_standardize"
   ]
  },
  {
   "cell_type": "code",
   "execution_count": 2,
   "id": "a016a99a-0571-4e41-ad1d-3ef939f98767",
   "metadata": {},
   "outputs": [],
   "source": [
    "# data_dir = \"/content/drive/MyDrive/DataVIN/Official\"\n",
    "# als_data_dir = \"/content/drive/MyDrive/VIN_ALS\"\n",
    "data_dir = \"../data/vin/Official\"\n",
    "als_data_dir = \"../data/vin/Official\""
   ]
  },
  {
   "cell_type": "code",
   "execution_count": 3,
   "id": "696a3d9a-a8fc-4817-92b7-b5bd737f6760",
   "metadata": {},
   "outputs": [
    {
     "name": "stdout",
     "output_type": "stream",
     "text": [
      "using 32 channels\n"
     ]
    },
    {
     "name": "stderr",
     "output_type": "stream",
     "text": [
      "subject:  10%|█         | 11/109 [00:00<00:01, 92.72it/s]/home/administrator/txdat/eeg-motor-imagery/notebooks/data_util.py:211: RuntimeWarning: Limited 1 annotation(s) that were expanding outside the data range.\n",
      "  raw = mne.io.read_raw_edf(f\"{sample_dir}/EEG.edf\", preload=False, verbose=False)\n",
      "/home/administrator/txdat/eeg-motor-imagery/notebooks/data_util.py:211: RuntimeWarning: Limited 1 annotation(s) that were expanding outside the data range.\n",
      "  raw = mne.io.read_raw_edf(f\"{sample_dir}/EEG.edf\", preload=False, verbose=False)\n",
      "subject:  24%|██▍       | 26/109 [00:00<00:03, 26.30it/s]/home/administrator/txdat/eeg-motor-imagery/notebooks/data_util.py:211: RuntimeWarning: Limited 1 annotation(s) that were expanding outside the data range.\n",
      "  raw = mne.io.read_raw_edf(f\"{sample_dir}/EEG.edf\", preload=False, verbose=False)\n",
      "subject:  28%|██▊       | 30/109 [00:01<00:02, 27.67it/s]/home/administrator/txdat/eeg-motor-imagery/notebooks/data_util.py:211: RuntimeWarning: Limited 1 annotation(s) that were expanding outside the data range.\n",
      "  raw = mne.io.read_raw_edf(f\"{sample_dir}/EEG.edf\", preload=False, verbose=False)\n",
      "subject:  31%|███       | 34/109 [00:01<00:02, 26.62it/s]/home/administrator/txdat/eeg-motor-imagery/notebooks/data_util.py:211: RuntimeWarning: Limited 1 annotation(s) that were expanding outside the data range.\n",
      "  raw = mne.io.read_raw_edf(f\"{sample_dir}/EEG.edf\", preload=False, verbose=False)\n",
      "/home/administrator/txdat/eeg-motor-imagery/notebooks/data_util.py:211: RuntimeWarning: Limited 1 annotation(s) that were expanding outside the data range.\n",
      "  raw = mne.io.read_raw_edf(f\"{sample_dir}/EEG.edf\", preload=False, verbose=False)\n",
      "/home/administrator/txdat/eeg-motor-imagery/notebooks/data_util.py:211: RuntimeWarning: Limited 1 annotation(s) that were expanding outside the data range.\n",
      "  raw = mne.io.read_raw_edf(f\"{sample_dir}/EEG.edf\", preload=False, verbose=False)\n",
      "subject:  75%|███████▌  | 82/109 [00:06<00:02,  9.39it/s]/home/administrator/txdat/eeg-motor-imagery/notebooks/data_util.py:211: RuntimeWarning: Limited 1 annotation(s) that were expanding outside the data range.\n",
      "  raw = mne.io.read_raw_edf(f\"{sample_dir}/EEG.edf\", preload=False, verbose=False)\n",
      "/home/administrator/txdat/eeg-motor-imagery/notebooks/data_util.py:211: RuntimeWarning: Limited 1 annotation(s) that were expanding outside the data range.\n",
      "  raw = mne.io.read_raw_edf(f\"{sample_dir}/EEG.edf\", preload=False, verbose=False)\n",
      "subject:  79%|███████▉  | 86/109 [00:06<00:02, 10.49it/s]/home/administrator/txdat/eeg-motor-imagery/notebooks/data_util.py:211: RuntimeWarning: Limited 1 annotation(s) that were expanding outside the data range.\n",
      "  raw = mne.io.read_raw_edf(f\"{sample_dir}/EEG.edf\", preload=False, verbose=False)\n",
      "subject:  83%|████████▎ | 90/109 [00:06<00:01, 10.69it/s]/home/administrator/txdat/eeg-motor-imagery/notebooks/data_util.py:211: RuntimeWarning: Limited 1 annotation(s) that were expanding outside the data range.\n",
      "  raw = mne.io.read_raw_edf(f\"{sample_dir}/EEG.edf\", preload=False, verbose=False)\n",
      "subject:  84%|████████▍ | 92/109 [00:06<00:01, 10.96it/s]/home/administrator/txdat/eeg-motor-imagery/notebooks/data_util.py:211: RuntimeWarning: Limited 1 annotation(s) that were expanding outside the data range.\n",
      "  raw = mne.io.read_raw_edf(f\"{sample_dir}/EEG.edf\", preload=False, verbose=False)\n",
      "/home/administrator/txdat/eeg-motor-imagery/notebooks/data_util.py:211: RuntimeWarning: Limited 1 annotation(s) that were expanding outside the data range.\n",
      "  raw = mne.io.read_raw_edf(f\"{sample_dir}/EEG.edf\", preload=False, verbose=False)\n",
      "subject:  88%|████████▊ | 96/109 [00:07<00:01, 11.06it/s]/home/administrator/txdat/eeg-motor-imagery/notebooks/data_util.py:211: RuntimeWarning: Limited 1 annotation(s) that were expanding outside the data range.\n",
      "  raw = mne.io.read_raw_edf(f\"{sample_dir}/EEG.edf\", preload=False, verbose=False)\n",
      "subject:  91%|█████████ | 99/109 [00:07<00:01,  9.04it/s]/home/administrator/txdat/eeg-motor-imagery/notebooks/data_util.py:211: RuntimeWarning: Limited 1 annotation(s) that were expanding outside the data range.\n",
      "  raw = mne.io.read_raw_edf(f\"{sample_dir}/EEG.edf\", preload=False, verbose=False)\n",
      "/home/administrator/txdat/eeg-motor-imagery/notebooks/data_util.py:211: RuntimeWarning: Limited 1 annotation(s) that were expanding outside the data range.\n",
      "  raw = mne.io.read_raw_edf(f\"{sample_dir}/EEG.edf\", preload=False, verbose=False)\n",
      "subject:  92%|█████████▏| 100/109 [00:07<00:00,  9.19it/s]/home/administrator/txdat/eeg-motor-imagery/notebooks/data_util.py:211: RuntimeWarning: Limited 1 annotation(s) that were expanding outside the data range.\n",
      "  raw = mne.io.read_raw_edf(f\"{sample_dir}/EEG.edf\", preload=False, verbose=False)\n",
      "/home/administrator/txdat/eeg-motor-imagery/notebooks/data_util.py:211: RuntimeWarning: Limited 1 annotation(s) that were expanding outside the data range.\n",
      "  raw = mne.io.read_raw_edf(f\"{sample_dir}/EEG.edf\", preload=False, verbose=False)\n",
      "subject:  99%|█████████▉| 108/109 [00:08<00:00, 11.19it/s]/home/administrator/txdat/eeg-motor-imagery/notebooks/data_util.py:211: RuntimeWarning: Limited 1 annotation(s) that were expanding outside the data range.\n",
      "  raw = mne.io.read_raw_edf(f\"{sample_dir}/EEG.edf\", preload=False, verbose=False)\n",
      "subject: 100%|██████████| 109/109 [00:08<00:00, 12.61it/s]\n",
      "subject: 100%|██████████| 97/97 [00:09<00:00, 10.62it/s]\n",
      "trial: 100%|██████████| 2754/2754 [00:09<00:00, 280.23it/s]\n"
     ]
    },
    {
     "name": "stdout",
     "output_type": "stream",
     "text": [
      "loaded 97 subjects - 24972 epochs\n",
      "CPU times: user 1min 15s, sys: 7.77 s, total: 1min 22s\n",
      "Wall time: 1min 23s\n"
     ]
    },
    {
     "data": {
      "text/html": [
       "<div>\n",
       "<style scoped>\n",
       "    .dataframe tbody tr th:only-of-type {\n",
       "        vertical-align: middle;\n",
       "    }\n",
       "\n",
       "    .dataframe tbody tr th {\n",
       "        vertical-align: top;\n",
       "    }\n",
       "\n",
       "    .dataframe thead th {\n",
       "        text-align: right;\n",
       "    }\n",
       "</style>\n",
       "<table border=\"1\" class=\"dataframe\">\n",
       "  <thead>\n",
       "    <tr style=\"text-align: right;\">\n",
       "      <th></th>\n",
       "      <th>subject</th>\n",
       "      <th>scenario</th>\n",
       "      <th>event</th>\n",
       "      <th>label</th>\n",
       "      <th>trial</th>\n",
       "      <th>split</th>\n",
       "      <th>epochs</th>\n",
       "    </tr>\n",
       "  </thead>\n",
       "  <tbody>\n",
       "    <tr>\n",
       "      <th>0</th>\n",
       "      <td>K001</td>\n",
       "      <td>nâng tay trái</td>\n",
       "      <td>Thinking</td>\n",
       "      <td>nâng tay trái</td>\n",
       "      <td>0</td>\n",
       "      <td>train</td>\n",
       "      <td>9</td>\n",
       "    </tr>\n",
       "    <tr>\n",
       "      <th>1</th>\n",
       "      <td>K001</td>\n",
       "      <td>nâng tay trái</td>\n",
       "      <td>Resting</td>\n",
       "      <td>rest</td>\n",
       "      <td>0</td>\n",
       "      <td>train</td>\n",
       "      <td>10</td>\n",
       "    </tr>\n",
       "    <tr>\n",
       "      <th>2</th>\n",
       "      <td>K001</td>\n",
       "      <td>nâng tay trái</td>\n",
       "      <td>Resting</td>\n",
       "      <td>rest</td>\n",
       "      <td>1</td>\n",
       "      <td>train</td>\n",
       "      <td>5</td>\n",
       "    </tr>\n",
       "    <tr>\n",
       "      <th>3</th>\n",
       "      <td>K001</td>\n",
       "      <td>nâng tay trái</td>\n",
       "      <td>Thinking</td>\n",
       "      <td>nâng tay trái</td>\n",
       "      <td>1</td>\n",
       "      <td>train</td>\n",
       "      <td>10</td>\n",
       "    </tr>\n",
       "    <tr>\n",
       "      <th>4</th>\n",
       "      <td>K001</td>\n",
       "      <td>nâng tay trái</td>\n",
       "      <td>Resting</td>\n",
       "      <td>rest</td>\n",
       "      <td>2</td>\n",
       "      <td>train</td>\n",
       "      <td>4</td>\n",
       "    </tr>\n",
       "    <tr>\n",
       "      <th>...</th>\n",
       "      <td>...</td>\n",
       "      <td>...</td>\n",
       "      <td>...</td>\n",
       "      <td>...</td>\n",
       "      <td>...</td>\n",
       "      <td>...</td>\n",
       "      <td>...</td>\n",
       "    </tr>\n",
       "    <tr>\n",
       "      <th>2749</th>\n",
       "      <td>K375</td>\n",
       "      <td>nâng chân phải</td>\n",
       "      <td>Resting</td>\n",
       "      <td>rest</td>\n",
       "      <td>2</td>\n",
       "      <td>train</td>\n",
       "      <td>4</td>\n",
       "    </tr>\n",
       "    <tr>\n",
       "      <th>2750</th>\n",
       "      <td>K375</td>\n",
       "      <td>nâng chân phải</td>\n",
       "      <td>Resting</td>\n",
       "      <td>rest</td>\n",
       "      <td>3</td>\n",
       "      <td>train</td>\n",
       "      <td>5</td>\n",
       "    </tr>\n",
       "    <tr>\n",
       "      <th>2751</th>\n",
       "      <td>K375</td>\n",
       "      <td>nâng chân phải</td>\n",
       "      <td>Thinking</td>\n",
       "      <td>nâng chân phải</td>\n",
       "      <td>2</td>\n",
       "      <td>train</td>\n",
       "      <td>11</td>\n",
       "    </tr>\n",
       "    <tr>\n",
       "      <th>2752</th>\n",
       "      <td>K375</td>\n",
       "      <td>nâng chân phải</td>\n",
       "      <td>Resting</td>\n",
       "      <td>rest</td>\n",
       "      <td>4</td>\n",
       "      <td>train</td>\n",
       "      <td>6</td>\n",
       "    </tr>\n",
       "    <tr>\n",
       "      <th>2753</th>\n",
       "      <td>K375</td>\n",
       "      <td>nâng chân phải</td>\n",
       "      <td>Resting</td>\n",
       "      <td>rest</td>\n",
       "      <td>5</td>\n",
       "      <td>train</td>\n",
       "      <td>3</td>\n",
       "    </tr>\n",
       "  </tbody>\n",
       "</table>\n",
       "<p>2754 rows × 7 columns</p>\n",
       "</div>"
      ],
      "text/plain": [
       "     subject        scenario     event           label  trial  split  epochs\n",
       "0       K001   nâng tay trái  Thinking   nâng tay trái      0  train       9\n",
       "1       K001   nâng tay trái   Resting            rest      0  train      10\n",
       "2       K001   nâng tay trái   Resting            rest      1  train       5\n",
       "3       K001   nâng tay trái  Thinking   nâng tay trái      1  train      10\n",
       "4       K001   nâng tay trái   Resting            rest      2  train       4\n",
       "...      ...             ...       ...             ...    ...    ...     ...\n",
       "2749    K375  nâng chân phải   Resting            rest      2  train       4\n",
       "2750    K375  nâng chân phải   Resting            rest      3  train       5\n",
       "2751    K375  nâng chân phải  Thinking  nâng chân phải      2  train      11\n",
       "2752    K375  nâng chân phải   Resting            rest      4  train       6\n",
       "2753    K375  nâng chân phải   Resting            rest      5  train       3\n",
       "\n",
       "[2754 rows x 7 columns]"
      ]
     },
     "execution_count": 3,
     "metadata": {},
     "output_type": "execute_result"
    }
   ],
   "source": [
    "%%time\n",
    "# fmt: off\n",
    "# subjects = [\n",
    "#     'K300', 'K309', 'K310', 'K311', 'K312', \n",
    "#     'K313', 'K314', 'K315', 'K316', 'K319', \n",
    "#     'K320', 'K321', 'K322', 'K323', 'K324', \n",
    "#     'K325', 'K326', 'K327', 'K328', 'K329', \n",
    "#     'K330', 'K331', 'K332', 'K333', 'K334', \n",
    "#     'K335', 'K336', 'K337', 'K338', 'K339', \n",
    "#     'K340', 'K342', 'K343', 'K344', 'K350', \n",
    "#     'K351', 'K352', 'K353', 'K354', 'K355', \n",
    "#     'K356', 'K357', 'K358', 'K359', 'K360', \n",
    "#     'K361', 'K362', 'K363', 'K364', 'K365', \n",
    "#     'K366', 'K367', 'K368', 'K369', 'K370', \n",
    "#     'K371', 'K372', 'K373', 'K374', 'K375',\n",
    "# ]\n",
    "\n",
    "subjects = [\n",
    "    'K001', 'K002', 'K003', 'K004',\n",
    "    'K005', 'K006', 'K007', 'K008', 'K009',\n",
    "    'K010', 'K011', 'K012', 'K013', 'K014',\n",
    "    'K015', 'K016', 'K017', 'K018', 'K019',\n",
    "    'K020', 'K021', 'K022', 'K023', 'K024',\n",
    "    'K025', 'K026', 'K027', 'K028', 'K299',\n",
    "    'K300', 'K301', 'K302', 'K303', 'K304',\n",
    "    'K305', 'K306', 'K307', 'K308', 'K309',\n",
    "    'K310', 'K311', 'K312', 'K313', 'K314',\n",
    "    'K315', 'K316', 'K317', 'K318', 'K319',\n",
    "    'K320', 'K321', 'K322', 'K323', 'K324',\n",
    "    'K325', 'K326', 'K327', 'K328', 'K329',\n",
    "    'K330', 'K331', 'K332', 'K333', 'K334',\n",
    "    'K335', 'K336', 'K337', 'K338', 'K339',\n",
    "    'K340', 'K342', 'K343', 'K344', 'K350',\n",
    "    'K351', 'K352', 'K353', 'K354', 'K355',\n",
    "    'K356', 'K357', 'K358', 'K359', 'K360',\n",
    "    'K361', 'K362', 'K363', 'K364', 'K365',\n",
    "    'K366', 'K367', 'K368', 'K369', 'K370',\n",
    "    'K371', 'K372', 'K373', 'K374', 'K375',\n",
    "]\n",
    "\n",
    "subjects = sorted(subjects)\n",
    "\n",
    "scenarios = [\n",
    "    \"nâng tay trái\",\n",
    "    \"nâng tay phải\",\n",
    "    \"nâng chân trái\",\n",
    "    \"nâng chân phải\",\n",
    "    # \"gật đầu\",\n",
    "    # \"lắc đầu\",\n",
    "    # \"há miệng\",\n",
    "]\n",
    "\n",
    "events = [\n",
    "    \"Thinking\",\n",
    "    # \"Thinking and Acting\",\n",
    "    \"Resting\",\n",
    "    # \"Typing\",\n",
    "]\n",
    "\n",
    "channels = [\n",
    "    \"Fp1\", \"Fp2\",\n",
    "    \"F7\", \"F3\", \"Fz\", \"F4\", \"F8\",\n",
    "    \"FT9\", \"FC5\", \"FC1\", \"FC2\", \"FC6\", \"FT10\",\n",
    "    # \"FC5\", \"FC1\", \"FC2\", \"FC6\",\n",
    "    \"T7\", \"C3\", \"Cz\", \"C4\", \"T8\",\n",
    "    \"CP5\", \"CP1\", \"CP2\", \"CP6\",\n",
    "    \"P7\", \"P3\", \"Pz\", \"P4\", \"P8\",\n",
    "    \"PO9\", \"O1\", \"Oz\", \"O2\", \"PO10\",\n",
    "    # \"O1\", \"Oz\", \"O2\",\n",
    "]\n",
    "# channels = [\n",
    "#     # \"F3\", \"Fz\", \"F4\",\n",
    "#     \"FC5\", \"FC1\", \"FC2\", \"FC6\",\n",
    "#     \"C3\", \"Cz\", \"C4\",\n",
    "#     \"CP5\", \"CP1\", \"CP2\", \"CP6\",\n",
    "#     # \"P3\", \"Pz\", \"P4\",\n",
    "# ]\n",
    "\n",
    "label_mapping={\n",
    "    \"nâng tay trái_Thinking\": \"nâng tay trái\",\n",
    "    \"nâng tay phải_Thinking\": \"nâng tay phải\",\n",
    "    # \"nâng tay trái_Thinking\": \"nâng tay\",\n",
    "    # \"nâng tay phải_Thinking\": \"nâng tay\",\n",
    "    # \"nâng tay trái_Thinking\": \"mi\",\n",
    "    # \"nâng tay phải_Thinking\": \"mi\",\n",
    "    \"nâng chân trái_Thinking\": \"nâng chân trái\",\n",
    "    \"nâng chân phải_Thinking\": \"nâng chân phải\",\n",
    "    # \"nâng chân trái_Thinking\": \"nâng chân\",\n",
    "    # \"nâng chân phải_Thinking\": \"nâng chân\",\n",
    "    # \"nâng chân trái_Thinking\": \"mi\",\n",
    "    # \"nâng chân phải_Thinking\": \"mi\",\n",
    "    \"gật đầu_Thinking\": \"gật đầu\",\n",
    "    \"lắc đầu_Thinking\": \"lắc đầu\",\n",
    "    # \"gật đầu_Thinking\": \"đầu\",\n",
    "    # \"lắc đầu_Thinking\": \"đầu\",\n",
    "    # \"gật đầu_Thinking\": \"mi\",\n",
    "    # \"lắc đầu_Thinking\": \"mi\",\n",
    "    \"há miệng_Thinking\": \"há miệng\",\n",
    "    # \"há miệng_Thinking\": \"mi\",\n",
    "    # \"nâng tay trái_Thinking and Acting\": \"nâng tay trái\",\n",
    "    # \"nâng tay phải_Thinking and Acting\": \"nâng tay phải\",\n",
    "    # \"nâng chân trái_Thinking and Acting\": \"nâng chân trái\",\n",
    "    # \"nâng chân phải_Thinking and Acting\": \"nâng chân phải\",\n",
    "    # \"gật đầu_Thinking and Acting\": \"gật đầu\",\n",
    "    # \"lắc đầu_Thinking and Acting\": \"lắc đầu\",\n",
    "    # \"há miệng_Thinking and Acting\": \"há miệng\",\n",
    "    \"Resting\": \"rest\",\n",
    "}\n",
    "\n",
    "n_channels = len(channels)\n",
    "\n",
    "print(f\"using {n_channels} channels\")\n",
    "\n",
    "minimal_trial_duration = 3  # @param\n",
    "window_duration = 2  # @param\n",
    "window_stride_duration = 0.5  # @param\n",
    "\n",
    "fmin = 8.0  # @param\n",
    "fmax = 30.0  # @param\n",
    "\n",
    "ds = load_data(\n",
    "    data_dir,  \n",
    "    subjects=subjects,\n",
    "    scenarios=scenarios,\n",
    "    events=events,\n",
    "    channels=channels,\n",
    "    label_mapping=label_mapping,\n",
    "    minimal_trial_duration=minimal_trial_duration,\n",
    "    window_duration=window_duration, \n",
    "    window_stride_duration=window_stride_duration, \n",
    "    start_offset=0,\n",
    "    stop_offset=0,\n",
    "    fmin=fmin, \n",
    "    fmax=fmax, \n",
    "    moving_standardize=False,\n",
    "    resample=None,\n",
    "    return_raw=False,\n",
    "    return_preprocessed=False,\n",
    "    preload=True,\n",
    ")\n",
    "\n",
    "# als_subjects = [\"ALS01_t1\", \"ALS01_t2\", \"ALS02_t1\", \"ALS02_t2\"]\n",
    "\n",
    "# als_ds = load_data(\n",
    "#     als_data_dir,  \n",
    "#     subjects=als_subjects,\n",
    "#     scenarios=scenarios,\n",
    "#     events=events,\n",
    "#     channels=channels,\n",
    "#     label_mapping=label_mapping,\n",
    "#     minimal_trial_duration=minimal_trial_duration,\n",
    "#     window_duration=window_duration, \n",
    "#     window_stride_duration=window_stride_duration, \n",
    "#     start_offset=0,\n",
    "#     stop_offset=0,\n",
    "#     fmin=fmin, \n",
    "#     fmax=fmax, \n",
    "#     moving_standardize=False,\n",
    "#     resample=None,\n",
    "#     return_raw=False,\n",
    "#     return_preprocessed=False,\n",
    "#     preload=True,\n",
    "# )\n",
    "\n",
    "# ds = BaseConcatDataset([ds, als_ds])\n",
    "\n",
    "# fmt: on\n",
    "\n",
    "# for _ds in ds.datasets:\n",
    "#     _ds_info = _ds.description\n",
    "#     if _ds_info[\"subject\"] == \"K314\":\n",
    "#         _ds_info[\"subject\"] = \"K314_t1\"\n",
    "#     elif _ds_info[\"subject\"] == \"K324\":\n",
    "#         _ds_info[\"subject\"] = \"K314_t2\"\n",
    "\n",
    "ds_info = ds.description\n",
    "\n",
    "ds_info[\"epochs\"] = 0\n",
    "for i, r in ds_info.iterrows():\n",
    "    ds_info.loc[i, \"epochs\"] = len(ds.datasets[i].windows)\n",
    "\n",
    "print(f\"loaded {len(ds_info['subject'].unique())} subjects - {ds_info['epochs'].sum()} epochs\")\n",
    "ds_info"
   ]
  },
  {
   "cell_type": "code",
   "execution_count": 4,
   "id": "e550d9cd-da04-4b47-8b66-ee0aa62de0c5",
   "metadata": {},
   "outputs": [
    {
     "data": {
      "text/plain": [
       "{'rest': 0,\n",
       " 'nâng chân phải': 1,\n",
       " 'nâng chân trái': 2,\n",
       " 'nâng tay phải': 3,\n",
       " 'nâng tay trái': 4}"
      ]
     },
     "execution_count": 4,
     "metadata": {},
     "output_type": "execute_result"
    }
   ],
   "source": [
    "ds.datasets[0].windows.event_id"
   ]
  },
  {
   "cell_type": "code",
   "execution_count": 5,
   "id": "56a45925-602a-4d10-8e79-d5895c40f7c6",
   "metadata": {},
   "outputs": [],
   "source": [
    "import numpy as np\n",
    "from scipy import linalg, stats, signal\n",
    "import pandas as pd\n",
    "import matplotlib.pyplot as plt\n",
    "import seaborn as sb\n",
    "import mne\n",
    "# import yasa\n",
    "import sklearn.metrics as metrics\n",
    "from sklearn.preprocessing import LabelEncoder\n",
    "from sklearn.preprocessing import StandardScaler\n",
    "from sklearn.pipeline import make_pipeline\n",
    "from sklearn.svm import LinearSVC, SVC\n",
    "# from sklearn.ensemble import RandomForestClassifier\n",
    "# from sklearn.linear_model import LogisticRegression\n",
    "from sklearn.discriminant_analysis import LinearDiscriminantAnalysis\n",
    "from sklearn.multiclass import OneVsRestClassifier\n",
    "from pyriemann.estimation import Covariances\n",
    "# from pyriemann.spatialfilters import CSP\n",
    "from pyriemann.tangentspace import TangentSpace\n",
    "from pyriemann.classification import TSclassifier, MDM, FgMDM\n",
    "import pickle as pkl\n",
    "from tqdm import tqdm\n",
    "from copy import deepcopy\n",
    "from collections import defaultdict"
   ]
  },
  {
   "cell_type": "code",
   "execution_count": 6,
   "id": "6b7f0609-8d93-4354-ac92-4a3d9bccb2bb",
   "metadata": {},
   "outputs": [
    {
     "name": "stderr",
     "output_type": "stream",
     "text": [
      "subject: 100%|██████████| 97/97 [00:08<00:00, 11.24it/s]\n"
     ]
    }
   ],
   "source": [
    "ds_ea = deepcopy(ds)\n",
    "euclidean_alignment(ds_ea, target_subject=None, labeled_trials=None)"
   ]
  },
  {
   "cell_type": "code",
   "execution_count": 18,
   "id": "add33bb7-62c2-463c-9ed6-36e402160bc7",
   "metadata": {},
   "outputs": [
    {
     "name": "stderr",
     "output_type": "stream",
     "text": [
      "subject:   0%|          | 0/60 [00:00<?, ?it/s]"
     ]
    },
    {
     "name": "stdout",
     "output_type": "stream",
     "text": [
      "==========subject K300==========\n",
      "[9471 1870 1863 1866 1850] [236  24  30  28  48]\n"
     ]
    },
    {
     "name": "stderr",
     "output_type": "stream",
     "text": [
      "subject:   2%|▏         | 1/60 [00:23<22:54, 23.30s/it]"
     ]
    },
    {
     "name": "stdout",
     "output_type": "stream",
     "text": [
      "accuracy: 0.42408797417272004\n",
      "f1_weighted: 0.6115707454668231\n",
      "confusion matrix:\n",
      "[[222   6   3   4   1]\n",
      " [  1  21   2   0   0]\n",
      " [ 11  12   7   0   0]\n",
      " [ 16  10   0   2   0]\n",
      " [ 45   2   1   0   0]]\n",
      "==========subject K309==========\n",
      "[9491 1864 1866 1864 1869] [216  30  27  30  29]\n"
     ]
    },
    {
     "name": "stderr",
     "output_type": "stream",
     "text": [
      "subject:   3%|▎         | 2/60 [00:47<22:45, 23.55s/it]"
     ]
    },
    {
     "name": "stdout",
     "output_type": "stream",
     "text": [
      "accuracy: 0.5396296296296297\n",
      "f1_weighted: 0.7274706684538076\n",
      "confusion matrix:\n",
      "[[186   4   2  12  12]\n",
      " [  0  26   4   0   0]\n",
      " [  0  15  10   1   1]\n",
      " [  2   6   4  18   0]\n",
      " [  0   2  19   8   0]]\n",
      "==========subject K310==========\n",
      "[9462 1860 1862 1861 1865] [245  34  31  33  33]\n"
     ]
    },
    {
     "name": "stderr",
     "output_type": "stream",
     "text": [
      "subject:   5%|▌         | 3/60 [01:12<23:19, 24.55s/it]"
     ]
    },
    {
     "name": "stdout",
     "output_type": "stream",
     "text": [
      "accuracy: 0.40138309869402305\n",
      "f1_weighted: 0.6490179122428085\n",
      "confusion matrix:\n",
      "[[198  16   3  16  12]\n",
      " [  0  15   0  17   2]\n",
      " [  0   5   0  18   8]\n",
      " [  2   3   2  21   5]\n",
      " [  6   1   1  21   4]]\n",
      "==========subject K311==========\n",
      "[9471 1858 1865 1857 1864] [236  36  28  37  34]\n"
     ]
    },
    {
     "name": "stderr",
     "output_type": "stream",
     "text": [
      "subject:   7%|▋         | 4/60 [01:39<23:40, 25.36s/it]"
     ]
    },
    {
     "name": "stdout",
     "output_type": "stream",
     "text": [
      "accuracy: 0.3984981349388129\n",
      "f1_weighted: 0.6870607559890483\n",
      "confusion matrix:\n",
      "[[234   0   2   0   0]\n",
      " [  0  27   4   2   3]\n",
      " [  0  23   4   0   1]\n",
      " [  0  26   6   4   1]\n",
      " [ 14  19   1   0   0]]\n",
      "==========subject K312==========\n",
      "[9480 1853 1862 1856 1851] [227  41  31  38  47]\n"
     ]
    },
    {
     "name": "stderr",
     "output_type": "stream",
     "text": [
      "subject:   8%|▊         | 5/60 [02:03<22:52, 24.96s/it]"
     ]
    },
    {
     "name": "stdout",
     "output_type": "stream",
     "text": [
      "accuracy: 0.40369264486137457\n",
      "f1_weighted: 0.6519102671188958\n",
      "confusion matrix:\n",
      "[[213   5   7   1   1]\n",
      " [  3  33   0   5   0]\n",
      " [  0  15   1  15   0]\n",
      " [  0   3  26   6   3]\n",
      " [ 19   5  18   1   4]]\n",
      "==========subject K313==========\n",
      "[9488 1856 1856 1850 1862] [219  38  37  44  36]\n"
     ]
    },
    {
     "name": "stderr",
     "output_type": "stream",
     "text": [
      "subject:  10%|█         | 6/60 [02:35<24:26, 27.16s/it]"
     ]
    },
    {
     "name": "stdout",
     "output_type": "stream",
     "text": [
      "accuracy: 0.4600736608667394\n",
      "f1_weighted: 0.6464275350952675\n",
      "confusion matrix:\n",
      "[[213   0   4   1   1]\n",
      " [  0  37   1   0   0]\n",
      " [  2  29   6   0   0]\n",
      " [  9  16  11   6   2]\n",
      " [ 28   5   0   1   2]]\n",
      "==========subject K314==========\n",
      "[9491 1865 1864 1865 1864] [216  29  29  29  34]\n"
     ]
    },
    {
     "name": "stderr",
     "output_type": "stream",
     "text": [
      "subject:  12%|█▏        | 7/60 [02:57<22:37, 25.62s/it]"
     ]
    },
    {
     "name": "stdout",
     "output_type": "stream",
     "text": [
      "accuracy: 0.43707647810081884\n",
      "f1_weighted: 0.7015616770987799\n",
      "confusion matrix:\n",
      "[[205   4   3   4   0]\n",
      " [  0  20   4   5   0]\n",
      " [  0  16   7   6   0]\n",
      " [  2  11   8   8   0]\n",
      " [  4  18   4   7   1]]\n",
      "==========subject K315==========\n",
      "[9460 1857 1857 1860 1863] [247  37  36  34  35]\n"
     ]
    },
    {
     "name": "stderr",
     "output_type": "stream",
     "text": [
      "subject:  13%|█▎        | 8/60 [03:26<23:11, 26.77s/it]"
     ]
    },
    {
     "name": "stdout",
     "output_type": "stream",
     "text": [
      "accuracy: 0.3945945945945946\n",
      "f1_weighted: 0.6434287151964042\n",
      "confusion matrix:\n",
      "[[247   0   0   0   0]\n",
      " [  1  36   0   0   0]\n",
      " [  2  34   0   0   0]\n",
      " [  6  27   1   0   0]\n",
      " [ 24   8   3   0   0]]\n",
      "==========subject K316==========\n",
      "[9452 1857 1862 1861 1865] [255  37  31  33  33]\n"
     ]
    },
    {
     "name": "stderr",
     "output_type": "stream",
     "text": [
      "subject:  15%|█▌        | 9/60 [03:51<22:14, 26.16s/it]"
     ]
    },
    {
     "name": "stdout",
     "output_type": "stream",
     "text": [
      "accuracy: 0.3773396926338103\n",
      "f1_weighted: 0.6413923096552245\n",
      "confusion matrix:\n",
      "[[233  13   0   6   3]\n",
      " [  1  36   0   0   0]\n",
      " [  0  31   0   0   0]\n",
      " [  2  28   3   0   0]\n",
      " [ 21   8   4   0   0]]\n",
      "==========subject K319==========\n",
      "[9446 1866 1868 1863 1876] [261  28  25  31  22]\n"
     ]
    },
    {
     "name": "stderr",
     "output_type": "stream",
     "text": [
      "subject:  17%|█▋        | 10/60 [04:19<22:10, 26.61s/it]"
     ]
    },
    {
     "name": "stdout",
     "output_type": "stream",
     "text": [
      "accuracy: 0.4014354573865141\n",
      "f1_weighted: 0.7087468275502209\n",
      "confusion matrix:\n",
      "[[231  22   6   1   1]\n",
      " [  0  26   2   0   0]\n",
      " [  0  21   0   4   0]\n",
      " [  4  16   3   6   2]\n",
      " [  5   7   1   9   0]]\n",
      "==========subject K320==========\n",
      "[9516 1865 1868 1867 1873] [191  29  25  27  25]\n"
     ]
    },
    {
     "name": "stderr",
     "output_type": "stream",
     "text": [
      "subject:  18%|█▊        | 11/60 [04:45<21:42, 26.59s/it]"
     ]
    },
    {
     "name": "stdout",
     "output_type": "stream",
     "text": [
      "accuracy: 0.3605027782792723\n",
      "f1_weighted: 0.635267600898914\n",
      "confusion matrix:\n",
      "[[175  11   3   2   0]\n",
      " [  2  19   1   6   1]\n",
      " [  2  18   3   1   1]\n",
      " [ 14  10   0   3   0]\n",
      " [ 12  13   0   0   0]]\n",
      "==========subject K321==========\n",
      "[9634 1865 1862 1866 1870] [73 29 31 28 28]\n"
     ]
    },
    {
     "name": "stderr",
     "output_type": "stream",
     "text": [
      "subject:  20%|██        | 12/60 [05:10<20:43, 25.91s/it]"
     ]
    },
    {
     "name": "stdout",
     "output_type": "stream",
     "text": [
      "accuracy: 0.3704830764341332\n",
      "f1_weighted: 0.4489370037142694\n",
      "confusion matrix:\n",
      "[[73  0  0  0  0]\n",
      " [ 2 16  4  7  0]\n",
      " [ 8 16  6  1  0]\n",
      " [ 6 19  1  1  1]\n",
      " [13  7  3  3  2]]\n",
      "==========subject K322==========\n",
      "[9570 1867 1866 1867 1871] [137  27  27  27  27]\n"
     ]
    },
    {
     "name": "stderr",
     "output_type": "stream",
     "text": [
      "subject:  22%|██▏       | 13/60 [05:43<22:07, 28.25s/it]"
     ]
    },
    {
     "name": "stdout",
     "output_type": "stream",
     "text": [
      "accuracy: 0.4905650175723168\n",
      "f1_weighted: 0.6779189875488024\n",
      "confusion matrix:\n",
      "[[128   8   1   0   0]\n",
      " [  0  25   2   0   0]\n",
      " [  2   9   8   1   7]\n",
      " [  2   7   2   8   8]\n",
      " [  0  26   0   1   0]]\n",
      "==========subject K323==========\n",
      "[9588 1869 1867 1869 1871] [119  25  26  25  27]\n"
     ]
    },
    {
     "name": "stderr",
     "output_type": "stream",
     "text": [
      "subject:  23%|██▎       | 14/60 [06:06<20:16, 26.45s/it]"
     ]
    },
    {
     "name": "stdout",
     "output_type": "stream",
     "text": [
      "accuracy: 0.4288274078862314\n",
      "f1_weighted: 0.6024509803921568\n",
      "confusion matrix:\n",
      "[[114   3   1   1   0]\n",
      " [  1  21   2   1   0]\n",
      " [  1  15   9   1   0]\n",
      " [  2  21   2   0   0]\n",
      " [  3  17   5   2   0]]\n",
      "==========subject K324==========\n",
      "[9623 1867 1865 1862 1867] [84 27 28 32 31]\n"
     ]
    },
    {
     "name": "stderr",
     "output_type": "stream",
     "text": [
      "subject:  25%|██▌       | 15/60 [06:36<20:43, 27.63s/it]"
     ]
    },
    {
     "name": "stdout",
     "output_type": "stream",
     "text": [
      "accuracy: 0.4059555811571941\n",
      "f1_weighted: 0.505089942749309\n",
      "confusion matrix:\n",
      "[[81  1  2  0  0]\n",
      " [ 2 15  6  4  0]\n",
      " [ 3 13  2 10  0]\n",
      " [ 8  3  7 13  1]\n",
      " [ 8  2  7 13  1]]\n",
      "==========subject K325==========\n",
      "[9619 1865 1851 1867 1872] [88 29 42 27 26]\n"
     ]
    },
    {
     "name": "stderr",
     "output_type": "stream",
     "text": [
      "subject:  27%|██▋       | 16/60 [07:01<19:47, 26.99s/it]"
     ]
    },
    {
     "name": "stdout",
     "output_type": "stream",
     "text": [
      "accuracy: 0.47374707029879454\n",
      "f1_weighted: 0.571958682127004\n",
      "confusion matrix:\n",
      "[[88  0  0  0  0]\n",
      " [ 0 20  2  6  1]\n",
      " [ 6 22  8  6  0]\n",
      " [ 2 13  2  8  2]\n",
      " [ 9  6  2  4  5]]\n",
      "==========subject K326==========\n",
      "[9614 1860 1857 1859 1864] [93 34 36 35 34]\n"
     ]
    },
    {
     "name": "stderr",
     "output_type": "stream",
     "text": [
      "subject:  28%|██▊       | 17/60 [07:25<18:43, 26.12s/it]"
     ]
    },
    {
     "name": "stdout",
     "output_type": "stream",
     "text": [
      "accuracy: 0.2537007921448149\n",
      "f1_weighted: 0.3396122361497484\n",
      "confusion matrix:\n",
      "[[91  2  0  0  0]\n",
      " [19  6  3  4  2]\n",
      " [16 18  2  0  0]\n",
      " [25  8  1  1  0]\n",
      " [ 7 19  2  5  1]]\n",
      "==========subject K327==========\n",
      "[9626 1852 1859 1865 1867] [81 42 34 29 31]\n"
     ]
    },
    {
     "name": "stderr",
     "output_type": "stream",
     "text": [
      "subject:  30%|███       | 18/60 [07:56<19:09, 27.38s/it]"
     ]
    },
    {
     "name": "stdout",
     "output_type": "stream",
     "text": [
      "accuracy: 0.36097624811882484\n",
      "f1_weighted: 0.4519109641605837\n",
      "confusion matrix:\n",
      "[[81  0  0  0  0]\n",
      " [ 6 21  6  8  1]\n",
      " [ 6 17  7  4  0]\n",
      " [ 8 11  7  1  2]\n",
      " [11 13  3  2  2]]\n",
      "==========subject K328==========\n",
      "[9496 1867 1859 1862 1862] [211  27  34  32  36]\n"
     ]
    },
    {
     "name": "stderr",
     "output_type": "stream",
     "text": [
      "subject:  32%|███▏      | 19/60 [08:19<17:50, 26.10s/it]"
     ]
    },
    {
     "name": "stdout",
     "output_type": "stream",
     "text": [
      "accuracy: 0.316075088539892\n",
      "f1_weighted: 0.6305190490518967\n",
      "confusion matrix:\n",
      "[[207   0   1   0   3]\n",
      " [  8   7   3   9   0]\n",
      " [  5  19   2   8   0]\n",
      " [  3  19   1   9   0]\n",
      " [  5  14   0  17   0]]\n",
      "==========subject K329==========\n",
      "[9591 1865 1867 1866 1869] [116  29  26  28  29]\n"
     ]
    },
    {
     "name": "stderr",
     "output_type": "stream",
     "text": [
      "subject:  33%|███▎      | 20/60 [08:50<18:25, 27.65s/it]"
     ]
    },
    {
     "name": "stdout",
     "output_type": "stream",
     "text": [
      "accuracy: 0.39655172413793105\n",
      "f1_weighted: 0.5439422676264781\n",
      "confusion matrix:\n",
      "[[112   1   1   2   0]\n",
      " [  4  15   0  10   0]\n",
      " [  6   7   0  10   3]\n",
      " [  8   6   0  14   0]\n",
      " [ 18   0   1  10   0]]\n",
      "==========subject K330==========\n",
      "[9629 1867 1865 1869 1871] [78 27 28 25 27]\n"
     ]
    },
    {
     "name": "stderr",
     "output_type": "stream",
     "text": [
      "subject:  35%|███▌      | 21/60 [09:14<17:17, 26.61s/it]"
     ]
    },
    {
     "name": "stdout",
     "output_type": "stream",
     "text": [
      "accuracy: 0.41409198209198206\n",
      "f1_weighted: 0.5426286362479972\n",
      "confusion matrix:\n",
      "[[77  0  1  0  0]\n",
      " [ 1 16  1  9  0]\n",
      " [ 1 17  2  8  0]\n",
      " [ 7 13  0  4  1]\n",
      " [ 3  9  3  5  7]]\n",
      "==========subject K331==========\n",
      "[9616 1866 1865 1867 1867] [91 28 28 27 31]\n"
     ]
    },
    {
     "name": "stderr",
     "output_type": "stream",
     "text": [
      "subject:  37%|███▋      | 22/60 [09:41<16:51, 26.61s/it]"
     ]
    },
    {
     "name": "stdout",
     "output_type": "stream",
     "text": [
      "accuracy: 0.3257020757020757\n",
      "f1_weighted: 0.4328715416640444\n",
      "confusion matrix:\n",
      "[[85  4  1  1  0]\n",
      " [20  7  1  0  0]\n",
      " [12 11  0  2  3]\n",
      " [ 6  4  0 12  5]\n",
      " [11  4  9  7  0]]\n",
      "==========subject K332==========\n",
      "[9543 1866 1860 1868 1872] [164  28  33  26  26]\n"
     ]
    },
    {
     "name": "stderr",
     "output_type": "stream",
     "text": [
      "subject:  38%|███▊      | 23/60 [10:09<16:45, 27.18s/it]"
     ]
    },
    {
     "name": "stdout",
     "output_type": "stream",
     "text": [
      "accuracy: 0.3835128286347798\n",
      "f1_weighted: 0.6357678783202497\n",
      "confusion matrix:\n",
      "[[159   2   1   1   1]\n",
      " [  0  24   4   0   0]\n",
      " [  0  30   3   0   0]\n",
      " [  0  26   0   0   0]\n",
      " [  0  14  11   1   0]]\n",
      "==========subject K333==========\n",
      "[9618 1865 1866 1868 1871] [89 29 27 26 27]\n"
     ]
    },
    {
     "name": "stderr",
     "output_type": "stream",
     "text": [
      "subject:  40%|████      | 24/60 [10:34<15:48, 26.35s/it]"
     ]
    },
    {
     "name": "stdout",
     "output_type": "stream",
     "text": [
      "accuracy: 0.4637488947833776\n",
      "f1_weighted: 0.5861012780761546\n",
      "confusion matrix:\n",
      "[[89  0  0  0  0]\n",
      " [ 2 23  2  2  0]\n",
      " [ 1 16  8  0  2]\n",
      " [ 3  9  6  5  3]\n",
      " [ 7 13  5  1  1]]\n",
      "==========subject K334==========\n",
      "[9645 1854 1858 1858 1860] [62 40 35 36 38]\n"
     ]
    },
    {
     "name": "stderr",
     "output_type": "stream",
     "text": [
      "subject:  42%|████▏     | 25/60 [11:07<16:32, 28.36s/it]"
     ]
    },
    {
     "name": "stdout",
     "output_type": "stream",
     "text": [
      "accuracy: 0.2888909100708762\n",
      "f1_weighted: 0.2817580964169744\n",
      "confusion matrix:\n",
      "[[60  2  0  0  0]\n",
      " [13  9  6  8  4]\n",
      " [14 14  4  3  0]\n",
      " [18 12  2  4  0]\n",
      " [33  1  2  1  1]]\n",
      "==========subject K335==========\n",
      "[9648 1858 1859 1863 1859] [59 36 34 31 39]\n"
     ]
    },
    {
     "name": "stderr",
     "output_type": "stream",
     "text": [
      "subject:  43%|████▎     | 26/60 [11:32<15:29, 27.33s/it]"
     ]
    },
    {
     "name": "stdout",
     "output_type": "stream",
     "text": [
      "accuracy: 0.364989701422339\n",
      "f1_weighted: 0.3766415148474492\n",
      "confusion matrix:\n",
      "[[59  0  0  0  0]\n",
      " [ 2 16 14  4  0]\n",
      " [ 0 22  9  1  2]\n",
      " [ 7 17  5  2  0]\n",
      " [19  7  6  5  2]]\n",
      "==========subject K336==========\n",
      "[9634 1856 1857 1857 1864] [73 38 36 37 34]\n"
     ]
    },
    {
     "name": "stderr",
     "output_type": "stream",
     "text": [
      "subject:  45%|████▌     | 27/60 [11:58<14:51, 27.02s/it]"
     ]
    },
    {
     "name": "stdout",
     "output_type": "stream",
     "text": [
      "accuracy: 0.5059850872544371\n",
      "f1_weighted: 0.5342997328975059\n",
      "confusion matrix:\n",
      "[[73  0  0  0  0]\n",
      " [ 0 32  2  2  2]\n",
      " [ 6 10 13  4  3]\n",
      " [ 6 12  5 11  3]\n",
      " [18  5  2  8  1]]\n",
      "==========subject K337==========\n",
      "[9593 1860 1858 1857 1862] [114  34  35  37  36]\n"
     ]
    },
    {
     "name": "stderr",
     "output_type": "stream",
     "text": [
      "subject:  47%|████▋     | 28/60 [12:24<14:11, 26.61s/it]"
     ]
    },
    {
     "name": "stdout",
     "output_type": "stream",
     "text": [
      "accuracy: 0.42168493570970356\n",
      "f1_weighted: 0.5725045091966002\n",
      "confusion matrix:\n",
      "[[113   0   0   0   1]\n",
      " [  2  21   6   5   0]\n",
      " [  1  10   7  11   6]\n",
      " [  2  17  10   8   0]\n",
      " [  0  10  15   8   3]]\n",
      "==========subject K338==========\n",
      "[9334 1859 1842 1858 1866] [373  35  51  36  32]\n"
     ]
    },
    {
     "name": "stderr",
     "output_type": "stream",
     "text": [
      "subject:  48%|████▊     | 29/60 [12:48<13:22, 25.88s/it]"
     ]
    },
    {
     "name": "stdout",
     "output_type": "stream",
     "text": [
      "accuracy: 0.3880186578652909\n",
      "f1_weighted: 0.7066899905854427\n",
      "confusion matrix:\n",
      "[[352   9   9   1   2]\n",
      " [  0  32   3   0   0]\n",
      " [ 14  35   1   1   0]\n",
      " [  0  31   5   0   0]\n",
      " [  5  12   5   8   2]]\n",
      "==========subject K339==========\n",
      "[9418 1861 1862 1857 1864] [289  33  31  37  34]\n"
     ]
    },
    {
     "name": "stderr",
     "output_type": "stream",
     "text": [
      "subject:  50%|█████     | 30/60 [13:21<14:00, 28.02s/it]"
     ]
    },
    {
     "name": "stdout",
     "output_type": "stream",
     "text": [
      "accuracy: 0.3931695569378347\n",
      "f1_weighted: 0.7083298731065639\n",
      "confusion matrix:\n",
      "[[278   4   3   3   1]\n",
      " [  0  31   2   0   0]\n",
      " [  0  29   2   0   0]\n",
      " [  0  30   7   0   0]\n",
      " [  1   5  19   9   0]]\n",
      "==========subject K340==========\n",
      "[9451 1855 1858 1860 1862] [256  39  35  34  36]\n"
     ]
    },
    {
     "name": "stderr",
     "output_type": "stream",
     "text": [
      "subject:  52%|█████▏    | 31/60 [13:46<13:06, 27.12s/it]"
     ]
    },
    {
     "name": "stdout",
     "output_type": "stream",
     "text": [
      "accuracy: 0.2935851648351648\n",
      "f1_weighted: 0.5815104400252058\n",
      "confusion matrix:\n",
      "[[216  29   3   7   1]\n",
      " [ 13  21   5   0   0]\n",
      " [  4  24   3   4   0]\n",
      " [ 10  19   4   0   1]\n",
      " [  9  14   7   6   0]]\n",
      "==========subject K342==========\n",
      "[9426 1868 1869 1868 1874] [281  26  24  26  24]\n"
     ]
    },
    {
     "name": "stderr",
     "output_type": "stream",
     "text": [
      "subject:  53%|█████▎    | 32/60 [14:15<12:52, 27.58s/it]"
     ]
    },
    {
     "name": "stdout",
     "output_type": "stream",
     "text": [
      "accuracy: 0.34316999726252395\n",
      "f1_weighted: 0.7202530707936227\n",
      "confusion matrix:\n",
      "[[266  12   3   0   0]\n",
      " [  4  20   2   0   0]\n",
      " [  1  23   0   0   0]\n",
      " [  2  22   2   0   0]\n",
      " [  9  14   1   0   0]]\n",
      "==========subject K343==========\n",
      "[9453 1871 1869 1869 1874] [254  23  24  25  24]\n"
     ]
    },
    {
     "name": "stderr",
     "output_type": "stream",
     "text": [
      "subject:  55%|█████▌    | 33/60 [14:43<12:34, 27.95s/it]"
     ]
    },
    {
     "name": "stdout",
     "output_type": "stream",
     "text": [
      "accuracy: 0.4103674540682415\n",
      "f1_weighted: 0.7492364976958525\n",
      "confusion matrix:\n",
      "[[246   6   0   0   2]\n",
      " [  0  23   0   0   0]\n",
      " [  0  20   2   0   2]\n",
      " [  0  25   0   0   0]\n",
      " [  0  18   5   1   0]]\n",
      "==========subject K344==========\n",
      "[9446 1869 1866 1865 1875] [261  25  27  29  23]\n"
     ]
    },
    {
     "name": "stderr",
     "output_type": "stream",
     "text": [
      "subject:  57%|█████▋    | 34/60 [15:06<11:27, 26.45s/it]"
     ]
    },
    {
     "name": "stdout",
     "output_type": "stream",
     "text": [
      "accuracy: 0.3835095785440613\n",
      "f1_weighted: 0.68783824840216\n",
      "confusion matrix:\n",
      "[[218  37   2   3   1]\n",
      " [  0  17   6   1   1]\n",
      " [  5   7   9   2   4]\n",
      " [  4  16   3   2   4]\n",
      " [  4  11   5   3   0]]\n",
      "==========subject K350==========\n",
      "[9614 1856 1863 1856 1866] [93 38 30 38 32]\n"
     ]
    },
    {
     "name": "stderr",
     "output_type": "stream",
     "text": [
      "subject:  58%|█████▊    | 35/60 [15:38<11:41, 28.07s/it]"
     ]
    },
    {
     "name": "stdout",
     "output_type": "stream",
     "text": [
      "accuracy: 0.4960059422750425\n",
      "f1_weighted: 0.5790322361481484\n",
      "confusion matrix:\n",
      "[[91  0  0  2  0]\n",
      " [ 0 31  5  0  2]\n",
      " [ 0 17 11  1  1]\n",
      " [15 15  1  5  2]\n",
      " [ 2 10  7  7  6]]\n",
      "==========subject K351==========\n",
      "[9650 1860 1856 1862 1863] [57 34 37 32 35]\n"
     ]
    },
    {
     "name": "stderr",
     "output_type": "stream",
     "text": [
      "subject:  60%|██████    | 36/60 [16:02<10:43, 26.83s/it]"
     ]
    },
    {
     "name": "stdout",
     "output_type": "stream",
     "text": [
      "accuracy: 0.401871451283216\n",
      "f1_weighted: 0.39384615384615385\n",
      "confusion matrix:\n",
      "[[57  0  0  0  0]\n",
      " [ 5 24  2  3  0]\n",
      " [ 8 21  7  1  0]\n",
      " [10  9 10  0  3]\n",
      " [15  2  0 14  4]]\n",
      "==========subject K352==========\n",
      "[9659 1853 1857 1857 1854] [48 41 36 37 44]\n"
     ]
    },
    {
     "name": "stderr",
     "output_type": "stream",
     "text": [
      "subject:  62%|██████▏   | 37/60 [16:31<10:28, 27.32s/it]"
     ]
    },
    {
     "name": "stdout",
     "output_type": "stream",
     "text": [
      "accuracy: 0.3353219072731268\n",
      "f1_weighted: 0.2709414621724946\n",
      "confusion matrix:\n",
      "[[48  0  0  0  0]\n",
      " [ 5 21 13  2  0]\n",
      " [11 17  3  2  3]\n",
      " [14  9  8  3  3]\n",
      " [30  7  5  2  0]]\n",
      "==========subject K353==========\n",
      "[9655 1862 1858 1857 1869] [52 32 35 37 29]\n"
     ]
    },
    {
     "name": "stderr",
     "output_type": "stream",
     "text": [
      "subject:  63%|██████▎   | 38/60 [16:54<09:35, 26.14s/it]"
     ]
    },
    {
     "name": "stdout",
     "output_type": "stream",
     "text": [
      "accuracy: 0.32285714285714284\n",
      "f1_weighted: 0.27190638914776843\n",
      "confusion matrix:\n",
      "[[52  0  0  0  0]\n",
      " [ 2 16 14  0  0]\n",
      " [13 18  4  0  0]\n",
      " [26  6  3  0  2]\n",
      " [29  0  0  0  0]]\n",
      "==========subject K354==========\n",
      "[9647 1867 1865 1862 1866] [60 27 28 32 32]\n"
     ]
    },
    {
     "name": "stderr",
     "output_type": "stream",
     "text": [
      "subject:  65%|██████▌   | 39/60 [17:20<09:05, 25.97s/it]"
     ]
    },
    {
     "name": "stdout",
     "output_type": "stream",
     "text": [
      "accuracy: 0.5000992063492063\n",
      "f1_weighted: 0.4780483596126055\n",
      "confusion matrix:\n",
      "[[60  0  0  0  0]\n",
      " [ 1 24  2  0  0]\n",
      " [ 0 16 11  1  0]\n",
      " [16  6  3  7  0]\n",
      " [31  1  0  0  0]]\n",
      "==========subject K355==========\n",
      "[9464 1866 1864 1863 1871] [243  28  29  31  27]\n"
     ]
    },
    {
     "name": "stderr",
     "output_type": "stream",
     "text": [
      "subject:  67%|██████▋   | 40/60 [17:51<09:14, 27.70s/it]"
     ]
    },
    {
     "name": "stdout",
     "output_type": "stream",
     "text": [
      "accuracy: 0.43807123860269337\n",
      "f1_weighted: 0.6967596156538746\n",
      "confusion matrix:\n",
      "[[203  27   4   9   0]\n",
      " [  0  18   8   2   0]\n",
      " [  2  16   7   1   3]\n",
      " [  1  12   7  10   1]\n",
      " [  7   3   9   4   4]]\n",
      "==========subject K356==========\n",
      "[9643 1865 1865 1864 1869] [64 29 28 30 29]\n"
     ]
    },
    {
     "name": "stderr",
     "output_type": "stream",
     "text": [
      "subject:  68%|██████▊   | 41/60 [18:14<08:18, 26.22s/it]"
     ]
    },
    {
     "name": "stdout",
     "output_type": "stream",
     "text": [
      "accuracy: 0.3381937602627258\n",
      "f1_weighted: 0.3776324173636002\n",
      "confusion matrix:\n",
      "[[64  0  0  0  0]\n",
      " [ 6 17  3  3  0]\n",
      " [ 3 14  2  6  3]\n",
      " [ 6 17  5  1  1]\n",
      " [12 13  4  0  0]]\n",
      "==========subject K357==========\n",
      "[9520 1865 1863 1866 1871] [187  29  30  28  27]\n"
     ]
    },
    {
     "name": "stderr",
     "output_type": "stream",
     "text": [
      "subject:  70%|███████   | 42/60 [18:43<08:04, 26.89s/it]"
     ]
    },
    {
     "name": "stdout",
     "output_type": "stream",
     "text": [
      "accuracy: 0.3115083023805133\n",
      "f1_weighted: 0.5957896229416303\n",
      "confusion matrix:\n",
      "[[156  21   3   2   5]\n",
      " [  3  12   5   5   4]\n",
      " [  0  16   5   9   0]\n",
      " [  7   7   8   4   2]\n",
      " [  6  11   7   3   0]]\n",
      "==========subject K358==========\n",
      "[9507 1868 1864 1867 1868] [200  26  29  27  30]\n"
     ]
    },
    {
     "name": "stderr",
     "output_type": "stream",
     "text": [
      "subject:  72%|███████▏  | 43/60 [19:08<07:30, 26.49s/it]"
     ]
    },
    {
     "name": "stdout",
     "output_type": "stream",
     "text": [
      "accuracy: 0.4536754101581688\n",
      "f1_weighted: 0.7047596589418129\n",
      "confusion matrix:\n",
      "[[198   0   0   1   1]\n",
      " [  1  24   1   0   0]\n",
      " [  5  17   3   4   0]\n",
      " [  4  10   0   5   8]\n",
      " [  4  12   4   8   2]]\n",
      "==========subject K359==========\n",
      "[9505 1867 1866 1864 1871] [202  27  27  30  27]\n"
     ]
    },
    {
     "name": "stderr",
     "output_type": "stream",
     "text": [
      "subject:  73%|███████▎  | 44/60 [19:34<07:01, 26.35s/it]"
     ]
    },
    {
     "name": "stdout",
     "output_type": "stream",
     "text": [
      "accuracy: 0.4175210854418775\n",
      "f1_weighted: 0.6855904805129379\n",
      "confusion matrix:\n",
      "[[198   1   0   1   2]\n",
      " [  0  26   0   1   0]\n",
      " [  1  23   2   1   0]\n",
      " [  1  25   2   1   1]\n",
      " [  6  16   3   1   1]]\n",
      "==========subject K360==========\n",
      "[9508 1861 1854 1857 1864] [199  33  39  37  34]\n"
     ]
    },
    {
     "name": "stderr",
     "output_type": "stream",
     "text": [
      "subject:  75%|███████▌  | 45/60 [20:04<06:50, 27.36s/it]"
     ]
    },
    {
     "name": "stdout",
     "output_type": "stream",
     "text": [
      "accuracy: 0.5481526204553103\n",
      "f1_weighted: 0.7036936802454001\n",
      "confusion matrix:\n",
      "[[182   8   6   3   0]\n",
      " [  1  31   1   0   0]\n",
      " [  3  15  14   7   0]\n",
      " [  6  10   5  13   3]\n",
      " [  7   2   8  11   6]]\n",
      "==========subject K361==========\n",
      "[9527 1860 1857 1861 1866] [180  34  36  33  32]\n"
     ]
    },
    {
     "name": "stderr",
     "output_type": "stream",
     "text": [
      "subject:  77%|███████▋  | 46/60 [20:27<06:03, 25.97s/it]"
     ]
    },
    {
     "name": "stdout",
     "output_type": "stream",
     "text": [
      "accuracy: 0.4613755199049317\n",
      "f1_weighted: 0.6745326854268063\n",
      "confusion matrix:\n",
      "[[171   5   1   1   2]\n",
      " [  1   9  20   4   0]\n",
      " [  3  13  13   3   4]\n",
      " [  5   7   0  20   1]\n",
      " [  8   6   0  14   4]]\n",
      "==========subject K362==========\n",
      "[9509 1861 1855 1859 1864] [198  33  38  35  34]\n"
     ]
    },
    {
     "name": "stderr",
     "output_type": "stream",
     "text": [
      "subject:  78%|███████▊  | 47/60 [20:56<05:49, 26.87s/it]"
     ]
    },
    {
     "name": "stdout",
     "output_type": "stream",
     "text": [
      "accuracy: 0.3281577383744566\n",
      "f1_weighted: 0.6032150423686568\n",
      "confusion matrix:\n",
      "[[191   7   0   0   0]\n",
      " [  0  17  16   0   0]\n",
      " [  4  28   5   1   0]\n",
      " [  8  17   9   0   1]\n",
      " [  3  19   1  10   1]]\n",
      "==========subject K363==========\n",
      "[9654 1869 1865 1864 1869] [53 25 28 30 29]\n"
     ]
    },
    {
     "name": "stderr",
     "output_type": "stream",
     "text": [
      "subject:  80%|████████  | 48/60 [21:20<05:12, 26.08s/it]"
     ]
    },
    {
     "name": "stdout",
     "output_type": "stream",
     "text": [
      "accuracy: 0.30362214580041524\n",
      "f1_weighted: 0.3684660137052715\n",
      "confusion matrix:\n",
      "[[52  0  0  1  0]\n",
      " [ 3  2  8 12  0]\n",
      " [ 1  9  8 10  0]\n",
      " [ 7 16  6  1  0]\n",
      " [15  9  0  1  4]]\n",
      "==========subject K364==========\n",
      "[9505 1860 1854 1858 1862] [202  34  39  36  36]\n"
     ]
    },
    {
     "name": "stderr",
     "output_type": "stream",
     "text": [
      "subject:  82%|████████▏ | 49/60 [21:46<04:48, 26.20s/it]"
     ]
    },
    {
     "name": "stdout",
     "output_type": "stream",
     "text": [
      "accuracy: 0.3585024565804996\n",
      "f1_weighted: 0.6149611291478837\n",
      "confusion matrix:\n",
      "[[200   0   1   1   0]\n",
      " [  8  19   3   4   0]\n",
      " [  0  33   3   2   1]\n",
      " [  4  21   1   5   5]\n",
      " [ 12  16   1   6   1]]\n",
      "==========subject K365==========\n",
      "[9660 1869 1868 1868 1873] [47 25 25 26 25]\n"
     ]
    },
    {
     "name": "stderr",
     "output_type": "stream",
     "text": [
      "subject:  83%|████████▎ | 50/60 [22:17<04:36, 27.61s/it]"
     ]
    },
    {
     "name": "stdout",
     "output_type": "stream",
     "text": [
      "accuracy: 0.37507692307692314\n",
      "f1_weighted: 0.36758757979634027\n",
      "confusion matrix:\n",
      "[[47  0  0  0  0]\n",
      " [ 1 17  7  0  0]\n",
      " [ 8 16  1  0  0]\n",
      " [ 8  9  3  3  3]\n",
      " [19  3  1  1  1]]\n",
      "==========subject K366==========\n",
      "[9502 1857 1862 1863 1860] [205  37  31  31  38]\n"
     ]
    },
    {
     "name": "stderr",
     "output_type": "stream",
     "text": [
      "subject:  85%|████████▌ | 51/60 [22:41<03:57, 26.39s/it]"
     ]
    },
    {
     "name": "stdout",
     "output_type": "stream",
     "text": [
      "accuracy: 0.42032939643855205\n",
      "f1_weighted: 0.6574457421680481\n",
      "confusion matrix:\n",
      "[[204   1   0   0   0]\n",
      " [  0  34   2   1   0]\n",
      " [  0  26   5   0   0]\n",
      " [  2  22   7   0   0]\n",
      " [ 11  10  13   3   1]]\n",
      "==========subject K367==========\n",
      "[9663 1869 1870 1870 1869] [44 25 23 24 29]\n"
     ]
    },
    {
     "name": "stderr",
     "output_type": "stream",
     "text": [
      "subject:  87%|████████▋ | 52/60 [23:07<03:31, 26.38s/it]"
     ]
    },
    {
     "name": "stdout",
     "output_type": "stream",
     "text": [
      "accuracy: 0.41915142428785607\n",
      "f1_weighted: 0.45445203445203447\n",
      "confusion matrix:\n",
      "[[44  0  0  0  0]\n",
      " [ 1  9  1 14  0]\n",
      " [ 2  4  8  6  3]\n",
      " [ 4 13  0  6  1]\n",
      " [10  1 10  4  4]]\n",
      "==========subject K368==========\n",
      "[9530 1860 1854 1858 1861] [177  34  39  36  37]\n"
     ]
    },
    {
     "name": "stderr",
     "output_type": "stream",
     "text": [
      "subject:  88%|████████▊ | 53/60 [23:35<03:08, 26.89s/it]"
     ]
    },
    {
     "name": "stdout",
     "output_type": "stream",
     "text": [
      "accuracy: 0.4607658889812429\n",
      "f1_weighted: 0.651432157500269\n",
      "confusion matrix:\n",
      "[[176   1   0   0   0]\n",
      " [  1  27   6   0   0]\n",
      " [  1  34   3   0   1]\n",
      " [ 12   9   3   8   4]\n",
      " [  3   6   1  19   8]]\n",
      "==========subject K369==========\n",
      "[9534 1863 1863 1862 1868] [173  31  30  32  30]\n"
     ]
    },
    {
     "name": "stderr",
     "output_type": "stream",
     "text": [
      "subject:  90%|█████████ | 54/60 [23:59<02:36, 26.08s/it]"
     ]
    },
    {
     "name": "stdout",
     "output_type": "stream",
     "text": [
      "accuracy: 0.3575531418981913\n",
      "f1_weighted: 0.6414856870690155\n",
      "confusion matrix:\n",
      "[[169   2   0   2   0]\n",
      " [  0  17  10   4   0]\n",
      " [  0  22   5   3   0]\n",
      " [  1  25   4   2   0]\n",
      " [  0  14   5  10   1]]\n",
      "==========subject K370==========\n",
      "[9510 1858 1860 1863 1869] [197  36  33  31  29]\n"
     ]
    },
    {
     "name": "stderr",
     "output_type": "stream",
     "text": [
      "subject:  92%|█████████▏| 55/60 [24:27<02:13, 26.62s/it]"
     ]
    },
    {
     "name": "stdout",
     "output_type": "stream",
     "text": [
      "accuracy: 0.41886270085255983\n",
      "f1_weighted: 0.6399597245286357\n",
      "confusion matrix:\n",
      "[[189   2   0   1   5]\n",
      " [  1  33   1   1   0]\n",
      " [  3  25   5   0   0]\n",
      " [ 12   5  10   1   3]\n",
      " [ 19   8   1   0   1]]\n",
      "==========subject K371==========\n",
      "[9534 1859 1861 1858 1867] [173  35  32  36  31]\n"
     ]
    },
    {
     "name": "stderr",
     "output_type": "stream",
     "text": [
      "subject:  93%|█████████▎| 56/60 [24:50<01:41, 25.47s/it]"
     ]
    },
    {
     "name": "stdout",
     "output_type": "stream",
     "text": [
      "accuracy: 0.4063110147719974\n",
      "f1_weighted: 0.6248292728663035\n",
      "confusion matrix:\n",
      "[[162   6   0   4   1]\n",
      " [  0  28   7   0   0]\n",
      " [  0  27   5   0   0]\n",
      " [  2  19  10   5   0]\n",
      " [  5  17   9   0   0]]\n",
      "==========subject K372==========\n",
      "[9541 1864 1862 1861 1868] [166  30  31  33  30]\n"
     ]
    },
    {
     "name": "stderr",
     "output_type": "stream",
     "text": [
      "subject:  95%|█████████▌| 57/60 [25:18<01:18, 26.17s/it]"
     ]
    },
    {
     "name": "stdout",
     "output_type": "stream",
     "text": [
      "accuracy: 0.38666666666666666\n",
      "f1_weighted: 0.5925774596784443\n",
      "confusion matrix:\n",
      "[[166   0   0   0   0]\n",
      " [  2  28   0   0   0]\n",
      " [  2  28   0   0   1]\n",
      " [  4  21   8   0   0]\n",
      " [  7  22   0   1   0]]\n",
      "==========subject K373==========\n",
      "[9536 1861 1860 1866 1868] [171  33  33  28  30]\n"
     ]
    },
    {
     "name": "stderr",
     "output_type": "stream",
     "text": [
      "subject:  97%|█████████▋| 58/60 [25:43<00:51, 25.87s/it]"
     ]
    },
    {
     "name": "stdout",
     "output_type": "stream",
     "text": [
      "accuracy: 0.40181818181818185\n",
      "f1_weighted: 0.6428256562011394\n",
      "confusion matrix:\n",
      "[[171   0   0   0   0]\n",
      " [  4  27   2   0   0]\n",
      " [  1  28   3   1   0]\n",
      " [  0  21   5   0   2]\n",
      " [  6  13   4   4   3]]\n",
      "==========subject K374==========\n",
      "[9529 1861 1861 1860 1868] [178  33  32  34  30]\n"
     ]
    },
    {
     "name": "stderr",
     "output_type": "stream",
     "text": [
      "subject:  98%|█████████▊| 59/60 [26:07<00:25, 25.43s/it]"
     ]
    },
    {
     "name": "stdout",
     "output_type": "stream",
     "text": [
      "accuracy: 0.38159098419756055\n",
      "f1_weighted: 0.6115945251313272\n",
      "confusion matrix:\n",
      "[[167   6   0   5   0]\n",
      " [  0  30   3   0   0]\n",
      " [  0  30   1   1   0]\n",
      " [  0  12  21   1   0]\n",
      " [  4  24   2   0   0]]\n",
      "==========subject K375==========\n",
      "[9564 1862 1860 1863 1862] [143  32  33  31  36]\n"
     ]
    },
    {
     "name": "stderr",
     "output_type": "stream",
     "text": [
      "subject: 100%|██████████| 60/60 [26:39<00:00, 26.65s/it]"
     ]
    },
    {
     "name": "stdout",
     "output_type": "stream",
     "text": [
      "accuracy: 0.4478692006917814\n",
      "f1_weighted: 0.582435309910826\n",
      "confusion matrix:\n",
      "[[140   3   0   0   0]\n",
      " [  2  22   5   2   1]\n",
      " [  6  19   4   4   0]\n",
      " [  8   6   2  14   1]\n",
      " [ 34   0   2   0   0]]\n"
     ]
    },
    {
     "name": "stderr",
     "output_type": "stream",
     "text": [
      "\n"
     ]
    }
   ],
   "source": [
    "train_trials = {\n",
    "    \"rest\": [0, 1],\n",
    "    \"nâng chân trái\": [0],\n",
    "    \"nâng chân phải\": [0],\n",
    "    \"nâng tay trái\": [0],\n",
    "    \"nâng tay phải\": [0],\n",
    "}\n",
    "\n",
    "# valid_trials = {\n",
    "#     \"rest\": [2, 3],\n",
    "#     \"nâng chân trái\": [1],\n",
    "#     \"nâng chân phải\": [1],\n",
    "#     \"nâng tay trái\": [1],\n",
    "#     \"nâng tay phải\": [1],\n",
    "# }\n",
    "\n",
    "# test_trials = {\n",
    "#     \"rest\": [4, 5],\n",
    "#     \"nâng chân trái\": [2],\n",
    "#     \"nâng chân phải\": [2],\n",
    "#     \"nâng tay trái\": [2],\n",
    "#     \"nâng tay phải\": [2],\n",
    "# }\n",
    "\n",
    "test_subjects = {\n",
    "    'K300', 'K309', 'K310', 'K311', 'K312', \n",
    "    'K313', 'K314', 'K315', 'K316', 'K319', \n",
    "    'K320', 'K321', 'K322', 'K323', 'K324', \n",
    "    'K325', 'K326', 'K327', 'K328', 'K329', \n",
    "    'K330', 'K331', 'K332', 'K333', 'K334', \n",
    "    'K335', 'K336', 'K337', 'K338', 'K339', \n",
    "    'K340', 'K342', 'K343', 'K344', 'K350', \n",
    "    'K351', 'K352', 'K353', 'K354', 'K355', \n",
    "    'K356', 'K357', 'K358', 'K359', 'K360', \n",
    "    'K361', 'K362', 'K363', 'K364', 'K365', \n",
    "    'K366', 'K367', 'K368', 'K369', 'K370', \n",
    "    'K371', 'K372', 'K373', 'K374', 'K375',\n",
    "}\n",
    "\n",
    "test_subjects = sorted(list(test_subjects))\n",
    "# test_subjects = [\"K309\"]\n",
    "\n",
    "test_acc = list()\n",
    "test_f1 = list()\n",
    "for subject in tqdm(test_subjects, desc=\"subject\"):\n",
    "    # if subject != \"K309\":\n",
    "    #     continue\n",
    "    \n",
    "    print(f\"==========subject {subject}==========\")\n",
    "    \n",
    "    # init data\n",
    "#     # intra-subject\n",
    "#     Xtrain = list()\n",
    "#     Ytrain = list()\n",
    "#     Xtest = list()\n",
    "#     Ytest = list()\n",
    "#     for i, r in ds_info[ds_info[\"subject\"] == subject].iterrows():\n",
    "#         x = ds.datasets[i].windows.get_data()\n",
    "#         y = ds.datasets[i].y\n",
    "#         if r[\"trial\"] in train_trials[r[\"label\"]]:\n",
    "#             Xtrain.append(x)\n",
    "#             Ytrain.extend(y)\n",
    "#         else:\n",
    "#             Xtest.append(x)\n",
    "#             Ytest.extend(y)\n",
    "            \n",
    "#     Xtrain = np.concatenate(Xtrain, axis=0)\n",
    "#     Ytrain = np.array(Ytrain, dtype=int)\n",
    "#     Xtest = np.concatenate(Xtest, axis=0)\n",
    "#     Ytest = np.array(Ytest, dtype=int)\n",
    "    \n",
    "    # EA\n",
    "    Xtrain = list()\n",
    "    Ytrain = list()\n",
    "    Xtest = list()\n",
    "    Ytest = list()\n",
    "    for subj in ds_info[\"subject\"].unique():\n",
    "        if subj == \"K318\":\n",
    "            continue\n",
    "        if subj not in test_subjects:\n",
    "            continue\n",
    "            \n",
    "        Xsub = list()\n",
    "        Ysub = list()\n",
    "        for i, r in ds_info[ds_info[\"subject\"] == subj].iterrows():\n",
    "            # x = ds.datasets[i].windows.get_data()\n",
    "            # y = ds.datasets[i].y\n",
    "            x = ds_ea.datasets[i].windows.get_data()\n",
    "            y = ds_ea.datasets[i].y\n",
    "            Xsub.append(x)\n",
    "            Ysub.extend(y)\n",
    "        \n",
    "        Xsub = np.concatenate(Xsub, axis=0)\n",
    "        Ysub = np.array(Ysub, dtype=int)\n",
    "        \n",
    "        if subj != subject:\n",
    "            Xtrain.append(Xsub)\n",
    "            Ytrain.append(Ysub)\n",
    "        else:\n",
    "            Xtest.append(Xsub)\n",
    "            Ytest.append(Ysub)\n",
    "            \n",
    "    Xtrain = np.concatenate(Xtrain, axis=0)\n",
    "    Ytrain = np.concatenate(Ytrain, axis=0)\n",
    "    Xtest = np.concatenate(Xtest, axis=0)\n",
    "    Ytest = np.concatenate(Ytest, axis=0)\n",
    "    \n",
    "    # LA\n",
    "#     DXtrain = defaultdict(list)\n",
    "#     DYtrain = defaultdict(list)\n",
    "#     DXtest = defaultdict(list)\n",
    "#     DYtest = defaultdict(list)\n",
    "#     for subj in ds_info[\"subject\"].unique():\n",
    "#         if subj == \"K318\":\n",
    "#             continue\n",
    "            \n",
    "#         for i, r in ds_info[ds_info[\"subject\"] == subj].iterrows():\n",
    "#             x = ds.datasets[i].windows.get_data()\n",
    "#             y = ds.datasets[i].y\n",
    "#             if subj == subject:\n",
    "#                 if r[\"trial\"] in train_trials[r[\"label\"]]:\n",
    "#                     DXtrain[subj].append(x)\n",
    "#                     DYtrain[subj].extend(y)\n",
    "#                 else:\n",
    "#                     DXtest[subj].append(x)\n",
    "#                     DYtest[subj].extend(y)\n",
    "#             else:\n",
    "#                 DXtrain[subj].append(x)\n",
    "#                 DYtrain[subj].extend(y)\n",
    "                \n",
    "#     for k, v in DXtrain.items():\n",
    "#         DXtrain[k] = np.concatenate(v, axis=0)\n",
    "#     for k, v in DXtest.items():\n",
    "#         DXtest[k] = np.concatenate(v, axis=0)\n",
    "#     for k, v in DYtrain.items():\n",
    "#         DYtrain[k] = np.array(v, dtype=int)\n",
    "#     for k, v in DYtest.items():\n",
    "#         DYtest[k] = np.array(v, dtype=int)\n",
    "    \n",
    "#     r = np_compute_target_transform_mats(DXtrain[subject], DYtrain[subject])\n",
    "#     for k, v in DXtrain.items():\n",
    "#         if k == subject:\n",
    "#             continue\n",
    "#         DXtrain[k] = np_label_alignment(v, DYtrain[k], r)\n",
    "        \n",
    "#     Xtrain = list()\n",
    "#     Ytrain = list()\n",
    "#     for k, v in DXtrain.items():\n",
    "#         Xtrain.append(v)\n",
    "#         Ytrain.append(DYtrain[k])\n",
    "        \n",
    "#     Xtrain = np.concatenate(Xtrain, axis=0)\n",
    "#     Ytrain = np.concatenate(Ytrain, axis=0)\n",
    "#     Xtest = DXtest[subject]\n",
    "#     Ytest = DYtest[subject]\n",
    "    \n",
    "    print(np.bincount(Ytrain), np.bincount(Ytest))\n",
    "    \n",
    "    # init model\n",
    "    # clf = make_pipeline(\n",
    "    #     Covariances(\"cov\"),\n",
    "    #     TSclassifier(\n",
    "    #         metric=\"riemann\",\n",
    "    #         # clf=SVC(\n",
    "    #         clf=LinearSVC(\n",
    "    #             C=1.0,\n",
    "    #             # kernel=\"rbf\",\n",
    "    #             tol=1e-7,\n",
    "    #             max_iter=30000,\n",
    "    #             class_weight=\"balanced\",\n",
    "    #             random_state=42,\n",
    "    #         ),\n",
    "    #         # clf=LinearDiscriminantAnalysis(\n",
    "    #         #     solver=\"lsqr\",\n",
    "    #         #     shrinkage=\"auto\",\n",
    "    #         #     n_components=None,\n",
    "    #         #     tol=1e-7,\n",
    "    #         #     covariance_estimator=None,\n",
    "    #         # ),\n",
    "    #     ),\n",
    "    # )\n",
    "    \n",
    "    clf = make_pipeline(\n",
    "        mne.decoding.CSP(\n",
    "            n_components=4,\n",
    "            # reg=\"ledoit_wolf\",\n",
    "            log=True,\n",
    "            norm_trace=False,\n",
    "        ),\n",
    "        # SVC(\n",
    "        LinearSVC(\n",
    "            C=1.0,\n",
    "            # kernel=\"rbf\",\n",
    "            tol=1e-7,\n",
    "            max_iter=30000,\n",
    "            class_weight=\"balanced\",\n",
    "            random_state=42,\n",
    "        ),\n",
    "        # OneVsRestClassifier(LinearSVC(C=1.0, tol=1e-7, max_iter=30000, class_weight='balanced', random_state=42), n_jobs=-1),\n",
    "        # LinearDiscriminantAnalysis(\n",
    "        #     solver=\"lsqr\",\n",
    "        #     shrinkage=\"auto\",\n",
    "        #     n_components=None,\n",
    "        #     tol=1e-7,\n",
    "        #     covariance_estimator=None,\n",
    "        # ),\n",
    "    )\n",
    "    \n",
    "    # training\n",
    "    clf.fit(Xtrain, Ytrain)\n",
    "    \n",
    "    # evaluate\n",
    "    Ypred = clf.predict(Xtest)\n",
    "    \n",
    "    acc = metrics.balanced_accuracy_score(Ytest, Ypred)\n",
    "    f1 = metrics.f1_score(Ytest, Ypred, average='weighted')\n",
    "    test_acc.append(acc)\n",
    "    test_f1.append(f1)\n",
    "    print(f\"accuracy: {acc}\")\n",
    "    print(f\"f1_weighted: {f1}\")\n",
    "    print(f\"confusion matrix:\\n{metrics.confusion_matrix(Ytest, Ypred)}\")\n",
    "    \n",
    "    # break"
   ]
  },
  {
   "cell_type": "code",
   "execution_count": 14,
   "id": "3fa08a6d-8b8a-4906-99a2-31924e568a85",
   "metadata": {},
   "outputs": [
    {
     "name": "stdout",
     "output_type": "stream",
     "text": [
      "avg acc: 0.55556036934984\n",
      "avg f1: 0.6526765891154205\n"
     ]
    }
   ],
   "source": [
    "# intra-subject CSP-LinearSVC\n",
    "result = pd.DataFrame({\n",
    "    \"subject\": test_subjects,\n",
    "    \"acc\": test_acc,\n",
    "    \"f1\": test_f1,\n",
    "})\n",
    "print(f\"avg acc: {result['acc'].mean()}\")\n",
    "print(f\"avg f1: {result['f1'].mean()}\")"
   ]
  },
  {
   "cell_type": "code",
   "execution_count": 15,
   "id": "24b9e473-d510-4c0b-a375-d02cf3497400",
   "metadata": {},
   "outputs": [
    {
     "data": {
      "text/plain": [
       "<AxesSubplot:xlabel='subject'>"
      ]
     },
     "execution_count": 15,
     "metadata": {},
     "output_type": "execute_result"
    },
    {
     "data": {
      "image/png": "[encoded data removed]",
      "text/plain": [
       "<Figure size 1440x288 with 2 Axes>"
      ]
     },
     "metadata": {
      "needs_background": "light"
     },
     "output_type": "display_data"
    }
   ],
   "source": [
    "fig, axes = plt.subplots(nrows=1, ncols=2, figsize=(20, 4))\n",
    "result.plot.bar(x=\"subject\", y=\"acc\", ax=axes[0])\n",
    "result.plot.bar(x=\"subject\", y=\"f1\", ax=axes[1])"
   ]
  },
  {
   "cell_type": "code",
   "execution_count": 18,
   "id": "1d6f960d-ff8b-45e9-903f-03302c565a3c",
   "metadata": {},
   "outputs": [
    {
     "name": "stdout",
     "output_type": "stream",
     "text": [
      "avg acc: 0.623936318706582\n",
      "avg f1: 0.7149484570665078\n"
     ]
    }
   ],
   "source": [
    "# intra-subject Cov-TangentSpace-LinearSVC\n",
    "result = pd.DataFrame({\n",
    "    \"subject\": test_subjects,\n",
    "    \"acc\": test_acc,\n",
    "    \"f1\": test_f1,\n",
    "})\n",
    "print(f\"avg acc: {result['acc'].mean()}\")\n",
    "print(f\"avg f1: {result['f1'].mean()}\")"
   ]
  },
  {
   "cell_type": "code",
   "execution_count": 19,
   "id": "e872c9a9-4ff5-4d03-abbd-d593c96dcee5",
   "metadata": {},
   "outputs": [
    {
     "data": {
      "text/plain": [
       "<AxesSubplot:xlabel='subject'>"
      ]
     },
     "execution_count": 19,
     "metadata": {},
     "output_type": "execute_result"
    },
    {
     "data": {
      "image/png": "[encoded data removed]",
      "text/plain": [
       "<Figure size 1440x288 with 2 Axes>"
      ]
     },
     "metadata": {
      "needs_background": "light"
     },
     "output_type": "display_data"
    }
   ],
   "source": [
    "fig, axes = plt.subplots(nrows=1, ncols=2, figsize=(20, 4))\n",
    "result.plot.bar(x=\"subject\", y=\"acc\", ax=axes[0])\n",
    "result.plot.bar(x=\"subject\", y=\"f1\", ax=axes[1])"
   ]
  },
  {
   "cell_type": "code",
   "execution_count": 8,
   "id": "7b572e31-ea80-4571-bbdc-a3ebf33c12a2",
   "metadata": {},
   "outputs": [
    {
     "name": "stdout",
     "output_type": "stream",
     "text": [
      "avg acc: 0.3933075480180671\n",
      "avg f1: 0.5736720148383614\n"
     ]
    }
   ],
   "source": [
    "# LOSO - EA-CSP(8)-LinearSVM\n",
    "result = pd.DataFrame({\n",
    "    \"subject\": test_subjects,\n",
    "    \"acc\": test_acc,\n",
    "    \"f1\": test_f1,\n",
    "})\n",
    "print(f\"avg acc: {result['acc'].mean()}\")\n",
    "print(f\"avg f1: {result['f1'].mean()}\")"
   ]
  },
  {
   "cell_type": "code",
   "execution_count": 9,
   "id": "3d759f05-3fc9-403c-b783-c7901eff75ff",
   "metadata": {},
   "outputs": [
    {
     "data": {
      "text/plain": [
       "<AxesSubplot:xlabel='subject'>"
      ]
     },
     "execution_count": 9,
     "metadata": {},
     "output_type": "execute_result"
    },
    {
     "data": {
      "image/png": "[encoded data removed]",
      "text/plain": [
       "<Figure size 1440x288 with 2 Axes>"
      ]
     },
     "metadata": {
      "needs_background": "light"
     },
     "output_type": "display_data"
    }
   ],
   "source": [
    "fig, axes = plt.subplots(nrows=1, ncols=2, figsize=(20, 4))\n",
    "result.plot.bar(x=\"subject\", y=\"acc\", ax=axes[0])\n",
    "result.plot.bar(x=\"subject\", y=\"f1\", ax=axes[1])"
   ]
  },
  {
   "cell_type": "code",
   "execution_count": 19,
   "id": "28b8039f-5b32-497c-8741-7755702ce7a0",
   "metadata": {},
   "outputs": [
    {
     "name": "stdout",
     "output_type": "stream",
     "text": [
      "avg acc: 0.3994425737885329\n",
      "avg f1: 0.5779737755516616\n"
     ]
    }
   ],
   "source": [
    "# LOSO - EA-CSP(4)-LinearSVM\n",
    "result = pd.DataFrame({\n",
    "    \"subject\": test_subjects,\n",
    "    \"acc\": test_acc,\n",
    "    \"f1\": test_f1,\n",
    "})\n",
    "print(f\"avg acc: {result['acc'].mean()}\")\n",
    "print(f\"avg f1: {result['f1'].mean()}\")"
   ]
  },
  {
   "cell_type": "code",
   "execution_count": 20,
   "id": "b4e7ab0c-160b-49e8-8374-54a0e433e2f2",
   "metadata": {},
   "outputs": [
    {
     "data": {
      "text/plain": [
       "<AxesSubplot:xlabel='subject'>"
      ]
     },
     "execution_count": 20,
     "metadata": {},
     "output_type": "execute_result"
    },
    {
     "data": {
      "image/png": "[encoded data removed]",
      "text/plain": [
       "<Figure size 1440x288 with 2 Axes>"
      ]
     },
     "metadata": {
      "needs_background": "light"
     },
     "output_type": "display_data"
    }
   ],
   "source": [
    "fig, axes = plt.subplots(nrows=1, ncols=2, figsize=(20, 4))\n",
    "result.plot.bar(x=\"subject\", y=\"acc\", ax=axes[0])\n",
    "result.plot.bar(x=\"subject\", y=\"f1\", ax=axes[1])"
   ]
  },
  {
   "cell_type": "code",
   "execution_count": 22,
   "id": "9a56c111-8dfd-4cbb-8758-cc77f23ed3a8",
   "metadata": {},
   "outputs": [
    {
     "data": {
      "text/html": [
       "<div>\n",
       "<style scoped>\n",
       "    .dataframe tbody tr th:only-of-type {\n",
       "        vertical-align: middle;\n",
       "    }\n",
       "\n",
       "    .dataframe tbody tr th {\n",
       "        vertical-align: top;\n",
       "    }\n",
       "\n",
       "    .dataframe thead th {\n",
       "        text-align: right;\n",
       "    }\n",
       "</style>\n",
       "<table border=\"1\" class=\"dataframe\">\n",
       "  <thead>\n",
       "    <tr style=\"text-align: right;\">\n",
       "      <th></th>\n",
       "      <th>subject</th>\n",
       "      <th>acc</th>\n",
       "      <th>f1</th>\n",
       "    </tr>\n",
       "  </thead>\n",
       "  <tbody>\n",
       "    <tr>\n",
       "      <th>0</th>\n",
       "      <td>K360</td>\n",
       "      <td>0.548153</td>\n",
       "      <td>0.703694</td>\n",
       "    </tr>\n",
       "    <tr>\n",
       "      <th>1</th>\n",
       "      <td>K309</td>\n",
       "      <td>0.539630</td>\n",
       "      <td>0.727471</td>\n",
       "    </tr>\n",
       "    <tr>\n",
       "      <th>2</th>\n",
       "      <td>K336</td>\n",
       "      <td>0.505985</td>\n",
       "      <td>0.534300</td>\n",
       "    </tr>\n",
       "    <tr>\n",
       "      <th>3</th>\n",
       "      <td>K354</td>\n",
       "      <td>0.500099</td>\n",
       "      <td>0.478048</td>\n",
       "    </tr>\n",
       "    <tr>\n",
       "      <th>4</th>\n",
       "      <td>K350</td>\n",
       "      <td>0.496006</td>\n",
       "      <td>0.579032</td>\n",
       "    </tr>\n",
       "    <tr>\n",
       "      <th>5</th>\n",
       "      <td>K322</td>\n",
       "      <td>0.490565</td>\n",
       "      <td>0.677919</td>\n",
       "    </tr>\n",
       "    <tr>\n",
       "      <th>6</th>\n",
       "      <td>K325</td>\n",
       "      <td>0.473747</td>\n",
       "      <td>0.571959</td>\n",
       "    </tr>\n",
       "    <tr>\n",
       "      <th>7</th>\n",
       "      <td>K333</td>\n",
       "      <td>0.463749</td>\n",
       "      <td>0.586101</td>\n",
       "    </tr>\n",
       "    <tr>\n",
       "      <th>8</th>\n",
       "      <td>K361</td>\n",
       "      <td>0.461376</td>\n",
       "      <td>0.674533</td>\n",
       "    </tr>\n",
       "    <tr>\n",
       "      <th>9</th>\n",
       "      <td>K368</td>\n",
       "      <td>0.460766</td>\n",
       "      <td>0.651432</td>\n",
       "    </tr>\n",
       "    <tr>\n",
       "      <th>10</th>\n",
       "      <td>K313</td>\n",
       "      <td>0.460074</td>\n",
       "      <td>0.646428</td>\n",
       "    </tr>\n",
       "    <tr>\n",
       "      <th>11</th>\n",
       "      <td>K358</td>\n",
       "      <td>0.453675</td>\n",
       "      <td>0.704760</td>\n",
       "    </tr>\n",
       "    <tr>\n",
       "      <th>12</th>\n",
       "      <td>K375</td>\n",
       "      <td>0.447869</td>\n",
       "      <td>0.582435</td>\n",
       "    </tr>\n",
       "    <tr>\n",
       "      <th>13</th>\n",
       "      <td>K355</td>\n",
       "      <td>0.438071</td>\n",
       "      <td>0.696760</td>\n",
       "    </tr>\n",
       "    <tr>\n",
       "      <th>14</th>\n",
       "      <td>K314</td>\n",
       "      <td>0.437076</td>\n",
       "      <td>0.701562</td>\n",
       "    </tr>\n",
       "    <tr>\n",
       "      <th>15</th>\n",
       "      <td>K323</td>\n",
       "      <td>0.428827</td>\n",
       "      <td>0.602451</td>\n",
       "    </tr>\n",
       "    <tr>\n",
       "      <th>16</th>\n",
       "      <td>K300</td>\n",
       "      <td>0.424088</td>\n",
       "      <td>0.611571</td>\n",
       "    </tr>\n",
       "    <tr>\n",
       "      <th>17</th>\n",
       "      <td>K337</td>\n",
       "      <td>0.421685</td>\n",
       "      <td>0.572505</td>\n",
       "    </tr>\n",
       "    <tr>\n",
       "      <th>18</th>\n",
       "      <td>K366</td>\n",
       "      <td>0.420329</td>\n",
       "      <td>0.657446</td>\n",
       "    </tr>\n",
       "    <tr>\n",
       "      <th>19</th>\n",
       "      <td>K367</td>\n",
       "      <td>0.419151</td>\n",
       "      <td>0.454452</td>\n",
       "    </tr>\n",
       "    <tr>\n",
       "      <th>20</th>\n",
       "      <td>K370</td>\n",
       "      <td>0.418863</td>\n",
       "      <td>0.639960</td>\n",
       "    </tr>\n",
       "    <tr>\n",
       "      <th>21</th>\n",
       "      <td>K359</td>\n",
       "      <td>0.417521</td>\n",
       "      <td>0.685590</td>\n",
       "    </tr>\n",
       "    <tr>\n",
       "      <th>22</th>\n",
       "      <td>K330</td>\n",
       "      <td>0.414092</td>\n",
       "      <td>0.542629</td>\n",
       "    </tr>\n",
       "    <tr>\n",
       "      <th>23</th>\n",
       "      <td>K343</td>\n",
       "      <td>0.410367</td>\n",
       "      <td>0.749236</td>\n",
       "    </tr>\n",
       "    <tr>\n",
       "      <th>24</th>\n",
       "      <td>K371</td>\n",
       "      <td>0.406311</td>\n",
       "      <td>0.624829</td>\n",
       "    </tr>\n",
       "    <tr>\n",
       "      <th>25</th>\n",
       "      <td>K324</td>\n",
       "      <td>0.405956</td>\n",
       "      <td>0.505090</td>\n",
       "    </tr>\n",
       "    <tr>\n",
       "      <th>26</th>\n",
       "      <td>K312</td>\n",
       "      <td>0.403693</td>\n",
       "      <td>0.651910</td>\n",
       "    </tr>\n",
       "    <tr>\n",
       "      <th>27</th>\n",
       "      <td>K351</td>\n",
       "      <td>0.401871</td>\n",
       "      <td>0.393846</td>\n",
       "    </tr>\n",
       "    <tr>\n",
       "      <th>28</th>\n",
       "      <td>K373</td>\n",
       "      <td>0.401818</td>\n",
       "      <td>0.642826</td>\n",
       "    </tr>\n",
       "    <tr>\n",
       "      <th>29</th>\n",
       "      <td>K319</td>\n",
       "      <td>0.401435</td>\n",
       "      <td>0.708747</td>\n",
       "    </tr>\n",
       "    <tr>\n",
       "      <th>30</th>\n",
       "      <td>K310</td>\n",
       "      <td>0.401383</td>\n",
       "      <td>0.649018</td>\n",
       "    </tr>\n",
       "    <tr>\n",
       "      <th>31</th>\n",
       "      <td>K311</td>\n",
       "      <td>0.398498</td>\n",
       "      <td>0.687061</td>\n",
       "    </tr>\n",
       "    <tr>\n",
       "      <th>32</th>\n",
       "      <td>K329</td>\n",
       "      <td>0.396552</td>\n",
       "      <td>0.543942</td>\n",
       "    </tr>\n",
       "    <tr>\n",
       "      <th>33</th>\n",
       "      <td>K315</td>\n",
       "      <td>0.394595</td>\n",
       "      <td>0.643429</td>\n",
       "    </tr>\n",
       "    <tr>\n",
       "      <th>34</th>\n",
       "      <td>K339</td>\n",
       "      <td>0.393170</td>\n",
       "      <td>0.708330</td>\n",
       "    </tr>\n",
       "    <tr>\n",
       "      <th>35</th>\n",
       "      <td>K338</td>\n",
       "      <td>0.388019</td>\n",
       "      <td>0.706690</td>\n",
       "    </tr>\n",
       "    <tr>\n",
       "      <th>36</th>\n",
       "      <td>K372</td>\n",
       "      <td>0.386667</td>\n",
       "      <td>0.592577</td>\n",
       "    </tr>\n",
       "    <tr>\n",
       "      <th>37</th>\n",
       "      <td>K332</td>\n",
       "      <td>0.383513</td>\n",
       "      <td>0.635768</td>\n",
       "    </tr>\n",
       "    <tr>\n",
       "      <th>38</th>\n",
       "      <td>K344</td>\n",
       "      <td>0.383510</td>\n",
       "      <td>0.687838</td>\n",
       "    </tr>\n",
       "    <tr>\n",
       "      <th>39</th>\n",
       "      <td>K374</td>\n",
       "      <td>0.381591</td>\n",
       "      <td>0.611595</td>\n",
       "    </tr>\n",
       "    <tr>\n",
       "      <th>40</th>\n",
       "      <td>K316</td>\n",
       "      <td>0.377340</td>\n",
       "      <td>0.641392</td>\n",
       "    </tr>\n",
       "    <tr>\n",
       "      <th>41</th>\n",
       "      <td>K365</td>\n",
       "      <td>0.375077</td>\n",
       "      <td>0.367588</td>\n",
       "    </tr>\n",
       "    <tr>\n",
       "      <th>42</th>\n",
       "      <td>K321</td>\n",
       "      <td>0.370483</td>\n",
       "      <td>0.448937</td>\n",
       "    </tr>\n",
       "    <tr>\n",
       "      <th>43</th>\n",
       "      <td>K335</td>\n",
       "      <td>0.364990</td>\n",
       "      <td>0.376642</td>\n",
       "    </tr>\n",
       "    <tr>\n",
       "      <th>44</th>\n",
       "      <td>K327</td>\n",
       "      <td>0.360976</td>\n",
       "      <td>0.451911</td>\n",
       "    </tr>\n",
       "    <tr>\n",
       "      <th>45</th>\n",
       "      <td>K320</td>\n",
       "      <td>0.360503</td>\n",
       "      <td>0.635268</td>\n",
       "    </tr>\n",
       "    <tr>\n",
       "      <th>46</th>\n",
       "      <td>K364</td>\n",
       "      <td>0.358502</td>\n",
       "      <td>0.614961</td>\n",
       "    </tr>\n",
       "    <tr>\n",
       "      <th>47</th>\n",
       "      <td>K369</td>\n",
       "      <td>0.357553</td>\n",
       "      <td>0.641486</td>\n",
       "    </tr>\n",
       "    <tr>\n",
       "      <th>48</th>\n",
       "      <td>K342</td>\n",
       "      <td>0.343170</td>\n",
       "      <td>0.720253</td>\n",
       "    </tr>\n",
       "    <tr>\n",
       "      <th>49</th>\n",
       "      <td>K356</td>\n",
       "      <td>0.338194</td>\n",
       "      <td>0.377632</td>\n",
       "    </tr>\n",
       "    <tr>\n",
       "      <th>50</th>\n",
       "      <td>K352</td>\n",
       "      <td>0.335322</td>\n",
       "      <td>0.270941</td>\n",
       "    </tr>\n",
       "    <tr>\n",
       "      <th>51</th>\n",
       "      <td>K362</td>\n",
       "      <td>0.328158</td>\n",
       "      <td>0.603215</td>\n",
       "    </tr>\n",
       "    <tr>\n",
       "      <th>52</th>\n",
       "      <td>K331</td>\n",
       "      <td>0.325702</td>\n",
       "      <td>0.432872</td>\n",
       "    </tr>\n",
       "    <tr>\n",
       "      <th>53</th>\n",
       "      <td>K353</td>\n",
       "      <td>0.322857</td>\n",
       "      <td>0.271906</td>\n",
       "    </tr>\n",
       "    <tr>\n",
       "      <th>54</th>\n",
       "      <td>K328</td>\n",
       "      <td>0.316075</td>\n",
       "      <td>0.630519</td>\n",
       "    </tr>\n",
       "    <tr>\n",
       "      <th>55</th>\n",
       "      <td>K357</td>\n",
       "      <td>0.311508</td>\n",
       "      <td>0.595790</td>\n",
       "    </tr>\n",
       "    <tr>\n",
       "      <th>56</th>\n",
       "      <td>K363</td>\n",
       "      <td>0.303622</td>\n",
       "      <td>0.368466</td>\n",
       "    </tr>\n",
       "    <tr>\n",
       "      <th>57</th>\n",
       "      <td>K340</td>\n",
       "      <td>0.293585</td>\n",
       "      <td>0.581510</td>\n",
       "    </tr>\n",
       "    <tr>\n",
       "      <th>58</th>\n",
       "      <td>K334</td>\n",
       "      <td>0.288891</td>\n",
       "      <td>0.281758</td>\n",
       "    </tr>\n",
       "    <tr>\n",
       "      <th>59</th>\n",
       "      <td>K326</td>\n",
       "      <td>0.253701</td>\n",
       "      <td>0.339612</td>\n",
       "    </tr>\n",
       "  </tbody>\n",
       "</table>\n",
       "</div>"
      ],
      "text/plain": [
       "   subject       acc        f1\n",
       "0     K360  0.548153  0.703694\n",
       "1     K309  0.539630  0.727471\n",
       "2     K336  0.505985  0.534300\n",
       "3     K354  0.500099  0.478048\n",
       "4     K350  0.496006  0.579032\n",
       "5     K322  0.490565  0.677919\n",
       "6     K325  0.473747  0.571959\n",
       "7     K333  0.463749  0.586101\n",
       "8     K361  0.461376  0.674533\n",
       "9     K368  0.460766  0.651432\n",
       "10    K313  0.460074  0.646428\n",
       "11    K358  0.453675  0.704760\n",
       "12    K375  0.447869  0.582435\n",
       "13    K355  0.438071  0.696760\n",
       "14    K314  0.437076  0.701562\n",
       "15    K323  0.428827  0.602451\n",
       "16    K300  0.424088  0.611571\n",
       "17    K337  0.421685  0.572505\n",
       "18    K366  0.420329  0.657446\n",
       "19    K367  0.419151  0.454452\n",
       "20    K370  0.418863  0.639960\n",
       "21    K359  0.417521  0.685590\n",
       "22    K330  0.414092  0.542629\n",
       "23    K343  0.410367  0.749236\n",
       "24    K371  0.406311  0.624829\n",
       "25    K324  0.405956  0.505090\n",
       "26    K312  0.403693  0.651910\n",
       "27    K351  0.401871  0.393846\n",
       "28    K373  0.401818  0.642826\n",
       "29    K319  0.401435  0.708747\n",
       "30    K310  0.401383  0.649018\n",
       "31    K311  0.398498  0.687061\n",
       "32    K329  0.396552  0.543942\n",
       "33    K315  0.394595  0.643429\n",
       "34    K339  0.393170  0.708330\n",
       "35    K338  0.388019  0.706690\n",
       "36    K372  0.386667  0.592577\n",
       "37    K332  0.383513  0.635768\n",
       "38    K344  0.383510  0.687838\n",
       "39    K374  0.381591  0.611595\n",
       "40    K316  0.377340  0.641392\n",
       "41    K365  0.375077  0.367588\n",
       "42    K321  0.370483  0.448937\n",
       "43    K335  0.364990  0.376642\n",
       "44    K327  0.360976  0.451911\n",
       "45    K320  0.360503  0.635268\n",
       "46    K364  0.358502  0.614961\n",
       "47    K369  0.357553  0.641486\n",
       "48    K342  0.343170  0.720253\n",
       "49    K356  0.338194  0.377632\n",
       "50    K352  0.335322  0.270941\n",
       "51    K362  0.328158  0.603215\n",
       "52    K331  0.325702  0.432872\n",
       "53    K353  0.322857  0.271906\n",
       "54    K328  0.316075  0.630519\n",
       "55    K357  0.311508  0.595790\n",
       "56    K363  0.303622  0.368466\n",
       "57    K340  0.293585  0.581510\n",
       "58    K334  0.288891  0.281758\n",
       "59    K326  0.253701  0.339612"
      ]
     },
     "execution_count": 22,
     "metadata": {},
     "output_type": "execute_result"
    }
   ],
   "source": [
    "result.sort_values(\"acc\", ascending=False).reset_index(drop=True)"
   ]
  },
  {
   "cell_type": "code",
   "execution_count": null,
   "id": "dad79956-79ce-4883-9cff-1e433be3cdf0",
   "metadata": {},
   "outputs": [],
   "source": []
  }
 ],
 "metadata": {
  "kernelspec": {
   "display_name": "Python 3 (ipykernel)",
   "language": "python",
   "name": "python3"
  },
  "language_info": {
   "codemirror_mode": {
    "name": "ipython",
    "version": 3
   },
   "file_extension": ".py",
   "mimetype": "text/x-python",
   "name": "python",
   "nbconvert_exporter": "python",
   "pygments_lexer": "ipython3",
   "version": "3.9.12"
  }
 },
 "nbformat": 4,
 "nbformat_minor": 5
}
