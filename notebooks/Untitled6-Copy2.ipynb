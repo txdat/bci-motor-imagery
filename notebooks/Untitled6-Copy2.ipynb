{
 "cells": [
  {
   "cell_type": "code",
   "execution_count": 1,
   "id": "fa2c0f1e-9fe8-41b7-aa00-065f28bb85a9",
   "metadata": {},
   "outputs": [],
   "source": [
    "import numpy as np\n",
    "import pandas as pd\n",
    "import mne\n",
    "import matplotlib.pyplot as plt\n",
    "from matplotlib.figure import Figure\n",
    "import seaborn as sb\n",
    "import pickle as pkl\n",
    "from braindecode.datasets import BaseConcatDataset, create_from_X_y\n",
    "from shutil import copyfile\n",
    "from tqdm import tqdm\n",
    "from sklearn.preprocessing import LabelEncoder\n",
    "from data_util import load_subjects, load_subject_data, load_data, euclidean_alignment, label_alignment\n",
    "from alignment import np_compute_transform_mat, np_euclidean_alignment, np_compute_target_transform_mats, np_label_alignment\n",
    "from util import np_standardize"
   ]
  },
  {
   "cell_type": "code",
   "execution_count": 2,
   "id": "a016a99a-0571-4e41-ad1d-3ef939f98767",
   "metadata": {},
   "outputs": [],
   "source": [
    "# data_dir = \"/content/drive/MyDrive/DataVIN/Official\"\n",
    "# als_data_dir = \"/content/drive/MyDrive/VIN_ALS\"\n",
    "data_dir = \"../data/vin/Official\"\n",
    "als_data_dir = \"../data/vin/Official\""
   ]
  },
  {
   "cell_type": "code",
   "execution_count": 3,
   "id": "696a3d9a-a8fc-4817-92b7-b5bd737f6760",
   "metadata": {},
   "outputs": [
    {
     "name": "stdout",
     "output_type": "stream",
     "text": [
      "using 32 channels\n"
     ]
    },
    {
     "name": "stderr",
     "output_type": "stream",
     "text": [
      "subject:  11%|█         | 12/109 [00:00<00:00, 112.41it/s]/home/administrator/txdat/eeg-motor-imagery/notebooks/data_util.py:211: RuntimeWarning: Limited 1 annotation(s) that were expanding outside the data range.\n",
      "  raw = mne.io.read_raw_edf(f\"{sample_dir}/EEG.edf\", preload=False, verbose=False)\n",
      "/home/administrator/txdat/eeg-motor-imagery/notebooks/data_util.py:211: RuntimeWarning: Limited 1 annotation(s) that were expanding outside the data range.\n",
      "  raw = mne.io.read_raw_edf(f\"{sample_dir}/EEG.edf\", preload=False, verbose=False)\n",
      "subject:  22%|██▏       | 24/109 [00:00<00:02, 33.70it/s] /home/administrator/txdat/eeg-motor-imagery/notebooks/data_util.py:211: RuntimeWarning: Limited 1 annotation(s) that were expanding outside the data range.\n",
      "  raw = mne.io.read_raw_edf(f\"{sample_dir}/EEG.edf\", preload=False, verbose=False)\n",
      "subject:  28%|██▊       | 30/109 [00:00<00:02, 30.13it/s]/home/administrator/txdat/eeg-motor-imagery/notebooks/data_util.py:211: RuntimeWarning: Limited 1 annotation(s) that were expanding outside the data range.\n",
      "  raw = mne.io.read_raw_edf(f\"{sample_dir}/EEG.edf\", preload=False, verbose=False)\n",
      "/home/administrator/txdat/eeg-motor-imagery/notebooks/data_util.py:211: RuntimeWarning: Limited 1 annotation(s) that were expanding outside the data range.\n",
      "  raw = mne.io.read_raw_edf(f\"{sample_dir}/EEG.edf\", preload=False, verbose=False)\n",
      "subject:  32%|███▏      | 35/109 [00:01<00:02, 28.69it/s]/home/administrator/txdat/eeg-motor-imagery/notebooks/data_util.py:211: RuntimeWarning: Limited 1 annotation(s) that were expanding outside the data range.\n",
      "  raw = mne.io.read_raw_edf(f\"{sample_dir}/EEG.edf\", preload=False, verbose=False)\n",
      "/home/administrator/txdat/eeg-motor-imagery/notebooks/data_util.py:211: RuntimeWarning: Limited 1 annotation(s) that were expanding outside the data range.\n",
      "  raw = mne.io.read_raw_edf(f\"{sample_dir}/EEG.edf\", preload=False, verbose=False)\n",
      "subject:  75%|███████▌  | 82/109 [00:05<00:02, 10.57it/s]/home/administrator/txdat/eeg-motor-imagery/notebooks/data_util.py:211: RuntimeWarning: Limited 1 annotation(s) that were expanding outside the data range.\n",
      "  raw = mne.io.read_raw_edf(f\"{sample_dir}/EEG.edf\", preload=False, verbose=False)\n",
      "/home/administrator/txdat/eeg-motor-imagery/notebooks/data_util.py:211: RuntimeWarning: Limited 1 annotation(s) that were expanding outside the data range.\n",
      "  raw = mne.io.read_raw_edf(f\"{sample_dir}/EEG.edf\", preload=False, verbose=False)\n",
      "subject:  79%|███████▉  | 86/109 [00:05<00:02,  8.26it/s]/home/administrator/txdat/eeg-motor-imagery/notebooks/data_util.py:211: RuntimeWarning: Limited 1 annotation(s) that were expanding outside the data range.\n",
      "  raw = mne.io.read_raw_edf(f\"{sample_dir}/EEG.edf\", preload=False, verbose=False)\n",
      "subject:  83%|████████▎ | 90/109 [00:06<00:02,  7.48it/s]/home/administrator/txdat/eeg-motor-imagery/notebooks/data_util.py:211: RuntimeWarning: Limited 1 annotation(s) that were expanding outside the data range.\n",
      "  raw = mne.io.read_raw_edf(f\"{sample_dir}/EEG.edf\", preload=False, verbose=False)\n",
      "subject:  85%|████████▌ | 93/109 [00:06<00:02,  5.99it/s]/home/administrator/txdat/eeg-motor-imagery/notebooks/data_util.py:211: RuntimeWarning: Limited 1 annotation(s) that were expanding outside the data range.\n",
      "  raw = mne.io.read_raw_edf(f\"{sample_dir}/EEG.edf\", preload=False, verbose=False)\n",
      "/home/administrator/txdat/eeg-motor-imagery/notebooks/data_util.py:211: RuntimeWarning: Limited 1 annotation(s) that were expanding outside the data range.\n",
      "  raw = mne.io.read_raw_edf(f\"{sample_dir}/EEG.edf\", preload=False, verbose=False)\n",
      "subject:  89%|████████▉ | 97/109 [00:07<00:02,  5.56it/s]/home/administrator/txdat/eeg-motor-imagery/notebooks/data_util.py:211: RuntimeWarning: Limited 1 annotation(s) that were expanding outside the data range.\n",
      "  raw = mne.io.read_raw_edf(f\"{sample_dir}/EEG.edf\", preload=False, verbose=False)\n",
      "subject:  91%|█████████ | 99/109 [00:07<00:01,  6.78it/s]/home/administrator/txdat/eeg-motor-imagery/notebooks/data_util.py:211: RuntimeWarning: Limited 1 annotation(s) that were expanding outside the data range.\n",
      "  raw = mne.io.read_raw_edf(f\"{sample_dir}/EEG.edf\", preload=False, verbose=False)\n",
      "/home/administrator/txdat/eeg-motor-imagery/notebooks/data_util.py:211: RuntimeWarning: Limited 1 annotation(s) that were expanding outside the data range.\n",
      "  raw = mne.io.read_raw_edf(f\"{sample_dir}/EEG.edf\", preload=False, verbose=False)\n",
      "subject:  92%|█████████▏| 100/109 [00:07<00:01,  7.23it/s]/home/administrator/txdat/eeg-motor-imagery/notebooks/data_util.py:211: RuntimeWarning: Limited 1 annotation(s) that were expanding outside the data range.\n",
      "  raw = mne.io.read_raw_edf(f\"{sample_dir}/EEG.edf\", preload=False, verbose=False)\n",
      "/home/administrator/txdat/eeg-motor-imagery/notebooks/data_util.py:211: RuntimeWarning: Limited 1 annotation(s) that were expanding outside the data range.\n",
      "  raw = mne.io.read_raw_edf(f\"{sample_dir}/EEG.edf\", preload=False, verbose=False)\n",
      "subject:  99%|█████████▉| 108/109 [00:08<00:00, 11.34it/s]/home/administrator/txdat/eeg-motor-imagery/notebooks/data_util.py:211: RuntimeWarning: Limited 1 annotation(s) that were expanding outside the data range.\n",
      "  raw = mne.io.read_raw_edf(f\"{sample_dir}/EEG.edf\", preload=False, verbose=False)\n",
      "subject: 100%|██████████| 109/109 [00:08<00:00, 12.75it/s]\n",
      "subject: 100%|██████████| 97/97 [00:11<00:00,  8.35it/s]\n",
      "trial: 100%|██████████| 2754/2754 [00:14<00:00, 190.86it/s]\n"
     ]
    },
    {
     "name": "stdout",
     "output_type": "stream",
     "text": [
      "loaded 97 subjects - 24972 epochs\n",
      "CPU times: user 1min 21s, sys: 8.46 s, total: 1min 30s\n",
      "Wall time: 1min 43s\n"
     ]
    },
    {
     "data": {
      "text/html": [
       "<div>\n",
       "<style scoped>\n",
       "    .dataframe tbody tr th:only-of-type {\n",
       "        vertical-align: middle;\n",
       "    }\n",
       "\n",
       "    .dataframe tbody tr th {\n",
       "        vertical-align: top;\n",
       "    }\n",
       "\n",
       "    .dataframe thead th {\n",
       "        text-align: right;\n",
       "    }\n",
       "</style>\n",
       "<table border=\"1\" class=\"dataframe\">\n",
       "  <thead>\n",
       "    <tr style=\"text-align: right;\">\n",
       "      <th></th>\n",
       "      <th>subject</th>\n",
       "      <th>scenario</th>\n",
       "      <th>event</th>\n",
       "      <th>label</th>\n",
       "      <th>trial</th>\n",
       "      <th>split</th>\n",
       "      <th>epochs</th>\n",
       "    </tr>\n",
       "  </thead>\n",
       "  <tbody>\n",
       "    <tr>\n",
       "      <th>0</th>\n",
       "      <td>K001</td>\n",
       "      <td>nâng tay trái</td>\n",
       "      <td>Thinking</td>\n",
       "      <td>nâng tay trái</td>\n",
       "      <td>0</td>\n",
       "      <td>train</td>\n",
       "      <td>9</td>\n",
       "    </tr>\n",
       "    <tr>\n",
       "      <th>1</th>\n",
       "      <td>K001</td>\n",
       "      <td>nâng tay trái</td>\n",
       "      <td>Resting</td>\n",
       "      <td>rest</td>\n",
       "      <td>0</td>\n",
       "      <td>train</td>\n",
       "      <td>10</td>\n",
       "    </tr>\n",
       "    <tr>\n",
       "      <th>2</th>\n",
       "      <td>K001</td>\n",
       "      <td>nâng tay trái</td>\n",
       "      <td>Resting</td>\n",
       "      <td>rest</td>\n",
       "      <td>1</td>\n",
       "      <td>train</td>\n",
       "      <td>5</td>\n",
       "    </tr>\n",
       "    <tr>\n",
       "      <th>3</th>\n",
       "      <td>K001</td>\n",
       "      <td>nâng tay trái</td>\n",
       "      <td>Thinking</td>\n",
       "      <td>nâng tay trái</td>\n",
       "      <td>1</td>\n",
       "      <td>train</td>\n",
       "      <td>10</td>\n",
       "    </tr>\n",
       "    <tr>\n",
       "      <th>4</th>\n",
       "      <td>K001</td>\n",
       "      <td>nâng tay trái</td>\n",
       "      <td>Resting</td>\n",
       "      <td>rest</td>\n",
       "      <td>2</td>\n",
       "      <td>train</td>\n",
       "      <td>4</td>\n",
       "    </tr>\n",
       "    <tr>\n",
       "      <th>...</th>\n",
       "      <td>...</td>\n",
       "      <td>...</td>\n",
       "      <td>...</td>\n",
       "      <td>...</td>\n",
       "      <td>...</td>\n",
       "      <td>...</td>\n",
       "      <td>...</td>\n",
       "    </tr>\n",
       "    <tr>\n",
       "      <th>2749</th>\n",
       "      <td>K375</td>\n",
       "      <td>nâng chân phải</td>\n",
       "      <td>Resting</td>\n",
       "      <td>rest</td>\n",
       "      <td>2</td>\n",
       "      <td>train</td>\n",
       "      <td>4</td>\n",
       "    </tr>\n",
       "    <tr>\n",
       "      <th>2750</th>\n",
       "      <td>K375</td>\n",
       "      <td>nâng chân phải</td>\n",
       "      <td>Resting</td>\n",
       "      <td>rest</td>\n",
       "      <td>3</td>\n",
       "      <td>train</td>\n",
       "      <td>5</td>\n",
       "    </tr>\n",
       "    <tr>\n",
       "      <th>2751</th>\n",
       "      <td>K375</td>\n",
       "      <td>nâng chân phải</td>\n",
       "      <td>Thinking</td>\n",
       "      <td>nâng chân phải</td>\n",
       "      <td>2</td>\n",
       "      <td>train</td>\n",
       "      <td>11</td>\n",
       "    </tr>\n",
       "    <tr>\n",
       "      <th>2752</th>\n",
       "      <td>K375</td>\n",
       "      <td>nâng chân phải</td>\n",
       "      <td>Resting</td>\n",
       "      <td>rest</td>\n",
       "      <td>4</td>\n",
       "      <td>train</td>\n",
       "      <td>6</td>\n",
       "    </tr>\n",
       "    <tr>\n",
       "      <th>2753</th>\n",
       "      <td>K375</td>\n",
       "      <td>nâng chân phải</td>\n",
       "      <td>Resting</td>\n",
       "      <td>rest</td>\n",
       "      <td>5</td>\n",
       "      <td>train</td>\n",
       "      <td>3</td>\n",
       "    </tr>\n",
       "  </tbody>\n",
       "</table>\n",
       "<p>2754 rows × 7 columns</p>\n",
       "</div>"
      ],
      "text/plain": [
       "     subject        scenario     event           label  trial  split  epochs\n",
       "0       K001   nâng tay trái  Thinking   nâng tay trái      0  train       9\n",
       "1       K001   nâng tay trái   Resting            rest      0  train      10\n",
       "2       K001   nâng tay trái   Resting            rest      1  train       5\n",
       "3       K001   nâng tay trái  Thinking   nâng tay trái      1  train      10\n",
       "4       K001   nâng tay trái   Resting            rest      2  train       4\n",
       "...      ...             ...       ...             ...    ...    ...     ...\n",
       "2749    K375  nâng chân phải   Resting            rest      2  train       4\n",
       "2750    K375  nâng chân phải   Resting            rest      3  train       5\n",
       "2751    K375  nâng chân phải  Thinking  nâng chân phải      2  train      11\n",
       "2752    K375  nâng chân phải   Resting            rest      4  train       6\n",
       "2753    K375  nâng chân phải   Resting            rest      5  train       3\n",
       "\n",
       "[2754 rows x 7 columns]"
      ]
     },
     "execution_count": 3,
     "metadata": {},
     "output_type": "execute_result"
    }
   ],
   "source": [
    "%%time\n",
    "# fmt: off\n",
    "# subjects = [\n",
    "#     'K300', 'K309', 'K310', 'K311', 'K312', \n",
    "#     'K313', 'K314', 'K315', 'K316', 'K319', \n",
    "#     'K320', 'K321', 'K322', 'K323', 'K324', \n",
    "#     'K325', 'K326', 'K327', 'K328', 'K329', \n",
    "#     'K330', 'K331', 'K332', 'K333', 'K334', \n",
    "#     'K335', 'K336', 'K337', 'K338', 'K339', \n",
    "#     'K340', 'K342', 'K343', 'K344', 'K350', \n",
    "#     'K351', 'K352', 'K353', 'K354', 'K355', \n",
    "#     'K356', 'K357', 'K358', 'K359', 'K360', \n",
    "#     'K361', 'K362', 'K363', 'K364', 'K365', \n",
    "#     'K366', 'K367', 'K368', 'K369', 'K370', \n",
    "#     'K371', 'K372', 'K373', 'K374', 'K375',\n",
    "# ]\n",
    "\n",
    "subjects = [\n",
    "    'K001', 'K002', 'K003', 'K004',\n",
    "    'K005', 'K006', 'K007', 'K008', 'K009',\n",
    "    'K010', 'K011', 'K012', 'K013', 'K014',\n",
    "    'K015', 'K016', 'K017', 'K018', 'K019',\n",
    "    'K020', 'K021', 'K022', 'K023', 'K024',\n",
    "    'K025', 'K026', 'K027', 'K028', 'K299',\n",
    "    'K300', 'K301', 'K302', 'K303', 'K304',\n",
    "    'K305', 'K306', 'K307', 'K308', 'K309',\n",
    "    'K310', 'K311', 'K312', 'K313', 'K314',\n",
    "    'K315', 'K316', 'K317', 'K318', 'K319',\n",
    "    'K320', 'K321', 'K322', 'K323', 'K324',\n",
    "    'K325', 'K326', 'K327', 'K328', 'K329',\n",
    "    'K330', 'K331', 'K332', 'K333', 'K334',\n",
    "    'K335', 'K336', 'K337', 'K338', 'K339',\n",
    "    'K340', 'K342', 'K343', 'K344', 'K350',\n",
    "    'K351', 'K352', 'K353', 'K354', 'K355',\n",
    "    'K356', 'K357', 'K358', 'K359', 'K360',\n",
    "    'K361', 'K362', 'K363', 'K364', 'K365',\n",
    "    'K366', 'K367', 'K368', 'K369', 'K370',\n",
    "    'K371', 'K372', 'K373', 'K374', 'K375',\n",
    "]\n",
    "\n",
    "subjects = sorted(subjects)\n",
    "\n",
    "scenarios = [\n",
    "    \"nâng tay trái\",\n",
    "    \"nâng tay phải\",\n",
    "    \"nâng chân trái\",\n",
    "    \"nâng chân phải\",\n",
    "    # \"gật đầu\",\n",
    "    # \"lắc đầu\",\n",
    "    # \"há miệng\",\n",
    "]\n",
    "\n",
    "events = [\n",
    "    \"Thinking\",\n",
    "    # \"Thinking and Acting\",\n",
    "    \"Resting\",\n",
    "    # \"Typing\",\n",
    "]\n",
    "\n",
    "channels = [\n",
    "    \"Fp1\", \"Fp2\",\n",
    "    \"F7\", \"F3\", \"Fz\", \"F4\", \"F8\",\n",
    "    \"FT9\", \"FC5\", \"FC1\", \"FC2\", \"FC6\", \"FT10\",\n",
    "    # \"FC5\", \"FC1\", \"FC2\", \"FC6\",\n",
    "    \"T7\", \"C3\", \"Cz\", \"C4\", \"T8\",\n",
    "    \"CP5\", \"CP1\", \"CP2\", \"CP6\",\n",
    "    \"P7\", \"P3\", \"Pz\", \"P4\", \"P8\",\n",
    "    \"PO9\", \"O1\", \"Oz\", \"O2\", \"PO10\",\n",
    "    # \"O1\", \"Oz\", \"O2\",\n",
    "]\n",
    "# channels = [\n",
    "#     # \"F3\", \"Fz\", \"F4\",\n",
    "#     \"FC5\", \"FC1\", \"FC2\", \"FC6\",\n",
    "#     \"C3\", \"Cz\", \"C4\",\n",
    "#     \"CP5\", \"CP1\", \"CP2\", \"CP6\",\n",
    "#     # \"P3\", \"Pz\", \"P4\",\n",
    "# ]\n",
    "\n",
    "label_mapping={\n",
    "    \"nâng tay trái_Thinking\": \"nâng tay trái\",\n",
    "    \"nâng tay phải_Thinking\": \"nâng tay phải\",\n",
    "    # \"nâng tay trái_Thinking\": \"nâng tay\",\n",
    "    # \"nâng tay phải_Thinking\": \"nâng tay\",\n",
    "    # \"nâng tay trái_Thinking\": \"mi\",\n",
    "    # \"nâng tay phải_Thinking\": \"mi\",\n",
    "    \"nâng chân trái_Thinking\": \"nâng chân trái\",\n",
    "    \"nâng chân phải_Thinking\": \"nâng chân phải\",\n",
    "    # \"nâng chân trái_Thinking\": \"nâng chân\",\n",
    "    # \"nâng chân phải_Thinking\": \"nâng chân\",\n",
    "    # \"nâng chân trái_Thinking\": \"mi\",\n",
    "    # \"nâng chân phải_Thinking\": \"mi\",\n",
    "    \"gật đầu_Thinking\": \"gật đầu\",\n",
    "    \"lắc đầu_Thinking\": \"lắc đầu\",\n",
    "    # \"gật đầu_Thinking\": \"đầu\",\n",
    "    # \"lắc đầu_Thinking\": \"đầu\",\n",
    "    # \"gật đầu_Thinking\": \"mi\",\n",
    "    # \"lắc đầu_Thinking\": \"mi\",\n",
    "    \"há miệng_Thinking\": \"há miệng\",\n",
    "    # \"há miệng_Thinking\": \"mi\",\n",
    "    # \"nâng tay trái_Thinking and Acting\": \"nâng tay trái\",\n",
    "    # \"nâng tay phải_Thinking and Acting\": \"nâng tay phải\",\n",
    "    # \"nâng chân trái_Thinking and Acting\": \"nâng chân trái\",\n",
    "    # \"nâng chân phải_Thinking and Acting\": \"nâng chân phải\",\n",
    "    # \"gật đầu_Thinking and Acting\": \"gật đầu\",\n",
    "    # \"lắc đầu_Thinking and Acting\": \"lắc đầu\",\n",
    "    # \"há miệng_Thinking and Acting\": \"há miệng\",\n",
    "    \"Resting\": \"rest\",\n",
    "}\n",
    "\n",
    "n_channels = len(channels)\n",
    "\n",
    "print(f\"using {n_channels} channels\")\n",
    "\n",
    "minimal_trial_duration = 3  # @param\n",
    "window_duration = 2  # @param\n",
    "window_stride_duration = 0.5  # @param\n",
    "\n",
    "fmin = 8.0  # @param\n",
    "fmax = 30.0  # @param\n",
    "\n",
    "ds = load_data(\n",
    "    data_dir,  \n",
    "    subjects=subjects,\n",
    "    scenarios=scenarios,\n",
    "    events=events,\n",
    "    channels=channels,\n",
    "    label_mapping=label_mapping,\n",
    "    minimal_trial_duration=minimal_trial_duration,\n",
    "    window_duration=window_duration, \n",
    "    window_stride_duration=window_stride_duration, \n",
    "    start_offset=0,\n",
    "    stop_offset=0,\n",
    "    fmin=fmin, \n",
    "    fmax=fmax, \n",
    "    moving_standardize=False,\n",
    "    resample=None,\n",
    "    return_raw=False,\n",
    "    return_preprocessed=False,\n",
    "    preload=True,\n",
    ")\n",
    "\n",
    "# als_subjects = [\"ALS01_t1\", \"ALS01_t2\", \"ALS02_t1\", \"ALS02_t2\"]\n",
    "\n",
    "# als_ds = load_data(\n",
    "#     als_data_dir,  \n",
    "#     subjects=als_subjects,\n",
    "#     scenarios=scenarios,\n",
    "#     events=events,\n",
    "#     channels=channels,\n",
    "#     label_mapping=label_mapping,\n",
    "#     minimal_trial_duration=minimal_trial_duration,\n",
    "#     window_duration=window_duration, \n",
    "#     window_stride_duration=window_stride_duration, \n",
    "#     start_offset=0,\n",
    "#     stop_offset=0,\n",
    "#     fmin=fmin, \n",
    "#     fmax=fmax, \n",
    "#     moving_standardize=False,\n",
    "#     resample=None,\n",
    "#     return_raw=False,\n",
    "#     return_preprocessed=False,\n",
    "#     preload=True,\n",
    "# )\n",
    "\n",
    "# ds = BaseConcatDataset([ds, als_ds])\n",
    "\n",
    "# fmt: on\n",
    "\n",
    "# for _ds in ds.datasets:\n",
    "#     _ds_info = _ds.description\n",
    "#     if _ds_info[\"subject\"] == \"K314\":\n",
    "#         _ds_info[\"subject\"] = \"K314_t1\"\n",
    "#     elif _ds_info[\"subject\"] == \"K324\":\n",
    "#         _ds_info[\"subject\"] = \"K314_t2\"\n",
    "\n",
    "ds_info = ds.description\n",
    "\n",
    "ds_info[\"epochs\"] = 0\n",
    "for i, r in ds_info.iterrows():\n",
    "    ds_info.loc[i, \"epochs\"] = len(ds.datasets[i].windows)\n",
    "\n",
    "print(f\"loaded {len(ds_info['subject'].unique())} subjects - {ds_info['epochs'].sum()} epochs\")\n",
    "ds_info"
   ]
  },
  {
   "cell_type": "code",
   "execution_count": 4,
   "id": "e550d9cd-da04-4b47-8b66-ee0aa62de0c5",
   "metadata": {},
   "outputs": [
    {
     "data": {
      "text/plain": [
       "{'rest': 0,\n",
       " 'nâng chân phải': 1,\n",
       " 'nâng chân trái': 2,\n",
       " 'nâng tay phải': 3,\n",
       " 'nâng tay trái': 4}"
      ]
     },
     "execution_count": 4,
     "metadata": {},
     "output_type": "execute_result"
    }
   ],
   "source": [
    "ds.datasets[0].windows.event_id"
   ]
  },
  {
   "cell_type": "code",
   "execution_count": 5,
   "id": "56a45925-602a-4d10-8e79-d5895c40f7c6",
   "metadata": {},
   "outputs": [],
   "source": [
    "import numpy as np\n",
    "from scipy import linalg, stats, signal\n",
    "import pandas as pd\n",
    "import matplotlib.pyplot as plt\n",
    "import seaborn as sb\n",
    "import mne\n",
    "# import yasa\n",
    "import sklearn.metrics as metrics\n",
    "from sklearn.preprocessing import LabelEncoder\n",
    "from sklearn.preprocessing import StandardScaler\n",
    "from sklearn.pipeline import make_pipeline\n",
    "from sklearn.svm import LinearSVC, SVC\n",
    "# from sklearn.ensemble import RandomForestClassifier\n",
    "# from sklearn.linear_model import LogisticRegression\n",
    "from sklearn.discriminant_analysis import LinearDiscriminantAnalysis\n",
    "from sklearn.multiclass import OneVsRestClassifier\n",
    "from pyriemann.estimation import Covariances\n",
    "# from pyriemann.spatialfilters import CSP\n",
    "from pyriemann.tangentspace import TangentSpace\n",
    "from pyriemann.classification import TSclassifier, MDM, FgMDM\n",
    "import pickle as pkl\n",
    "from tqdm import tqdm\n",
    "from copy import deepcopy\n",
    "from collections import defaultdict"
   ]
  },
  {
   "cell_type": "code",
   "execution_count": 10,
   "id": "6b7f0609-8d93-4354-ac92-4a3d9bccb2bb",
   "metadata": {},
   "outputs": [
    {
     "name": "stderr",
     "output_type": "stream",
     "text": [
      "subject: 100%|██████████| 97/97 [00:05<00:00, 16.39it/s]\n"
     ]
    }
   ],
   "source": [
    "ds_ea = deepcopy(ds)\n",
    "euclidean_alignment(ds_ea, target_subject=None, labeled_trials=None)"
   ]
  },
  {
   "cell_type": "code",
   "execution_count": 6,
   "id": "add33bb7-62c2-463c-9ed6-36e402160bc7",
   "metadata": {},
   "outputs": [
    {
     "name": "stderr",
     "output_type": "stream",
     "text": [
      "subject:   0%|          | 0/60 [00:00<?, ?it/s]"
     ]
    },
    {
     "name": "stdout",
     "output_type": "stream",
     "text": [
      "==========subject K300==========\n",
      "[9568 1880 1873 1877 1860] [139  14  20  17  38]\n"
     ]
    },
    {
     "name": "stderr",
     "output_type": "stream",
     "text": [
      "subject:   2%|▏         | 1/60 [02:04<2:02:46, 124.85s/it]"
     ]
    },
    {
     "name": "stdout",
     "output_type": "stream",
     "text": [
      "accuracy: 0.4393188854489164\n",
      "f1_weighted: 0.602159646461717\n",
      "confusion matrix:\n",
      "[[139   0   0   0   0]\n",
      " [  0  14   0   0   0]\n",
      " [  3  17   0   0   0]\n",
      " [  4   8   3   2   0]\n",
      " [ 35   0   0   0   3]]\n",
      "==========subject K309==========\n",
      "[9564 1875 1874 1874 1880] [143  19  19  20  18]\n"
     ]
    },
    {
     "name": "stderr",
     "output_type": "stream",
     "text": [
      "subject:   3%|▎         | 2/60 [04:47<2:22:07, 147.03s/it]"
     ]
    },
    {
     "name": "stdout",
     "output_type": "stream",
     "text": [
      "accuracy: 0.7276657260867787\n",
      "f1_weighted: 0.8696825113078915\n",
      "confusion matrix:\n",
      "[[142   1   0   0   0]\n",
      " [  0  19   0   0   0]\n",
      " [  2   4  13   0   0]\n",
      " [  2   0  11   7   0]\n",
      " [  1   0   0   6  11]]\n",
      "==========subject K310==========\n",
      "[9542 1874 1872 1873 1875] [165  20  21  21  23]\n"
     ]
    },
    {
     "name": "stderr",
     "output_type": "stream",
     "text": [
      "subject:   5%|▌         | 3/60 [06:45<2:07:15, 133.95s/it]"
     ]
    },
    {
     "name": "stdout",
     "output_type": "stream",
     "text": [
      "accuracy: 0.2746583850931677\n",
      "f1_weighted: 0.5967987102949696\n",
      "confusion matrix:\n",
      "[[165   0   0   0   0]\n",
      " [ 17   2   1   0   0]\n",
      " [ 18   0   3   0   0]\n",
      " [ 18   0   2   0   1]\n",
      " [ 18   0   0   2   3]]\n",
      "==========subject K311==========\n",
      "[9555 1870 1874 1868 1875] [152  24  19  26  23]\n"
     ]
    },
    {
     "name": "stderr",
     "output_type": "stream",
     "text": [
      "subject:   7%|▋         | 4/60 [08:59<2:04:49, 133.75s/it]"
     ]
    },
    {
     "name": "stdout",
     "output_type": "stream",
     "text": [
      "accuracy: 0.7556694830722291\n",
      "f1_weighted: 0.8809845029145097\n",
      "confusion matrix:\n",
      "[[152   0   0   0   0]\n",
      " [  1  23   0   0   0]\n",
      " [  5   9   5   0   0]\n",
      " [  0   4   0  19   3]\n",
      " [  0   0   0   4  19]]\n",
      "==========subject K312==========\n",
      "[9545 1864 1871 1870 1861] [162  30  22  24  37]\n"
     ]
    },
    {
     "name": "stderr",
     "output_type": "stream",
     "text": [
      "subject:   8%|▊         | 5/60 [11:03<1:59:26, 130.30s/it]"
     ]
    },
    {
     "name": "stdout",
     "output_type": "stream",
     "text": [
      "accuracy: 0.7481798465131798\n",
      "f1_weighted: 0.8364081464521935\n",
      "confusion matrix:\n",
      "[[161   0   0   0   1]\n",
      " [  6  19   5   0   0]\n",
      " [  0   0  22   0   0]\n",
      " [  0   0   7  17   0]\n",
      " [ 22   0   0   0  15]]\n",
      "==========subject K313==========\n",
      "[9556 1869 1867 1867 1874] [151  25  26  27  24]\n"
     ]
    },
    {
     "name": "stderr",
     "output_type": "stream",
     "text": [
      "subject:  10%|█         | 6/60 [13:08<1:55:42, 128.57s/it]"
     ]
    },
    {
     "name": "stdout",
     "output_type": "stream",
     "text": [
      "accuracy: 0.8256470066602516\n",
      "f1_weighted: 0.8962251154034167\n",
      "confusion matrix:\n",
      "[[150   0   1   0   0]\n",
      " [  0  24   1   0   0]\n",
      " [  2   0  22   2   0]\n",
      " [  1   6  10  10   0]\n",
      " [  1   0   0   0  23]]\n",
      "==========subject K314==========\n",
      "[9572 1874 1874 1875 1873] [135  20  19  19  25]\n"
     ]
    },
    {
     "name": "stderr",
     "output_type": "stream",
     "text": [
      "subject:  12%|█▏        | 7/60 [15:01<1:49:02, 123.44s/it]"
     ]
    },
    {
     "name": "stdout",
     "output_type": "stream",
     "text": [
      "accuracy: 0.5026315789473684\n",
      "f1_weighted: 0.6841658725336219\n",
      "confusion matrix:\n",
      "[[135   0   0   0   0]\n",
      " [ 15   5   0   0   0]\n",
      " [  1   2  16   0   0]\n",
      " [  4   0   7   8   0]\n",
      " [ 17   0   3   5   0]]\n",
      "==========subject K315==========\n",
      "[9538 1867 1867 1871 1873] [169  27  26  23  25]\n"
     ]
    },
    {
     "name": "stderr",
     "output_type": "stream",
     "text": [
      "subject:  13%|█▎        | 8/60 [17:05<1:47:14, 123.74s/it]"
     ]
    },
    {
     "name": "stdout",
     "output_type": "stream",
     "text": [
      "accuracy: 0.6166099343490649\n",
      "f1_weighted: 0.7944594606708306\n",
      "confusion matrix:\n",
      "[[169   0   0   0   0]\n",
      " [  2  25   0   0   0]\n",
      " [  7  16   3   0   0]\n",
      " [  3   7   1  12   0]\n",
      " [  4   0   0   8  13]]\n",
      "==========subject K316==========\n",
      "[9534 1869 1872 1873 1876] [173  25  21  21  22]\n"
     ]
    },
    {
     "name": "stderr",
     "output_type": "stream",
     "text": [
      "subject:  15%|█▌        | 9/60 [18:57<1:41:53, 119.88s/it]"
     ]
    },
    {
     "name": "stdout",
     "output_type": "stream",
     "text": [
      "accuracy: 0.5319694717613792\n",
      "f1_weighted: 0.7556345178884284\n",
      "confusion matrix:\n",
      "[[172   0   0   0   1]\n",
      " [  1  24   0   0   0]\n",
      " [  0  21   0   0   0]\n",
      " [ 10   0   0  11   0]\n",
      " [  9   0   0   9   4]]\n",
      "==========subject K319==========\n",
      "[9535 1874 1875 1873 1883] [172  20  18  21  15]\n"
     ]
    },
    {
     "name": "stderr",
     "output_type": "stream",
     "text": [
      "subject:  17%|█▋        | 10/60 [20:48<1:37:33, 117.08s/it]"
     ]
    },
    {
     "name": "stdout",
     "output_type": "stream",
     "text": [
      "accuracy: 0.2\n",
      "f1_weighted: 0.5895106009883628\n",
      "confusion matrix:\n",
      "[[172   0   0   0   0]\n",
      " [ 18   0   0   2   0]\n",
      " [ 18   0   0   0   0]\n",
      " [ 17   0   4   0   0]\n",
      " [ 11   0   3   1   0]]\n",
      "==========subject K320==========\n",
      "[9598 1874 1878 1877 1881] [109  20  15  17  17]\n"
     ]
    },
    {
     "name": "stderr",
     "output_type": "stream",
     "text": [
      "subject:  18%|█▊        | 11/60 [22:51<1:37:15, 119.10s/it]"
     ]
    },
    {
     "name": "stdout",
     "output_type": "stream",
     "text": [
      "accuracy: 0.3768627450980392\n",
      "f1_weighted: 0.624639319351931\n",
      "confusion matrix:\n",
      "[[109   0   0   0   0]\n",
      " [  4  10   6   0   0]\n",
      " [  7   4   4   0   0]\n",
      " [ 17   0   0   0   0]\n",
      " [ 15   0   0   0   2]]\n",
      "==========subject K321==========\n",
      "[9678 1874 1873 1875 1879] [29 20 20 19 19]\n"
     ]
    },
    {
     "name": "stderr",
     "output_type": "stream",
     "text": [
      "subject:  20%|██        | 12/60 [24:56<1:36:43, 120.90s/it]"
     ]
    },
    {
     "name": "stdout",
     "output_type": "stream",
     "text": [
      "accuracy: 0.6794736842105263\n",
      "f1_weighted: 0.6468805253851984\n",
      "confusion matrix:\n",
      "[[29  0  0  0  0]\n",
      " [ 6  9  5  0  0]\n",
      " [ 9 11  0  0  0]\n",
      " [ 1  0  0 18  0]\n",
      " [ 0  0  0  0 19]]\n",
      "==========subject K322==========\n",
      "[9631 1875 1876 1876 1879] [76 19 17 18 19]\n"
     ]
    },
    {
     "name": "stderr",
     "output_type": "stream",
     "text": [
      "subject:  22%|██▏       | 13/60 [26:42<1:30:59, 116.17s/it]"
     ]
    },
    {
     "name": "stdout",
     "output_type": "stream",
     "text": [
      "accuracy: 0.678328173374613\n",
      "f1_weighted: 0.7712768293225661\n",
      "confusion matrix:\n",
      "[[74  0  0  1  1]\n",
      " [ 8 11  0  0  0]\n",
      " [ 8  1  8  0  0]\n",
      " [ 0  0  0 18  0]\n",
      " [12  0  0  0  7]]\n",
      "==========subject K323==========\n",
      "[9648 1877 1877 1876 1879] [59 17 16 18 19]\n"
     ]
    },
    {
     "name": "stderr",
     "output_type": "stream",
     "text": [
      "subject:  23%|██▎       | 14/60 [28:36<1:28:44, 115.75s/it]"
     ]
    },
    {
     "name": "stdout",
     "output_type": "stream",
     "text": [
      "accuracy: 0.827165725047081\n",
      "f1_weighted: 0.8611333541566101\n",
      "confusion matrix:\n",
      "[[58  0  1  0  0]\n",
      " [ 0 17  0  0  0]\n",
      " [ 0  0 14  2  0]\n",
      " [ 0  0  9  5  4]\n",
      " [ 0  0  0  0 19]]\n",
      "==========subject K324==========\n",
      "[9666 1877 1874 1873 1877] [41 17 19 21 21]\n"
     ]
    },
    {
     "name": "stderr",
     "output_type": "stream",
     "text": [
      "subject:  25%|██▌       | 15/60 [30:15<1:22:51, 110.47s/it]"
     ]
    },
    {
     "name": "stdout",
     "output_type": "stream",
     "text": [
      "accuracy: 0.8169814780854574\n",
      "f1_weighted: 0.8124328418446066\n",
      "confusion matrix:\n",
      "[[34  2  0  0  5]\n",
      " [ 0 17  0  0  0]\n",
      " [ 3  0 13  3  0]\n",
      " [ 1  1  4 15  0]\n",
      " [ 3  0  0  0 18]]\n",
      "==========subject K325==========\n",
      "[9666 1875 1862 1877 1882] [41 19 31 17 16]\n"
     ]
    },
    {
     "name": "stderr",
     "output_type": "stream",
     "text": [
      "subject:  27%|██▋       | 16/60 [32:02<1:20:26, 109.68s/it]"
     ]
    },
    {
     "name": "stdout",
     "output_type": "stream",
     "text": [
      "accuracy: 0.7435533806052133\n",
      "f1_weighted: 0.6607622027309885\n",
      "confusion matrix:\n",
      "[[41  0  0  0  0]\n",
      " [ 0 18  1  0  0]\n",
      " [ 6 22  2  0  1]\n",
      " [ 1  3  1 12  0]\n",
      " [ 0  0  0  0 16]]\n",
      "==========subject K326==========\n",
      "[9666 1871 1870 1871 1875] [41 23 23 23 23]\n"
     ]
    },
    {
     "name": "stderr",
     "output_type": "stream",
     "text": [
      "subject:  28%|██▊       | 17/60 [33:31<1:13:57, 103.21s/it]"
     ]
    },
    {
     "name": "stdout",
     "output_type": "stream",
     "text": [
      "accuracy: 0.4608695652173913\n",
      "f1_weighted: 0.48375552362663\n",
      "confusion matrix:\n",
      "[[41  0  0  0  0]\n",
      " [13 10  0  0  0]\n",
      " [ 6  0  1 14  2]\n",
      " [12  0  1  9  1]\n",
      " [10  0  0  3 10]]\n",
      "==========subject K327==========\n",
      "[9676 1862 1876 1875 1878] [31 32 17 19 20]\n"
     ]
    },
    {
     "name": "stderr",
     "output_type": "stream",
     "text": [
      "subject:  30%|███       | 18/60 [35:10<1:11:32, 102.21s/it]"
     ]
    },
    {
     "name": "stdout",
     "output_type": "stream",
     "text": [
      "accuracy: 0.6181075851393188\n",
      "f1_weighted: 0.6095509097948122\n",
      "confusion matrix:\n",
      "[[31  0  0  0  0]\n",
      " [ 5  9 14  4  0]\n",
      " [ 0  0 10  7  0]\n",
      " [ 4  0  7  8  0]\n",
      " [ 4  0  0  0 16]]\n",
      "==========subject K328==========\n",
      "[9578 1877 1870 1872 1874] [129  17  23  22  24]\n"
     ]
    },
    {
     "name": "stderr",
     "output_type": "stream",
     "text": [
      "subject:  32%|███▏      | 19/60 [36:48<1:08:58, 100.94s/it]"
     ]
    },
    {
     "name": "stdout",
     "output_type": "stream",
     "text": [
      "accuracy: 0.6751356273734791\n",
      "f1_weighted: 0.8247441147348119\n",
      "confusion matrix:\n",
      "[[129   0   0   0   0]\n",
      " [  5  12   0   0   0]\n",
      " [  1  13   8   1   0]\n",
      " [  4   3   7   8   0]\n",
      " [  1   0   0   0  23]]\n",
      "==========subject K329==========\n",
      "[9660 1877 1876 1875 1879] [47 17 17 19 19]\n"
     ]
    },
    {
     "name": "stderr",
     "output_type": "stream",
     "text": [
      "subject:  33%|███▎      | 20/60 [38:19<1:05:11, 97.79s/it] "
     ]
    },
    {
     "name": "stdout",
     "output_type": "stream",
     "text": [
      "accuracy: 0.6055727554179566\n",
      "f1_weighted: 0.6510673422438127\n",
      "confusion matrix:\n",
      "[[47  0  0  0  0]\n",
      " [ 3 12  0  2  0]\n",
      " [12  3  1  1  0]\n",
      " [ 3  0  0 16  0]\n",
      " [ 5  0  0  6  8]]\n",
      "==========subject K330==========\n",
      "[9665 1875 1874 1877 1881] [42 19 19 17 17]\n"
     ]
    },
    {
     "name": "stderr",
     "output_type": "stream",
     "text": [
      "subject:  35%|███▌      | 21/60 [39:56<1:03:26, 97.60s/it]"
     ]
    },
    {
     "name": "stdout",
     "output_type": "stream",
     "text": [
      "accuracy: 0.5419873212442872\n",
      "f1_weighted: 0.5916143530829054\n",
      "confusion matrix:\n",
      "[[41  0  1  0  0]\n",
      " [ 1  7 11  0  0]\n",
      " [ 1  1 17  0  0]\n",
      " [ 9  6  0  2  0]\n",
      " [ 7  0  0  4  6]]\n",
      "==========subject K331==========\n",
      "[9669 1876 1874 1877 1876] [38 18 19 17 22]\n"
     ]
    },
    {
     "name": "stderr",
     "output_type": "stream",
     "text": [
      "subject:  37%|███▋      | 22/60 [41:34<1:01:54, 97.75s/it]"
     ]
    },
    {
     "name": "stdout",
     "output_type": "stream",
     "text": [
      "accuracy: 0.5394220846233231\n",
      "f1_weighted: 0.5122697622145731\n",
      "confusion matrix:\n",
      "[[38  0  0  0  0]\n",
      " [ 0 15  3  0  0]\n",
      " [ 2 13  3  1  0]\n",
      " [ 0  5  0 12  0]\n",
      " [ 6  0  0 16  0]]\n",
      "==========subject K332==========\n",
      "[9624 1875 1869 1876 1880] [83 19 24 18 18]\n"
     ]
    },
    {
     "name": "stderr",
     "output_type": "stream",
     "text": [
      "subject:  38%|███▊      | 23/60 [43:35<1:04:35, 104.73s/it]"
     ]
    },
    {
     "name": "stdout",
     "output_type": "stream",
     "text": [
      "accuracy: 0.7046079053054323\n",
      "f1_weighted: 0.8035567783684544\n",
      "confusion matrix:\n",
      "[[82  0  1  0  0]\n",
      " [ 3  7  7  2  0]\n",
      " [ 4  0 20  0  0]\n",
      " [ 3  0  7  7  1]\n",
      " [ 1  0  0  0 17]]\n",
      "==========subject K333==========\n",
      "[9687 1874 1875 1876 1880] [20 20 18 18 18]\n"
     ]
    },
    {
     "name": "stderr",
     "output_type": "stream",
     "text": [
      "subject:  40%|████      | 24/60 [45:22<1:03:16, 105.46s/it]"
     ]
    },
    {
     "name": "stdout",
     "output_type": "stream",
     "text": [
      "accuracy: 0.5688888888888888\n",
      "f1_weighted: 0.5014489057042247\n",
      "confusion matrix:\n",
      "[[20  0  0  0  0]\n",
      " [ 2 18  0  0  0]\n",
      " [ 0 11  3  4  0]\n",
      " [ 0  3  1 14  0]\n",
      " [ 0  0  0 18  0]]\n",
      "==========subject K334==========\n",
      "[9690 1864 1870 1869 1870] [17 30 23 25 28]\n"
     ]
    },
    {
     "name": "stderr",
     "output_type": "stream",
     "text": [
      "subject:  42%|████▏     | 25/60 [46:59<59:58, 102.81s/it]  "
     ]
    },
    {
     "name": "stdout",
     "output_type": "stream",
     "text": [
      "accuracy: 0.3173623188405797\n",
      "f1_weighted: 0.25396581905103\n",
      "confusion matrix:\n",
      "[[17  0  0  0  0]\n",
      " [15  4 11  0  0]\n",
      " [22  0  1  0  0]\n",
      " [11  3  7  4  0]\n",
      " [18  1  2  0  7]]\n",
      "==========subject K335==========\n",
      "[9698 1870 1869 1873 1876] [ 9 24 24 21 22]\n"
     ]
    },
    {
     "name": "stderr",
     "output_type": "stream",
     "text": [
      "subject:  43%|████▎     | 26/60 [48:40<57:56, 102.24s/it]"
     ]
    },
    {
     "name": "stdout",
     "output_type": "stream",
     "text": [
      "accuracy: 0.7099567099567099\n",
      "f1_weighted: 0.6419291754756871\n",
      "confusion matrix:\n",
      "[[ 9  0  0  0  0]\n",
      " [ 2 22  0  0  0]\n",
      " [ 3 13  6  2  0]\n",
      " [ 1  5  6  9  0]\n",
      " [ 0  0  0  1 21]]\n",
      "==========subject K336==========\n",
      "[9685 1868 1871 1869 1875] [22 26 22 25 23]\n"
     ]
    },
    {
     "name": "stderr",
     "output_type": "stream",
     "text": [
      "subject:  45%|████▌     | 27/60 [50:19<55:39, 101.20s/it]"
     ]
    },
    {
     "name": "stdout",
     "output_type": "stream",
     "text": [
      "accuracy: 0.7976102158710854\n",
      "f1_weighted: 0.7956148170355362\n",
      "confusion matrix:\n",
      "[[22  0  0  0  0]\n",
      " [ 0 22  2  2  0]\n",
      " [ 0  1 19  2  0]\n",
      " [ 1  0  3 20  1]\n",
      " [ 0  0  0 12 11]]\n",
      "==========subject K337==========\n",
      "[9650 1871 1869 1870 1874] [57 23 24 24 24]\n"
     ]
    },
    {
     "name": "stderr",
     "output_type": "stream",
     "text": [
      "subject:  47%|████▋     | 28/60 [52:41<1:00:32, 113.53s/it]"
     ]
    },
    {
     "name": "stdout",
     "output_type": "stream",
     "text": [
      "accuracy: 0.8083333333333332\n",
      "f1_weighted: 0.8407542593046209\n",
      "confusion matrix:\n",
      "[[57  0  0  0  0]\n",
      " [ 0 23  0  0  0]\n",
      " [ 0 14 10  0  0]\n",
      " [ 3  2  3 16  0]\n",
      " [ 1  0  0  0 23]]\n",
      "==========subject K338==========\n",
      "[9458 1870 1854 1868 1875] [249  24  39  26  23]\n"
     ]
    },
    {
     "name": "stderr",
     "output_type": "stream",
     "text": [
      "subject:  48%|████▊     | 29/60 [54:55<1:01:51, 119.74s/it]"
     ]
    },
    {
     "name": "stdout",
     "output_type": "stream",
     "text": [
      "accuracy: 0.6234392419175029\n",
      "f1_weighted: 0.8041442453246834\n",
      "confusion matrix:\n",
      "[[249   0   0   0   0]\n",
      " [  0  23   1   0   0]\n",
      " [ 18  12   9   0   0]\n",
      " [  3   0   0  23   0]\n",
      " [  2   0   0  20   1]]\n",
      "==========subject K339==========\n",
      "[9501 1872 1871 1869 1876] [206  22  22  25  22]\n"
     ]
    },
    {
     "name": "stderr",
     "output_type": "stream",
     "text": [
      "subject:  50%|█████     | 30/60 [57:10<1:02:05, 124.17s/it]"
     ]
    },
    {
     "name": "stdout",
     "output_type": "stream",
     "text": [
      "accuracy: 0.641694616063548\n",
      "f1_weighted: 0.8469235814210868\n",
      "confusion matrix:\n",
      "[[204   0   0   0   2]\n",
      " [  2  15   5   0   0]\n",
      " [  6   5  10   1   0]\n",
      " [  6   0   9  10   0]\n",
      " [  3   0   0   4  15]]\n",
      "==========subject K340==========\n",
      "[9526 1868 1867 1870 1874] [181  26  26  24  24]\n"
     ]
    },
    {
     "name": "stderr",
     "output_type": "stream",
     "text": [
      "subject:  52%|█████▏    | 31/60 [59:11<59:39, 123.45s/it]  "
     ]
    },
    {
     "name": "stdout",
     "output_type": "stream",
     "text": [
      "accuracy: 0.33076923076923076\n",
      "f1_weighted: 0.6405603614818823\n",
      "confusion matrix:\n",
      "[[181   0   0   0   0]\n",
      " [ 16   4   6   0   0]\n",
      " [ 13  13   0   0   0]\n",
      " [  8   7   7   0   2]\n",
      " [  8   4   0   0  12]]\n",
      "==========subject K342==========\n",
      "[9515 1876 1876 1877 1881] [192  18  17  17  17]\n"
     ]
    },
    {
     "name": "stderr",
     "output_type": "stream",
     "text": [
      "subject:  53%|█████▎    | 32/60 [1:01:10<56:59, 122.12s/it]"
     ]
    },
    {
     "name": "stdout",
     "output_type": "stream",
     "text": [
      "accuracy: 0.3492851307189543\n",
      "f1_weighted: 0.7277045023752934\n",
      "confusion matrix:\n",
      "[[191   0   0   0   1]\n",
      " [  8   4   4   2   0]\n",
      " [ 11   4   1   1   0]\n",
      " [  6   4   0   7   0]\n",
      " [ 16   0   0   0   1]]\n",
      "==========subject K343==========\n",
      "[9536 1879 1877 1878 1882] [171  15  16  16  16]\n"
     ]
    },
    {
     "name": "stderr",
     "output_type": "stream",
     "text": [
      "subject:  55%|█████▌    | 33/60 [1:03:09<54:25, 120.93s/it]"
     ]
    },
    {
     "name": "stdout",
     "output_type": "stream",
     "text": [
      "accuracy: 0.4683333333333334\n",
      "f1_weighted: 0.80267258382643\n",
      "confusion matrix:\n",
      "[[171   0   0   0   0]\n",
      " [  4   7   0   4   0]\n",
      " [  0  15   0   1   0]\n",
      " [  1   3   3   7   2]\n",
      " [  4   0   1   4   7]]\n",
      "==========subject K344==========\n",
      "[9532 1877 1875 1875 1882] [175  17  18  19  16]\n"
     ]
    },
    {
     "name": "stderr",
     "output_type": "stream",
     "text": [
      "subject:  57%|█████▋    | 34/60 [1:05:10<52:25, 120.99s/it]"
     ]
    },
    {
     "name": "stdout",
     "output_type": "stream",
     "text": [
      "accuracy: 0.2443517126148705\n",
      "f1_weighted: 0.6295739434943703\n",
      "confusion matrix:\n",
      "[[173   0   0   2   0]\n",
      " [ 17   0   0   0   0]\n",
      " [ 17   0   1   0   0]\n",
      " [ 16   0   2   1   0]\n",
      " [ 13   0   0   1   2]]\n",
      "==========subject K350==========\n",
      "[9671 1868 1874 1867 1877] [36 26 19 27 21]\n"
     ]
    },
    {
     "name": "stderr",
     "output_type": "stream",
     "text": [
      "subject:  58%|█████▊    | 35/60 [1:07:46<54:51, 131.65s/it]"
     ]
    },
    {
     "name": "stdout",
     "output_type": "stream",
     "text": [
      "accuracy: 0.4188098451256346\n",
      "f1_weighted: 0.42624395415093086\n",
      "confusion matrix:\n",
      "[[34  0  0  2  0]\n",
      " [ 1  2  7 16  0]\n",
      " [ 0  2  5 12  0]\n",
      " [12  9  5  0  1]\n",
      " [ 2  1  0  1 17]]\n",
      "==========subject K351==========\n",
      "[9692 1873 1869 1873 1873] [15 21 24 21 25]\n"
     ]
    },
    {
     "name": "stderr",
     "output_type": "stream",
     "text": [
      "subject:  60%|██████    | 36/60 [1:09:52<51:59, 129.98s/it]"
     ]
    },
    {
     "name": "stdout",
     "output_type": "stream",
     "text": [
      "accuracy: 0.6598571428571429\n",
      "f1_weighted: 0.6073846763263434\n",
      "confusion matrix:\n",
      "[[15  0  0  0  0]\n",
      " [ 1 18  2  0  0]\n",
      " [ 5  9  7  3  0]\n",
      " [ 0  5 12  4  0]\n",
      " [ 1  0  0  0 24]]\n",
      "==========subject K352==========\n",
      "[9701 1864 1868 1871 1868] [ 6 30 25 23 30]\n"
     ]
    },
    {
     "name": "stderr",
     "output_type": "stream",
     "text": [
      "subject:  62%|██████▏   | 37/60 [1:12:06<50:17, 131.20s/it]"
     ]
    },
    {
     "name": "stdout",
     "output_type": "stream",
     "text": [
      "accuracy: 0.5121159420289855\n",
      "f1_weighted: 0.40025413183307923\n",
      "confusion matrix:\n",
      "[[ 6  0  0  0  0]\n",
      " [ 3 26  0  0  1]\n",
      " [ 2 11  8  3  1]\n",
      " [ 3  6  3  4  7]\n",
      " [ 6  4  4 10  6]]\n",
      "==========subject K353==========\n",
      "[9700 1872 1871 1870 1879] [ 7 22 22 24 19]\n"
     ]
    },
    {
     "name": "stderr",
     "output_type": "stream",
     "text": [
      "subject:  63%|██████▎   | 38/60 [1:14:08<47:03, 128.33s/it]"
     ]
    },
    {
     "name": "stdout",
     "output_type": "stream",
     "text": [
      "accuracy: 0.5548245614035088\n",
      "f1_weighted: 0.5104419160802139\n",
      "confusion matrix:\n",
      "[[ 7  0  0  0  0]\n",
      " [ 1 13  8  0  0]\n",
      " [ 5  7  9  1  0]\n",
      " [ 5  0  8 11  0]\n",
      " [11  0  1  1  6]]\n",
      "==========subject K354==========\n",
      "[9692 1876 1874 1870 1877] [15 18 19 24 21]\n"
     ]
    },
    {
     "name": "stderr",
     "output_type": "stream",
     "text": [
      "subject:  65%|██████▌   | 39/60 [1:16:10<44:16, 126.52s/it]"
     ]
    },
    {
     "name": "stdout",
     "output_type": "stream",
     "text": [
      "accuracy: 0.6054302422723475\n",
      "f1_weighted: 0.4929559911463838\n",
      "confusion matrix:\n",
      "[[15  0  0  0  0]\n",
      " [ 1 17  0  0  0]\n",
      " [ 3  7  7  2  0]\n",
      " [ 4  5 15  0  0]\n",
      " [ 2  0  3  1 15]]\n",
      "==========subject K355==========\n",
      "[9565 1875 1876 1873 1881] [142  19  17  21  17]\n"
     ]
    },
    {
     "name": "stderr",
     "output_type": "stream",
     "text": [
      "subject:  67%|██████▋   | 40/60 [1:17:39<38:23, 115.18s/it]"
     ]
    },
    {
     "name": "stdout",
     "output_type": "stream",
     "text": [
      "accuracy: 0.502940657360053\n",
      "f1_weighted: 0.7447100246290062\n",
      "confusion matrix:\n",
      "[[141   0   0   1   0]\n",
      " [  6  13   0   0   0]\n",
      " [ 11   0   6   0   0]\n",
      " [ 16   0   1   4   0]\n",
      " [  8   0   0   4   5]]\n",
      "==========subject K356==========\n",
      "[9691 1876 1873 1874 1877] [16 18 20 20 21]\n"
     ]
    },
    {
     "name": "stderr",
     "output_type": "stream",
     "text": [
      "subject:  68%|██████▊   | 41/60 [1:19:13<34:25, 108.73s/it]"
     ]
    },
    {
     "name": "stdout",
     "output_type": "stream",
     "text": [
      "accuracy: 0.48809523809523814\n",
      "f1_weighted: 0.44732621471865336\n",
      "confusion matrix:\n",
      "[[16  0  0  0  0]\n",
      " [ 0  9  7  2  0]\n",
      " [ 1  5  9  1  4]\n",
      " [ 1 11  0  6  2]\n",
      " [ 1  1  3 12  4]]\n",
      "==========subject K357==========\n",
      "[9582 1875 1874 1876 1880] [125  19  19  18  18]\n"
     ]
    },
    {
     "name": "stderr",
     "output_type": "stream",
     "text": [
      "subject:  70%|███████   | 42/60 [1:20:51<31:42, 105.67s/it]"
     ]
    },
    {
     "name": "stdout",
     "output_type": "stream",
     "text": [
      "accuracy: 0.3655298245614035\n",
      "f1_weighted: 0.6497009587280677\n",
      "confusion matrix:\n",
      "[[121   0   2   2   0]\n",
      " [  8   9   2   0   0]\n",
      " [  8   5   1   5   0]\n",
      " [  6   1   7   4   0]\n",
      " [  5   0   0  11   2]]\n",
      "==========subject K358==========\n",
      "[9582 1878 1875 1875 1879] [125  16  18  19  19]\n"
     ]
    },
    {
     "name": "stderr",
     "output_type": "stream",
     "text": [
      "subject:  72%|███████▏  | 43/60 [1:22:29<29:16, 103.32s/it]"
     ]
    },
    {
     "name": "stdout",
     "output_type": "stream",
     "text": [
      "accuracy: 0.717690058479532\n",
      "f1_weighted: 0.8497604958171747\n",
      "confusion matrix:\n",
      "[[125   0   0   0   0]\n",
      " [  2  14   0   0   0]\n",
      " [  0   8  10   0   0]\n",
      " [  3   4   0   4   8]\n",
      " [  1   0   0   0  18]]\n",
      "==========subject K359==========\n",
      "[9580 1877 1876 1875 1878] [127  17  17  19  20]\n"
     ]
    },
    {
     "name": "stderr",
     "output_type": "stream",
     "text": [
      "subject:  73%|███████▎  | 44/60 [1:24:29<28:54, 108.38s/it]"
     ]
    },
    {
     "name": "stdout",
     "output_type": "stream",
     "text": [
      "accuracy: 0.7091331269349845\n",
      "f1_weighted: 0.8670617007513559\n",
      "confusion matrix:\n",
      "[[127   0   0   0   0]\n",
      " [  2  11   4   0   0]\n",
      " [  3   7   7   0   0]\n",
      " [  1   0   4  14   0]\n",
      " [  1   0   1   3  15]]\n",
      "==========subject K360==========\n",
      "[9571 1871 1866 1870 1875] [136  23  27  24  23]\n"
     ]
    },
    {
     "name": "stderr",
     "output_type": "stream",
     "text": [
      "subject:  75%|███████▌  | 45/60 [1:26:17<27:01, 108.09s/it]"
     ]
    },
    {
     "name": "stdout",
     "output_type": "stream",
     "text": [
      "accuracy: 0.7280998389694041\n",
      "f1_weighted: 0.847053467494409\n",
      "confusion matrix:\n",
      "[[136   0   0   0   0]\n",
      " [  8  11   0   4   0]\n",
      " [  1   0  26   0   0]\n",
      " [  5   0   6  10   3]\n",
      " [  4   0   0   1  18]]\n",
      "==========subject K361==========\n",
      "[9599 1871 1868 1873 1877] [108  23  25  21  21]\n"
     ]
    },
    {
     "name": "stderr",
     "output_type": "stream",
     "text": [
      "subject:  77%|███████▋  | 46/60 [1:27:46<23:53, 102.37s/it]"
     ]
    },
    {
     "name": "stdout",
     "output_type": "stream",
     "text": [
      "accuracy: 0.7203975155279503\n",
      "f1_weighted: 0.8371896753404746\n",
      "confusion matrix:\n",
      "[[108   0   0   0   0]\n",
      " [  3  17   3   0   0]\n",
      " [  4   3  18   0   0]\n",
      " [  0   4   3  14   0]\n",
      " [  1   0   0  10  10]]\n",
      "==========subject K362==========\n",
      "[9574 1873 1867 1869 1875] [133  21  26  25  23]\n"
     ]
    },
    {
     "name": "stderr",
     "output_type": "stream",
     "text": [
      "subject:  78%|███████▊  | 47/60 [1:29:27<22:05, 101.99s/it]"
     ]
    },
    {
     "name": "stdout",
     "output_type": "stream",
     "text": [
      "accuracy: 0.5929600254817646\n",
      "f1_weighted: 0.7368201226973157\n",
      "confusion matrix:\n",
      "[[133   0   0   0   0]\n",
      " [  8  13   0   0   0]\n",
      " [ 13   6   7   0   0]\n",
      " [  9  10   3   3   0]\n",
      " [  1   0   0   0  22]]\n",
      "==========subject K363==========\n",
      "[9694 1877 1875 1873 1878] [13 17 18 21 20]\n"
     ]
    },
    {
     "name": "stderr",
     "output_type": "stream",
     "text": [
      "subject:  80%|████████  | 48/60 [1:31:08<20:20, 101.70s/it]"
     ]
    },
    {
     "name": "stdout",
     "output_type": "stream",
     "text": [
      "accuracy: 0.3495238095238095\n",
      "f1_weighted: 0.2001932327238011\n",
      "confusion matrix:\n",
      "[[13  0  0  0  0]\n",
      " [12  0  0  5  0]\n",
      " [14  0  0  0  4]\n",
      " [ 6  0  1  1 13]\n",
      " [ 6  0  0  0 14]]\n",
      "==========subject K364==========\n",
      "[9563 1873 1865 1871 1874] [144  21  28  23  24]\n"
     ]
    },
    {
     "name": "stderr",
     "output_type": "stream",
     "text": [
      "subject:  82%|████████▏ | 49/60 [1:32:33<17:43, 96.69s/it] "
     ]
    },
    {
     "name": "stdout",
     "output_type": "stream",
     "text": [
      "accuracy: 0.46413906142167016\n",
      "f1_weighted: 0.6876083589975721\n",
      "confusion matrix:\n",
      "[[143   0   0   1   0]\n",
      " [  8   9   0   4   0]\n",
      " [  4  11  13   0   0]\n",
      " [  3   0  10  10   0]\n",
      " [  7   2   0  15   0]]\n",
      "==========subject K365==========\n",
      "[9704 1877 1876 1876 1881] [ 3 17 17 18 17]\n"
     ]
    },
    {
     "name": "stderr",
     "output_type": "stream",
     "text": [
      "subject:  83%|████████▎ | 50/60 [1:34:01<15:40, 94.02s/it]"
     ]
    },
    {
     "name": "stdout",
     "output_type": "stream",
     "text": [
      "accuracy: 0.4901960784313726\n",
      "f1_weighted: 0.41632877837514937\n",
      "confusion matrix:\n",
      "[[ 3  0  0  0  0]\n",
      " [13  3  1  0  0]\n",
      " [ 3 12  2  0  0]\n",
      " [ 8  0  4  6  0]\n",
      " [ 0  0  0  3 14]]\n",
      "==========subject K366==========\n",
      "[9563 1871 1873 1874 1872] [144  23  20  20  26]\n"
     ]
    },
    {
     "name": "stderr",
     "output_type": "stream",
     "text": [
      "subject:  85%|████████▌ | 51/60 [1:35:44<14:32, 96.92s/it]"
     ]
    },
    {
     "name": "stdout",
     "output_type": "stream",
     "text": [
      "accuracy: 0.8036120401337792\n",
      "f1_weighted: 0.8974700605152887\n",
      "confusion matrix:\n",
      "[[144   0   0   0   0]\n",
      " [  1  22   0   0   0]\n",
      " [  0   6  14   0   0]\n",
      " [  0   2   0  18   0]\n",
      " [  1   0   0  13  12]]\n",
      "==========subject K367==========\n",
      "[9704 1878 1878 1878 1877] [ 3 16 15 16 21]\n"
     ]
    },
    {
     "name": "stderr",
     "output_type": "stream",
     "text": [
      "subject:  87%|████████▋ | 52/60 [1:37:19<12:50, 96.35s/it]"
     ]
    },
    {
     "name": "stdout",
     "output_type": "stream",
     "text": [
      "accuracy: 0.6108333333333333\n",
      "f1_weighted: 0.516321458160729\n",
      "confusion matrix:\n",
      "[[ 3  0  0  0  0]\n",
      " [ 1 14  1  0  0]\n",
      " [ 0  5  8  2  0]\n",
      " [ 6  5  0  5  0]\n",
      " [ 4  0  8  2  7]]\n",
      "==========subject K368==========\n",
      "[9584 1873 1867 1871 1871] [123  21  26  23  27]\n"
     ]
    },
    {
     "name": "stderr",
     "output_type": "stream",
     "text": [
      "subject:  88%|████████▊ | 53/60 [1:38:54<11:10, 95.79s/it]"
     ]
    },
    {
     "name": "stdout",
     "output_type": "stream",
     "text": [
      "accuracy: 0.717985878855444\n",
      "f1_weighted: 0.8345129561008477\n",
      "confusion matrix:\n",
      "[[123   0   0   0   0]\n",
      " [  6  14   0   1   0]\n",
      " [  1   2  23   0   0]\n",
      " [ 16   0   0   6   1]\n",
      " [  0   0   0   6  21]]\n",
      "==========subject K369==========\n",
      "[9595 1873 1873 1873 1878] [112  21  20  21  20]\n"
     ]
    },
    {
     "name": "stderr",
     "output_type": "stream",
     "text": [
      "subject:  90%|█████████ | 54/60 [1:40:20<09:17, 92.98s/it]"
     ]
    },
    {
     "name": "stdout",
     "output_type": "stream",
     "text": [
      "accuracy: 0.6585714285714286\n",
      "f1_weighted: 0.7990709329941044\n",
      "confusion matrix:\n",
      "[[112   0   0   0   0]\n",
      " [  5  16   0   0   0]\n",
      " [  3   6   7   4   0]\n",
      " [  9   0   4   8   0]\n",
      " [  4   0   0   0  16]]\n",
      "==========subject K370==========\n",
      "[9573 1870 1871 1874 1878] [134  24  22  20  20]\n"
     ]
    },
    {
     "name": "stderr",
     "output_type": "stream",
     "text": [
      "subject:  92%|█████████▏| 55/60 [1:41:40<07:24, 88.89s/it]"
     ]
    },
    {
     "name": "stdout",
     "output_type": "stream",
     "text": [
      "accuracy: 0.646386250565355\n",
      "f1_weighted: 0.8055340747448829\n",
      "confusion matrix:\n",
      "[[133   0   0   1   0]\n",
      " [  2  16   6   0   0]\n",
      " [  9   7   6   0   0]\n",
      " [  7   0   0  13   0]\n",
      " [  5   0   0   2  13]]\n",
      "==========subject K371==========\n",
      "[9596 1870 1869 1869 1877] [111  24  24  25  21]\n"
     ]
    },
    {
     "name": "stderr",
     "output_type": "stream",
     "text": [
      "subject:  93%|█████████▎| 56/60 [1:43:06<05:52, 88.15s/it]"
     ]
    },
    {
     "name": "stdout",
     "output_type": "stream",
     "text": [
      "accuracy: 0.5340630630630631\n",
      "f1_weighted: 0.6840452591529018\n",
      "confusion matrix:\n",
      "[[109   0   0   2   0]\n",
      " [  1  18   5   0   0]\n",
      " [  3   8  11   2   0]\n",
      " [ 12   1   0  12   0]\n",
      " [  9   0   0  12   0]]\n",
      "==========subject K372==========\n",
      "[9600 1872 1872 1874 1877] [107  22  21  20  21]\n"
     ]
    },
    {
     "name": "stderr",
     "output_type": "stream",
     "text": [
      "subject:  95%|█████████▌| 57/60 [1:44:33<04:23, 87.83s/it]"
     ]
    },
    {
     "name": "stdout",
     "output_type": "stream",
     "text": [
      "accuracy: 0.7622510822510823\n",
      "f1_weighted: 0.8577040962091184\n",
      "confusion matrix:\n",
      "[[107   0   0   0   0]\n",
      " [  1  19   1   1   0]\n",
      " [  1  10   7   3   0]\n",
      " [  0   0   2  18   0]\n",
      " [  4   0   0   2  15]]\n",
      "==========subject K373==========\n",
      "[9595 1872 1869 1876 1879] [112  22  24  18  19]\n"
     ]
    },
    {
     "name": "stderr",
     "output_type": "stream",
     "text": [
      "subject:  97%|█████████▋| 58/60 [1:46:14<03:03, 91.80s/it]"
     ]
    },
    {
     "name": "stdout",
     "output_type": "stream",
     "text": [
      "accuracy: 0.7252525252525253\n",
      "f1_weighted: 0.8447991368906902\n",
      "confusion matrix:\n",
      "[[112   0   0   0   0]\n",
      " [  2  15   0   5   0]\n",
      " [  1   9  12   2   0]\n",
      " [  0   0   8   8   2]\n",
      " [  0   0   0   0  19]]\n",
      "==========subject K374==========\n",
      "[9588 1871 1872 1872 1878] [119  23  21  22  20]\n"
     ]
    },
    {
     "name": "stderr",
     "output_type": "stream",
     "text": [
      "subject:  98%|█████████▊| 59/60 [1:47:34<01:28, 88.28s/it]"
     ]
    },
    {
     "name": "stdout",
     "output_type": "stream",
     "text": [
      "accuracy: 0.5694429866808383\n",
      "f1_weighted: 0.752395159216722\n",
      "confusion matrix:\n",
      "[[118   1   0   0   0]\n",
      " [  4   8   8   3   0]\n",
      " [  8   0  12   1   0]\n",
      " [  2   4   2  14   0]\n",
      " [  1   0   0  13   6]]\n",
      "==========subject K375==========\n",
      "[9623 1873 1872 1872 1874] [84 21 21 22 24]\n"
     ]
    },
    {
     "name": "stderr",
     "output_type": "stream",
     "text": [
      "subject: 100%|██████████| 60/60 [1:49:18<00:00, 109.31s/it]"
     ]
    },
    {
     "name": "stdout",
     "output_type": "stream",
     "text": [
      "accuracy: 0.656060606060606\n",
      "f1_weighted: 0.735360673470201\n",
      "confusion matrix:\n",
      "[[84  0  0  0  0]\n",
      " [ 5 16  0  0  0]\n",
      " [ 9  0 12  0  0]\n",
      " [ 3  0  0 19  0]\n",
      " [ 1  0  0 21  2]]\n"
     ]
    },
    {
     "name": "stderr",
     "output_type": "stream",
     "text": [
      "\n"
     ]
    }
   ],
   "source": [
    "train_trials = {\n",
    "    \"rest\": [0, 1],\n",
    "    \"nâng chân trái\": [0],\n",
    "    \"nâng chân phải\": [0],\n",
    "    \"nâng tay trái\": [0],\n",
    "    \"nâng tay phải\": [0],\n",
    "}\n",
    "\n",
    "# valid_trials = {\n",
    "#     \"rest\": [2, 3],\n",
    "#     \"nâng chân trái\": [1],\n",
    "#     \"nâng chân phải\": [1],\n",
    "#     \"nâng tay trái\": [1],\n",
    "#     \"nâng tay phải\": [1],\n",
    "# }\n",
    "\n",
    "# test_trials = {\n",
    "#     \"rest\": [4, 5],\n",
    "#     \"nâng chân trái\": [2],\n",
    "#     \"nâng chân phải\": [2],\n",
    "#     \"nâng tay trái\": [2],\n",
    "#     \"nâng tay phải\": [2],\n",
    "# }\n",
    "\n",
    "test_subjects = {\n",
    "    'K300', 'K309', 'K310', 'K311', 'K312', \n",
    "    'K313', 'K314', 'K315', 'K316', 'K319', \n",
    "    'K320', 'K321', 'K322', 'K323', 'K324', \n",
    "    'K325', 'K326', 'K327', 'K328', 'K329', \n",
    "    'K330', 'K331', 'K332', 'K333', 'K334', \n",
    "    'K335', 'K336', 'K337', 'K338', 'K339', \n",
    "    'K340', 'K342', 'K343', 'K344', 'K350', \n",
    "    'K351', 'K352', 'K353', 'K354', 'K355', \n",
    "    'K356', 'K357', 'K358', 'K359', 'K360', \n",
    "    'K361', 'K362', 'K363', 'K364', 'K365', \n",
    "    'K366', 'K367', 'K368', 'K369', 'K370', \n",
    "    'K371', 'K372', 'K373', 'K374', 'K375',\n",
    "}\n",
    "\n",
    "test_subjects = sorted(list(test_subjects))\n",
    "# test_subjects = [\"K313\"]\n",
    "\n",
    "test_acc = list()\n",
    "test_f1 = list()\n",
    "for subject in tqdm(test_subjects, desc=\"subject\"):\n",
    "    print(f\"==========subject {subject}==========\")\n",
    "    \n",
    "    # init data\n",
    "#     # intra-subject\n",
    "#     Xtrain = list()\n",
    "#     Ytrain = list()\n",
    "#     Xtest = list()\n",
    "#     Ytest = list()\n",
    "#     for i, r in ds_info[ds_info[\"subject\"] == subject].iterrows():\n",
    "#         x = ds.datasets[i].windows.get_data()\n",
    "#         y = ds.datasets[i].y\n",
    "#         if r[\"trial\"] in train_trials[r[\"label\"]]:\n",
    "#             Xtrain.append(x)\n",
    "#             Ytrain.extend(y)\n",
    "#         else:\n",
    "#             Xtest.append(x)\n",
    "#             Ytest.extend(y)\n",
    "            \n",
    "#     Xtrain = np.concatenate(Xtrain, axis=0)\n",
    "#     Ytrain = np.array(Ytrain, dtype=int)\n",
    "#     Xtest = np.concatenate(Xtest, axis=0)\n",
    "#     Ytest = np.array(Ytest, dtype=int)\n",
    "    \n",
    "#     # EA\n",
    "#     Xtrain = list()\n",
    "#     Ytrain = list()\n",
    "#     Xtest = list()\n",
    "#     Ytest = list()\n",
    "#     for subj in ds_info[\"subject\"].unique():\n",
    "#         if subj == \"K318\":\n",
    "#             continue\n",
    "#         if subj not in test_subjects:\n",
    "#             continue\n",
    "            \n",
    "#         Xsub = list()\n",
    "#         Ysub = list()\n",
    "#         for i, r in ds_info[ds_info[\"subject\"] == subj].iterrows():\n",
    "#             x = ds.datasets[i].windows.get_data()\n",
    "#             y = ds.datasets[i].y\n",
    "#             # x = ds_ea.datasets[i].windows.get_data()\n",
    "#             # y = ds_ea.datasets[i].y\n",
    "#             Xsub.append(x)\n",
    "#             Ysub.extend(y)\n",
    "        \n",
    "#         Xsub = np.concatenate(Xsub, axis=0)\n",
    "#         Ysub = np.array(Ysub, dtype=int)\n",
    "        \n",
    "#         if subj != subject:\n",
    "#             Xtrain.append(Xsub)\n",
    "#             Ytrain.append(Ysub)\n",
    "#         else:\n",
    "#             Xtest.append(Xsub)\n",
    "#             Ytest.append(Ysub)\n",
    "            \n",
    "#     Xtrain = np.concatenate(Xtrain, axis=0)\n",
    "#     Ytrain = np.concatenate(Ytrain, axis=0)\n",
    "#     Xtest = np.concatenate(Xtest, axis=0)\n",
    "#     Ytest = np.concatenate(Ytest, axis=0)\n",
    "    \n",
    "    # LA\n",
    "    DXtrain = defaultdict(list)\n",
    "    DYtrain = defaultdict(list)\n",
    "    DXtest = defaultdict(list)\n",
    "    DYtest = defaultdict(list)\n",
    "    for subj in ds_info[\"subject\"].unique():\n",
    "        if subj == \"K318\":\n",
    "            continue\n",
    "        if subj not in test_subjects:\n",
    "            continue\n",
    "            \n",
    "        for i, r in ds_info[ds_info[\"subject\"] == subj].iterrows():\n",
    "            x = ds.datasets[i].windows.get_data()\n",
    "            y = ds.datasets[i].y\n",
    "            if subj == subject:\n",
    "                if r[\"trial\"] in train_trials[r[\"label\"]]:\n",
    "                    DXtrain[subj].append(x)\n",
    "                    DYtrain[subj].extend(y)\n",
    "                else:\n",
    "                    DXtest[subj].append(x)\n",
    "                    DYtest[subj].extend(y)\n",
    "            else:\n",
    "                DXtrain[subj].append(x)\n",
    "                DYtrain[subj].extend(y)\n",
    "                \n",
    "    for k, v in DXtrain.items():\n",
    "        DXtrain[k] = np.concatenate(v, axis=0)\n",
    "    for k, v in DXtest.items():\n",
    "        DXtest[k] = np.concatenate(v, axis=0)\n",
    "    for k, v in DYtrain.items():\n",
    "        DYtrain[k] = np.array(v, dtype=int)\n",
    "    for k, v in DYtest.items():\n",
    "        DYtest[k] = np.array(v, dtype=int)\n",
    "    \n",
    "    r = np_compute_target_transform_mats(DXtrain[subject], DYtrain[subject])\n",
    "    for k, v in DXtrain.items():\n",
    "        if k == subject:\n",
    "            continue\n",
    "        DXtrain[k] = np_label_alignment(v, DYtrain[k], r)\n",
    "        \n",
    "    Xtrain = list()\n",
    "    Ytrain = list()\n",
    "    for k, v in DXtrain.items():\n",
    "        Xtrain.append(v)\n",
    "        Ytrain.append(DYtrain[k])\n",
    "        \n",
    "    Xtrain = np.concatenate(Xtrain, axis=0)\n",
    "    Ytrain = np.concatenate(Ytrain, axis=0)\n",
    "    Xtest = DXtest[subject]\n",
    "    Ytest = DYtest[subject]\n",
    "    \n",
    "    print(np.bincount(Ytrain), np.bincount(Ytest))\n",
    "    \n",
    "    # init model\n",
    "    clf = make_pipeline(\n",
    "        Covariances(\"cov\"),\n",
    "        TSclassifier(\n",
    "            metric=\"riemann\",\n",
    "            # clf=SVC(\n",
    "            clf=LinearSVC(\n",
    "                C=1.0,\n",
    "                # kernel=\"rbf\",\n",
    "                tol=1e-7,\n",
    "                max_iter=30000,\n",
    "                class_weight=\"balanced\",\n",
    "                random_state=42,\n",
    "            ),\n",
    "            # clf=LinearDiscriminantAnalysis(\n",
    "            #     solver=\"lsqr\",\n",
    "            #     shrinkage=\"auto\",\n",
    "            #     n_components=None,\n",
    "            #     tol=1e-7,\n",
    "            #     covariance_estimator=None,\n",
    "            # ),\n",
    "        ),\n",
    "    )\n",
    "    \n",
    "    # clf = make_pipeline(\n",
    "    #     mne.decoding.CSP(\n",
    "    #         n_components=8,\n",
    "    #         # reg=\"ledoit_wolf\",\n",
    "    #         log=True,\n",
    "    #         norm_trace=False,\n",
    "    #     ),\n",
    "    #     # SVC(\n",
    "    #     LinearSVC(\n",
    "    #         C=1.0,\n",
    "    #         # kernel=\"rbf\",\n",
    "    #         tol=1e-7,\n",
    "    #         max_iter=30000,\n",
    "    #         class_weight=\"balanced\",\n",
    "    #         random_state=42,\n",
    "    #     ),\n",
    "    #     # OneVsRestClassifier(LinearSVC(C=1.0, tol=1e-7, max_iter=30000, class_weight='balanced', random_state=42), n_jobs=-1),\n",
    "    #     # LinearDiscriminantAnalysis(\n",
    "    #     #     solver=\"lsqr\",\n",
    "    #     #     shrinkage=\"auto\",\n",
    "    #     #     n_components=None,\n",
    "    #     #     tol=1e-7,\n",
    "    #     #     covariance_estimator=None,\n",
    "    #     # ),\n",
    "    # )\n",
    "    \n",
    "    # training\n",
    "    clf.fit(Xtrain, Ytrain)\n",
    "    \n",
    "    # evaluate\n",
    "    Ypred = clf.predict(Xtest)\n",
    "    \n",
    "    acc = metrics.balanced_accuracy_score(Ytest, Ypred)\n",
    "    f1 = metrics.f1_score(Ytest, Ypred, average='weighted')\n",
    "    test_acc.append(acc)\n",
    "    test_f1.append(f1)\n",
    "    print(f\"accuracy: {acc}\")\n",
    "    print(f\"f1_weighted: {f1}\")\n",
    "    print(f\"confusion matrix:\\n{metrics.confusion_matrix(Ytest, Ypred)}\")\n",
    "    \n",
    "    # break"
   ]
  },
  {
   "cell_type": "code",
   "execution_count": 14,
   "id": "3fa08a6d-8b8a-4906-99a2-31924e568a85",
   "metadata": {},
   "outputs": [
    {
     "name": "stdout",
     "output_type": "stream",
     "text": [
      "avg acc: 0.55556036934984\n",
      "avg f1: 0.6526765891154205\n"
     ]
    }
   ],
   "source": [
    "# intra-subject CSP-LinearSVC\n",
    "result = pd.DataFrame({\n",
    "    \"subject\": test_subjects,\n",
    "    \"acc\": test_acc,\n",
    "    \"f1\": test_f1,\n",
    "})\n",
    "print(f\"avg acc: {result['acc'].mean()}\")\n",
    "print(f\"avg f1: {result['f1'].mean()}\")"
   ]
  },
  {
   "cell_type": "code",
   "execution_count": 15,
   "id": "24b9e473-d510-4c0b-a375-d02cf3497400",
   "metadata": {},
   "outputs": [
    {
     "data": {
      "text/plain": [
       "<AxesSubplot:xlabel='subject'>"
      ]
     },
     "execution_count": 15,
     "metadata": {},
     "output_type": "execute_result"
    },
    {
     "data": {
      "image/png": "[encoded data removed]",
      "text/plain": [
       "<Figure size 1440x288 with 2 Axes>"
      ]
     },
     "metadata": {
      "needs_background": "light"
     },
     "output_type": "display_data"
    }
   ],
   "source": [
    "fig, axes = plt.subplots(nrows=1, ncols=2, figsize=(20, 4))\n",
    "result.plot.bar(x=\"subject\", y=\"acc\", ax=axes[0])\n",
    "result.plot.bar(x=\"subject\", y=\"f1\", ax=axes[1])"
   ]
  },
  {
   "cell_type": "code",
   "execution_count": 18,
   "id": "1d6f960d-ff8b-45e9-903f-03302c565a3c",
   "metadata": {},
   "outputs": [
    {
     "name": "stdout",
     "output_type": "stream",
     "text": [
      "avg acc: 0.623936318706582\n",
      "avg f1: 0.7149484570665078\n"
     ]
    }
   ],
   "source": [
    "# intra-subject Cov-TangentSpace-LinearSVC\n",
    "result = pd.DataFrame({\n",
    "    \"subject\": test_subjects,\n",
    "    \"acc\": test_acc,\n",
    "    \"f1\": test_f1,\n",
    "})\n",
    "print(f\"avg acc: {result['acc'].mean()}\")\n",
    "print(f\"avg f1: {result['f1'].mean()}\")"
   ]
  },
  {
   "cell_type": "code",
   "execution_count": 19,
   "id": "e872c9a9-4ff5-4d03-abbd-d593c96dcee5",
   "metadata": {},
   "outputs": [
    {
     "data": {
      "text/plain": [
       "<AxesSubplot:xlabel='subject'>"
      ]
     },
     "execution_count": 19,
     "metadata": {},
     "output_type": "execute_result"
    },
    {
     "data": {
      "image/png": "[encoded data removed]",
      "text/plain": [
       "<Figure size 1440x288 with 2 Axes>"
      ]
     },
     "metadata": {
      "needs_background": "light"
     },
     "output_type": "display_data"
    }
   ],
   "source": [
    "fig, axes = plt.subplots(nrows=1, ncols=2, figsize=(20, 4))\n",
    "result.plot.bar(x=\"subject\", y=\"acc\", ax=axes[0])\n",
    "result.plot.bar(x=\"subject\", y=\"f1\", ax=axes[1])"
   ]
  },
  {
   "cell_type": "code",
   "execution_count": 7,
   "id": "7b572e31-ea80-4571-bbdc-a3ebf33c12a2",
   "metadata": {},
   "outputs": [
    {
     "name": "stdout",
     "output_type": "stream",
     "text": [
      "avg acc: 0.5885774207370792\n",
      "avg f1: 0.6882208773922353\n"
     ]
    }
   ],
   "source": [
    "# LOSO - LA-Cov-TangentSpace-LinearSVC\n",
    "result = pd.DataFrame({\n",
    "    \"subject\": test_subjects,\n",
    "    \"acc\": test_acc,\n",
    "    \"f1\": test_f1,\n",
    "})\n",
    "print(f\"avg acc: {result['acc'].mean()}\")\n",
    "print(f\"avg f1: {result['f1'].mean()}\")"
   ]
  },
  {
   "cell_type": "code",
   "execution_count": 8,
   "id": "cfbec64f-9ea0-4ccf-868e-79499cbdc520",
   "metadata": {},
   "outputs": [
    {
     "data": {
      "text/plain": [
       "<AxesSubplot:xlabel='subject'>"
      ]
     },
     "execution_count": 8,
     "metadata": {},
     "output_type": "execute_result"
    },
    {
     "data": {
      "image/png": "[encoded data removed]",
      "text/plain": [
       "<Figure size 1440x288 with 2 Axes>"
      ]
     },
     "metadata": {
      "needs_background": "light"
     },
     "output_type": "display_data"
    }
   ],
   "source": [
    "fig, axes = plt.subplots(nrows=1, ncols=2, figsize=(20, 4))\n",
    "result.plot.bar(x=\"subject\", y=\"acc\", ax=axes[0])\n",
    "result.plot.bar(x=\"subject\", y=\"f1\", ax=axes[1])"
   ]
  },
  {
   "cell_type": "code",
   "execution_count": 10,
   "id": "e71484b0-d92c-4bb3-ab80-5ce0d2b50652",
   "metadata": {},
   "outputs": [
    {
     "data": {
      "text/html": [
       "<div>\n",
       "<style scoped>\n",
       "    .dataframe tbody tr th:only-of-type {\n",
       "        vertical-align: middle;\n",
       "    }\n",
       "\n",
       "    .dataframe tbody tr th {\n",
       "        vertical-align: top;\n",
       "    }\n",
       "\n",
       "    .dataframe thead th {\n",
       "        text-align: right;\n",
       "    }\n",
       "</style>\n",
       "<table border=\"1\" class=\"dataframe\">\n",
       "  <thead>\n",
       "    <tr style=\"text-align: right;\">\n",
       "      <th></th>\n",
       "      <th>subject</th>\n",
       "      <th>acc</th>\n",
       "      <th>f1</th>\n",
       "    </tr>\n",
       "  </thead>\n",
       "  <tbody>\n",
       "    <tr>\n",
       "      <th>0</th>\n",
       "      <td>K323</td>\n",
       "      <td>0.827166</td>\n",
       "      <td>0.861133</td>\n",
       "    </tr>\n",
       "    <tr>\n",
       "      <th>1</th>\n",
       "      <td>K313</td>\n",
       "      <td>0.825647</td>\n",
       "      <td>0.896225</td>\n",
       "    </tr>\n",
       "    <tr>\n",
       "      <th>2</th>\n",
       "      <td>K324</td>\n",
       "      <td>0.816981</td>\n",
       "      <td>0.812433</td>\n",
       "    </tr>\n",
       "    <tr>\n",
       "      <th>3</th>\n",
       "      <td>K337</td>\n",
       "      <td>0.808333</td>\n",
       "      <td>0.840754</td>\n",
       "    </tr>\n",
       "    <tr>\n",
       "      <th>4</th>\n",
       "      <td>K366</td>\n",
       "      <td>0.803612</td>\n",
       "      <td>0.897470</td>\n",
       "    </tr>\n",
       "    <tr>\n",
       "      <th>5</th>\n",
       "      <td>K336</td>\n",
       "      <td>0.797610</td>\n",
       "      <td>0.795615</td>\n",
       "    </tr>\n",
       "    <tr>\n",
       "      <th>6</th>\n",
       "      <td>K372</td>\n",
       "      <td>0.762251</td>\n",
       "      <td>0.857704</td>\n",
       "    </tr>\n",
       "    <tr>\n",
       "      <th>7</th>\n",
       "      <td>K311</td>\n",
       "      <td>0.755669</td>\n",
       "      <td>0.880985</td>\n",
       "    </tr>\n",
       "    <tr>\n",
       "      <th>8</th>\n",
       "      <td>K312</td>\n",
       "      <td>0.748180</td>\n",
       "      <td>0.836408</td>\n",
       "    </tr>\n",
       "    <tr>\n",
       "      <th>9</th>\n",
       "      <td>K325</td>\n",
       "      <td>0.743553</td>\n",
       "      <td>0.660762</td>\n",
       "    </tr>\n",
       "    <tr>\n",
       "      <th>10</th>\n",
       "      <td>K360</td>\n",
       "      <td>0.728100</td>\n",
       "      <td>0.847053</td>\n",
       "    </tr>\n",
       "    <tr>\n",
       "      <th>11</th>\n",
       "      <td>K309</td>\n",
       "      <td>0.727666</td>\n",
       "      <td>0.869683</td>\n",
       "    </tr>\n",
       "    <tr>\n",
       "      <th>12</th>\n",
       "      <td>K373</td>\n",
       "      <td>0.725253</td>\n",
       "      <td>0.844799</td>\n",
       "    </tr>\n",
       "    <tr>\n",
       "      <th>13</th>\n",
       "      <td>K361</td>\n",
       "      <td>0.720398</td>\n",
       "      <td>0.837190</td>\n",
       "    </tr>\n",
       "    <tr>\n",
       "      <th>14</th>\n",
       "      <td>K368</td>\n",
       "      <td>0.717986</td>\n",
       "      <td>0.834513</td>\n",
       "    </tr>\n",
       "    <tr>\n",
       "      <th>15</th>\n",
       "      <td>K358</td>\n",
       "      <td>0.717690</td>\n",
       "      <td>0.849760</td>\n",
       "    </tr>\n",
       "    <tr>\n",
       "      <th>16</th>\n",
       "      <td>K335</td>\n",
       "      <td>0.709957</td>\n",
       "      <td>0.641929</td>\n",
       "    </tr>\n",
       "    <tr>\n",
       "      <th>17</th>\n",
       "      <td>K359</td>\n",
       "      <td>0.709133</td>\n",
       "      <td>0.867062</td>\n",
       "    </tr>\n",
       "    <tr>\n",
       "      <th>18</th>\n",
       "      <td>K332</td>\n",
       "      <td>0.704608</td>\n",
       "      <td>0.803557</td>\n",
       "    </tr>\n",
       "    <tr>\n",
       "      <th>19</th>\n",
       "      <td>K321</td>\n",
       "      <td>0.679474</td>\n",
       "      <td>0.646881</td>\n",
       "    </tr>\n",
       "    <tr>\n",
       "      <th>20</th>\n",
       "      <td>K322</td>\n",
       "      <td>0.678328</td>\n",
       "      <td>0.771277</td>\n",
       "    </tr>\n",
       "    <tr>\n",
       "      <th>21</th>\n",
       "      <td>K328</td>\n",
       "      <td>0.675136</td>\n",
       "      <td>0.824744</td>\n",
       "    </tr>\n",
       "    <tr>\n",
       "      <th>22</th>\n",
       "      <td>K351</td>\n",
       "      <td>0.659857</td>\n",
       "      <td>0.607385</td>\n",
       "    </tr>\n",
       "    <tr>\n",
       "      <th>23</th>\n",
       "      <td>K369</td>\n",
       "      <td>0.658571</td>\n",
       "      <td>0.799071</td>\n",
       "    </tr>\n",
       "    <tr>\n",
       "      <th>24</th>\n",
       "      <td>K375</td>\n",
       "      <td>0.656061</td>\n",
       "      <td>0.735361</td>\n",
       "    </tr>\n",
       "    <tr>\n",
       "      <th>25</th>\n",
       "      <td>K370</td>\n",
       "      <td>0.646386</td>\n",
       "      <td>0.805534</td>\n",
       "    </tr>\n",
       "    <tr>\n",
       "      <th>26</th>\n",
       "      <td>K339</td>\n",
       "      <td>0.641695</td>\n",
       "      <td>0.846924</td>\n",
       "    </tr>\n",
       "    <tr>\n",
       "      <th>27</th>\n",
       "      <td>K338</td>\n",
       "      <td>0.623439</td>\n",
       "      <td>0.804144</td>\n",
       "    </tr>\n",
       "    <tr>\n",
       "      <th>28</th>\n",
       "      <td>K327</td>\n",
       "      <td>0.618108</td>\n",
       "      <td>0.609551</td>\n",
       "    </tr>\n",
       "    <tr>\n",
       "      <th>29</th>\n",
       "      <td>K315</td>\n",
       "      <td>0.616610</td>\n",
       "      <td>0.794459</td>\n",
       "    </tr>\n",
       "    <tr>\n",
       "      <th>30</th>\n",
       "      <td>K367</td>\n",
       "      <td>0.610833</td>\n",
       "      <td>0.516321</td>\n",
       "    </tr>\n",
       "    <tr>\n",
       "      <th>31</th>\n",
       "      <td>K329</td>\n",
       "      <td>0.605573</td>\n",
       "      <td>0.651067</td>\n",
       "    </tr>\n",
       "    <tr>\n",
       "      <th>32</th>\n",
       "      <td>K354</td>\n",
       "      <td>0.605430</td>\n",
       "      <td>0.492956</td>\n",
       "    </tr>\n",
       "    <tr>\n",
       "      <th>33</th>\n",
       "      <td>K362</td>\n",
       "      <td>0.592960</td>\n",
       "      <td>0.736820</td>\n",
       "    </tr>\n",
       "    <tr>\n",
       "      <th>34</th>\n",
       "      <td>K374</td>\n",
       "      <td>0.569443</td>\n",
       "      <td>0.752395</td>\n",
       "    </tr>\n",
       "    <tr>\n",
       "      <th>35</th>\n",
       "      <td>K333</td>\n",
       "      <td>0.568889</td>\n",
       "      <td>0.501449</td>\n",
       "    </tr>\n",
       "    <tr>\n",
       "      <th>36</th>\n",
       "      <td>K353</td>\n",
       "      <td>0.554825</td>\n",
       "      <td>0.510442</td>\n",
       "    </tr>\n",
       "    <tr>\n",
       "      <th>37</th>\n",
       "      <td>K330</td>\n",
       "      <td>0.541987</td>\n",
       "      <td>0.591614</td>\n",
       "    </tr>\n",
       "    <tr>\n",
       "      <th>38</th>\n",
       "      <td>K331</td>\n",
       "      <td>0.539422</td>\n",
       "      <td>0.512270</td>\n",
       "    </tr>\n",
       "    <tr>\n",
       "      <th>39</th>\n",
       "      <td>K371</td>\n",
       "      <td>0.534063</td>\n",
       "      <td>0.684045</td>\n",
       "    </tr>\n",
       "    <tr>\n",
       "      <th>40</th>\n",
       "      <td>K316</td>\n",
       "      <td>0.531969</td>\n",
       "      <td>0.755635</td>\n",
       "    </tr>\n",
       "    <tr>\n",
       "      <th>41</th>\n",
       "      <td>K352</td>\n",
       "      <td>0.512116</td>\n",
       "      <td>0.400254</td>\n",
       "    </tr>\n",
       "    <tr>\n",
       "      <th>42</th>\n",
       "      <td>K355</td>\n",
       "      <td>0.502941</td>\n",
       "      <td>0.744710</td>\n",
       "    </tr>\n",
       "    <tr>\n",
       "      <th>43</th>\n",
       "      <td>K314</td>\n",
       "      <td>0.502632</td>\n",
       "      <td>0.684166</td>\n",
       "    </tr>\n",
       "    <tr>\n",
       "      <th>44</th>\n",
       "      <td>K365</td>\n",
       "      <td>0.490196</td>\n",
       "      <td>0.416329</td>\n",
       "    </tr>\n",
       "    <tr>\n",
       "      <th>45</th>\n",
       "      <td>K356</td>\n",
       "      <td>0.488095</td>\n",
       "      <td>0.447326</td>\n",
       "    </tr>\n",
       "    <tr>\n",
       "      <th>46</th>\n",
       "      <td>K343</td>\n",
       "      <td>0.468333</td>\n",
       "      <td>0.802673</td>\n",
       "    </tr>\n",
       "    <tr>\n",
       "      <th>47</th>\n",
       "      <td>K364</td>\n",
       "      <td>0.464139</td>\n",
       "      <td>0.687608</td>\n",
       "    </tr>\n",
       "    <tr>\n",
       "      <th>48</th>\n",
       "      <td>K326</td>\n",
       "      <td>0.460870</td>\n",
       "      <td>0.483756</td>\n",
       "    </tr>\n",
       "    <tr>\n",
       "      <th>49</th>\n",
       "      <td>K300</td>\n",
       "      <td>0.439319</td>\n",
       "      <td>0.602160</td>\n",
       "    </tr>\n",
       "    <tr>\n",
       "      <th>50</th>\n",
       "      <td>K350</td>\n",
       "      <td>0.418810</td>\n",
       "      <td>0.426244</td>\n",
       "    </tr>\n",
       "    <tr>\n",
       "      <th>51</th>\n",
       "      <td>K320</td>\n",
       "      <td>0.376863</td>\n",
       "      <td>0.624639</td>\n",
       "    </tr>\n",
       "    <tr>\n",
       "      <th>52</th>\n",
       "      <td>K357</td>\n",
       "      <td>0.365530</td>\n",
       "      <td>0.649701</td>\n",
       "    </tr>\n",
       "    <tr>\n",
       "      <th>53</th>\n",
       "      <td>K363</td>\n",
       "      <td>0.349524</td>\n",
       "      <td>0.200193</td>\n",
       "    </tr>\n",
       "    <tr>\n",
       "      <th>54</th>\n",
       "      <td>K342</td>\n",
       "      <td>0.349285</td>\n",
       "      <td>0.727705</td>\n",
       "    </tr>\n",
       "    <tr>\n",
       "      <th>55</th>\n",
       "      <td>K340</td>\n",
       "      <td>0.330769</td>\n",
       "      <td>0.640560</td>\n",
       "    </tr>\n",
       "    <tr>\n",
       "      <th>56</th>\n",
       "      <td>K334</td>\n",
       "      <td>0.317362</td>\n",
       "      <td>0.253966</td>\n",
       "    </tr>\n",
       "    <tr>\n",
       "      <th>57</th>\n",
       "      <td>K310</td>\n",
       "      <td>0.274658</td>\n",
       "      <td>0.596799</td>\n",
       "    </tr>\n",
       "    <tr>\n",
       "      <th>58</th>\n",
       "      <td>K344</td>\n",
       "      <td>0.244352</td>\n",
       "      <td>0.629574</td>\n",
       "    </tr>\n",
       "    <tr>\n",
       "      <th>59</th>\n",
       "      <td>K319</td>\n",
       "      <td>0.200000</td>\n",
       "      <td>0.589511</td>\n",
       "    </tr>\n",
       "  </tbody>\n",
       "</table>\n",
       "</div>"
      ],
      "text/plain": [
       "   subject       acc        f1\n",
       "0     K323  0.827166  0.861133\n",
       "1     K313  0.825647  0.896225\n",
       "2     K324  0.816981  0.812433\n",
       "3     K337  0.808333  0.840754\n",
       "4     K366  0.803612  0.897470\n",
       "5     K336  0.797610  0.795615\n",
       "6     K372  0.762251  0.857704\n",
       "7     K311  0.755669  0.880985\n",
       "8     K312  0.748180  0.836408\n",
       "9     K325  0.743553  0.660762\n",
       "10    K360  0.728100  0.847053\n",
       "11    K309  0.727666  0.869683\n",
       "12    K373  0.725253  0.844799\n",
       "13    K361  0.720398  0.837190\n",
       "14    K368  0.717986  0.834513\n",
       "15    K358  0.717690  0.849760\n",
       "16    K335  0.709957  0.641929\n",
       "17    K359  0.709133  0.867062\n",
       "18    K332  0.704608  0.803557\n",
       "19    K321  0.679474  0.646881\n",
       "20    K322  0.678328  0.771277\n",
       "21    K328  0.675136  0.824744\n",
       "22    K351  0.659857  0.607385\n",
       "23    K369  0.658571  0.799071\n",
       "24    K375  0.656061  0.735361\n",
       "25    K370  0.646386  0.805534\n",
       "26    K339  0.641695  0.846924\n",
       "27    K338  0.623439  0.804144\n",
       "28    K327  0.618108  0.609551\n",
       "29    K315  0.616610  0.794459\n",
       "30    K367  0.610833  0.516321\n",
       "31    K329  0.605573  0.651067\n",
       "32    K354  0.605430  0.492956\n",
       "33    K362  0.592960  0.736820\n",
       "34    K374  0.569443  0.752395\n",
       "35    K333  0.568889  0.501449\n",
       "36    K353  0.554825  0.510442\n",
       "37    K330  0.541987  0.591614\n",
       "38    K331  0.539422  0.512270\n",
       "39    K371  0.534063  0.684045\n",
       "40    K316  0.531969  0.755635\n",
       "41    K352  0.512116  0.400254\n",
       "42    K355  0.502941  0.744710\n",
       "43    K314  0.502632  0.684166\n",
       "44    K365  0.490196  0.416329\n",
       "45    K356  0.488095  0.447326\n",
       "46    K343  0.468333  0.802673\n",
       "47    K364  0.464139  0.687608\n",
       "48    K326  0.460870  0.483756\n",
       "49    K300  0.439319  0.602160\n",
       "50    K350  0.418810  0.426244\n",
       "51    K320  0.376863  0.624639\n",
       "52    K357  0.365530  0.649701\n",
       "53    K363  0.349524  0.200193\n",
       "54    K342  0.349285  0.727705\n",
       "55    K340  0.330769  0.640560\n",
       "56    K334  0.317362  0.253966\n",
       "57    K310  0.274658  0.596799\n",
       "58    K344  0.244352  0.629574\n",
       "59    K319  0.200000  0.589511"
      ]
     },
     "execution_count": 10,
     "metadata": {},
     "output_type": "execute_result"
    }
   ],
   "source": [
    "result.sort_values(\"acc\", ascending=False).reset_index(drop=True)"
   ]
  },
  {
   "cell_type": "code",
   "execution_count": 13,
   "id": "cb3c76ee-72fa-404c-8346-45014a02cf39",
   "metadata": {},
   "outputs": [
    {
     "data": {
      "text/plain": [
       "['K323',\n",
       " 'K313',\n",
       " 'K324',\n",
       " 'K337',\n",
       " 'K366',\n",
       " 'K336',\n",
       " 'K372',\n",
       " 'K311',\n",
       " 'K312',\n",
       " 'K325',\n",
       " 'K360',\n",
       " 'K309',\n",
       " 'K373',\n",
       " 'K361',\n",
       " 'K368',\n",
       " 'K358',\n",
       " 'K335',\n",
       " 'K359',\n",
       " 'K332',\n",
       " 'K321',\n",
       " 'K322',\n",
       " 'K328',\n",
       " 'K351',\n",
       " 'K369',\n",
       " 'K375',\n",
       " 'K370',\n",
       " 'K339',\n",
       " 'K338',\n",
       " 'K327',\n",
       " 'K315',\n",
       " 'K367',\n",
       " 'K329',\n",
       " 'K354',\n",
       " 'K362',\n",
       " 'K374',\n",
       " 'K333',\n",
       " 'K353',\n",
       " 'K330',\n",
       " 'K331',\n",
       " 'K371',\n",
       " 'K316',\n",
       " 'K352',\n",
       " 'K355',\n",
       " 'K314',\n",
       " 'K365',\n",
       " 'K356',\n",
       " 'K343',\n",
       " 'K364',\n",
       " 'K326',\n",
       " 'K300']"
      ]
     },
     "execution_count": 13,
     "metadata": {},
     "output_type": "execute_result"
    }
   ],
   "source": [
    "list(result.sort_values(\"acc\", ascending=False).reset_index(drop=True)[:50][\"subject\"])"
   ]
  },
  {
   "cell_type": "code",
   "execution_count": null,
   "id": "d03a4a4b-a36d-4441-953a-75ac83a3fab7",
   "metadata": {},
   "outputs": [],
   "source": []
  }
 ],
 "metadata": {
  "kernelspec": {
   "display_name": "Python 3 (ipykernel)",
   "language": "python",
   "name": "python3"
  },
  "language_info": {
   "codemirror_mode": {
    "name": "ipython",
    "version": 3
   },
   "file_extension": ".py",
   "mimetype": "text/x-python",
   "name": "python",
   "nbconvert_exporter": "python",
   "pygments_lexer": "ipython3",
   "version": "3.9.12"
  }
 },
 "nbformat": 4,
 "nbformat_minor": 5
}
