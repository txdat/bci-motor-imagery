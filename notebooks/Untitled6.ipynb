{
 "cells": [
  {
   "cell_type": "code",
   "execution_count": 1,
   "id": "fa2c0f1e-9fe8-41b7-aa00-065f28bb85a9",
   "metadata": {},
   "outputs": [],
   "source": [
    "import numpy as np\n",
    "import pandas as pd\n",
    "import mne\n",
    "import matplotlib.pyplot as plt\n",
    "from matplotlib.figure import Figure\n",
    "import seaborn as sb\n",
    "import pickle as pkl\n",
    "from braindecode.datasets import BaseConcatDataset, create_from_X_y\n",
    "from shutil import copyfile\n",
    "from tqdm import tqdm\n",
    "from sklearn.preprocessing import LabelEncoder\n",
    "from data_util import load_subjects, load_subject_data, load_data, euclidean_alignment, label_alignment\n",
    "from alignment import np_compute_transform_mat, np_euclidean_alignment, np_compute_target_transform_mats, np_label_alignment\n",
    "from util import np_standardize"
   ]
  },
  {
   "cell_type": "code",
   "execution_count": 2,
   "id": "a016a99a-0571-4e41-ad1d-3ef939f98767",
   "metadata": {},
   "outputs": [],
   "source": [
    "# data_dir = \"/content/drive/MyDrive/DataVIN/Official\"\n",
    "# als_data_dir = \"/content/drive/MyDrive/VIN_ALS\"\n",
    "data_dir = \"../data/vin/Official\"\n",
    "als_data_dir = \"../data/vin/Official\""
   ]
  },
  {
   "cell_type": "code",
   "execution_count": 91,
   "id": "696a3d9a-a8fc-4817-92b7-b5bd737f6760",
   "metadata": {},
   "outputs": [
    {
     "name": "stdout",
     "output_type": "stream",
     "text": [
      "using 13 channels\n"
     ]
    },
    {
     "name": "stderr",
     "output_type": "stream",
     "text": [
      "subject:  12%|█▏        | 13/109 [00:00<00:01, 91.43it/s]/home/administrator/txdat/eeg-motor-imagery/notebooks/data_util.py:211: RuntimeWarning: Limited 1 annotation(s) that were expanding outside the data range.\n",
      "  raw = mne.io.read_raw_edf(f\"{sample_dir}/EEG.edf\", preload=False, verbose=False)\n",
      "/home/administrator/txdat/eeg-motor-imagery/notebooks/data_util.py:211: RuntimeWarning: Limited 1 annotation(s) that were expanding outside the data range.\n",
      "  raw = mne.io.read_raw_edf(f\"{sample_dir}/EEG.edf\", preload=False, verbose=False)\n",
      "subject:  27%|██▋       | 29/109 [00:00<00:02, 28.82it/s]/home/administrator/txdat/eeg-motor-imagery/notebooks/data_util.py:211: RuntimeWarning: Limited 1 annotation(s) that were expanding outside the data range.\n",
      "  raw = mne.io.read_raw_edf(f\"{sample_dir}/EEG.edf\", preload=False, verbose=False)\n",
      "/home/administrator/txdat/eeg-motor-imagery/notebooks/data_util.py:211: RuntimeWarning: Limited 1 annotation(s) that were expanding outside the data range.\n",
      "  raw = mne.io.read_raw_edf(f\"{sample_dir}/EEG.edf\", preload=False, verbose=False)\n",
      "subject:  30%|███       | 33/109 [00:01<00:02, 26.17it/s]/home/administrator/txdat/eeg-motor-imagery/notebooks/data_util.py:211: RuntimeWarning: Limited 1 annotation(s) that were expanding outside the data range.\n",
      "  raw = mne.io.read_raw_edf(f\"{sample_dir}/EEG.edf\", preload=False, verbose=False)\n",
      "/home/administrator/txdat/eeg-motor-imagery/notebooks/data_util.py:211: RuntimeWarning: Limited 1 annotation(s) that were expanding outside the data range.\n",
      "  raw = mne.io.read_raw_edf(f\"{sample_dir}/EEG.edf\", preload=False, verbose=False)\n",
      "/home/administrator/txdat/eeg-motor-imagery/notebooks/data_util.py:211: RuntimeWarning: Limited 1 annotation(s) that were expanding outside the data range.\n",
      "  raw = mne.io.read_raw_edf(f\"{sample_dir}/EEG.edf\", preload=False, verbose=False)\n",
      "subject:  75%|███████▌  | 82/109 [00:06<00:02, 10.32it/s]/home/administrator/txdat/eeg-motor-imagery/notebooks/data_util.py:211: RuntimeWarning: Limited 1 annotation(s) that were expanding outside the data range.\n",
      "  raw = mne.io.read_raw_edf(f\"{sample_dir}/EEG.edf\", preload=False, verbose=False)\n",
      "/home/administrator/txdat/eeg-motor-imagery/notebooks/data_util.py:211: RuntimeWarning: Limited 1 annotation(s) that were expanding outside the data range.\n",
      "  raw = mne.io.read_raw_edf(f\"{sample_dir}/EEG.edf\", preload=False, verbose=False)\n",
      "subject:  79%|███████▉  | 86/109 [00:06<00:02, 10.34it/s]/home/administrator/txdat/eeg-motor-imagery/notebooks/data_util.py:211: RuntimeWarning: Limited 1 annotation(s) that were expanding outside the data range.\n",
      "  raw = mne.io.read_raw_edf(f\"{sample_dir}/EEG.edf\", preload=False, verbose=False)\n",
      "subject:  83%|████████▎ | 90/109 [00:07<00:01, 10.02it/s]/home/administrator/txdat/eeg-motor-imagery/notebooks/data_util.py:211: RuntimeWarning: Limited 1 annotation(s) that were expanding outside the data range.\n",
      "  raw = mne.io.read_raw_edf(f\"{sample_dir}/EEG.edf\", preload=False, verbose=False)\n",
      "subject:  84%|████████▍ | 92/109 [00:07<00:01, 10.46it/s]/home/administrator/txdat/eeg-motor-imagery/notebooks/data_util.py:211: RuntimeWarning: Limited 1 annotation(s) that were expanding outside the data range.\n",
      "  raw = mne.io.read_raw_edf(f\"{sample_dir}/EEG.edf\", preload=False, verbose=False)\n",
      "/home/administrator/txdat/eeg-motor-imagery/notebooks/data_util.py:211: RuntimeWarning: Limited 1 annotation(s) that were expanding outside the data range.\n",
      "  raw = mne.io.read_raw_edf(f\"{sample_dir}/EEG.edf\", preload=False, verbose=False)\n",
      "subject:  88%|████████▊ | 96/109 [00:07<00:01, 11.17it/s]/home/administrator/txdat/eeg-motor-imagery/notebooks/data_util.py:211: RuntimeWarning: Limited 1 annotation(s) that were expanding outside the data range.\n",
      "  raw = mne.io.read_raw_edf(f\"{sample_dir}/EEG.edf\", preload=False, verbose=False)\n",
      "subject:  90%|████████▉ | 98/109 [00:07<00:00, 11.52it/s]/home/administrator/txdat/eeg-motor-imagery/notebooks/data_util.py:211: RuntimeWarning: Limited 1 annotation(s) that were expanding outside the data range.\n",
      "  raw = mne.io.read_raw_edf(f\"{sample_dir}/EEG.edf\", preload=False, verbose=False)\n",
      "/home/administrator/txdat/eeg-motor-imagery/notebooks/data_util.py:211: RuntimeWarning: Limited 1 annotation(s) that were expanding outside the data range.\n",
      "  raw = mne.io.read_raw_edf(f\"{sample_dir}/EEG.edf\", preload=False, verbose=False)\n",
      "subject:  92%|█████████▏| 100/109 [00:08<00:00, 11.62it/s]/home/administrator/txdat/eeg-motor-imagery/notebooks/data_util.py:211: RuntimeWarning: Limited 1 annotation(s) that were expanding outside the data range.\n",
      "  raw = mne.io.read_raw_edf(f\"{sample_dir}/EEG.edf\", preload=False, verbose=False)\n",
      "/home/administrator/txdat/eeg-motor-imagery/notebooks/data_util.py:211: RuntimeWarning: Limited 1 annotation(s) that were expanding outside the data range.\n",
      "  raw = mne.io.read_raw_edf(f\"{sample_dir}/EEG.edf\", preload=False, verbose=False)\n",
      "subject:  99%|█████████▉| 108/109 [00:08<00:00, 11.95it/s]/home/administrator/txdat/eeg-motor-imagery/notebooks/data_util.py:211: RuntimeWarning: Limited 1 annotation(s) that were expanding outside the data range.\n",
      "  raw = mne.io.read_raw_edf(f\"{sample_dir}/EEG.edf\", preload=False, verbose=False)\n",
      "subject: 100%|██████████| 109/109 [00:08<00:00, 12.35it/s]\n",
      "subject: 100%|██████████| 96/96 [00:08<00:00, 11.54it/s]\n",
      "trial: 100%|██████████| 2718/2718 [00:07<00:00, 355.70it/s]\n"
     ]
    },
    {
     "name": "stdout",
     "output_type": "stream",
     "text": [
      "loaded 96 subjects - 24621 epochs\n",
      "CPU times: user 56.8 s, sys: 4.87 s, total: 1min 1s\n",
      "Wall time: 1min 4s\n"
     ]
    },
    {
     "data": {
      "text/html": [
       "<div>\n",
       "<style scoped>\n",
       "    .dataframe tbody tr th:only-of-type {\n",
       "        vertical-align: middle;\n",
       "    }\n",
       "\n",
       "    .dataframe tbody tr th {\n",
       "        vertical-align: top;\n",
       "    }\n",
       "\n",
       "    .dataframe thead th {\n",
       "        text-align: right;\n",
       "    }\n",
       "</style>\n",
       "<table border=\"1\" class=\"dataframe\">\n",
       "  <thead>\n",
       "    <tr style=\"text-align: right;\">\n",
       "      <th></th>\n",
       "      <th>subject</th>\n",
       "      <th>scenario</th>\n",
       "      <th>event</th>\n",
       "      <th>label</th>\n",
       "      <th>trial</th>\n",
       "      <th>split</th>\n",
       "      <th>epochs</th>\n",
       "    </tr>\n",
       "  </thead>\n",
       "  <tbody>\n",
       "    <tr>\n",
       "      <th>0</th>\n",
       "      <td>K001</td>\n",
       "      <td>nâng tay trái</td>\n",
       "      <td>Thinking</td>\n",
       "      <td>nâng tay trái</td>\n",
       "      <td>0</td>\n",
       "      <td>train</td>\n",
       "      <td>9</td>\n",
       "    </tr>\n",
       "    <tr>\n",
       "      <th>1</th>\n",
       "      <td>K001</td>\n",
       "      <td>nâng tay trái</td>\n",
       "      <td>Resting</td>\n",
       "      <td>rest</td>\n",
       "      <td>0</td>\n",
       "      <td>train</td>\n",
       "      <td>10</td>\n",
       "    </tr>\n",
       "    <tr>\n",
       "      <th>2</th>\n",
       "      <td>K001</td>\n",
       "      <td>nâng tay trái</td>\n",
       "      <td>Resting</td>\n",
       "      <td>rest</td>\n",
       "      <td>1</td>\n",
       "      <td>train</td>\n",
       "      <td>5</td>\n",
       "    </tr>\n",
       "    <tr>\n",
       "      <th>3</th>\n",
       "      <td>K001</td>\n",
       "      <td>nâng tay trái</td>\n",
       "      <td>Thinking</td>\n",
       "      <td>nâng tay trái</td>\n",
       "      <td>1</td>\n",
       "      <td>train</td>\n",
       "      <td>10</td>\n",
       "    </tr>\n",
       "    <tr>\n",
       "      <th>4</th>\n",
       "      <td>K001</td>\n",
       "      <td>nâng tay trái</td>\n",
       "      <td>Resting</td>\n",
       "      <td>rest</td>\n",
       "      <td>2</td>\n",
       "      <td>train</td>\n",
       "      <td>4</td>\n",
       "    </tr>\n",
       "    <tr>\n",
       "      <th>...</th>\n",
       "      <td>...</td>\n",
       "      <td>...</td>\n",
       "      <td>...</td>\n",
       "      <td>...</td>\n",
       "      <td>...</td>\n",
       "      <td>...</td>\n",
       "      <td>...</td>\n",
       "    </tr>\n",
       "    <tr>\n",
       "      <th>2713</th>\n",
       "      <td>K375</td>\n",
       "      <td>nâng chân phải</td>\n",
       "      <td>Resting</td>\n",
       "      <td>rest</td>\n",
       "      <td>2</td>\n",
       "      <td>train</td>\n",
       "      <td>4</td>\n",
       "    </tr>\n",
       "    <tr>\n",
       "      <th>2714</th>\n",
       "      <td>K375</td>\n",
       "      <td>nâng chân phải</td>\n",
       "      <td>Resting</td>\n",
       "      <td>rest</td>\n",
       "      <td>3</td>\n",
       "      <td>train</td>\n",
       "      <td>5</td>\n",
       "    </tr>\n",
       "    <tr>\n",
       "      <th>2715</th>\n",
       "      <td>K375</td>\n",
       "      <td>nâng chân phải</td>\n",
       "      <td>Thinking</td>\n",
       "      <td>nâng chân phải</td>\n",
       "      <td>2</td>\n",
       "      <td>train</td>\n",
       "      <td>11</td>\n",
       "    </tr>\n",
       "    <tr>\n",
       "      <th>2716</th>\n",
       "      <td>K375</td>\n",
       "      <td>nâng chân phải</td>\n",
       "      <td>Resting</td>\n",
       "      <td>rest</td>\n",
       "      <td>4</td>\n",
       "      <td>train</td>\n",
       "      <td>6</td>\n",
       "    </tr>\n",
       "    <tr>\n",
       "      <th>2717</th>\n",
       "      <td>K375</td>\n",
       "      <td>nâng chân phải</td>\n",
       "      <td>Resting</td>\n",
       "      <td>rest</td>\n",
       "      <td>5</td>\n",
       "      <td>train</td>\n",
       "      <td>3</td>\n",
       "    </tr>\n",
       "  </tbody>\n",
       "</table>\n",
       "<p>2718 rows × 7 columns</p>\n",
       "</div>"
      ],
      "text/plain": [
       "     subject        scenario     event           label  trial  split  epochs\n",
       "0       K001   nâng tay trái  Thinking   nâng tay trái      0  train       9\n",
       "1       K001   nâng tay trái   Resting            rest      0  train      10\n",
       "2       K001   nâng tay trái   Resting            rest      1  train       5\n",
       "3       K001   nâng tay trái  Thinking   nâng tay trái      1  train      10\n",
       "4       K001   nâng tay trái   Resting            rest      2  train       4\n",
       "...      ...             ...       ...             ...    ...    ...     ...\n",
       "2713    K375  nâng chân phải   Resting            rest      2  train       4\n",
       "2714    K375  nâng chân phải   Resting            rest      3  train       5\n",
       "2715    K375  nâng chân phải  Thinking  nâng chân phải      2  train      11\n",
       "2716    K375  nâng chân phải   Resting            rest      4  train       6\n",
       "2717    K375  nâng chân phải   Resting            rest      5  train       3\n",
       "\n",
       "[2718 rows x 7 columns]"
      ]
     },
     "execution_count": 91,
     "metadata": {},
     "output_type": "execute_result"
    }
   ],
   "source": [
    "%%time\n",
    "# fmt: off\n",
    "# subjects = [\n",
    "#     'K300', 'K309', 'K310', 'K311', 'K312', \n",
    "#     'K313', 'K314', 'K315', 'K316', 'K319', \n",
    "#     'K320', 'K321', 'K322', 'K323', 'K324', \n",
    "#     'K325', 'K326', 'K327', 'K328', 'K329', \n",
    "#     'K330', 'K331', 'K332', 'K333', 'K334', \n",
    "#     'K335', 'K336', 'K337', 'K338', 'K339', \n",
    "#     'K340', 'K342', 'K343', 'K344', 'K350', \n",
    "#     'K351', 'K352', 'K353', 'K354', 'K355', \n",
    "#     'K356', 'K357', 'K358', 'K359', 'K360', \n",
    "#     'K361', 'K362', 'K363', 'K364', 'K365', \n",
    "#     'K366', 'K367', 'K368', 'K369', 'K370', \n",
    "#     'K371', 'K372', 'K373', 'K374', 'K375',\n",
    "# ]\n",
    "\n",
    "subjects = [\n",
    "    'K001', 'K002', 'K003', 'K004',\n",
    "    'K005', 'K006', 'K007', 'K008', 'K009',\n",
    "    'K010', 'K011', 'K012', 'K013', 'K014',\n",
    "    'K015', 'K016', 'K017', 'K018', 'K019',\n",
    "    'K020', 'K021', 'K022', 'K023', 'K024',\n",
    "    'K025', 'K026', 'K027', 'K028', 'K299',\n",
    "    'K300', 'K301', 'K302', 'K303', 'K304',\n",
    "    'K305', 'K306', 'K307', 'K308', 'K309',\n",
    "    'K310', 'K311', 'K312', 'K313', 'K314',\n",
    "    'K315', 'K316', 'K317', 'K319',\n",
    "    'K320', 'K321', 'K322', 'K323', 'K324',\n",
    "    'K325', 'K326', 'K327', 'K328', 'K329',\n",
    "    'K330', 'K331', 'K332', 'K333', 'K334',\n",
    "    'K335', 'K336', 'K337', 'K338', 'K339',\n",
    "    'K340', 'K342', 'K343', 'K344', 'K350',\n",
    "    'K351', 'K352', 'K353', 'K354', 'K355',\n",
    "    'K356', 'K357', 'K358', 'K359', 'K360',\n",
    "    'K361', 'K362', 'K363', 'K364', 'K365',\n",
    "    'K366', 'K367', 'K368', 'K369', 'K370',\n",
    "    'K371', 'K372', 'K373', 'K374', 'K375',\n",
    "]\n",
    "\n",
    "subjects = sorted(subjects)\n",
    "\n",
    "scenarios = [\n",
    "    \"nâng tay trái\",\n",
    "    \"nâng tay phải\",\n",
    "    \"nâng chân trái\",\n",
    "    \"nâng chân phải\",\n",
    "    # \"gật đầu\",\n",
    "    # \"lắc đầu\",\n",
    "    # \"há miệng\",\n",
    "]\n",
    "\n",
    "events = [\n",
    "    \"Thinking\",\n",
    "    # \"Thinking and Acting\",\n",
    "    \"Resting\",\n",
    "    # \"Typing\",\n",
    "]\n",
    "\n",
    "channels = [\n",
    "    # \"Fp1\", \"Fp2\",\n",
    "    # \"F7\", \"F3\", \"Fz\", \"F4\", \"F8\",\n",
    "    # \"FT9\", \"FC5\", \"FC1\", \"FC2\", \"FC6\", \"FT10\",\n",
    "    \"FC5\", \"FC1\", \"FC2\", \"FC6\",\n",
    "    \"T7\", \"C3\", \"Cz\", \"C4\", \"T8\",\n",
    "    # \"C3\", \"Cz\", \"C4\",\n",
    "    \"CP5\", \"CP1\", \"CP2\", \"CP6\",\n",
    "    # \"P7\", \"P3\", \"Pz\", \"P4\", \"P8\",\n",
    "    # \"PO9\", \"O1\", \"Oz\", \"O2\", \"PO10\",\n",
    "    # \"O1\", \"Oz\", \"O2\",\n",
    "]\n",
    "# channels = [\n",
    "#     # \"F3\", \"Fz\", \"F4\",\n",
    "#     \"FC5\", \"FC1\", \"FC2\", \"FC6\",\n",
    "#     \"C3\", \"Cz\", \"C4\",\n",
    "#     \"CP5\", \"CP1\", \"CP2\", \"CP6\",\n",
    "#     # \"P3\", \"Pz\", \"P4\",\n",
    "# ]\n",
    "\n",
    "label_mapping={\n",
    "    \"nâng tay trái_Thinking\": \"nâng tay trái\",\n",
    "    \"nâng tay phải_Thinking\": \"nâng tay phải\",\n",
    "    # \"nâng tay trái_Thinking\": \"nâng tay\",\n",
    "    # \"nâng tay phải_Thinking\": \"nâng tay\",\n",
    "    # \"nâng tay trái_Thinking\": \"mi\",\n",
    "    # \"nâng tay phải_Thinking\": \"mi\",\n",
    "    \"nâng chân trái_Thinking\": \"nâng chân trái\",\n",
    "    \"nâng chân phải_Thinking\": \"nâng chân phải\",\n",
    "    # \"nâng chân trái_Thinking\": \"nâng chân\",\n",
    "    # \"nâng chân phải_Thinking\": \"nâng chân\",\n",
    "    # \"nâng chân trái_Thinking\": \"mi\",\n",
    "    # \"nâng chân phải_Thinking\": \"mi\",\n",
    "    \"gật đầu_Thinking\": \"gật đầu\",\n",
    "    \"lắc đầu_Thinking\": \"lắc đầu\",\n",
    "    # \"gật đầu_Thinking\": \"đầu\",\n",
    "    # \"lắc đầu_Thinking\": \"đầu\",\n",
    "    # \"gật đầu_Thinking\": \"mi\",\n",
    "    # \"lắc đầu_Thinking\": \"mi\",\n",
    "    \"há miệng_Thinking\": \"há miệng\",\n",
    "    # \"há miệng_Thinking\": \"mi\",\n",
    "    \"nâng tay trái_Thinking and Acting\": \"nâng tay trái\",\n",
    "    \"nâng tay phải_Thinking and Acting\": \"nâng tay phải\",\n",
    "    \"nâng chân trái_Thinking and Acting\": \"nâng chân trái\",\n",
    "    \"nâng chân phải_Thinking and Acting\": \"nâng chân phải\",\n",
    "    \"gật đầu_Thinking and Acting\": \"gật đầu\",\n",
    "    \"lắc đầu_Thinking and Acting\": \"lắc đầu\",\n",
    "    \"há miệng_Thinking and Acting\": \"há miệng\",\n",
    "    \"Resting\": \"rest\",\n",
    "}\n",
    "\n",
    "n_channels = len(channels)\n",
    "\n",
    "print(f\"using {n_channels} channels\")\n",
    "\n",
    "minimal_trial_duration = 3  # @param\n",
    "window_duration = 2  # @param\n",
    "window_stride_duration = 0.5  # @param\n",
    "\n",
    "fmin = 8.0  # @param\n",
    "fmax = 30.0  # @param\n",
    "\n",
    "ds = load_data(\n",
    "    data_dir,  \n",
    "    subjects=subjects,\n",
    "    scenarios=scenarios,\n",
    "    events=events,\n",
    "    channels=channels,\n",
    "    label_mapping=label_mapping,\n",
    "    minimal_trial_duration=minimal_trial_duration,\n",
    "    window_duration=window_duration, \n",
    "    window_stride_duration=window_stride_duration, \n",
    "    start_offset=0,\n",
    "    stop_offset=0,\n",
    "    fmin=fmin, \n",
    "    fmax=fmax, \n",
    "    moving_standardize=False,\n",
    "    resample=None,\n",
    "    return_raw=False,\n",
    "    return_preprocessed=False,\n",
    "    preload=True,\n",
    ")\n",
    "\n",
    "# als_subjects = [\"ALS01_t1\", \"ALS01_t2\", \"ALS02_t1\", \"ALS02_t2\"]\n",
    "\n",
    "# als_ds = load_data(\n",
    "#     als_data_dir,  \n",
    "#     subjects=als_subjects,\n",
    "#     scenarios=scenarios,\n",
    "#     events=events,\n",
    "#     channels=channels,\n",
    "#     label_mapping=label_mapping,\n",
    "#     minimal_trial_duration=minimal_trial_duration,\n",
    "#     window_duration=window_duration, \n",
    "#     window_stride_duration=window_stride_duration, \n",
    "#     start_offset=0,\n",
    "#     stop_offset=0,\n",
    "#     fmin=fmin, \n",
    "#     fmax=fmax, \n",
    "#     moving_standardize=False,\n",
    "#     resample=None,\n",
    "#     return_raw=False,\n",
    "#     return_preprocessed=False,\n",
    "#     preload=True,\n",
    "# )\n",
    "\n",
    "# ds = BaseConcatDataset([ds, als_ds])\n",
    "\n",
    "# fmt: on\n",
    "\n",
    "# for _ds in ds.datasets:\n",
    "#     _ds_info = _ds.description\n",
    "#     if _ds_info[\"subject\"] == \"K314\":\n",
    "#         _ds_info[\"subject\"] = \"K314_t1\"\n",
    "#     elif _ds_info[\"subject\"] == \"K324\":\n",
    "#         _ds_info[\"subject\"] = \"K314_t2\"\n",
    "\n",
    "ds_info = ds.description\n",
    "\n",
    "ds_info[\"epochs\"] = 0\n",
    "for i, r in ds_info.iterrows():\n",
    "    ds_info.loc[i, \"epochs\"] = len(ds.datasets[i].windows)\n",
    "\n",
    "print(f\"loaded {len(ds_info['subject'].unique())} subjects - {ds_info['epochs'].sum()} epochs\")\n",
    "ds_info"
   ]
  },
  {
   "cell_type": "code",
   "execution_count": 65,
   "id": "26d5ca49-f20e-49ad-8657-a0d01820793f",
   "metadata": {},
   "outputs": [
    {
     "data": {
      "text/html": [
       "<div>\n",
       "<style scoped>\n",
       "    .dataframe tbody tr th:only-of-type {\n",
       "        vertical-align: middle;\n",
       "    }\n",
       "\n",
       "    .dataframe tbody tr th {\n",
       "        vertical-align: top;\n",
       "    }\n",
       "\n",
       "    .dataframe thead th {\n",
       "        text-align: right;\n",
       "    }\n",
       "</style>\n",
       "<table border=\"1\" class=\"dataframe\">\n",
       "  <thead>\n",
       "    <tr style=\"text-align: right;\">\n",
       "      <th></th>\n",
       "      <th>subject</th>\n",
       "      <th>scenario</th>\n",
       "      <th>event</th>\n",
       "      <th>label</th>\n",
       "      <th>trial</th>\n",
       "      <th>split</th>\n",
       "      <th>epochs</th>\n",
       "    </tr>\n",
       "  </thead>\n",
       "  <tbody>\n",
       "    <tr>\n",
       "      <th>490</th>\n",
       "      <td>K300</td>\n",
       "      <td>nâng tay trái</td>\n",
       "      <td>Thinking</td>\n",
       "      <td>nâng tay trái</td>\n",
       "      <td>0</td>\n",
       "      <td>train</td>\n",
       "      <td>10</td>\n",
       "    </tr>\n",
       "    <tr>\n",
       "      <th>493</th>\n",
       "      <td>K300</td>\n",
       "      <td>nâng tay trái</td>\n",
       "      <td>Thinking</td>\n",
       "      <td>nâng tay trái</td>\n",
       "      <td>1</td>\n",
       "      <td>train</td>\n",
       "      <td>27</td>\n",
       "    </tr>\n",
       "    <tr>\n",
       "      <th>496</th>\n",
       "      <td>K300</td>\n",
       "      <td>nâng tay trái</td>\n",
       "      <td>Thinking</td>\n",
       "      <td>nâng tay trái</td>\n",
       "      <td>2</td>\n",
       "      <td>train</td>\n",
       "      <td>11</td>\n",
       "    </tr>\n",
       "  </tbody>\n",
       "</table>\n",
       "</div>"
      ],
      "text/plain": [
       "    subject       scenario     event          label  trial  split  epochs\n",
       "490    K300  nâng tay trái  Thinking  nâng tay trái      0  train      10\n",
       "493    K300  nâng tay trái  Thinking  nâng tay trái      1  train      27\n",
       "496    K300  nâng tay trái  Thinking  nâng tay trái      2  train      11"
      ]
     },
     "execution_count": 65,
     "metadata": {},
     "output_type": "execute_result"
    }
   ],
   "source": [
    "ds_info[(ds_info[\"subject\"] == \"K300\") & (ds_info[\"label\"] == \"nâng tay trái\")]"
   ]
  },
  {
   "cell_type": "code",
   "execution_count": 66,
   "id": "e550d9cd-da04-4b47-8b66-ee0aa62de0c5",
   "metadata": {},
   "outputs": [
    {
     "data": {
      "text/plain": [
       "{'rest': 0,\n",
       " 'nâng chân phải': 1,\n",
       " 'nâng chân trái': 2,\n",
       " 'nâng tay phải': 3,\n",
       " 'nâng tay trái': 4}"
      ]
     },
     "execution_count": 66,
     "metadata": {},
     "output_type": "execute_result"
    }
   ],
   "source": [
    "ds.datasets[0].windows.event_id"
   ]
  },
  {
   "cell_type": "code",
   "execution_count": 5,
   "id": "56a45925-602a-4d10-8e79-d5895c40f7c6",
   "metadata": {},
   "outputs": [],
   "source": [
    "import numpy as np\n",
    "from scipy import linalg, stats, signal\n",
    "import pandas as pd\n",
    "import matplotlib.pyplot as plt\n",
    "import seaborn as sb\n",
    "import mne\n",
    "# import yasa\n",
    "import sklearn.metrics as metrics\n",
    "from sklearn.preprocessing import LabelEncoder\n",
    "from sklearn.preprocessing import StandardScaler\n",
    "from sklearn.pipeline import make_pipeline\n",
    "from sklearn.svm import LinearSVC, SVC\n",
    "# from sklearn.ensemble import RandomForestClassifier\n",
    "# from sklearn.linear_model import LogisticRegression\n",
    "from sklearn.discriminant_analysis import LinearDiscriminantAnalysis\n",
    "from sklearn.multiclass import OneVsRestClassifier\n",
    "from pyriemann.estimation import Covariances\n",
    "# from pyriemann.spatialfilters import CSP\n",
    "from pyriemann.tangentspace import TangentSpace\n",
    "from pyriemann.classification import TSclassifier, MDM, FgMDM\n",
    "import pickle as pkl\n",
    "from tqdm import tqdm\n",
    "from copy import deepcopy\n",
    "from collections import defaultdict"
   ]
  },
  {
   "cell_type": "code",
   "execution_count": 10,
   "id": "6b7f0609-8d93-4354-ac92-4a3d9bccb2bb",
   "metadata": {},
   "outputs": [
    {
     "name": "stderr",
     "output_type": "stream",
     "text": [
      "subject: 100%|██████████| 97/97 [00:05<00:00, 16.39it/s]\n"
     ]
    }
   ],
   "source": [
    "ds_ea = deepcopy(ds)\n",
    "euclidean_alignment(ds_ea, target_subject=None, labeled_trials=None)"
   ]
  },
  {
   "cell_type": "code",
   "execution_count": 92,
   "id": "add33bb7-62c2-463c-9ed6-36e402160bc7",
   "metadata": {},
   "outputs": [
    {
     "name": "stderr",
     "output_type": "stream",
     "text": [
      "subject:   0%|          | 0/60 [00:00<?, ?it/s]"
     ]
    },
    {
     "name": "stdout",
     "output_type": "stream",
     "text": [
      "==========subject K300==========\n",
      "[97 10 10 11 10] [139  14  20  17  38]\n"
     ]
    },
    {
     "name": "stderr",
     "output_type": "stream",
     "text": [
      "subject:   2%|▏         | 1/60 [00:00<00:24,  2.41it/s]"
     ]
    },
    {
     "name": "stdout",
     "output_type": "stream",
     "text": [
      "accuracy: 0.48803248069390576\n",
      "f1_weighted: 0.6301680505310269\n",
      "confusion matrix:\n",
      "[[124   0   9   2   4]\n",
      " [  1  13   0   0   0]\n",
      " [  2   8   4   4   2]\n",
      " [  7   2   0   4   4]\n",
      " [ 27   0   2   2   7]]\n",
      "==========subject K309==========\n",
      "[73 11  8 10 11] [143  19  19  20  18]\n"
     ]
    },
    {
     "name": "stderr",
     "output_type": "stream",
     "text": [
      "subject:   3%|▎         | 2/60 [00:00<00:22,  2.58it/s]"
     ]
    },
    {
     "name": "stdout",
     "output_type": "stream",
     "text": [
      "accuracy: 0.5180947123052386\n",
      "f1_weighted: 0.7734616500225179\n",
      "confusion matrix:\n",
      "[[138   2   0   1   2]\n",
      " [  0  12   7   0   0]\n",
      " [  0  15   4   0   0]\n",
      " [  2   8   1   9   0]\n",
      " [  0   0   0  12   6]]\n",
      "==========subject K310==========\n",
      "[80 14 10 12 10] [165  20  21  21  23]\n"
     ]
    },
    {
     "name": "stderr",
     "output_type": "stream",
     "text": [
      "subject:   5%|▌         | 3/60 [00:01<00:21,  2.60it/s]"
     ]
    },
    {
     "name": "stdout",
     "output_type": "stream",
     "text": [
      "accuracy: 0.3518445322793149\n",
      "f1_weighted: 0.6489992418281955\n",
      "confusion matrix:\n",
      "[[156   2   0   7   0]\n",
      " [ 10   7   2   0   1]\n",
      " [ 11   6   2   2   0]\n",
      " [  9   0   4   5   3]\n",
      " [ 12   0   2   6   3]]\n",
      "==========subject K311==========\n",
      "[84 12  9 11 11] [152  24  19  26  23]\n"
     ]
    },
    {
     "name": "stderr",
     "output_type": "stream",
     "text": [
      "subject:   7%|▋         | 4/60 [00:01<00:22,  2.48it/s]"
     ]
    },
    {
     "name": "stdout",
     "output_type": "stream",
     "text": [
      "accuracy: 0.7998577128439828\n",
      "f1_weighted: 0.9064973503091318\n",
      "confusion matrix:\n",
      "[[152   0   0   0   0]\n",
      " [  3  19   0   2   0]\n",
      " [  1   4  13   1   0]\n",
      " [  0   9   0  17   0]\n",
      " [  0   0   0   3  20]]\n",
      "==========subject K312==========\n",
      "[65 11  9 14 10] [162  30  22  24  37]\n"
     ]
    },
    {
     "name": "stderr",
     "output_type": "stream",
     "text": [
      "subject:   8%|▊         | 5/60 [00:01<00:21,  2.60it/s]"
     ]
    },
    {
     "name": "stdout",
     "output_type": "stream",
     "text": [
      "accuracy: 0.7895545545545546\n",
      "f1_weighted: 0.8394798349467747\n",
      "confusion matrix:\n",
      "[[150   6   3   0   3]\n",
      " [  2  24   4   0   0]\n",
      " [  0   0  22   0   0]\n",
      " [  1   0   6  17   0]\n",
      " [ 16   1   1   0  19]]\n",
      "==========subject K313==========\n",
      "[68 13 11 17 12] [151  25  26  27  24]\n"
     ]
    },
    {
     "name": "stderr",
     "output_type": "stream",
     "text": [
      "subject:  10%|█         | 6/60 [00:02<00:21,  2.57it/s]"
     ]
    },
    {
     "name": "stdout",
     "output_type": "stream",
     "text": [
      "accuracy: 0.7394219354351804\n",
      "f1_weighted: 0.8562130978677366\n",
      "confusion matrix:\n",
      "[[150   0   0   1   0]\n",
      " [  1  19   5   0   0]\n",
      " [  3   0  19   4   0]\n",
      " [  2   1  15   8   1]\n",
      " [  0   0   0   2  22]]\n",
      "==========subject K314==========\n",
      "[81  9 10 10  9] [135  20  19  19  25]\n"
     ]
    },
    {
     "name": "stderr",
     "output_type": "stream",
     "text": [
      "subject:  12%|█▏        | 7/60 [00:02<00:20,  2.54it/s]"
     ]
    },
    {
     "name": "stdout",
     "output_type": "stream",
     "text": [
      "accuracy: 0.42336842105263156\n",
      "f1_weighted: 0.6624247842711145\n",
      "confusion matrix:\n",
      "[[135   0   0   0   0]\n",
      " [ 14   6   0   0   0]\n",
      " [  6   4   9   0   0]\n",
      " [  5   5   4   5   0]\n",
      " [ 17   0   0   6   2]]\n",
      "==========subject K315==========\n",
      "[78 10 10 11 10] [169  27  26  23  25]\n"
     ]
    },
    {
     "name": "stderr",
     "output_type": "stream",
     "text": [
      "subject:  13%|█▎        | 8/60 [00:03<00:20,  2.49it/s]"
     ]
    },
    {
     "name": "stdout",
     "output_type": "stream",
     "text": [
      "accuracy: 0.6338768735290474\n",
      "f1_weighted: 0.809749387989184\n",
      "confusion matrix:\n",
      "[[169   0   0   0   0]\n",
      " [  1  26   0   0   0]\n",
      " [  0  20   6   0   0]\n",
      " [  1   6   0  16   0]\n",
      " [  3   1   1  13   7]]\n",
      "==========subject K316==========\n",
      "[82 12 10 12 11] [173  25  21  21  22]\n"
     ]
    },
    {
     "name": "stderr",
     "output_type": "stream",
     "text": [
      "subject:  15%|█▌        | 9/60 [00:03<00:21,  2.42it/s]"
     ]
    },
    {
     "name": "stdout",
     "output_type": "stream",
     "text": [
      "accuracy: 0.5412194279708731\n",
      "f1_weighted: 0.7853295635906664\n",
      "confusion matrix:\n",
      "[[167   4   1   0   1]\n",
      " [  0  13  10   2   0]\n",
      " [  0   8  10   3   0]\n",
      " [  1   4   8   8   0]\n",
      " [  8   0   0   6   8]]\n",
      "==========subject K319==========\n",
      "[89  8  7 10  7] [172  20  18  21  15]\n"
     ]
    },
    {
     "name": "stderr",
     "output_type": "stream",
     "text": [
      "subject:  17%|█▋        | 10/60 [00:04<00:20,  2.42it/s]"
     ]
    },
    {
     "name": "stdout",
     "output_type": "stream",
     "text": [
      "accuracy: 0.22740863787375415\n",
      "f1_weighted: 0.616329986963643\n",
      "confusion matrix:\n",
      "[[171   0   0   0   1]\n",
      " [ 20   0   0   0   0]\n",
      " [ 16   0   0   2   0]\n",
      " [ 12   1   2   3   3]\n",
      " [  7   0   1   7   0]]\n",
      "==========subject K320==========\n",
      "[82  9 10 10  8] [109  20  15  17  17]\n"
     ]
    },
    {
     "name": "stderr",
     "output_type": "stream",
     "text": [
      "subject:  18%|█▊        | 11/60 [00:04<00:19,  2.48it/s]"
     ]
    },
    {
     "name": "stdout",
     "output_type": "stream",
     "text": [
      "accuracy: 0.5299712178449362\n",
      "f1_weighted: 0.6987322299749452\n",
      "confusion matrix:\n",
      "[[103   1   2   3   0]\n",
      " [  5   5  10   0   0]\n",
      " [  2   0  13   0   0]\n",
      " [ 11   0   0   6   0]\n",
      " [ 11   0   0   2   4]]\n",
      "==========subject K321==========\n",
      "[44  9 11  9  9] [29 20 20 19 19]\n"
     ]
    },
    {
     "name": "stderr",
     "output_type": "stream",
     "text": [
      "subject:  20%|██        | 12/60 [00:04<00:17,  2.77it/s]"
     ]
    },
    {
     "name": "stdout",
     "output_type": "stream",
     "text": [
      "accuracy: 0.7741016333938294\n",
      "f1_weighted: 0.781943492223866\n",
      "confusion matrix:\n",
      "[[27  1  0  1  0]\n",
      " [ 1 11  8  0  0]\n",
      " [ 2  5 12  1  0]\n",
      " [ 3  0  0 16  0]\n",
      " [ 1  0  0  0 18]]\n",
      "==========subject K322==========\n",
      "[61  8 10  9  8] [76 19 17 18 19]\n"
     ]
    },
    {
     "name": "stderr",
     "output_type": "stream",
     "text": [
      "subject:  22%|██▏       | 13/60 [00:04<00:16,  2.87it/s]"
     ]
    },
    {
     "name": "stdout",
     "output_type": "stream",
     "text": [
      "accuracy: 0.6650326797385621\n",
      "f1_weighted: 0.7369065934703406\n",
      "confusion matrix:\n",
      "[[67  4  2  3  0]\n",
      " [ 0 19  0  0  0]\n",
      " [ 7  0  6  4  0]\n",
      " [ 0  2  3 13  0]\n",
      " [ 5  2  0  5  7]]\n",
      "==========subject K323==========\n",
      "[60  8 10  7  8] [59 17 16 18 19]\n"
     ]
    },
    {
     "name": "stderr",
     "output_type": "stream",
     "text": [
      "subject:  23%|██▎       | 14/60 [00:05<00:15,  3.02it/s]"
     ]
    },
    {
     "name": "stdout",
     "output_type": "stream",
     "text": [
      "accuracy: 0.6664114382000199\n",
      "f1_weighted: 0.7166568052736964\n",
      "confusion matrix:\n",
      "[[55  0  4  0  0]\n",
      " [ 0 17  0  0  0]\n",
      " [ 0  6 10  0  0]\n",
      " [ 0  1  4 13  0]\n",
      " [ 0  3 11  4  1]]\n",
      "==========subject K324==========\n",
      "[43 10  9 11 10] [41 17 19 21 21]\n"
     ]
    },
    {
     "name": "stderr",
     "output_type": "stream",
     "text": [
      "subject:  25%|██▌       | 15/60 [00:05<00:14,  3.21it/s]"
     ]
    },
    {
     "name": "stdout",
     "output_type": "stream",
     "text": [
      "accuracy: 0.6088636224708113\n",
      "f1_weighted: 0.6065619721081906\n",
      "confusion matrix:\n",
      "[[31  8  1  0  1]\n",
      " [ 0 17  0  0  0]\n",
      " [ 0  0 10  9  0]\n",
      " [ 4  0  5 12  0]\n",
      " [ 1  0 10  6  4]]\n",
      "==========subject K325==========\n",
      "[47 10 11 10 10] [41 19 31 17 16]\n"
     ]
    },
    {
     "name": "stderr",
     "output_type": "stream",
     "text": [
      "subject:  27%|██▋       | 16/60 [00:05<00:13,  3.32it/s]"
     ]
    },
    {
     "name": "stdout",
     "output_type": "stream",
     "text": [
      "accuracy: 0.5823729152102267\n",
      "f1_weighted: 0.6236375819161153\n",
      "confusion matrix:\n",
      "[[41  0  0  0  0]\n",
      " [ 0 15  4  0  0]\n",
      " [ 7 10 12  2  0]\n",
      " [ 0 10  1  4  2]\n",
      " [ 1  2  5  0  8]]\n",
      "==========subject K326==========\n",
      "[52 11 13 12 11] [41 23 23 23 23]\n"
     ]
    },
    {
     "name": "stderr",
     "output_type": "stream",
     "text": [
      "subject:  28%|██▊       | 17/60 [00:06<00:13,  3.23it/s]"
     ]
    },
    {
     "name": "stdout",
     "output_type": "stream",
     "text": [
      "accuracy: 0.4897136797454931\n",
      "f1_weighted: 0.5227421556631137\n",
      "confusion matrix:\n",
      "[[38  0  3  0  0]\n",
      " [ 5 16  2  0  0]\n",
      " [ 6  0  2  5 10]\n",
      " [ 1  0  3 12  7]\n",
      " [ 7  0  1 10  5]]\n",
      "==========subject K327==========\n",
      "[50 10 17 10 11] [31 32 17 19 20]\n"
     ]
    },
    {
     "name": "stderr",
     "output_type": "stream",
     "text": [
      "subject:  30%|███       | 18/60 [00:06<00:12,  3.26it/s]"
     ]
    },
    {
     "name": "stdout",
     "output_type": "stream",
     "text": [
      "accuracy: 0.577387021871567\n",
      "f1_weighted: 0.6191194212409256\n",
      "confusion matrix:\n",
      "[[29  2  0  0  0]\n",
      " [ 2 21  6  1  2]\n",
      " [ 0  0  9  3  5]\n",
      " [ 0  0 13  6  0]\n",
      " [ 4  6  0  1  9]]\n",
      "==========subject K328==========\n",
      "[82 10 11 10 12] [129  17  23  22  24]\n"
     ]
    },
    {
     "name": "stderr",
     "output_type": "stream",
     "text": [
      "subject:  32%|███▏      | 19/60 [00:06<00:13,  2.99it/s]"
     ]
    },
    {
     "name": "stdout",
     "output_type": "stream",
     "text": [
      "accuracy: 0.6441149885820676\n",
      "f1_weighted: 0.7869512788825225\n",
      "confusion matrix:\n",
      "[[127   1   0   0   1]\n",
      " [  3  14   0   0   0]\n",
      " [  4  11   4   4   0]\n",
      " [  6   8   0   8   0]\n",
      " [  1   0   0   2  21]]\n",
      "==========subject K329==========\n",
      "[69 12  9  9 10] [47 17 17 19 19]\n"
     ]
    },
    {
     "name": "stderr",
     "output_type": "stream",
     "text": [
      "subject:  33%|███▎      | 20/60 [00:07<00:13,  3.06it/s]"
     ]
    },
    {
     "name": "stdout",
     "output_type": "stream",
     "text": [
      "accuracy: 0.48730650154798755\n",
      "f1_weighted: 0.5780189518418145\n",
      "confusion matrix:\n",
      "[[47  0  0  0  0]\n",
      " [ 2  9  4  2  0]\n",
      " [15  0  2  0  0]\n",
      " [ 3  0  5 11  0]\n",
      " [ 2  0  4  9  4]]\n",
      "==========subject K330==========\n",
      "[36  8  9  8 10] [42 19 19 17 17]\n"
     ]
    },
    {
     "name": "stderr",
     "output_type": "stream",
     "text": [
      "subject:  35%|███▌      | 21/60 [00:07<00:11,  3.35it/s]"
     ]
    },
    {
     "name": "stdout",
     "output_type": "stream",
     "text": [
      "accuracy: 0.38195488721804505\n",
      "f1_weighted: 0.45681029378076876\n",
      "confusion matrix:\n",
      "[[36  0  4  2  0]\n",
      " [ 0 10  8  1  0]\n",
      " [ 1  4 10  4  0]\n",
      " [ 9  8  0  0  0]\n",
      " [ 0  0  4 13  0]]\n",
      "==========subject K331==========\n",
      "[53 10  9 10  9] [38 18 19 17 22]\n"
     ]
    },
    {
     "name": "stderr",
     "output_type": "stream",
     "text": [
      "subject:  37%|███▋      | 22/60 [00:07<00:11,  3.45it/s]"
     ]
    },
    {
     "name": "stdout",
     "output_type": "stream",
     "text": [
      "accuracy: 0.4672702254745598\n",
      "f1_weighted: 0.48447592914858634\n",
      "confusion matrix:\n",
      "[[36  0  2  0  0]\n",
      " [ 0 13  5  0  0]\n",
      " [ 2 15  2  0  0]\n",
      " [ 0  9  0  8  0]\n",
      " [ 6  0  0 14  2]]\n",
      "==========subject K332==========\n",
      "[81  9  9  8  8] [83 19 24 18 18]\n"
     ]
    },
    {
     "name": "stderr",
     "output_type": "stream",
     "text": [
      "subject:  38%|███▊      | 23/60 [00:08<00:11,  3.20it/s]"
     ]
    },
    {
     "name": "stdout",
     "output_type": "stream",
     "text": [
      "accuracy: 0.5333333333333333\n",
      "f1_weighted: 0.690864497331772\n",
      "confusion matrix:\n",
      "[[83  0  0  0  0]\n",
      " [ 1  0  8 10  0]\n",
      " [ 0  0 16  8  0]\n",
      " [ 1  2  4 11  0]\n",
      " [ 3  0  7  1  7]]\n",
      "==========subject K333==========\n",
      "[69  9  9  8  9] [20 20 18 18 18]\n"
     ]
    },
    {
     "name": "stderr",
     "output_type": "stream",
     "text": [
      "subject:  40%|████      | 24/60 [00:08<00:11,  3.17it/s]"
     ]
    },
    {
     "name": "stdout",
     "output_type": "stream",
     "text": [
      "accuracy: 0.45111111111111113\n",
      "f1_weighted: 0.41462355270468554\n",
      "confusion matrix:\n",
      "[[20  0  0  0  0]\n",
      " [ 2 14  2  2  0]\n",
      " [ 0 13  0  5  0]\n",
      " [ 0  2  7  9  0]\n",
      " [ 0 13  2  2  1]]\n",
      "==========subject K334==========\n",
      "[45 10 12 11 10] [17 30 23 25 28]\n"
     ]
    },
    {
     "name": "stderr",
     "output_type": "stream",
     "text": [
      "subject:  42%|████▏     | 25/60 [00:08<00:10,  3.36it/s]"
     ]
    },
    {
     "name": "stdout",
     "output_type": "stream",
     "text": [
      "accuracy: 0.23179198635976128\n",
      "f1_weighted: 0.17236972454885288\n",
      "confusion matrix:\n",
      "[[10  3  0  4  0]\n",
      " [ 7  7 16  0  0]\n",
      " [ 5  9  5  4  0]\n",
      " [ 8  0 14  3  0]\n",
      " [14  0  8  6  0]]\n",
      "==========subject K335==========\n",
      "[50 12 10 10 17] [ 9 24 24 21 22]\n"
     ]
    },
    {
     "name": "stderr",
     "output_type": "stream",
     "text": [
      "subject:  43%|████▎     | 26/60 [00:08<00:09,  3.44it/s]"
     ]
    },
    {
     "name": "stdout",
     "output_type": "stream",
     "text": [
      "accuracy: 0.566017316017316\n",
      "f1_weighted: 0.5065395899739206\n",
      "confusion matrix:\n",
      "[[ 9  0  0  0  0]\n",
      " [ 1 16  4  0  3]\n",
      " [ 7  5 10  2  0]\n",
      " [ 1  6  5  9  0]\n",
      " [ 2  0 13  0  7]]\n",
      "==========subject K336==========\n",
      "[51 12 14 12 11] [22 26 22 25 23]\n"
     ]
    },
    {
     "name": "stderr",
     "output_type": "stream",
     "text": [
      "subject:  45%|████▌     | 27/60 [00:09<00:09,  3.53it/s]"
     ]
    },
    {
     "name": "stdout",
     "output_type": "stream",
     "text": [
      "accuracy: 0.6923271511097597\n",
      "f1_weighted: 0.682129414777396\n",
      "confusion matrix:\n",
      "[[22  0  0  0  0]\n",
      " [ 2 18  2  4  0]\n",
      " [ 0 10 10  2  0]\n",
      " [ 0  1  2 22  0]\n",
      " [ 2  2  0  9 10]]\n",
      "==========subject K337==========\n",
      "[57 11 11 13 12] [57 23 24 24 24]\n"
     ]
    },
    {
     "name": "stderr",
     "output_type": "stream",
     "text": [
      "subject:  47%|████▋     | 28/60 [00:09<00:09,  3.51it/s]"
     ]
    },
    {
     "name": "stdout",
     "output_type": "stream",
     "text": [
      "accuracy: 0.7661708619374524\n",
      "f1_weighted: 0.8064403208533332\n",
      "confusion matrix:\n",
      "[[55  2  0  0  0]\n",
      " [ 0 18  5  0  0]\n",
      " [ 0  0 19  5  0]\n",
      " [ 0  0  4 20  0]\n",
      " [ 4  0  6  3 11]]\n",
      "==========subject K338==========\n",
      "[124  11  12  10   9] [249  24  39  26  23]\n"
     ]
    },
    {
     "name": "stderr",
     "output_type": "stream",
     "text": [
      "subject:  48%|████▊     | 29/60 [00:09<00:10,  2.86it/s]"
     ]
    },
    {
     "name": "stdout",
     "output_type": "stream",
     "text": [
      "accuracy: 0.6969543726746451\n",
      "f1_weighted: 0.8625374896821398\n",
      "confusion matrix:\n",
      "[[245   0   1   3   0]\n",
      " [  4  18   0   0   2]\n",
      " [ 13   2  24   0   0]\n",
      " [  0   0   0  25   1]\n",
      " [  1   0   0  18   4]]\n",
      "==========subject K339==========\n",
      "[83 11  9 12 12] [206  22  22  25  22]\n"
     ]
    },
    {
     "name": "stderr",
     "output_type": "stream",
     "text": [
      "subject:  50%|█████     | 30/60 [00:10<00:10,  2.75it/s]"
     ]
    },
    {
     "name": "stdout",
     "output_type": "stream",
     "text": [
      "accuracy: 0.6810909090909091\n",
      "f1_weighted: 0.8694037207814319\n",
      "confusion matrix:\n",
      "[[206   0   0   0   0]\n",
      " [  1  14   7   0   0]\n",
      " [  2   2  15   3   0]\n",
      " [  4   1   4   9   7]\n",
      " [  0   0   0   6  16]]\n",
      "==========subject K340==========\n",
      "[75 13  9 10 12] [181  26  26  24  24]\n"
     ]
    },
    {
     "name": "stderr",
     "output_type": "stream",
     "text": [
      "subject:  52%|█████▏    | 31/60 [00:10<00:10,  2.70it/s]"
     ]
    },
    {
     "name": "stdout",
     "output_type": "stream",
     "text": [
      "accuracy: 0.38499433347499645\n",
      "f1_weighted: 0.6655953866702878\n",
      "confusion matrix:\n",
      "[[168   5   7   1   0]\n",
      " [ 13   7   6   0   0]\n",
      " [  9  10   7   0   0]\n",
      " [  2   9   5   2   6]\n",
      " [  8   6   1   0   9]]\n",
      "==========subject K342==========\n",
      "[89  8  7  9  7] [192  18  17  17  17]\n"
     ]
    },
    {
     "name": "stderr",
     "output_type": "stream",
     "text": [
      "subject:  53%|█████▎    | 32/60 [00:11<00:10,  2.73it/s]"
     ]
    },
    {
     "name": "stdout",
     "output_type": "stream",
     "text": [
      "accuracy: 0.29150326797385623\n",
      "f1_weighted: 0.7187324886857166\n",
      "confusion matrix:\n",
      "[[192   0   0   0   0]\n",
      " [  8   4   5   1   0]\n",
      " [  5   0   0   5   7]\n",
      " [  7   5   0   1   4]\n",
      " [ 11   0   1   2   3]]\n",
      "==========subject K343==========\n",
      "[83  8  8  9  8] [171  15  16  16  16]\n"
     ]
    },
    {
     "name": "stderr",
     "output_type": "stream",
     "text": [
      "subject:  55%|█████▌    | 33/60 [00:11<00:09,  2.78it/s]"
     ]
    },
    {
     "name": "stdout",
     "output_type": "stream",
     "text": [
      "accuracy: 0.5004970760233919\n",
      "f1_weighted: 0.8251365204337697\n",
      "confusion matrix:\n",
      "[[170   0   1   0   0]\n",
      " [  0   2   7   3   3]\n",
      " [  0   2   9   5   0]\n",
      " [  0   5   2   9   0]\n",
      " [  2   6   0   4   4]]\n",
      "==========subject K344==========\n",
      "[86  8  9 10  7] [175  17  18  19  16]\n"
     ]
    },
    {
     "name": "stderr",
     "output_type": "stream",
     "text": [
      "subject:  57%|█████▋    | 34/60 [00:11<00:09,  2.79it/s]"
     ]
    },
    {
     "name": "stdout",
     "output_type": "stream",
     "text": [
      "accuracy: 0.37097523219814244\n",
      "f1_weighted: 0.7126844578231666\n",
      "confusion matrix:\n",
      "[[175   0   0   0   0]\n",
      " [ 16   1   0   0   0]\n",
      " [ 16   0   0   2   0]\n",
      " [ 11   0   0   8   0]\n",
      " [  6   0   4   0   6]]\n",
      "==========subject K350==========\n",
      "[57 12 11 11 11] [36 26 19 27 21]\n"
     ]
    },
    {
     "name": "stderr",
     "output_type": "stream",
     "text": [
      "subject:  58%|█████▊    | 35/60 [00:12<00:08,  2.98it/s]"
     ]
    },
    {
     "name": "stdout",
     "output_type": "stream",
     "text": [
      "accuracy: 0.4526797763639869\n",
      "f1_weighted: 0.427634476866343\n",
      "confusion matrix:\n",
      "[[33  0  0  2  1]\n",
      " [ 0  1  9 16  0]\n",
      " [ 0  1 14  4  0]\n",
      " [17  0  0  9  1]\n",
      " [ 1  3  6  6  5]]\n",
      "==========subject K351==========\n",
      "[42 13 13 11 10] [15 21 24 21 25]\n"
     ]
    },
    {
     "name": "stderr",
     "output_type": "stream",
     "text": [
      "subject:  60%|██████    | 36/60 [00:12<00:07,  3.27it/s]"
     ]
    },
    {
     "name": "stdout",
     "output_type": "stream",
     "text": [
      "accuracy: 0.47457142857142853\n",
      "f1_weighted: 0.43712566028114264\n",
      "confusion matrix:\n",
      "[[15  0  0  0  0]\n",
      " [ 0 10 11  0  0]\n",
      " [ 2 12 10  0  0]\n",
      " [ 0 15  6  0  0]\n",
      " [ 0  2  2  9 12]]\n",
      "==========subject K352==========\n",
      "[42 11 11 14 14] [ 6 30 25 23 30]\n"
     ]
    },
    {
     "name": "stderr",
     "output_type": "stream",
     "text": [
      "subject:  62%|██████▏   | 37/60 [00:12<00:06,  3.47it/s]"
     ]
    },
    {
     "name": "stdout",
     "output_type": "stream",
     "text": [
      "accuracy: 0.5108985507246376\n",
      "f1_weighted: 0.3842096788421661\n",
      "confusion matrix:\n",
      "[[ 6  0  0  0  0]\n",
      " [ 0 26  3  1  0]\n",
      " [ 0  9  6  9  1]\n",
      " [ 1  4 10  8  0]\n",
      " [ 5  3  3 16  3]]\n",
      "==========subject K353==========\n",
      "[45 10 13 13 10] [ 7 22 22 24 19]\n"
     ]
    },
    {
     "name": "stderr",
     "output_type": "stream",
     "text": [
      "subject:  63%|██████▎   | 38/60 [00:12<00:06,  3.55it/s]"
     ]
    },
    {
     "name": "stdout",
     "output_type": "stream",
     "text": [
      "accuracy: 0.5056960583276373\n",
      "f1_weighted: 0.4669578200821202\n",
      "confusion matrix:\n",
      "[[ 5  0  0  2  0]\n",
      " [ 1 13  2  6  0]\n",
      " [ 0 10  8  3  1]\n",
      " [ 4  0  6  8  6]\n",
      " [ 2  0  0  7 10]]\n",
      "==========subject K354==========\n",
      "[45  9  9  8 11] [15 18 19 24 21]\n"
     ]
    },
    {
     "name": "stderr",
     "output_type": "stream",
     "text": [
      "subject:  65%|██████▌   | 39/60 [00:13<00:05,  3.78it/s]"
     ]
    },
    {
     "name": "stdout",
     "output_type": "stream",
     "text": [
      "accuracy: 0.5383458646616541\n",
      "f1_weighted: 0.42648081971815716\n",
      "confusion matrix:\n",
      "[[15  0  0  0  0]\n",
      " [ 0 18  0  0  0]\n",
      " [ 0 10  5  4  0]\n",
      " [ 4 16  2  0  2]\n",
      " [ 1  7  0  4  9]]\n",
      "==========subject K355==========\n",
      "[101   9  12  10  10] [142  19  17  21  17]\n"
     ]
    },
    {
     "name": "stderr",
     "output_type": "stream",
     "text": [
      "subject:  67%|██████▋   | 40/60 [00:13<00:06,  3.28it/s]"
     ]
    },
    {
     "name": "stdout",
     "output_type": "stream",
     "text": [
      "accuracy: 0.5235763393570919\n",
      "f1_weighted: 0.7351878956454121\n",
      "confusion matrix:\n",
      "[[133   0   0   8   1]\n",
      " [  1  18   0   0   0]\n",
      " [  9   0   4   4   0]\n",
      " [ 13   0   0   8   0]\n",
      " [  8   0   0   7   2]]\n",
      "==========subject K356==========\n",
      "[48 11  8 10  8] [16 18 20 20 21]\n"
     ]
    },
    {
     "name": "stderr",
     "output_type": "stream",
     "text": [
      "subject:  68%|██████▊   | 41/60 [00:13<00:05,  3.59it/s]"
     ]
    },
    {
     "name": "stdout",
     "output_type": "stream",
     "text": [
      "accuracy: 0.39976190476190476\n",
      "f1_weighted: 0.3620460458390821\n",
      "confusion matrix:\n",
      "[[14  0  2  0  0]\n",
      " [ 0  6  8  3  1]\n",
      " [ 0  3 11  3  3]\n",
      " [ 0 10  7  1  2]\n",
      " [ 0  3 13  1  4]]\n",
      "==========subject K357==========\n",
      "[62 10 11 10  9] [125  19  19  18  18]\n"
     ]
    },
    {
     "name": "stderr",
     "output_type": "stream",
     "text": [
      "subject:  70%|███████   | 42/60 [00:13<00:05,  3.48it/s]"
     ]
    },
    {
     "name": "stdout",
     "output_type": "stream",
     "text": [
      "accuracy: 0.5014549707602339\n",
      "f1_weighted: 0.6808251481645186\n",
      "confusion matrix:\n",
      "[[108   0   9   4   4]\n",
      " [  9   7   2   1   0]\n",
      " [  6   4   1   7   1]\n",
      " [  6   0   0  11   1]\n",
      " [  2   0   0   5  11]]\n",
      "==========subject K358==========\n",
      "[75 10 11  8 11] [125  16  18  19  19]\n"
     ]
    },
    {
     "name": "stderr",
     "output_type": "stream",
     "text": [
      "subject:  72%|███████▏  | 43/60 [00:14<00:05,  3.32it/s]"
     ]
    },
    {
     "name": "stdout",
     "output_type": "stream",
     "text": [
      "accuracy: 0.7468730994152046\n",
      "f1_weighted: 0.858655155466525\n",
      "confusion matrix:\n",
      "[[123   2   0   0   0]\n",
      " [  1  15   0   0   0]\n",
      " [  4   6   8   0   0]\n",
      " [  2   0   1   7   9]\n",
      " [  0   0   0   0  19]]\n",
      "==========subject K359==========\n",
      "[75 10 10 11  7] [127  17  17  19  20]\n"
     ]
    },
    {
     "name": "stderr",
     "output_type": "stream",
     "text": [
      "subject:  73%|███████▎  | 44/60 [00:14<00:05,  3.18it/s]"
     ]
    },
    {
     "name": "stdout",
     "output_type": "stream",
     "text": [
      "accuracy: 0.8338163379732333\n",
      "f1_weighted: 0.9129527870116105\n",
      "confusion matrix:\n",
      "[[125   1   0   0   1]\n",
      " [  0  14   2   0   1]\n",
      " [  1   1  15   0   0]\n",
      " [  1   1   2  11   4]\n",
      " [  1   0   1   0  18]]\n",
      "==========subject K360==========\n",
      "[63 10 12 13 11] [136  23  27  24  23]\n"
     ]
    },
    {
     "name": "stderr",
     "output_type": "stream",
     "text": [
      "subject:  75%|███████▌  | 45/60 [00:14<00:04,  3.11it/s]"
     ]
    },
    {
     "name": "stdout",
     "output_type": "stream",
     "text": [
      "accuracy: 0.36992516813488685\n",
      "f1_weighted: 0.6181205952992346\n",
      "confusion matrix:\n",
      "[[134   0   2   0   0]\n",
      " [  8   1   5   9   0]\n",
      " [  7  12   7   0   1]\n",
      " [ 14   1   3   2   4]\n",
      " [  6   0   6   0  11]]\n",
      "==========subject K361==========\n",
      "[72 11 11 12 11] [108  23  25  21  21]\n"
     ]
    },
    {
     "name": "stderr",
     "output_type": "stream",
     "text": [
      "subject:  77%|███████▋  | 46/60 [00:15<00:04,  3.06it/s]"
     ]
    },
    {
     "name": "stdout",
     "output_type": "stream",
     "text": [
      "accuracy: 0.7359664136185875\n",
      "f1_weighted: 0.8267053537563718\n",
      "confusion matrix:\n",
      "[[103   0   4   1   0]\n",
      " [  7  16   0   0   0]\n",
      " [  4   0  21   0   0]\n",
      " [  0   0   4  16   1]\n",
      " [  3   0   0   9   9]]\n",
      "==========subject K362==========\n",
      "[65 12 12 10 11] [133  21  26  25  23]\n"
     ]
    },
    {
     "name": "stderr",
     "output_type": "stream",
     "text": [
      "subject:  78%|███████▊  | 47/60 [00:15<00:04,  3.03it/s]"
     ]
    },
    {
     "name": "stdout",
     "output_type": "stream",
     "text": [
      "accuracy: 0.6796923076923076\n",
      "f1_weighted: 0.7672126498805003\n",
      "confusion matrix:\n",
      "[[133   0   0   0   0]\n",
      " [  0  21   0   0   0]\n",
      " [ 10   9   1   6   0]\n",
      " [ 13   3   0   9   0]\n",
      " [  0   0   0   0  23]]\n",
      "==========subject K363==========\n",
      "[40  8 10  9  9] [13 17 18 21 20]\n"
     ]
    },
    {
     "name": "stderr",
     "output_type": "stream",
     "text": [
      "subject:  80%|████████  | 48/60 [00:15<00:03,  3.39it/s]"
     ]
    },
    {
     "name": "stdout",
     "output_type": "stream",
     "text": [
      "accuracy: 0.3349824032176973\n",
      "f1_weighted: 0.231296825932183\n",
      "confusion matrix:\n",
      "[[11  2  0  0  0]\n",
      " [ 9  2  0  6  0]\n",
      " [ 6  1  2  0  9]\n",
      " [ 4  1  0  0 16]\n",
      " [ 8  0  0  0 12]]\n",
      "==========subject K364==========\n",
      "[58 13 11 13 12] [144  21  28  23  24]\n"
     ]
    },
    {
     "name": "stderr",
     "output_type": "stream",
     "text": [
      "subject:  82%|████████▏ | 49/60 [00:16<00:03,  3.24it/s]"
     ]
    },
    {
     "name": "stdout",
     "output_type": "stream",
     "text": [
      "accuracy: 0.5151742581090407\n",
      "f1_weighted: 0.7249041746571767\n",
      "confusion matrix:\n",
      "[[143   0   1   0   0]\n",
      " [  8   8   5   0   0]\n",
      " [  2   3  23   0   0]\n",
      " [  5   2  11   3   2]\n",
      " [  7   1   5   5   6]]\n",
      "==========subject K365==========\n",
      "[44  8  8  8  8] [ 3 17 17 18 17]\n"
     ]
    },
    {
     "name": "stderr",
     "output_type": "stream",
     "text": [
      "subject:  83%|████████▎ | 50/60 [00:16<00:02,  3.58it/s]"
     ]
    },
    {
     "name": "stdout",
     "output_type": "stream",
     "text": [
      "accuracy: 0.6189542483660131\n",
      "f1_weighted: 0.5115091002187776\n",
      "confusion matrix:\n",
      "[[ 3  0  0  0  0]\n",
      " [ 0 14  2  1  0]\n",
      " [ 0 14  2  1  0]\n",
      " [ 5  4  1  7  1]\n",
      " [ 0  0  0  4 13]]\n",
      "==========subject K366==========\n",
      "[61 14 11 11 12] [144  23  20  20  26]\n"
     ]
    },
    {
     "name": "stderr",
     "output_type": "stream",
     "text": [
      "subject:  85%|████████▌ | 51/60 [00:16<00:02,  3.41it/s]"
     ]
    },
    {
     "name": "stdout",
     "output_type": "stream",
     "text": [
      "accuracy: 0.8319871794871794\n",
      "f1_weighted: 0.9110317519700218\n",
      "confusion matrix:\n",
      "[[141   0   3   0   0]\n",
      " [  0  23   0   0   0]\n",
      " [  0   7  13   0   0]\n",
      " [  0   3   1  16   0]\n",
      " [  0   0   0   7  19]]\n",
      "==========subject K367==========\n",
      "[41  9  8  8  8] [ 3 16 15 16 21]\n"
     ]
    },
    {
     "name": "stderr",
     "output_type": "stream",
     "text": [
      "subject:  87%|████████▋ | 52/60 [00:16<00:02,  3.68it/s]"
     ]
    },
    {
     "name": "stdout",
     "output_type": "stream",
     "text": [
      "accuracy: 0.5453571428571429\n",
      "f1_weighted: 0.39141515761234075\n",
      "confusion matrix:\n",
      "[[ 3  0  0  0  0]\n",
      " [ 0 13  3  0  0]\n",
      " [ 0  7  8  0  0]\n",
      " [ 5  4  0  0  7]\n",
      " [ 4  0  9  0  8]]\n",
      "==========subject K368==========\n",
      "[54 13 13 13 10] [123  21  26  23  27]\n"
     ]
    },
    {
     "name": "stderr",
     "output_type": "stream",
     "text": [
      "subject:  88%|████████▊ | 53/60 [00:17<00:01,  3.53it/s]"
     ]
    },
    {
     "name": "stdout",
     "output_type": "stream",
     "text": [
      "accuracy: 0.8150561233275972\n",
      "f1_weighted: 0.8876061537123211\n",
      "confusion matrix:\n",
      "[[120   2   0   1   0]\n",
      " [  1  19   1   0   0]\n",
      " [  0   7  17   2   0]\n",
      " [  4   4   0  15   0]\n",
      " [  0   0   0   3  24]]\n",
      "==========subject K369==========\n",
      "[61 10 10 11 10] [112  21  20  21  20]\n"
     ]
    },
    {
     "name": "stderr",
     "output_type": "stream",
     "text": [
      "subject:  90%|█████████ | 54/60 [00:17<00:01,  3.45it/s]"
     ]
    },
    {
     "name": "stdout",
     "output_type": "stream",
     "text": [
      "accuracy: 0.7819047619047619\n",
      "f1_weighted: 0.8690111463334759\n",
      "confusion matrix:\n",
      "[[112   0   0   0   0]\n",
      " [  1  19   0   1   0]\n",
      " [  3   5   5   7   0]\n",
      " [  0   2   0  19   0]\n",
      " [  3   0   0   0  17]]\n",
      "==========subject K370==========\n",
      "[63 12 11 11  9] [134  24  22  20  20]\n"
     ]
    },
    {
     "name": "stderr",
     "output_type": "stream",
     "text": [
      "subject:  92%|█████████▏| 55/60 [00:17<00:01,  3.32it/s]"
     ]
    },
    {
     "name": "stdout",
     "output_type": "stream",
     "text": [
      "accuracy: 0.7317571234735414\n",
      "f1_weighted: 0.8423175321152535\n",
      "confusion matrix:\n",
      "[[130   2   0   1   1]\n",
      " [  1  21   2   0   0]\n",
      " [  3   8   8   2   1]\n",
      " [  6   0   1  11   2]\n",
      " [  2   0   0   0  18]]\n",
      "==========subject K371==========\n",
      "[62 11  8 11 10] [111  24  24  25  21]\n"
     ]
    },
    {
     "name": "stderr",
     "output_type": "stream",
     "text": [
      "subject:  93%|█████████▎| 56/60 [00:18<00:01,  3.30it/s]"
     ]
    },
    {
     "name": "stdout",
     "output_type": "stream",
     "text": [
      "accuracy: 0.5151737451737451\n",
      "f1_weighted: 0.690272871260094\n",
      "confusion matrix:\n",
      "[[107   1   0   2   1]\n",
      " [  0  17   1   4   2]\n",
      " [  0   7   5  12   0]\n",
      " [  2   6   0  15   2]\n",
      " [  6   0   0  13   2]]\n",
      "==========subject K372==========\n",
      "[59  8 10 13  9] [107  22  21  20  21]\n"
     ]
    },
    {
     "name": "stderr",
     "output_type": "stream",
     "text": [
      "subject:  95%|█████████▌| 57/60 [00:18<00:00,  3.33it/s]"
     ]
    },
    {
     "name": "stdout",
     "output_type": "stream",
     "text": [
      "accuracy: 0.5573593073593074\n",
      "f1_weighted: 0.7532545262836199\n",
      "confusion matrix:\n",
      "[[107   0   0   0   0]\n",
      " [  1  16   4   1   0]\n",
      " [  0   9  10   2   0]\n",
      " [  0  10   5   5   0]\n",
      " [  2   0   0  12   7]]\n",
      "==========subject K373==========\n",
      "[59 11  9 10 11] [112  22  24  18  19]\n"
     ]
    },
    {
     "name": "stderr",
     "output_type": "stream",
     "text": [
      "subject:  97%|█████████▋| 58/60 [00:18<00:00,  3.32it/s]"
     ]
    },
    {
     "name": "stdout",
     "output_type": "stream",
     "text": [
      "accuracy: 0.6285837700311385\n",
      "f1_weighted: 0.7966506300817141\n",
      "confusion matrix:\n",
      "[[111   1   0   0   0]\n",
      " [  0  15   3   4   0]\n",
      " [  0  11   7   6   0]\n",
      " [  0   3   8   7   0]\n",
      " [  0   1   0   3  15]]\n",
      "==========subject K374==========\n",
      "[59 10 11 12 10] [119  23  21  22  20]\n"
     ]
    },
    {
     "name": "stderr",
     "output_type": "stream",
     "text": [
      "subject:  98%|█████████▊| 59/60 [00:19<00:00,  3.31it/s]"
     ]
    },
    {
     "name": "stdout",
     "output_type": "stream",
     "text": [
      "accuracy: 0.5536590604621295\n",
      "f1_weighted: 0.7365373742975927\n",
      "confusion matrix:\n",
      "[[118   0   1   0   0]\n",
      " [  2   5  11   5   0]\n",
      " [  2   0  19   0   0]\n",
      " [  1   1  10  10   0]\n",
      " [  2   3   0  11   4]]\n",
      "==========subject K375==========\n",
      "[59 11 12  9 12] [84 21 21 22 24]\n"
     ]
    },
    {
     "name": "stderr",
     "output_type": "stream",
     "text": [
      "subject: 100%|██████████| 60/60 [00:19<00:00,  3.09it/s]"
     ]
    },
    {
     "name": "stdout",
     "output_type": "stream",
     "text": [
      "accuracy: 0.4625541125541125\n",
      "f1_weighted: 0.5686394012296178\n",
      "confusion matrix:\n",
      "[[81  1  0  1  1]\n",
      " [11 10  0  0  0]\n",
      " [13  3  4  1  0]\n",
      " [ 6  1  0 15  0]\n",
      " [ 5  0  0 19  0]]\n"
     ]
    },
    {
     "name": "stderr",
     "output_type": "stream",
     "text": [
      "\n"
     ]
    }
   ],
   "source": [
    "train_trials = {\n",
    "    \"rest\": [0, 1],\n",
    "    \"nâng chân trái\": [0],\n",
    "    \"nâng chân phải\": [0],\n",
    "    \"nâng tay trái\": [0],\n",
    "    \"nâng tay phải\": [0],\n",
    "}\n",
    "\n",
    "# valid_trials = {\n",
    "#     \"rest\": [2, 3],\n",
    "#     \"nâng chân trái\": [1],\n",
    "#     \"nâng chân phải\": [1],\n",
    "#     \"nâng tay trái\": [1],\n",
    "#     \"nâng tay phải\": [1],\n",
    "# }\n",
    "\n",
    "# test_trials = {\n",
    "#     \"rest\": [4, 5],\n",
    "#     \"nâng chân trái\": [2],\n",
    "#     \"nâng chân phải\": [2],\n",
    "#     \"nâng tay trái\": [2],\n",
    "#     \"nâng tay phải\": [2],\n",
    "# }\n",
    "\n",
    "test_subjects = {\n",
    "    'K300', 'K309', 'K310', 'K311', 'K312', \n",
    "    'K313', 'K314', 'K315', 'K316', 'K319', \n",
    "    'K320', 'K321', 'K322', 'K323', 'K324', \n",
    "    'K325', 'K326', 'K327', 'K328', 'K329', \n",
    "    'K330', 'K331', 'K332', 'K333', 'K334', \n",
    "    'K335', 'K336', 'K337', 'K338', 'K339', \n",
    "    'K340', 'K342', 'K343', 'K344', 'K350', \n",
    "    'K351', 'K352', 'K353', 'K354', 'K355', \n",
    "    'K356', 'K357', 'K358', 'K359', 'K360', \n",
    "    'K361', 'K362', 'K363', 'K364', 'K365', \n",
    "    'K366', 'K367', 'K368', 'K369', 'K370', \n",
    "    'K371', 'K372', 'K373', 'K374', 'K375',\n",
    "}\n",
    "\n",
    "test_subjects = sorted(list(test_subjects))\n",
    "# test_subjects = [\"K313\"]\n",
    "\n",
    "test_acc = list()\n",
    "test_f1 = list()\n",
    "for subject in tqdm(test_subjects, desc=\"subject\"):\n",
    "    print(f\"==========subject {subject}==========\")\n",
    "    \n",
    "    # init data\n",
    "    # intra-subject\n",
    "    Xtrain = list()\n",
    "    Ytrain = list()\n",
    "    Xtest = list()\n",
    "    Ytest = list()\n",
    "    for i, r in ds_info[ds_info[\"subject\"] == subject].iterrows():\n",
    "        x = ds.datasets[i].windows.get_data()\n",
    "        y = ds.datasets[i].y\n",
    "        if r[\"trial\"] in train_trials[r[\"label\"]] or r[\"event\"] == \"Thinking and Acting\":\n",
    "            Xtrain.append(x)\n",
    "            Ytrain.extend(y)\n",
    "        else:\n",
    "            Xtest.append(x)\n",
    "            Ytest.extend(y)\n",
    "            \n",
    "    Xtrain = np.concatenate(Xtrain, axis=0)\n",
    "    Ytrain = np.array(Ytrain, dtype=int)\n",
    "    Xtest = np.concatenate(Xtest, axis=0)\n",
    "    Ytest = np.array(Ytest, dtype=int)\n",
    "    \n",
    "    # EA\n",
    "#     Xtrain = list()\n",
    "#     Ytrain = list()\n",
    "#     Xtest = list()\n",
    "#     Ytest = list()\n",
    "#     for subj in ds_info[\"subject\"].unique():\n",
    "#         if subj == \"K318\":\n",
    "#             continue\n",
    "#         if subj not in test_subjects:\n",
    "#             continue\n",
    "            \n",
    "#         Xsub = list()\n",
    "#         Ysub = list()\n",
    "#         for i, r in ds_info[ds_info[\"subject\"] == subj].iterrows():\n",
    "#             x = ds.datasets[i].windows.get_data()\n",
    "#             y = ds.datasets[i].y\n",
    "#             # x = ds_ea.datasets[i].windows.get_data()\n",
    "#             # y = ds_ea.datasets[i].y\n",
    "#             Xsub.append(x)\n",
    "#             Ysub.extend(y)\n",
    "        \n",
    "#         Xsub = np.concatenate(Xsub, axis=0)\n",
    "#         Ysub = np.array(Ysub, dtype=int)\n",
    "        \n",
    "#         if subj != subject:\n",
    "#             Xtrain.append(Xsub)\n",
    "#             Ytrain.append(Ysub)\n",
    "#         else:\n",
    "#             Xtest.append(Xsub)\n",
    "#             Ytest.append(Ysub)\n",
    "            \n",
    "#     Xtrain = np.concatenate(Xtrain, axis=0)\n",
    "#     Ytrain = np.concatenate(Ytrain, axis=0)\n",
    "#     Xtest = np.concatenate(Xtest, axis=0)\n",
    "#     Ytest = np.concatenate(Ytest, axis=0)\n",
    "    \n",
    "    # LA\n",
    "#     DXtrain = defaultdict(list)\n",
    "#     DYtrain = defaultdict(list)\n",
    "#     DXtest = defaultdict(list)\n",
    "#     DYtest = defaultdict(list)\n",
    "#     for subj in ds_info[\"subject\"].unique():\n",
    "#         if subj == \"K318\":\n",
    "#             continue\n",
    "            \n",
    "#         for i, r in ds_info[ds_info[\"subject\"] == subj].iterrows():\n",
    "#             x = ds.datasets[i].windows.get_data()\n",
    "#             y = ds.datasets[i].y\n",
    "#             if subj == subject:\n",
    "#                 if r[\"trial\"] in train_trials[r[\"label\"]]:\n",
    "#                     DXtrain[subj].append(x)\n",
    "#                     DYtrain[subj].extend(y)\n",
    "#                 else:\n",
    "#                     DXtest[subj].append(x)\n",
    "#                     DYtest[subj].extend(y)\n",
    "#             else:\n",
    "#                 DXtrain[subj].append(x)\n",
    "#                 DYtrain[subj].extend(y)\n",
    "                \n",
    "#     for k, v in DXtrain.items():\n",
    "#         DXtrain[k] = np.concatenate(v, axis=0)\n",
    "#     for k, v in DXtest.items():\n",
    "#         DXtest[k] = np.concatenate(v, axis=0)\n",
    "#     for k, v in DYtrain.items():\n",
    "#         DYtrain[k] = np.array(v, dtype=int)\n",
    "#     for k, v in DYtest.items():\n",
    "#         DYtest[k] = np.array(v, dtype=int)\n",
    "    \n",
    "#     r = np_compute_target_transform_mats(DXtrain[subject], DYtrain[subject])\n",
    "#     for k, v in DXtrain.items():\n",
    "#         if k == subject:\n",
    "#             continue\n",
    "#         DXtrain[k] = np_label_alignment(v, DYtrain[k], r)\n",
    "        \n",
    "#     Xtrain = list()\n",
    "#     Ytrain = list()\n",
    "#     for k, v in DXtrain.items():\n",
    "#         Xtrain.append(v)\n",
    "#         Ytrain.append(DYtrain[k])\n",
    "        \n",
    "#     Xtrain = np.concatenate(Xtrain, axis=0)\n",
    "#     Ytrain = np.concatenate(Ytrain, axis=0)\n",
    "#     Xtest = DXtest[subject]\n",
    "#     Ytest = DYtest[subject]\n",
    "    \n",
    "    print(np.bincount(Ytrain), np.bincount(Ytest))\n",
    "    \n",
    "    # init model\n",
    "    clf = make_pipeline(\n",
    "        Covariances(\"cov\"),\n",
    "        TSclassifier(\n",
    "            metric=\"riemann\",\n",
    "            # clf=SVC(\n",
    "            clf=LinearSVC(\n",
    "                C=1.0,\n",
    "                # kernel=\"rbf\",\n",
    "                tol=1e-7,\n",
    "                max_iter=30000,\n",
    "                class_weight=\"balanced\",\n",
    "                random_state=42,\n",
    "            ),\n",
    "            # clf=LinearDiscriminantAnalysis(\n",
    "            #     solver=\"lsqr\",\n",
    "            #     shrinkage=\"auto\",\n",
    "            #     n_components=None,\n",
    "            #     tol=1e-7,\n",
    "            #     covariance_estimator=None,\n",
    "            # ),\n",
    "        ),\n",
    "    )\n",
    "    \n",
    "    # clf = make_pipeline(\n",
    "    #     mne.decoding.CSP(\n",
    "    #         n_components=8,\n",
    "    #         # reg=\"ledoit_wolf\",\n",
    "    #         log=True,\n",
    "    #         norm_trace=False,\n",
    "    #     ),\n",
    "    #     # SVC(\n",
    "    #     LinearSVC(\n",
    "    #         C=1.0,\n",
    "    #         # kernel=\"rbf\",\n",
    "    #         tol=1e-7,\n",
    "    #         max_iter=30000,\n",
    "    #         class_weight=\"balanced\",\n",
    "    #         random_state=42,\n",
    "    #     ),\n",
    "    #     # OneVsRestClassifier(LinearSVC(C=1.0, tol=1e-7, max_iter=30000, class_weight='balanced', random_state=42), n_jobs=-1),\n",
    "    #     # LinearDiscriminantAnalysis(\n",
    "    #     #     solver=\"lsqr\",\n",
    "    #     #     shrinkage=\"auto\",\n",
    "    #     #     n_components=None,\n",
    "    #     #     tol=1e-7,\n",
    "    #     #     covariance_estimator=None,\n",
    "    #     # ),\n",
    "    # )\n",
    "    \n",
    "    # training\n",
    "    clf.fit(Xtrain, Ytrain)\n",
    "    \n",
    "    # evaluate\n",
    "    Ypred = clf.predict(Xtest)\n",
    "    \n",
    "    acc = metrics.balanced_accuracy_score(Ytest, Ypred)\n",
    "    f1 = metrics.f1_score(Ytest, Ypred, average='weighted')\n",
    "    test_acc.append(acc)\n",
    "    test_f1.append(f1)\n",
    "    print(f\"accuracy: {acc}\")\n",
    "    print(f\"f1_weighted: {f1}\")\n",
    "    print(f\"confusion matrix:\\n{metrics.confusion_matrix(Ytest, Ypred)}\")\n",
    "    \n",
    "    # break"
   ]
  },
  {
   "cell_type": "code",
   "execution_count": 14,
   "id": "3fa08a6d-8b8a-4906-99a2-31924e568a85",
   "metadata": {},
   "outputs": [
    {
     "name": "stdout",
     "output_type": "stream",
     "text": [
      "avg acc: 0.55556036934984\n",
      "avg f1: 0.6526765891154205\n"
     ]
    }
   ],
   "source": [
    "# intra-subject CSP-LinearSVC\n",
    "result = pd.DataFrame({\n",
    "    \"subject\": test_subjects,\n",
    "    \"acc\": test_acc,\n",
    "    \"f1\": test_f1,\n",
    "})\n",
    "print(f\"avg acc: {result['acc'].mean()}\")\n",
    "print(f\"avg f1: {result['f1'].mean()}\")"
   ]
  },
  {
   "cell_type": "code",
   "execution_count": 15,
   "id": "24b9e473-d510-4c0b-a375-d02cf3497400",
   "metadata": {},
   "outputs": [
    {
     "data": {
      "text/plain": [
       "<AxesSubplot:xlabel='subject'>"
      ]
     },
     "execution_count": 15,
     "metadata": {},
     "output_type": "execute_result"
    },
    {
     "data": {
      "image/png": "[encoded data removed]",
      "text/plain": [
       "<Figure size 1440x288 with 2 Axes>"
      ]
     },
     "metadata": {
      "needs_background": "light"
     },
     "output_type": "display_data"
    }
   ],
   "source": [
    "fig, axes = plt.subplots(nrows=1, ncols=2, figsize=(20, 4))\n",
    "result.plot.bar(x=\"subject\", y=\"acc\", ax=axes[0])\n",
    "result.plot.bar(x=\"subject\", y=\"f1\", ax=axes[1])"
   ]
  },
  {
   "cell_type": "code",
   "execution_count": 68,
   "id": "49424ba3-b7f9-4cb6-81f3-38240b8b1dd6",
   "metadata": {},
   "outputs": [
    {
     "name": "stdout",
     "output_type": "stream",
     "text": [
      "avg acc: 0.6079890219506354\n",
      "avg f1: 0.7014710208709531\n"
     ]
    }
   ],
   "source": [
    "# intra-subject Cov-TangentSpace-LinearSVC - skip prefrontal & occipital\n",
    "result = pd.DataFrame({\n",
    "    \"subject\": test_subjects,\n",
    "    \"acc\": test_acc,\n",
    "    \"f1\": test_f1,\n",
    "})\n",
    "print(f\"avg acc: {result['acc'].mean()}\")\n",
    "print(f\"avg f1: {result['f1'].mean()}\")"
   ]
  },
  {
   "cell_type": "code",
   "execution_count": 71,
   "id": "25923ace-4a3c-4c04-8022-8e3ee8261ede",
   "metadata": {},
   "outputs": [
    {
     "name": "stdout",
     "output_type": "stream",
     "text": [
      "avg acc: 0.5903173576858592\n",
      "avg f1: 0.688036506912291\n"
     ]
    }
   ],
   "source": [
    "# intra-subject Cov-TangentSpace-LinearSVC - skip prefrontal & occipital & parietal\n",
    "result = pd.DataFrame({\n",
    "    \"subject\": test_subjects,\n",
    "    \"acc\": test_acc,\n",
    "    \"f1\": test_f1,\n",
    "})\n",
    "print(f\"avg acc: {result['acc'].mean()}\")\n",
    "print(f\"avg f1: {result['f1'].mean()}\")"
   ]
  },
  {
   "cell_type": "code",
   "execution_count": 74,
   "id": "78be71dd-6dd5-4d4c-b9c8-771a5805831d",
   "metadata": {},
   "outputs": [
    {
     "name": "stdout",
     "output_type": "stream",
     "text": [
      "avg acc: 0.5925574908825048\n",
      "avg f1: 0.6866600763321963\n"
     ]
    }
   ],
   "source": [
    "# intra-subject Cov-TangentSpace-LinearSVC - skip prefrontal & occipital & frontal\n",
    "result = pd.DataFrame({\n",
    "    \"subject\": test_subjects,\n",
    "    \"acc\": test_acc,\n",
    "    \"f1\": test_f1,\n",
    "})\n",
    "print(f\"avg acc: {result['acc'].mean()}\")\n",
    "print(f\"avg f1: {result['f1'].mean()}\")"
   ]
  },
  {
   "cell_type": "code",
   "execution_count": 77,
   "id": "b95c7e37-619e-4af7-bc66-75463aabb711",
   "metadata": {},
   "outputs": [
    {
     "name": "stdout",
     "output_type": "stream",
     "text": [
      "avg acc: 0.5695073024196735\n",
      "avg f1: 0.6729643592767108\n"
     ]
    }
   ],
   "source": [
    "# intra-subject Cov-TangentSpace-LinearSVC - skip prefrontal & occipital & frontal & parietal\n",
    "result = pd.DataFrame({\n",
    "    \"subject\": test_subjects,\n",
    "    \"acc\": test_acc,\n",
    "    \"f1\": test_f1,\n",
    "})\n",
    "print(f\"avg acc: {result['acc'].mean()}\")\n",
    "print(f\"avg f1: {result['f1'].mean()}\")"
   ]
  },
  {
   "cell_type": "code",
   "execution_count": 80,
   "id": "fa64563c-4835-4d96-b630-ebf25f720a65",
   "metadata": {},
   "outputs": [
    {
     "name": "stdout",
     "output_type": "stream",
     "text": [
      "avg acc: 0.5425820343330987\n",
      "avg f1: 0.6522064615230193\n"
     ]
    }
   ],
   "source": [
    "# intra-subject Cov-TangentSpace-LinearSVC - skip prefrontal & occipital & frontal & parietal & temporal\n",
    "result = pd.DataFrame({\n",
    "    \"subject\": test_subjects,\n",
    "    \"acc\": test_acc,\n",
    "    \"f1\": test_f1,\n",
    "})\n",
    "print(f\"avg acc: {result['acc'].mean()}\")\n",
    "print(f\"avg f1: {result['f1'].mean()}\")"
   ]
  },
  {
   "cell_type": "code",
   "execution_count": 83,
   "id": "54d28673-da79-4188-820a-74fbccbfadc0",
   "metadata": {},
   "outputs": [
    {
     "name": "stdout",
     "output_type": "stream",
     "text": [
      "avg acc: 0.5227739631190804\n",
      "avg f1: 0.6467795562809827\n"
     ]
    }
   ],
   "source": [
    "# intra-subject Cov-TangentSpace-LinearSVC - frontal only\n",
    "result = pd.DataFrame({\n",
    "    \"subject\": test_subjects,\n",
    "    \"acc\": test_acc,\n",
    "    \"f1\": test_f1,\n",
    "})\n",
    "print(f\"avg acc: {result['acc'].mean()}\")\n",
    "print(f\"avg f1: {result['f1'].mean()}\")"
   ]
  },
  {
   "cell_type": "code",
   "execution_count": 90,
   "id": "459300c6-306e-4829-9587-de1068b1b882",
   "metadata": {},
   "outputs": [
    {
     "name": "stdout",
     "output_type": "stream",
     "text": [
      "avg acc: 0.5312208041176407\n",
      "avg f1: 0.6396584903710456\n"
     ]
    }
   ],
   "source": [
    "# intra-subject Cov-TangentSpace-LinearSVC - parietal only\n",
    "result = pd.DataFrame({\n",
    "    \"subject\": test_subjects,\n",
    "    \"acc\": test_acc,\n",
    "    \"f1\": test_f1,\n",
    "})\n",
    "print(f\"avg acc: {result['acc'].mean()}\")\n",
    "print(f\"avg f1: {result['f1'].mean()}\")"
   ]
  },
  {
   "cell_type": "code",
   "execution_count": 93,
   "id": "8132e949-bdf2-4964-92b9-4241a9fc563f",
   "metadata": {},
   "outputs": [
    {
     "name": "stdout",
     "output_type": "stream",
     "text": [
      "avg acc: 0.5619951417971245\n",
      "avg f1: 0.6647804591778119\n"
     ]
    }
   ],
   "source": [
    "# intra-subject Cov-TangentSpace-LinearSVC - FC & C & T & CP (13 chans)\n",
    "result = pd.DataFrame({\n",
    "    \"subject\": test_subjects,\n",
    "    \"acc\": test_acc,\n",
    "    \"f1\": test_f1,\n",
    "})\n",
    "print(f\"avg acc: {result['acc'].mean()}\")\n",
    "print(f\"avg f1: {result['f1'].mean()}\")"
   ]
  },
  {
   "cell_type": "code",
   "execution_count": 18,
   "id": "1d6f960d-ff8b-45e9-903f-03302c565a3c",
   "metadata": {},
   "outputs": [
    {
     "name": "stdout",
     "output_type": "stream",
     "text": [
      "avg acc: 0.623936318706582\n",
      "avg f1: 0.7149484570665078\n"
     ]
    }
   ],
   "source": [
    "# intra-subject Cov-TangentSpace-LinearSVC\n",
    "result = pd.DataFrame({\n",
    "    \"subject\": test_subjects,\n",
    "    \"acc\": test_acc,\n",
    "    \"f1\": test_f1,\n",
    "})\n",
    "print(f\"avg acc: {result['acc'].mean()}\")\n",
    "print(f\"avg f1: {result['f1'].mean()}\")"
   ]
  },
  {
   "cell_type": "code",
   "execution_count": 19,
   "id": "e872c9a9-4ff5-4d03-abbd-d593c96dcee5",
   "metadata": {},
   "outputs": [
    {
     "data": {
      "text/plain": [
       "<AxesSubplot:xlabel='subject'>"
      ]
     },
     "execution_count": 19,
     "metadata": {},
     "output_type": "execute_result"
    },
    {
     "data": {
      "image/png": "[encoded data removed]",
      "text/plain": [
       "<Figure size 1440x288 with 2 Axes>"
      ]
     },
     "metadata": {
      "needs_background": "light"
     },
     "output_type": "display_data"
    }
   ],
   "source": [
    "fig, axes = plt.subplots(nrows=1, ncols=2, figsize=(20, 4))\n",
    "result.plot.bar(x=\"subject\", y=\"acc\", ax=axes[0])\n",
    "result.plot.bar(x=\"subject\", y=\"f1\", ax=axes[1])"
   ]
  },
  {
   "cell_type": "code",
   "execution_count": 25,
   "id": "7b572e31-ea80-4571-bbdc-a3ebf33c12a2",
   "metadata": {},
   "outputs": [
    {
     "name": "stdout",
     "output_type": "stream",
     "text": [
      "avg acc: 0.32944428062401143\n",
      "avg f1: 0.5002810655854392\n"
     ]
    }
   ],
   "source": [
    "# LOSO - CSP(8)-LinearSVC\n",
    "result = pd.DataFrame({\n",
    "    \"subject\": test_subjects,\n",
    "    \"acc\": test_acc,\n",
    "    \"f1\": test_f1,\n",
    "})\n",
    "print(f\"avg acc: {result['acc'].mean()}\")\n",
    "print(f\"avg f1: {result['f1'].mean()}\")"
   ]
  },
  {
   "cell_type": "code",
   "execution_count": 26,
   "id": "c27dc17e-044b-43d1-bdbd-aed25ee9ec29",
   "metadata": {},
   "outputs": [
    {
     "data": {
      "text/plain": [
       "<AxesSubplot:xlabel='subject'>"
      ]
     },
     "execution_count": 26,
     "metadata": {},
     "output_type": "execute_result"
    },
    {
     "data": {
      "image/png": "[encoded data removed]",
      "text/plain": [
       "<Figure size 1440x288 with 2 Axes>"
      ]
     },
     "metadata": {
      "needs_background": "light"
     },
     "output_type": "display_data"
    }
   ],
   "source": [
    "fig, axes = plt.subplots(nrows=1, ncols=2, figsize=(20, 4))\n",
    "result.plot.bar(x=\"subject\", y=\"acc\", ax=axes[0])\n",
    "result.plot.bar(x=\"subject\", y=\"f1\", ax=axes[1])"
   ]
  },
  {
   "cell_type": "code",
   "execution_count": 28,
   "id": "fe4961bc-392c-4272-91c8-cc68c664bb92",
   "metadata": {},
   "outputs": [
    {
     "name": "stdout",
     "output_type": "stream",
     "text": [
      "avg acc: 0.31576716670177984\n",
      "avg f1: 0.4760743602325071\n"
     ]
    }
   ],
   "source": [
    "# LOSO - CSP(4)-LinearSVC\n",
    "result = pd.DataFrame({\n",
    "    \"subject\": test_subjects,\n",
    "    \"acc\": test_acc,\n",
    "    \"f1\": test_f1,\n",
    "})\n",
    "print(f\"avg acc: {result['acc'].mean()}\")\n",
    "print(f\"avg f1: {result['f1'].mean()}\")"
   ]
  },
  {
   "cell_type": "code",
   "execution_count": 29,
   "id": "5c3bebea-b2c9-4967-bc68-86b9382e0ce3",
   "metadata": {},
   "outputs": [
    {
     "data": {
      "text/plain": [
       "<AxesSubplot:xlabel='subject'>"
      ]
     },
     "execution_count": 29,
     "metadata": {},
     "output_type": "execute_result"
    },
    {
     "data": {
      "image/png": "[encoded data removed]",
      "text/plain": [
       "<Figure size 1440x288 with 2 Axes>"
      ]
     },
     "metadata": {
      "needs_background": "light"
     },
     "output_type": "display_data"
    }
   ],
   "source": [
    "fig, axes = plt.subplots(nrows=1, ncols=2, figsize=(20, 4))\n",
    "result.plot.bar(x=\"subject\", y=\"acc\", ax=axes[0])\n",
    "result.plot.bar(x=\"subject\", y=\"f1\", ax=axes[1])"
   ]
  },
  {
   "cell_type": "code",
   "execution_count": 26,
   "id": "bda73226-d0c1-46eb-b534-5c33117e62a5",
   "metadata": {},
   "outputs": [
    {
     "name": "stdout",
     "output_type": "stream",
     "text": [
      "avg acc: 0.7046139274423082\n",
      "avg f1: 0.7155401137364766\n"
     ]
    }
   ],
   "source": [
    "# Cov-TangentSpace-LinearSVM -> MI-ME\n",
    "result = pd.DataFrame({\n",
    "    \"subject\": test_subjects,\n",
    "    \"acc\": test_acc,\n",
    "    \"f1\": test_f1,\n",
    "})\n",
    "print(f\"avg acc: {result['acc'].mean()}\")\n",
    "print(f\"avg f1: {result['f1'].mean()}\")"
   ]
  },
  {
   "cell_type": "code",
   "execution_count": 27,
   "id": "543dfb82-e545-4f33-a153-c6b15240372f",
   "metadata": {},
   "outputs": [
    {
     "data": {
      "text/plain": [
       "<AxesSubplot:xlabel='subject'>"
      ]
     },
     "execution_count": 27,
     "metadata": {},
     "output_type": "execute_result"
    },
    {
     "data": {
      "image/png": "[encoded data removed]",
      "text/plain": [
       "<Figure size 1440x288 with 2 Axes>"
      ]
     },
     "metadata": {
      "needs_background": "light"
     },
     "output_type": "display_data"
    }
   ],
   "source": [
    "fig, axes = plt.subplots(nrows=1, ncols=2, figsize=(20, 4))\n",
    "result.plot.bar(x=\"subject\", y=\"acc\", ax=axes[0])\n",
    "result.plot.bar(x=\"subject\", y=\"f1\", ax=axes[1])"
   ]
  },
  {
   "cell_type": "code",
   "execution_count": 48,
   "id": "29bcbd19-c84d-4b06-a683-f3404bf97ec0",
   "metadata": {},
   "outputs": [
    {
     "data": {
      "text/html": [
       "<div>\n",
       "<style scoped>\n",
       "    .dataframe tbody tr th:only-of-type {\n",
       "        vertical-align: middle;\n",
       "    }\n",
       "\n",
       "    .dataframe tbody tr th {\n",
       "        vertical-align: top;\n",
       "    }\n",
       "\n",
       "    .dataframe thead th {\n",
       "        text-align: right;\n",
       "    }\n",
       "</style>\n",
       "<table border=\"1\" class=\"dataframe\">\n",
       "  <thead>\n",
       "    <tr style=\"text-align: right;\">\n",
       "      <th></th>\n",
       "      <th>subject</th>\n",
       "      <th>scenario</th>\n",
       "      <th>event</th>\n",
       "      <th>label</th>\n",
       "      <th>trial</th>\n",
       "      <th>split</th>\n",
       "    </tr>\n",
       "  </thead>\n",
       "  <tbody>\n",
       "    <tr>\n",
       "      <th>0</th>\n",
       "      <td>K300</td>\n",
       "      <td>nâng tay trái</td>\n",
       "      <td>Thinking</td>\n",
       "      <td>nâng tay trái</td>\n",
       "      <td>0</td>\n",
       "      <td>train</td>\n",
       "    </tr>\n",
       "    <tr>\n",
       "      <th>1</th>\n",
       "      <td>K300</td>\n",
       "      <td>nâng tay trái</td>\n",
       "      <td>Resting</td>\n",
       "      <td>rest</td>\n",
       "      <td>0</td>\n",
       "      <td>train</td>\n",
       "    </tr>\n",
       "    <tr>\n",
       "      <th>2</th>\n",
       "      <td>K300</td>\n",
       "      <td>nâng tay trái</td>\n",
       "      <td>Thinking and Acting</td>\n",
       "      <td>nâng tay trái</td>\n",
       "      <td>0</td>\n",
       "      <td>train</td>\n",
       "    </tr>\n",
       "    <tr>\n",
       "      <th>3</th>\n",
       "      <td>K300</td>\n",
       "      <td>nâng tay trái</td>\n",
       "      <td>Resting</td>\n",
       "      <td>rest</td>\n",
       "      <td>1</td>\n",
       "      <td>train</td>\n",
       "    </tr>\n",
       "    <tr>\n",
       "      <th>4</th>\n",
       "      <td>K300</td>\n",
       "      <td>nâng tay trái</td>\n",
       "      <td>Thinking</td>\n",
       "      <td>nâng tay trái</td>\n",
       "      <td>1</td>\n",
       "      <td>train</td>\n",
       "    </tr>\n",
       "    <tr>\n",
       "      <th>5</th>\n",
       "      <td>K300</td>\n",
       "      <td>nâng tay trái</td>\n",
       "      <td>Resting</td>\n",
       "      <td>rest</td>\n",
       "      <td>2</td>\n",
       "      <td>train</td>\n",
       "    </tr>\n",
       "    <tr>\n",
       "      <th>6</th>\n",
       "      <td>K300</td>\n",
       "      <td>nâng tay trái</td>\n",
       "      <td>Thinking and Acting</td>\n",
       "      <td>nâng tay trái</td>\n",
       "      <td>1</td>\n",
       "      <td>train</td>\n",
       "    </tr>\n",
       "    <tr>\n",
       "      <th>7</th>\n",
       "      <td>K300</td>\n",
       "      <td>nâng tay trái</td>\n",
       "      <td>Resting</td>\n",
       "      <td>rest</td>\n",
       "      <td>3</td>\n",
       "      <td>train</td>\n",
       "    </tr>\n",
       "    <tr>\n",
       "      <th>8</th>\n",
       "      <td>K300</td>\n",
       "      <td>nâng tay trái</td>\n",
       "      <td>Thinking</td>\n",
       "      <td>nâng tay trái</td>\n",
       "      <td>2</td>\n",
       "      <td>train</td>\n",
       "    </tr>\n",
       "    <tr>\n",
       "      <th>9</th>\n",
       "      <td>K300</td>\n",
       "      <td>nâng tay trái</td>\n",
       "      <td>Resting</td>\n",
       "      <td>rest</td>\n",
       "      <td>4</td>\n",
       "      <td>train</td>\n",
       "    </tr>\n",
       "    <tr>\n",
       "      <th>10</th>\n",
       "      <td>K300</td>\n",
       "      <td>nâng tay trái</td>\n",
       "      <td>Thinking and Acting</td>\n",
       "      <td>nâng tay trái</td>\n",
       "      <td>2</td>\n",
       "      <td>train</td>\n",
       "    </tr>\n",
       "    <tr>\n",
       "      <th>11</th>\n",
       "      <td>K300</td>\n",
       "      <td>nâng tay phải</td>\n",
       "      <td>Thinking</td>\n",
       "      <td>nâng tay phải</td>\n",
       "      <td>0</td>\n",
       "      <td>train</td>\n",
       "    </tr>\n",
       "    <tr>\n",
       "      <th>12</th>\n",
       "      <td>K300</td>\n",
       "      <td>nâng tay phải</td>\n",
       "      <td>Resting</td>\n",
       "      <td>rest</td>\n",
       "      <td>0</td>\n",
       "      <td>train</td>\n",
       "    </tr>\n",
       "    <tr>\n",
       "      <th>13</th>\n",
       "      <td>K300</td>\n",
       "      <td>nâng tay phải</td>\n",
       "      <td>Thinking and Acting</td>\n",
       "      <td>nâng tay phải</td>\n",
       "      <td>0</td>\n",
       "      <td>train</td>\n",
       "    </tr>\n",
       "    <tr>\n",
       "      <th>14</th>\n",
       "      <td>K300</td>\n",
       "      <td>nâng tay phải</td>\n",
       "      <td>Resting</td>\n",
       "      <td>rest</td>\n",
       "      <td>1</td>\n",
       "      <td>train</td>\n",
       "    </tr>\n",
       "    <tr>\n",
       "      <th>15</th>\n",
       "      <td>K300</td>\n",
       "      <td>nâng tay phải</td>\n",
       "      <td>Thinking</td>\n",
       "      <td>nâng tay phải</td>\n",
       "      <td>1</td>\n",
       "      <td>train</td>\n",
       "    </tr>\n",
       "    <tr>\n",
       "      <th>16</th>\n",
       "      <td>K300</td>\n",
       "      <td>nâng tay phải</td>\n",
       "      <td>Resting</td>\n",
       "      <td>rest</td>\n",
       "      <td>2</td>\n",
       "      <td>train</td>\n",
       "    </tr>\n",
       "    <tr>\n",
       "      <th>17</th>\n",
       "      <td>K300</td>\n",
       "      <td>nâng tay phải</td>\n",
       "      <td>Thinking and Acting</td>\n",
       "      <td>nâng tay phải</td>\n",
       "      <td>1</td>\n",
       "      <td>train</td>\n",
       "    </tr>\n",
       "    <tr>\n",
       "      <th>18</th>\n",
       "      <td>K300</td>\n",
       "      <td>nâng tay phải</td>\n",
       "      <td>Resting</td>\n",
       "      <td>rest</td>\n",
       "      <td>3</td>\n",
       "      <td>train</td>\n",
       "    </tr>\n",
       "    <tr>\n",
       "      <th>19</th>\n",
       "      <td>K300</td>\n",
       "      <td>nâng tay phải</td>\n",
       "      <td>Thinking</td>\n",
       "      <td>nâng tay phải</td>\n",
       "      <td>2</td>\n",
       "      <td>train</td>\n",
       "    </tr>\n",
       "    <tr>\n",
       "      <th>20</th>\n",
       "      <td>K300</td>\n",
       "      <td>nâng tay phải</td>\n",
       "      <td>Resting</td>\n",
       "      <td>rest</td>\n",
       "      <td>4</td>\n",
       "      <td>train</td>\n",
       "    </tr>\n",
       "    <tr>\n",
       "      <th>21</th>\n",
       "      <td>K300</td>\n",
       "      <td>nâng tay phải</td>\n",
       "      <td>Thinking and Acting</td>\n",
       "      <td>nâng tay phải</td>\n",
       "      <td>2</td>\n",
       "      <td>train</td>\n",
       "    </tr>\n",
       "    <tr>\n",
       "      <th>22</th>\n",
       "      <td>K300</td>\n",
       "      <td>nâng tay phải</td>\n",
       "      <td>Resting</td>\n",
       "      <td>rest</td>\n",
       "      <td>5</td>\n",
       "      <td>train</td>\n",
       "    </tr>\n",
       "    <tr>\n",
       "      <th>23</th>\n",
       "      <td>K300</td>\n",
       "      <td>nâng chân trái</td>\n",
       "      <td>Thinking</td>\n",
       "      <td>nâng chân trái</td>\n",
       "      <td>0</td>\n",
       "      <td>train</td>\n",
       "    </tr>\n",
       "    <tr>\n",
       "      <th>24</th>\n",
       "      <td>K300</td>\n",
       "      <td>nâng chân trái</td>\n",
       "      <td>Resting</td>\n",
       "      <td>rest</td>\n",
       "      <td>0</td>\n",
       "      <td>train</td>\n",
       "    </tr>\n",
       "    <tr>\n",
       "      <th>25</th>\n",
       "      <td>K300</td>\n",
       "      <td>nâng chân trái</td>\n",
       "      <td>Thinking and Acting</td>\n",
       "      <td>nâng chân trái</td>\n",
       "      <td>0</td>\n",
       "      <td>train</td>\n",
       "    </tr>\n",
       "    <tr>\n",
       "      <th>26</th>\n",
       "      <td>K300</td>\n",
       "      <td>nâng chân trái</td>\n",
       "      <td>Resting</td>\n",
       "      <td>rest</td>\n",
       "      <td>1</td>\n",
       "      <td>train</td>\n",
       "    </tr>\n",
       "    <tr>\n",
       "      <th>27</th>\n",
       "      <td>K300</td>\n",
       "      <td>nâng chân trái</td>\n",
       "      <td>Thinking</td>\n",
       "      <td>nâng chân trái</td>\n",
       "      <td>1</td>\n",
       "      <td>train</td>\n",
       "    </tr>\n",
       "    <tr>\n",
       "      <th>28</th>\n",
       "      <td>K300</td>\n",
       "      <td>nâng chân trái</td>\n",
       "      <td>Resting</td>\n",
       "      <td>rest</td>\n",
       "      <td>2</td>\n",
       "      <td>train</td>\n",
       "    </tr>\n",
       "    <tr>\n",
       "      <th>29</th>\n",
       "      <td>K300</td>\n",
       "      <td>nâng chân trái</td>\n",
       "      <td>Thinking and Acting</td>\n",
       "      <td>nâng chân trái</td>\n",
       "      <td>1</td>\n",
       "      <td>train</td>\n",
       "    </tr>\n",
       "    <tr>\n",
       "      <th>30</th>\n",
       "      <td>K300</td>\n",
       "      <td>nâng chân trái</td>\n",
       "      <td>Resting</td>\n",
       "      <td>rest</td>\n",
       "      <td>3</td>\n",
       "      <td>train</td>\n",
       "    </tr>\n",
       "    <tr>\n",
       "      <th>31</th>\n",
       "      <td>K300</td>\n",
       "      <td>nâng chân trái</td>\n",
       "      <td>Thinking</td>\n",
       "      <td>nâng chân trái</td>\n",
       "      <td>2</td>\n",
       "      <td>train</td>\n",
       "    </tr>\n",
       "    <tr>\n",
       "      <th>32</th>\n",
       "      <td>K300</td>\n",
       "      <td>nâng chân trái</td>\n",
       "      <td>Resting</td>\n",
       "      <td>rest</td>\n",
       "      <td>4</td>\n",
       "      <td>train</td>\n",
       "    </tr>\n",
       "    <tr>\n",
       "      <th>33</th>\n",
       "      <td>K300</td>\n",
       "      <td>nâng chân trái</td>\n",
       "      <td>Thinking and Acting</td>\n",
       "      <td>nâng chân trái</td>\n",
       "      <td>2</td>\n",
       "      <td>train</td>\n",
       "    </tr>\n",
       "    <tr>\n",
       "      <th>34</th>\n",
       "      <td>K300</td>\n",
       "      <td>nâng chân trái</td>\n",
       "      <td>Resting</td>\n",
       "      <td>rest</td>\n",
       "      <td>5</td>\n",
       "      <td>train</td>\n",
       "    </tr>\n",
       "    <tr>\n",
       "      <th>35</th>\n",
       "      <td>K300</td>\n",
       "      <td>nâng chân phải</td>\n",
       "      <td>Thinking</td>\n",
       "      <td>nâng chân phải</td>\n",
       "      <td>0</td>\n",
       "      <td>train</td>\n",
       "    </tr>\n",
       "    <tr>\n",
       "      <th>36</th>\n",
       "      <td>K300</td>\n",
       "      <td>nâng chân phải</td>\n",
       "      <td>Resting</td>\n",
       "      <td>rest</td>\n",
       "      <td>0</td>\n",
       "      <td>train</td>\n",
       "    </tr>\n",
       "    <tr>\n",
       "      <th>37</th>\n",
       "      <td>K300</td>\n",
       "      <td>nâng chân phải</td>\n",
       "      <td>Thinking and Acting</td>\n",
       "      <td>nâng chân phải</td>\n",
       "      <td>0</td>\n",
       "      <td>train</td>\n",
       "    </tr>\n",
       "    <tr>\n",
       "      <th>38</th>\n",
       "      <td>K300</td>\n",
       "      <td>nâng chân phải</td>\n",
       "      <td>Resting</td>\n",
       "      <td>rest</td>\n",
       "      <td>1</td>\n",
       "      <td>train</td>\n",
       "    </tr>\n",
       "    <tr>\n",
       "      <th>39</th>\n",
       "      <td>K300</td>\n",
       "      <td>nâng chân phải</td>\n",
       "      <td>Thinking</td>\n",
       "      <td>nâng chân phải</td>\n",
       "      <td>1</td>\n",
       "      <td>train</td>\n",
       "    </tr>\n",
       "    <tr>\n",
       "      <th>40</th>\n",
       "      <td>K300</td>\n",
       "      <td>nâng chân phải</td>\n",
       "      <td>Resting</td>\n",
       "      <td>rest</td>\n",
       "      <td>2</td>\n",
       "      <td>train</td>\n",
       "    </tr>\n",
       "    <tr>\n",
       "      <th>41</th>\n",
       "      <td>K300</td>\n",
       "      <td>nâng chân phải</td>\n",
       "      <td>Thinking and Acting</td>\n",
       "      <td>nâng chân phải</td>\n",
       "      <td>1</td>\n",
       "      <td>train</td>\n",
       "    </tr>\n",
       "    <tr>\n",
       "      <th>42</th>\n",
       "      <td>K300</td>\n",
       "      <td>nâng chân phải</td>\n",
       "      <td>Resting</td>\n",
       "      <td>rest</td>\n",
       "      <td>3</td>\n",
       "      <td>train</td>\n",
       "    </tr>\n",
       "    <tr>\n",
       "      <th>43</th>\n",
       "      <td>K300</td>\n",
       "      <td>nâng chân phải</td>\n",
       "      <td>Thinking</td>\n",
       "      <td>nâng chân phải</td>\n",
       "      <td>2</td>\n",
       "      <td>train</td>\n",
       "    </tr>\n",
       "    <tr>\n",
       "      <th>44</th>\n",
       "      <td>K300</td>\n",
       "      <td>nâng chân phải</td>\n",
       "      <td>Resting</td>\n",
       "      <td>rest</td>\n",
       "      <td>4</td>\n",
       "      <td>train</td>\n",
       "    </tr>\n",
       "    <tr>\n",
       "      <th>45</th>\n",
       "      <td>K300</td>\n",
       "      <td>nâng chân phải</td>\n",
       "      <td>Thinking and Acting</td>\n",
       "      <td>nâng chân phải</td>\n",
       "      <td>2</td>\n",
       "      <td>train</td>\n",
       "    </tr>\n",
       "    <tr>\n",
       "      <th>46</th>\n",
       "      <td>K300</td>\n",
       "      <td>nâng chân phải</td>\n",
       "      <td>Resting</td>\n",
       "      <td>rest</td>\n",
       "      <td>5</td>\n",
       "      <td>train</td>\n",
       "    </tr>\n",
       "  </tbody>\n",
       "</table>\n",
       "</div>"
      ],
      "text/plain": [
       "   subject        scenario                event           label  trial  split\n",
       "0     K300   nâng tay trái             Thinking   nâng tay trái      0  train\n",
       "1     K300   nâng tay trái              Resting            rest      0  train\n",
       "2     K300   nâng tay trái  Thinking and Acting   nâng tay trái      0  train\n",
       "3     K300   nâng tay trái              Resting            rest      1  train\n",
       "4     K300   nâng tay trái             Thinking   nâng tay trái      1  train\n",
       "5     K300   nâng tay trái              Resting            rest      2  train\n",
       "6     K300   nâng tay trái  Thinking and Acting   nâng tay trái      1  train\n",
       "7     K300   nâng tay trái              Resting            rest      3  train\n",
       "8     K300   nâng tay trái             Thinking   nâng tay trái      2  train\n",
       "9     K300   nâng tay trái              Resting            rest      4  train\n",
       "10    K300   nâng tay trái  Thinking and Acting   nâng tay trái      2  train\n",
       "11    K300   nâng tay phải             Thinking   nâng tay phải      0  train\n",
       "12    K300   nâng tay phải              Resting            rest      0  train\n",
       "13    K300   nâng tay phải  Thinking and Acting   nâng tay phải      0  train\n",
       "14    K300   nâng tay phải              Resting            rest      1  train\n",
       "15    K300   nâng tay phải             Thinking   nâng tay phải      1  train\n",
       "16    K300   nâng tay phải              Resting            rest      2  train\n",
       "17    K300   nâng tay phải  Thinking and Acting   nâng tay phải      1  train\n",
       "18    K300   nâng tay phải              Resting            rest      3  train\n",
       "19    K300   nâng tay phải             Thinking   nâng tay phải      2  train\n",
       "20    K300   nâng tay phải              Resting            rest      4  train\n",
       "21    K300   nâng tay phải  Thinking and Acting   nâng tay phải      2  train\n",
       "22    K300   nâng tay phải              Resting            rest      5  train\n",
       "23    K300  nâng chân trái             Thinking  nâng chân trái      0  train\n",
       "24    K300  nâng chân trái              Resting            rest      0  train\n",
       "25    K300  nâng chân trái  Thinking and Acting  nâng chân trái      0  train\n",
       "26    K300  nâng chân trái              Resting            rest      1  train\n",
       "27    K300  nâng chân trái             Thinking  nâng chân trái      1  train\n",
       "28    K300  nâng chân trái              Resting            rest      2  train\n",
       "29    K300  nâng chân trái  Thinking and Acting  nâng chân trái      1  train\n",
       "30    K300  nâng chân trái              Resting            rest      3  train\n",
       "31    K300  nâng chân trái             Thinking  nâng chân trái      2  train\n",
       "32    K300  nâng chân trái              Resting            rest      4  train\n",
       "33    K300  nâng chân trái  Thinking and Acting  nâng chân trái      2  train\n",
       "34    K300  nâng chân trái              Resting            rest      5  train\n",
       "35    K300  nâng chân phải             Thinking  nâng chân phải      0  train\n",
       "36    K300  nâng chân phải              Resting            rest      0  train\n",
       "37    K300  nâng chân phải  Thinking and Acting  nâng chân phải      0  train\n",
       "38    K300  nâng chân phải              Resting            rest      1  train\n",
       "39    K300  nâng chân phải             Thinking  nâng chân phải      1  train\n",
       "40    K300  nâng chân phải              Resting            rest      2  train\n",
       "41    K300  nâng chân phải  Thinking and Acting  nâng chân phải      1  train\n",
       "42    K300  nâng chân phải              Resting            rest      3  train\n",
       "43    K300  nâng chân phải             Thinking  nâng chân phải      2  train\n",
       "44    K300  nâng chân phải              Resting            rest      4  train\n",
       "45    K300  nâng chân phải  Thinking and Acting  nâng chân phải      2  train\n",
       "46    K300  nâng chân phải              Resting            rest      5  train"
      ]
     },
     "execution_count": 48,
     "metadata": {},
     "output_type": "execute_result"
    }
   ],
   "source": [
    "list_of_ds = list()\n",
    "for i, r in ds_info[ds_info[\"subject\"] == \"K300\"].iterrows():\n",
    "    list_of_ds.append(ds.datasets[i])\n",
    "    \n",
    "subject_ds = BaseConcatDataset(list_of_ds)\n",
    "subject_ds_info = subject_ds.description\n",
    "subject_ds_info"
   ]
  },
  {
   "cell_type": "code",
   "execution_count": null,
   "id": "4c6a0231-c94c-47f6-8fa6-0f098a6e32ef",
   "metadata": {},
   "outputs": [],
   "source": []
  },
  {
   "cell_type": "code",
   "execution_count": 59,
   "id": "27699b27-7592-4456-8002-8da48665d634",
   "metadata": {},
   "outputs": [],
   "source": [
    "Xtrain = list()\n",
    "Ytrain = list()\n",
    "for i, r in ds_info[ds_info[\"subject\"].isin([f\"K{i}\" for i in [375, 374, 373, 372, 371, 370]])].iterrows():\n",
    "    x = ds.datasets[i].windows.get_data()\n",
    "    y = ds.datasets[i].y\n",
    "    Xtrain.append(x)\n",
    "    Ytrain.extend(y)\n",
    "\n",
    "Xtrain = np.concatenate(Xtrain, axis=0)\n",
    "Ytrain = np.array(Ytrain, dtype=int)"
   ]
  },
  {
   "cell_type": "code",
   "execution_count": 60,
   "id": "cd4330fe-f2b8-475e-9b03-1a7959ce0edc",
   "metadata": {},
   "outputs": [
    {
     "data": {
      "text/plain": [
       "array([1028,  346,  335,  327,  336])"
      ]
     },
     "execution_count": 60,
     "metadata": {},
     "output_type": "execute_result"
    }
   ],
   "source": [
    "np.bincount(Ytrain)"
   ]
  },
  {
   "cell_type": "code",
   "execution_count": 61,
   "id": "56127efb-8dc4-4aec-83a0-c87b1e3f937c",
   "metadata": {},
   "outputs": [
    {
     "data": {
      "text/plain": [
       "(2372, 32, 32)"
      ]
     },
     "execution_count": 61,
     "metadata": {},
     "output_type": "execute_result"
    }
   ],
   "source": [
    "Ctrain = np.stack([np.cov(x, rowvar=True) for x in Xtrain])\n",
    "Ctrain.shape"
   ]
  },
  {
   "cell_type": "code",
   "execution_count": 62,
   "id": "a3393625-83f7-4a5f-af12-263f09874286",
   "metadata": {},
   "outputs": [
    {
     "data": {
      "text/plain": [
       "['Fp1',\n",
       " 'Fp2',\n",
       " 'F7',\n",
       " 'F3',\n",
       " 'Fz',\n",
       " 'F4',\n",
       " 'F8',\n",
       " 'FT9',\n",
       " 'FC5',\n",
       " 'FC1',\n",
       " 'FC2',\n",
       " 'FC6',\n",
       " 'FT10',\n",
       " 'T7',\n",
       " 'C3',\n",
       " 'Cz',\n",
       " 'C4',\n",
       " 'T8',\n",
       " 'CP5',\n",
       " 'CP1',\n",
       " 'CP2',\n",
       " 'CP6',\n",
       " 'P7',\n",
       " 'P3',\n",
       " 'Pz',\n",
       " 'P4',\n",
       " 'P8',\n",
       " 'PO9',\n",
       " 'O1',\n",
       " 'Oz',\n",
       " 'O2',\n",
       " 'PO10']"
      ]
     },
     "execution_count": 62,
     "metadata": {},
     "output_type": "execute_result"
    }
   ],
   "source": [
    "channels"
   ]
  },
  {
   "cell_type": "code",
   "execution_count": 63,
   "id": "03799096-1516-4698-bdc6-e24f20c686ef",
   "metadata": {},
   "outputs": [
    {
     "data": {
      "image/png": "[encoded data removed]",
      "text/plain": [
       "<Figure size 576x2304 with 10 Axes>"
      ]
     },
     "metadata": {
      "needs_background": "light"
     },
     "output_type": "display_data"
    }
   ],
   "source": [
    "fig, axes = plt.subplots(nrows=5, ncols=1, figsize=(8, 32))\n",
    "\n",
    "for i in range(5):\n",
    "    sb.heatmap(Ctrain[np.where(Ytrain == i)[0]].mean(axis=0), ax=axes[i])\n",
    "    axes[i].set_xticklabels(channels)\n",
    "    # axes[i].set_yticklabels(channels)"
   ]
  },
  {
   "cell_type": "code",
   "execution_count": null,
   "id": "19c00628-12f5-48e8-b644-03075975d5f7",
   "metadata": {},
   "outputs": [],
   "source": []
  },
  {
   "cell_type": "code",
   "execution_count": null,
   "id": "4984511f-81dc-4c24-8ee6-519e0b447167",
   "metadata": {},
   "outputs": [],
   "source": []
  }
 ],
 "metadata": {
  "kernelspec": {
   "display_name": "Python 3",
   "language": "python",
   "name": "python3"
  },
  "language_info": {
   "codemirror_mode": {
    "name": "ipython",
    "version": 3
   },
   "file_extension": ".py",
   "mimetype": "text/x-python",
   "name": "python",
   "nbconvert_exporter": "python",
   "pygments_lexer": "ipython3",
   "version": "3.8.10"
  }
 },
 "nbformat": 4,
 "nbformat_minor": 5
}
