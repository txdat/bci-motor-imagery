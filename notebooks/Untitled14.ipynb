{
 "cells": [
  {
   "cell_type": "code",
   "execution_count": 1,
   "id": "eb944f7e-52cd-4e32-8633-e5fe716045bb",
   "metadata": {},
   "outputs": [
    {
     "name": "stderr",
     "output_type": "stream",
     "text": [
      "/home/administrator/.local/lib/python3.8/site-packages/mne_features/mock_numba.py:12: UserWarning: Numba needs NumPy 1.20 or less. Your code will be slower.\n",
      "  warn('{}. Your code will be slower.'.format(err))\n"
     ]
    }
   ],
   "source": [
    "import numpy as np\n",
    "from scipy import signal\n",
    "import pandas as pd\n",
    "import matplotlib.pyplot as plt\n",
    "import seaborn as sb\n",
    "import plotly.io as pio\n",
    "import mne\n",
    "import json\n",
    "import glob\n",
    "import os\n",
    "from tqdm import tqdm\n",
    "import time\n",
    "from datetime import timedelta\n",
    "from braindecode.datasets import BaseConcatDataset\n",
    "from mne_features.feature_extraction import FeatureExtractor\n",
    "from pyriemann.estimation import Covariances\n",
    "from pyriemann.tangentspace import TangentSpace\n",
    "from pyriemann.classification import TSclassifier, MDM, FgMDM\n",
    "from pyriemann.utils.distance import distance_riemann, distance_euclid, distance_logeuclid\n",
    "from pyriemann.utils.mean import mean_riemann, mean_euclid, mean_logeuclid\n",
    "from sklearn.pipeline import make_pipeline\n",
    "from sklearn.discriminant_analysis import LinearDiscriminantAnalysis\n",
    "from sklearn.svm import LinearSVC, SVC\n",
    "from sklearn.manifold import TSNE\n",
    "from sklearn.preprocessing import LabelEncoder\n",
    "import sklearn.metrics as metrics\n",
    "from data_util import load_subjects, load_subject_data, load_data, euclidean_alignment, label_alignment, self_subject_label_alignment, relabel_dataset\n",
    "from collections import defaultdict\n",
    "from copy import deepcopy\n",
    "import pickle as pkl\n",
    "\n",
    "import warnings\n",
    "warnings.filterwarnings('ignore') "
   ]
  },
  {
   "cell_type": "code",
   "execution_count": 2,
   "id": "bf49cc77-ef86-46de-95bc-67111ea8f1ac",
   "metadata": {},
   "outputs": [],
   "source": [
    "hparams = {\n",
    "        \"resample\": 128.0,\n",
    "        \"fmin\": 8.0,\n",
    "        \"fmax\": 30.0,\n",
    "        \"ch_names\": [   # exclude vin's channels ({FT9, FT10, PO9, PO10})\n",
    "            \"Fp1\", \"Fp2\",\n",
    "            \"F7\", \"F3\", \"Fz\", \"F4\", \"F8\",\n",
    "            \"FC5\", \"FC1\", \"FC2\", \"FC6\",\n",
    "            \"T7\", \"C3\", \"Cz\", \"C4\", \"T8\",\n",
    "            \"CP5\", \"CP1\", \"CP2\", \"CP6\",\n",
    "            \"P7\", \"P3\", \"Pz\", \"P4\", \"P8\",\n",
    "            \"O1\", \"Oz\", \"O2\",\n",
    "        ],\n",
    "    }"
   ]
  },
  {
   "cell_type": "code",
   "execution_count": 3,
   "id": "a854dab4-a787-47ec-a369-3865133636af",
   "metadata": {},
   "outputs": [],
   "source": [
    "with open(\"../data/beetl/PHY_001_040_BRD.pkl\", mode=\"rb\") as f:\n",
    "    ds = pkl.load(f)\n",
    "    ds_info = ds.description"
   ]
  },
  {
   "cell_type": "code",
   "execution_count": 4,
   "id": "9b75346b-2685-4997-9bb0-fee1ac620c52",
   "metadata": {},
   "outputs": [
    {
     "data": {
      "text/html": [
       "<div>\n",
       "<style scoped>\n",
       "    .dataframe tbody tr th:only-of-type {\n",
       "        vertical-align: middle;\n",
       "    }\n",
       "\n",
       "    .dataframe tbody tr th {\n",
       "        vertical-align: top;\n",
       "    }\n",
       "\n",
       "    .dataframe thead th {\n",
       "        text-align: right;\n",
       "    }\n",
       "</style>\n",
       "<table border=\"1\" class=\"dataframe\">\n",
       "  <thead>\n",
       "    <tr style=\"text-align: right;\">\n",
       "      <th></th>\n",
       "      <th>subject</th>\n",
       "      <th>scenario</th>\n",
       "      <th>event</th>\n",
       "      <th>label</th>\n",
       "      <th>label_idx</th>\n",
       "      <th>trial</th>\n",
       "      <th>split</th>\n",
       "    </tr>\n",
       "  </thead>\n",
       "  <tbody>\n",
       "    <tr>\n",
       "      <th>0</th>\n",
       "      <td>PHY_001</td>\n",
       "      <td>rest</td>\n",
       "      <td>Resting</td>\n",
       "      <td>rest</td>\n",
       "      <td>0</td>\n",
       "      <td>0</td>\n",
       "      <td>train</td>\n",
       "    </tr>\n",
       "    <tr>\n",
       "      <th>1</th>\n",
       "      <td>PHY_001</td>\n",
       "      <td>right_hand</td>\n",
       "      <td>Thinking</td>\n",
       "      <td>right_hand</td>\n",
       "      <td>2</td>\n",
       "      <td>0</td>\n",
       "      <td>train</td>\n",
       "    </tr>\n",
       "    <tr>\n",
       "      <th>2</th>\n",
       "      <td>PHY_001</td>\n",
       "      <td>rest</td>\n",
       "      <td>Resting</td>\n",
       "      <td>rest</td>\n",
       "      <td>0</td>\n",
       "      <td>0</td>\n",
       "      <td>train</td>\n",
       "    </tr>\n",
       "    <tr>\n",
       "      <th>3</th>\n",
       "      <td>PHY_001</td>\n",
       "      <td>left_hand</td>\n",
       "      <td>Thinking</td>\n",
       "      <td>left_hand</td>\n",
       "      <td>3</td>\n",
       "      <td>0</td>\n",
       "      <td>train</td>\n",
       "    </tr>\n",
       "    <tr>\n",
       "      <th>4</th>\n",
       "      <td>PHY_001</td>\n",
       "      <td>rest</td>\n",
       "      <td>Resting</td>\n",
       "      <td>rest</td>\n",
       "      <td>0</td>\n",
       "      <td>0</td>\n",
       "      <td>train</td>\n",
       "    </tr>\n",
       "    <tr>\n",
       "      <th>...</th>\n",
       "      <td>...</td>\n",
       "      <td>...</td>\n",
       "      <td>...</td>\n",
       "      <td>...</td>\n",
       "      <td>...</td>\n",
       "      <td>...</td>\n",
       "      <td>...</td>\n",
       "    </tr>\n",
       "    <tr>\n",
       "      <th>6293</th>\n",
       "      <td>PHY_040</td>\n",
       "      <td>rest</td>\n",
       "      <td>Resting</td>\n",
       "      <td>rest</td>\n",
       "      <td>0</td>\n",
       "      <td>5</td>\n",
       "      <td>train</td>\n",
       "    </tr>\n",
       "    <tr>\n",
       "      <th>6294</th>\n",
       "      <td>PHY_040</td>\n",
       "      <td>feet</td>\n",
       "      <td>Thinking</td>\n",
       "      <td>feet</td>\n",
       "      <td>1</td>\n",
       "      <td>5</td>\n",
       "      <td>train</td>\n",
       "    </tr>\n",
       "    <tr>\n",
       "      <th>6295</th>\n",
       "      <td>PHY_040</td>\n",
       "      <td>rest</td>\n",
       "      <td>Resting</td>\n",
       "      <td>rest</td>\n",
       "      <td>0</td>\n",
       "      <td>5</td>\n",
       "      <td>train</td>\n",
       "    </tr>\n",
       "    <tr>\n",
       "      <th>6296</th>\n",
       "      <td>PHY_040</td>\n",
       "      <td>rest</td>\n",
       "      <td>Resting</td>\n",
       "      <td>rest</td>\n",
       "      <td>0</td>\n",
       "      <td>5</td>\n",
       "      <td>train</td>\n",
       "    </tr>\n",
       "    <tr>\n",
       "      <th>6297</th>\n",
       "      <td>PHY_040</td>\n",
       "      <td>feet</td>\n",
       "      <td>Thinking</td>\n",
       "      <td>feet</td>\n",
       "      <td>1</td>\n",
       "      <td>5</td>\n",
       "      <td>train</td>\n",
       "    </tr>\n",
       "  </tbody>\n",
       "</table>\n",
       "<p>6298 rows × 7 columns</p>\n",
       "</div>"
      ],
      "text/plain": [
       "      subject    scenario     event       label  label_idx  trial  split\n",
       "0     PHY_001        rest   Resting        rest          0      0  train\n",
       "1     PHY_001  right_hand  Thinking  right_hand          2      0  train\n",
       "2     PHY_001        rest   Resting        rest          0      0  train\n",
       "3     PHY_001   left_hand  Thinking   left_hand          3      0  train\n",
       "4     PHY_001        rest   Resting        rest          0      0  train\n",
       "...       ...         ...       ...         ...        ...    ...    ...\n",
       "6293  PHY_040        rest   Resting        rest          0      5  train\n",
       "6294  PHY_040        feet  Thinking        feet          1      5  train\n",
       "6295  PHY_040        rest   Resting        rest          0      5  train\n",
       "6296  PHY_040        rest   Resting        rest          0      5  train\n",
       "6297  PHY_040        feet  Thinking        feet          1      5  train\n",
       "\n",
       "[6298 rows x 7 columns]"
      ]
     },
     "execution_count": 4,
     "metadata": {},
     "output_type": "execute_result"
    }
   ],
   "source": [
    "ds_info"
   ]
  },
  {
   "cell_type": "code",
   "execution_count": 5,
   "id": "0b21abeb-e838-4c63-b74a-c15877699ac3",
   "metadata": {},
   "outputs": [
    {
     "data": {
      "text/html": [
       "<table class=\"table table-hover table-striped table-sm table-responsive small\">\n",
       "    <tr>\n",
       "        <th>Number of events</th>\n",
       "        <td>69</td>\n",
       "    </tr>\n",
       "    <tr>\n",
       "        <th>Events</th>\n",
       "        \n",
       "        <td>-1: 69</td>\n",
       "        \n",
       "    </tr>\n",
       "    <tr>\n",
       "        <th>Time range</th>\n",
       "        <td>0.000 – 1.992 sec</td>\n",
       "    </tr>\n",
       "    <tr>\n",
       "        <th>Baseline</th>\n",
       "        <td>off</td>\n",
       "    </tr>\n",
       "</table>"
      ],
      "text/plain": [
       "<Epochs |  69 events (all good), 0 - 1.99219 sec, baseline off, ~3.8 MB, data loaded, with metadata,\n",
       " '-1': 69>"
      ]
     },
     "execution_count": 5,
     "metadata": {},
     "output_type": "execute_result"
    }
   ],
   "source": [
    "epochs = mne.concatenate_epochs([ds.datasets[i].windows for i in ds_info[(ds_info[\"subject\"] == \"PHY_001\") & (ds_info[\"label\"] == \"left_hand\")].index])\n",
    "\n",
    "epochs.set_montage(\"standard_1020\")"
   ]
  },
  {
   "cell_type": "code",
   "execution_count": 41,
   "id": "e6408197-4866-4330-8aa2-2937ce0e111b",
   "metadata": {},
   "outputs": [
    {
     "ename": "RuntimeError",
     "evalue": "No plottable channel types found",
     "output_type": "error",
     "traceback": [
      "\u001b[0;31m---------------------------------------------------------------------------\u001b[0m",
      "\u001b[0;31mRuntimeError\u001b[0m                              Traceback (most recent call last)",
      "\u001b[0;32m<ipython-input-41-d71b37889f3b>\u001b[0m in \u001b[0;36m<module>\u001b[0;34m\u001b[0m\n\u001b[0;32m----> 1\u001b[0;31m \u001b[0mepochs\u001b[0m\u001b[0;34m.\u001b[0m\u001b[0mplot_psd_topomap\u001b[0m\u001b[0;34m(\u001b[0m\u001b[0;34m)\u001b[0m\u001b[0;34m\u001b[0m\u001b[0;34m\u001b[0m\u001b[0m\n\u001b[0m",
      "\u001b[0;32m~/.local/lib/python3.8/site-packages/mne/epochs.py\u001b[0m in \u001b[0;36mplot_psd_topomap\u001b[0;34m(self, bands, tmin, tmax, proj, bandwidth, adaptive, low_bias, normalization, ch_type, cmap, agg_fun, dB, n_jobs, normalize, cbar_fmt, outlines, axes, show, sphere, vlim, verbose)\u001b[0m\n\u001b[1;32m   1203\u001b[0m                          \u001b[0moutlines\u001b[0m\u001b[0;34m=\u001b[0m\u001b[0;34m'head'\u001b[0m\u001b[0;34m,\u001b[0m \u001b[0maxes\u001b[0m\u001b[0;34m=\u001b[0m\u001b[0;32mNone\u001b[0m\u001b[0;34m,\u001b[0m \u001b[0mshow\u001b[0m\u001b[0;34m=\u001b[0m\u001b[0;32mTrue\u001b[0m\u001b[0;34m,\u001b[0m\u001b[0;34m\u001b[0m\u001b[0;34m\u001b[0m\u001b[0m\n\u001b[1;32m   1204\u001b[0m                          sphere=None, vlim=(None, None), verbose=None):\n\u001b[0;32m-> 1205\u001b[0;31m         return plot_epochs_psd_topomap(\n\u001b[0m\u001b[1;32m   1206\u001b[0m             \u001b[0mself\u001b[0m\u001b[0;34m,\u001b[0m \u001b[0mbands\u001b[0m\u001b[0;34m=\u001b[0m\u001b[0mbands\u001b[0m\u001b[0;34m,\u001b[0m \u001b[0mtmin\u001b[0m\u001b[0;34m=\u001b[0m\u001b[0mtmin\u001b[0m\u001b[0;34m,\u001b[0m \u001b[0mtmax\u001b[0m\u001b[0;34m=\u001b[0m\u001b[0mtmax\u001b[0m\u001b[0;34m,\u001b[0m\u001b[0;34m\u001b[0m\u001b[0;34m\u001b[0m\u001b[0m\n\u001b[1;32m   1207\u001b[0m             \u001b[0mproj\u001b[0m\u001b[0;34m=\u001b[0m\u001b[0mproj\u001b[0m\u001b[0;34m,\u001b[0m \u001b[0mbandwidth\u001b[0m\u001b[0;34m=\u001b[0m\u001b[0mbandwidth\u001b[0m\u001b[0;34m,\u001b[0m \u001b[0madaptive\u001b[0m\u001b[0;34m=\u001b[0m\u001b[0madaptive\u001b[0m\u001b[0;34m,\u001b[0m\u001b[0;34m\u001b[0m\u001b[0;34m\u001b[0m\u001b[0m\n",
      "\u001b[0;32m<decorator-gen-168>\u001b[0m in \u001b[0;36mplot_epochs_psd_topomap\u001b[0;34m(epochs, bands, tmin, tmax, proj, bandwidth, adaptive, low_bias, normalization, ch_type, cmap, agg_fun, dB, n_jobs, normalize, cbar_fmt, outlines, axes, show, sphere, vlim, verbose)\u001b[0m\n",
      "\u001b[0;32m~/.local/lib/python3.8/site-packages/mne/viz/topomap.py\u001b[0m in \u001b[0;36mplot_epochs_psd_topomap\u001b[0;34m(epochs, bands, tmin, tmax, proj, bandwidth, adaptive, low_bias, normalization, ch_type, cmap, agg_fun, dB, n_jobs, normalize, cbar_fmt, outlines, axes, show, sphere, vlim, verbose)\u001b[0m\n\u001b[1;32m   1891\u001b[0m         \u001b[0mFigure\u001b[0m \u001b[0mdistributing\u001b[0m \u001b[0mone\u001b[0m \u001b[0mimage\u001b[0m \u001b[0mper\u001b[0m \u001b[0mchannel\u001b[0m \u001b[0macross\u001b[0m \u001b[0msensor\u001b[0m \u001b[0mtopography\u001b[0m\u001b[0;34m.\u001b[0m\u001b[0;34m\u001b[0m\u001b[0;34m\u001b[0m\u001b[0m\n\u001b[1;32m   1892\u001b[0m     \"\"\"\n\u001b[0;32m-> 1893\u001b[0;31m     \u001b[0mch_type\u001b[0m \u001b[0;34m=\u001b[0m \u001b[0m_get_ch_type\u001b[0m\u001b[0;34m(\u001b[0m\u001b[0mepochs\u001b[0m\u001b[0;34m,\u001b[0m \u001b[0mch_type\u001b[0m\u001b[0;34m)\u001b[0m\u001b[0;34m\u001b[0m\u001b[0;34m\u001b[0m\u001b[0m\n\u001b[0m\u001b[1;32m   1894\u001b[0m     \u001b[0munits\u001b[0m \u001b[0;34m=\u001b[0m \u001b[0m_handle_default\u001b[0m\u001b[0;34m(\u001b[0m\u001b[0;34m'units'\u001b[0m\u001b[0;34m,\u001b[0m \u001b[0;32mNone\u001b[0m\u001b[0;34m)\u001b[0m\u001b[0;34m\u001b[0m\u001b[0;34m\u001b[0m\u001b[0m\n\u001b[1;32m   1895\u001b[0m     \u001b[0mscalings\u001b[0m \u001b[0;34m=\u001b[0m \u001b[0m_handle_default\u001b[0m\u001b[0;34m(\u001b[0m\u001b[0;34m'scalings'\u001b[0m\u001b[0;34m,\u001b[0m \u001b[0;32mNone\u001b[0m\u001b[0;34m)\u001b[0m\u001b[0;34m\u001b[0m\u001b[0;34m\u001b[0m\u001b[0m\n",
      "\u001b[0;32m~/.local/lib/python3.8/site-packages/mne/channels/channels.py\u001b[0m in \u001b[0;36m_get_ch_type\u001b[0;34m(inst, ch_type, allow_ref_meg)\u001b[0m\n\u001b[1;32m     97\u001b[0m                 \u001b[0;32mbreak\u001b[0m\u001b[0;34m\u001b[0m\u001b[0;34m\u001b[0m\u001b[0m\n\u001b[1;32m     98\u001b[0m         \u001b[0;32melse\u001b[0m\u001b[0;34m:\u001b[0m\u001b[0;34m\u001b[0m\u001b[0;34m\u001b[0m\u001b[0m\n\u001b[0;32m---> 99\u001b[0;31m             \u001b[0;32mraise\u001b[0m \u001b[0mRuntimeError\u001b[0m\u001b[0;34m(\u001b[0m\u001b[0;34m'No plottable channel types found'\u001b[0m\u001b[0;34m)\u001b[0m\u001b[0;34m\u001b[0m\u001b[0;34m\u001b[0m\u001b[0m\n\u001b[0m\u001b[1;32m    100\u001b[0m     \u001b[0;32mreturn\u001b[0m \u001b[0mch_type\u001b[0m\u001b[0;34m\u001b[0m\u001b[0;34m\u001b[0m\u001b[0m\n\u001b[1;32m    101\u001b[0m \u001b[0;34m\u001b[0m\u001b[0m\n",
      "\u001b[0;31mRuntimeError\u001b[0m: No plottable channel types found"
     ]
    }
   ],
   "source": [
    "epochs.plot_psd_topomap()"
   ]
  },
  {
   "cell_type": "code",
   "execution_count": 42,
   "id": "505cce12-95aa-483d-adae-900f62710ca8",
   "metadata": {},
   "outputs": [
    {
     "data": {
      "text/plain": [
       "(477, 28, 256)"
      ]
     },
     "execution_count": 42,
     "metadata": {},
     "output_type": "execute_result"
    }
   ],
   "source": [
    "X = list()\n",
    "Y = list()\n",
    "S = list()\n",
    "for i in ds_info[ds_info[\"subject\"].isin([f\"PHY_{i:03d}\" for i in range(1, 2)])].index:\n",
    "    X.append(ds.datasets[i].windows.get_data())\n",
    "    Y.extend(ds.datasets[i].y)\n",
    "    S.extend([ds.datasets[i].description[\"subject\"]] * len(ds.datasets[i].y))\n",
    "    \n",
    "X = np.concatenate(X, axis=0)\n",
    "Y = np.array(Y, dtype=int)\n",
    "le = LabelEncoder()\n",
    "S = le.fit_transform(S)\n",
    "\n",
    "X = (X - X.mean(axis=-1, keepdims=True)) / X.std(axis=-1, keepdims=True)\n",
    "X.shape"
   ]
  },
  {
   "cell_type": "code",
   "execution_count": 36,
   "id": "862ba524-0067-4c5c-a386-b561f7aa5a03",
   "metadata": {},
   "outputs": [],
   "source": [
    "C = np.stack([np.cov(x, rowvar=True) for x in X])\n",
    "feat = TangentSpace(metric=\"riemann\").fit_transform(C)\n",
    "feat2d = TSNE(n_components=2).fit_transform(feat)"
   ]
  },
  {
   "cell_type": "code",
   "execution_count": 37,
   "id": "68d0eec2-def3-4c02-a35e-ebf73497b343",
   "metadata": {},
   "outputs": [
    {
     "data": {
      "text/plain": [
       "<matplotlib.legend.Legend at 0x7f6411d90190>"
      ]
     },
     "execution_count": 37,
     "metadata": {},
     "output_type": "execute_result"
    },
    {
     "data": {
      "image/png": "[encoded data removed]",
      "text/plain": [
       "<Figure size 432x288 with 1 Axes>"
      ]
     },
     "metadata": {
      "needs_background": "light"
     },
     "output_type": "display_data"
    }
   ],
   "source": [
    "colors = \"kbgrcmy\"\n",
    "\n",
    "fig = plt.Figure()\n",
    "for i, c in enumerate(np.unique(Y)):\n",
    "    idx = np.where(Y == c)[0]\n",
    "    plt.scatter(feat2d[idx, 0], feat2d[idx, 1], marker='o', c=colors[i])\n",
    "    \n",
    "plt.legend(np.unique(Y))"
   ]
  },
  {
   "cell_type": "code",
   "execution_count": 38,
   "id": "a7e0b1d6-0960-4b64-8a66-a5137f288435",
   "metadata": {},
   "outputs": [
    {
     "data": {
      "text/plain": [
       "<matplotlib.legend.Legend at 0x7f6411d784c0>"
      ]
     },
     "execution_count": 38,
     "metadata": {},
     "output_type": "execute_result"
    },
    {
     "data": {
      "image/png": "[encoded data removed]",
      "text/plain": [
       "<Figure size 432x288 with 1 Axes>"
      ]
     },
     "metadata": {
      "needs_background": "light"
     },
     "output_type": "display_data"
    }
   ],
   "source": [
    "fig = plt.Figure()\n",
    "for i, c in enumerate(np.unique(S)):\n",
    "    idx = np.where(S == c)[0]\n",
    "    plt.scatter(feat2d[idx, 0], feat2d[idx, 1], marker='o', c=colors[i % len(colors)])\n",
    "    \n",
    "plt.legend(le.classes_)"
   ]
  },
  {
   "cell_type": "code",
   "execution_count": 21,
   "id": "5db76243-cf9e-429b-8738-4f4876b31d16",
   "metadata": {},
   "outputs": [],
   "source": [
    "Xtrain = list()\n",
    "Ytrain = list()\n",
    "Xvalid = list()\n",
    "Yvalid = list()\n",
    "for i in ds_info[ds_info[\"subject\"] == \"PHY_016\"].index:\n",
    "    if ds.datasets[i].description[\"label\"] == \"rest\":\n",
    "        continue\n",
    "    \n",
    "    if ds.datasets[i].description[\"trial\"] in {2, 5}:\n",
    "        Xvalid.append(ds.datasets[i].windows.get_data() / 1e6)\n",
    "        Yvalid.extend(ds.datasets[i].y)\n",
    "    else:\n",
    "        Xtrain.append(ds.datasets[i].windows.get_data() / 1e6)\n",
    "        Ytrain.extend(ds.datasets[i].y)\n",
    "        \n",
    "Xtrain = np.concatenate(Xtrain, axis=0)\n",
    "Ytrain = np.array(Ytrain, dtype=int)\n",
    "Xvalid = np.concatenate(Xvalid, axis=0)\n",
    "Yvalid = np.array(Yvalid, dtype=int)"
   ]
  },
  {
   "cell_type": "code",
   "execution_count": 29,
   "id": "06883fdf-e491-44c0-98f5-15456a1f1813",
   "metadata": {},
   "outputs": [
    {
     "name": "stdout",
     "output_type": "stream",
     "text": [
      "0.25595238095238093\n",
      "[[ 9  9  3]\n",
      " [16  7  1]\n",
      " [19  1  1]]\n"
     ]
    }
   ],
   "source": [
    "clf = make_pipeline(\n",
    "            Covariances(\"cov\"),\n",
    "            # FgMDM(metric=dict(mean=\"logeuclid\", distance=\"logeuclid\"), n_jobs=-1),\n",
    "            TSclassifier(\n",
    "                metric=\"logeuclid\",\n",
    "                clf=SVC(\n",
    "                    C=1.0,\n",
    "                    kernel=\"rbf\",\n",
    "                    # tol=1e-7,\n",
    "                    max_iter=100000,\n",
    "                    class_weight=\"balanced\",\n",
    "                    random_state=42,\n",
    "                ),\n",
    "                # clf=LinearDiscriminantAnalysis(\n",
    "                #     solver=\"lsqr\",\n",
    "                #     shrinkage=\"auto\",\n",
    "                #     n_components=None,\n",
    "                #     # tol=1e-7,\n",
    "                #     covariance_estimator=None,\n",
    "                # ),\n",
    "            ),\n",
    "        )\n",
    "\n",
    "clf.fit(Xtrain, Ytrain)\n",
    "\n",
    "Ypred = clf.predict(Xvalid)\n",
    "\n",
    "print(metrics.balanced_accuracy_score(Yvalid, Ypred))\n",
    "print(metrics.confusion_matrix(Yvalid, Ypred))"
   ]
  },
  {
   "cell_type": "code",
   "execution_count": 119,
   "id": "5bb8e276-43cc-4190-8008-fcd25ee54945",
   "metadata": {},
   "outputs": [
    {
     "data": {
      "text/plain": [
       "(135, 28, 256)"
      ]
     },
     "execution_count": 119,
     "metadata": {},
     "output_type": "execute_result"
    }
   ],
   "source": [
    "csp = mne.decoding.CSP(n_components=28, reg=None, log=None, rank=\"full\", transform_into='csp_space')\n",
    "\n",
    "Xtrain_csp = csp.fit_transform(Xtrain, Ytrain)\n",
    "Xvalid_csp = csp.transform(Xvalid)\n",
    "\n",
    "Xtrain_csp.shape"
   ]
  },
  {
   "cell_type": "code",
   "execution_count": 120,
   "id": "f47e1b1a-9482-41ac-8d04-7743189faf0f",
   "metadata": {},
   "outputs": [
    {
     "name": "stdout",
     "output_type": "stream",
     "text": [
      "nc: 0 - acc: 0.3333333333333333\n",
      "[[ 0  0 21]\n",
      " [ 0  0 24]\n",
      " [ 0  0 21]]\n",
      "nc: 1 - acc: 0.2857142857142857\n",
      "[[18  0  3]\n",
      " [24  0  0]\n",
      " [21  0  0]]\n",
      "nc: 2 - acc: 0.2857142857142857\n",
      "[[18  0  3]\n",
      " [24  0  0]\n",
      " [21  0  0]]\n",
      "nc: 3 - acc: 0.31746031746031744\n",
      "[[19  0  2]\n",
      " [24  0  0]\n",
      " [20  0  1]]\n",
      "nc: 4 - acc: 0.31746031746031744\n",
      "[[19  0  2]\n",
      " [24  0  0]\n",
      " [20  0  1]]\n",
      "nc: 5 - acc: 0.31746031746031744\n",
      "[[19  0  2]\n",
      " [24  0  0]\n",
      " [20  0  1]]\n",
      "nc: 6 - acc: 0.31746031746031744\n",
      "[[19  0  2]\n",
      " [24  0  0]\n",
      " [20  0  1]]\n",
      "nc: 7 - acc: 0.2857142857142857\n",
      "[[16  0  5]\n",
      " [24  0  0]\n",
      " [19  0  2]]\n",
      "nc: 8 - acc: 0.25396825396825395\n",
      "[[14  0  7]\n",
      " [24  0  0]\n",
      " [19  0  2]]\n",
      "nc: 9 - acc: 0.2857142857142857\n",
      "[[16  0  5]\n",
      " [24  0  0]\n",
      " [19  0  2]]\n",
      "nc: 10 - acc: 0.28571428571428575\n",
      "[[15  0  6]\n",
      " [24  0  0]\n",
      " [18  0  3]]\n",
      "nc: 11 - acc: 0.25396825396825395\n",
      "[[14  0  7]\n",
      " [23  0  1]\n",
      " [19  0  2]]\n",
      "nc: 12 - acc: 0.22222222222222224\n",
      "[[11  0 10]\n",
      " [23  0  1]\n",
      " [18  0  3]]\n",
      "nc: 13 - acc: 0.2222222222222222\n",
      "[[10  0 11]\n",
      " [23  0  1]\n",
      " [17  0  4]]\n",
      "nc: 14 - acc: 0.23809523809523805\n",
      "[[10  0 11]\n",
      " [21  0  3]\n",
      " [16  0  5]]\n",
      "nc: 15 - acc: 0.20634920634920637\n",
      "[[ 6  0 15]\n",
      " [20  0  4]\n",
      " [14  0  7]]\n",
      "nc: 16 - acc: 0.23809523809523805\n",
      "[[ 6  0 15]\n",
      " [18  0  6]\n",
      " [12  0  9]]\n",
      "nc: 17 - acc: 0.2380952380952381\n",
      "[[ 4  0 17]\n",
      " [15  0  9]\n",
      " [10  0 11]]\n",
      "nc: 18 - acc: 0.2857142857142857\n",
      "[[ 4  0 17]\n",
      " [13  0 11]\n",
      " [ 7  0 14]]\n",
      "nc: 19 - acc: 0.2698412698412698\n",
      "[[ 3  0 18]\n",
      " [12  0 12]\n",
      " [ 7  0 14]]\n",
      "nc: 20 - acc: 0.25396825396825395\n",
      "[[ 2  0 19]\n",
      " [10  0 14]\n",
      " [ 7  0 14]]\n",
      "nc: 21 - acc: 0.25396825396825395\n",
      "[[ 1  0 20]\n",
      " [10  0 14]\n",
      " [ 6  0 15]]\n",
      "nc: 22 - acc: 0.2857142857142857\n",
      "[[ 2  0 19]\n",
      " [ 9  0 15]\n",
      " [ 5  0 16]]\n",
      "nc: 23 - acc: 0.2857142857142857\n",
      "[[ 0  0 21]\n",
      " [ 8  0 16]\n",
      " [ 3  0 18]]\n",
      "nc: 24 - acc: 0.2857142857142857\n",
      "[[ 0  0 21]\n",
      " [ 8  0 16]\n",
      " [ 3  0 18]]\n",
      "nc: 25 - acc: 0.31746031746031744\n",
      "[[ 0  0 21]\n",
      " [ 6  0 18]\n",
      " [ 1  0 20]]\n",
      "nc: 26 - acc: 0.3333333333333333\n",
      "[[ 0  0 21]\n",
      " [ 4  0 20]\n",
      " [ 0  0 21]]\n",
      "nc: 27 - acc: 0.3333333333333333\n",
      "[[ 0  0 21]\n",
      " [ 3  0 21]\n",
      " [ 0  0 21]]\n",
      "nc: 28 - acc: 0.3333333333333333\n",
      "[[ 0  0 21]\n",
      " [ 2  0 22]\n",
      " [ 0  0 21]]\n"
     ]
    }
   ],
   "source": [
    "bands = [(8,12), (12,16), (16,20), (20,24), (24,28), (28,32)]\n",
    "# bands = [(8,12), (10,14), (14,18), (18,22), (22,26), (26,30)]\n",
    "# bands = [(4,8), (8,12), (12,16), (16,20), (20,24), (24,28), (28,32), (32,36)]\n",
    "\n",
    "params = dict({\n",
    "    'pow_freq_bands__log': True,\n",
    "    'pow_freq_bands__normalize': False,\n",
    "    'pow_freq_bands__freq_bands': bands,\n",
    "})\n",
    "\n",
    "fe = FeatureExtractor(sfreq=128, selected_funcs=['pow_freq_bands'], params=params, n_jobs=-1)\n",
    "\n",
    "Xtrain_bp = fe.fit_transform(Xtrain)\n",
    "Xvalid_bp = fe.transform(Xvalid)\n",
    "\n",
    "clf = SVC(\n",
    "    C=0.1,\n",
    "    kernel=\"rbf\",\n",
    "    # tol=1e-7,\n",
    "    max_iter=100000,\n",
    "    class_weight=\"balanced\",\n",
    "    random_state=42,\n",
    ")\n",
    "# clf=LinearDiscriminantAnalysis(\n",
    "#     solver=\"lsqr\",\n",
    "#     shrinkage=\"auto\",\n",
    "#     n_components=None,\n",
    "#     # tol=1e-7,\n",
    "#     covariance_estimator=None,\n",
    "# )\n",
    "\n",
    "clf.fit(Xtrain_bp, Ytrain)\n",
    "\n",
    "Ypred = clf.predict(Xvalid_bp)\n",
    "acc = metrics.balanced_accuracy_score(Yvalid, Ypred)\n",
    "    \n",
    "print(f\"nc: 0 - acc: {acc}\")\n",
    "print(metrics.confusion_matrix(Yvalid, Ypred))\n",
    "\n",
    "for nc in range(1, 29):\n",
    "    fe = FeatureExtractor(sfreq=128, selected_funcs=['pow_freq_bands'], params=params, n_jobs=-1)\n",
    "\n",
    "    Xtrain_bp = fe.fit_transform(Xtrain_csp[:, :nc])\n",
    "    Xvalid_bp = fe.transform(Xvalid_csp[:, :nc])\n",
    "\n",
    "    # ------------csv--------------\n",
    "    clf = SVC(\n",
    "        C=0.1,\n",
    "        kernel=\"rbf\",\n",
    "        # tol=1e-7,\n",
    "        max_iter=100000,\n",
    "        class_weight=\"balanced\",\n",
    "        random_state=42,\n",
    "    )\n",
    "    # clf=LinearDiscriminantAnalysis(\n",
    "    #     solver=\"lsqr\",\n",
    "    #     shrinkage=\"auto\",\n",
    "    #     n_components=None,\n",
    "    #     # tol=1e-7,\n",
    "    #     covariance_estimator=None,\n",
    "    # )\n",
    "\n",
    "    clf.fit(Xtrain_bp, Ytrain)\n",
    "\n",
    "    Ypred = clf.predict(Xvalid_bp)\n",
    "    acc = metrics.balanced_accuracy_score(Yvalid, Ypred)\n",
    "    \n",
    "    print(f\"nc: {nc} - acc: {acc}\")\n",
    "    print(metrics.confusion_matrix(Yvalid, Ypred))"
   ]
  },
  {
   "cell_type": "code",
   "execution_count": null,
   "id": "69bc7b29-f50c-47d4-8f61-d7ce48aa85b4",
   "metadata": {},
   "outputs": [],
   "source": []
  }
 ],
 "metadata": {
  "kernelspec": {
   "display_name": "Python 3",
   "language": "python",
   "name": "python3"
  },
  "language_info": {
   "codemirror_mode": {
    "name": "ipython",
    "version": 3
   },
   "file_extension": ".py",
   "mimetype": "text/x-python",
   "name": "python",
   "nbconvert_exporter": "python",
   "pygments_lexer": "ipython3",
   "version": "3.8.10"
  }
 },
 "nbformat": 4,
 "nbformat_minor": 5
}
